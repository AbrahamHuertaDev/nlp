{
 "cells": [
  {
   "cell_type": "markdown",
   "metadata": {},
   "source": [
    "![agents](images/header.jpg)\n",
    "# Análisis semántico\n",
    "### Ramón Soto C. [(rsotoc@moviquest.com)](mailto:rsotoc@moviquest.com/)\n",
    "[ver en nbviewer](http://nbviewer.ipython.org/github/rsotoc/nlp/blob/master/6.%20Análisis%20semántico%20II.ipynb)"
   ]
  },
  {
   "cell_type": "markdown",
   "metadata": {},
   "source": [
    "## Minería de opiniones\n",
    "\n",
    "La **clasificación de textos** es un área del *procesamiento de lenguaje natural* que ha ganado gran importancia en los útlimos años debido a la *minería de opiniones* (o *análisis de sentimientos*).\n",
    "\n",
    "La minería de opiniones busca detectar cuál es la postura de una comunidad en torno a un tema en particular: La aceptación a un programa de gobierno, la imagen de un producto, la recepción de una película, etc. La forma tradicional de atacar este problema ha sido a través de encuestas que son costosas, tardadas y tendenciosas: el diseño siempre está sesgado a lo que el encuestador quiere medir y las respuestas están restringidas a las opciones que el evaluado puede elegir y a la solemnidad de la encuesta.\n",
    "\n",
    "![ ](images/de10.png)\n",
    "\n",
    "Una mejor opción de conocer la verdadera opinión de la gente es a través de analizar sus opiniones abiertas, por ejemplo a través de sus publicaciones en redes sociales.\n",
    "\n",
    "![ ](images/social.jpg)\n",
    "\n",
    "Uno de los métodos más utilizados en análisis de textos es el clasificador bayesiano ingenuo con distribución multinomial (típicamente pesos tf–idf; detalles [aquí](https://github.com/rsotoc/pattern-recognition/blob/master/Clasificaci%C3%B3n%20II.ipynb) y [aquí](https://github.com/rsotoc/pattern-recognition/blob/master/Clasificaci%C3%B3n%20II-B.ipynb)).\n",
    "\n",
    "\n",
    "### Revisiones de películas\n",
    "\n",
    "\n",
    "El problema de identificar la polaridad en revisiones de películas es un ejercicio interesante debido a las expresiones utilizadas que suelen ser contradictorias.\n",
    "\n",
    "![ ](images/deadpoolcritic.png)\n",
    "\n",
    "En el siguiente ejercicio utilizaremos el clasificador bayesiano ingenuo para clasificar automáticamente la polaridad de revisiones de películas. Emplearemos los datos disponibles en el sitio de Kaggle ([Tutorial](https://www.kaggle.com/c/word2vec-nlp-tutorial/data)). Para preparar los datos utilizaremos la biblioteca [BeautifulSoup](https://www.crummy.com/software/BeautifulSoup/bs4/doc/#) para eliminar posibles etiquetas de *markup* y eliminaremos todos los elementos no alfabéticos. También eliminaremos, del conjunto de palabras representativas, las llamadas [palabras vacías (*stop words*)](https://en.wikipedia.org/wiki/Stop_words)."
   ]
  },
  {
   "cell_type": "code",
   "execution_count": 3,
   "metadata": {
    "collapsed": true
   },
   "outputs": [],
   "source": [
    "# Inicializar el ambiente\n",
    "import numpy as np\n",
    "import pandas as pd\n",
    "import re\n",
    "import nltk\n",
    "from nltk.corpus import stopwords \n",
    "from bs4 import BeautifulSoup\n",
    "from sklearn import cluster # Auxiliar\n",
    "from sklearn.naive_bayes import MultinomialNB\n",
    "\n",
    "from IPython.display import display\n",
    "%matplotlib inline\n",
    "np.set_printoptions(precision=2, suppress=True) # Cortar la impresión de decimales a 1"
   ]
  },
  {
   "cell_type": "code",
   "execution_count": 4,
   "metadata": {
    "collapsed": false
   },
   "outputs": [
    {
     "data": {
      "text/html": [
       "<div>\n",
       "<table border=\"1\" class=\"dataframe\">\n",
       "  <thead>\n",
       "    <tr style=\"text-align: right;\">\n",
       "      <th></th>\n",
       "      <th>id</th>\n",
       "      <th>sentiment</th>\n",
       "      <th>review</th>\n",
       "      <th>words</th>\n",
       "    </tr>\n",
       "  </thead>\n",
       "  <tbody>\n",
       "    <tr>\n",
       "      <th>0</th>\n",
       "      <td>5814_8</td>\n",
       "      <td>1</td>\n",
       "      <td>with all this stuff going down at the moment w...</td>\n",
       "      <td>[stuff, going, moment, mj, started, listening,...</td>\n",
       "    </tr>\n",
       "    <tr>\n",
       "      <th>1</th>\n",
       "      <td>2381_9</td>\n",
       "      <td>1</td>\n",
       "      <td>the classic war of the worlds   by timothy hi...</td>\n",
       "      <td>[classic, war, worlds, timothy, hines, enterta...</td>\n",
       "    </tr>\n",
       "    <tr>\n",
       "      <th>2</th>\n",
       "      <td>7759_3</td>\n",
       "      <td>0</td>\n",
       "      <td>the film starts with a manager  nicholas bell ...</td>\n",
       "      <td>[film, starts, manager, nicholas, bell, giving...</td>\n",
       "    </tr>\n",
       "    <tr>\n",
       "      <th>3</th>\n",
       "      <td>3630_4</td>\n",
       "      <td>0</td>\n",
       "      <td>it must be assumed that those who praised this...</td>\n",
       "      <td>[must, assumed, praised, film, greatest, filme...</td>\n",
       "    </tr>\n",
       "    <tr>\n",
       "      <th>4</th>\n",
       "      <td>9495_8</td>\n",
       "      <td>1</td>\n",
       "      <td>superbly trashy and wondrously unpretentious  ...</td>\n",
       "      <td>[superbly, trashy, wondrously, unpretentious, ...</td>\n",
       "    </tr>\n",
       "  </tbody>\n",
       "</table>\n",
       "</div>"
      ],
      "text/plain": [
       "       id  sentiment                                             review  \\\n",
       "0  5814_8          1  with all this stuff going down at the moment w...   \n",
       "1  2381_9          1   the classic war of the worlds   by timothy hi...   \n",
       "2  7759_3          0  the film starts with a manager  nicholas bell ...   \n",
       "3  3630_4          0  it must be assumed that those who praised this...   \n",
       "4  9495_8          1  superbly trashy and wondrously unpretentious  ...   \n",
       "\n",
       "                                               words  \n",
       "0  [stuff, going, moment, mj, started, listening,...  \n",
       "1  [classic, war, worlds, timothy, hines, enterta...  \n",
       "2  [film, starts, manager, nicholas, bell, giving...  \n",
       "3  [must, assumed, praised, film, greatest, filme...  \n",
       "4  [superbly, trashy, wondrously, unpretentious, ...  "
      ]
     },
     "metadata": {},
     "output_type": "display_data"
    }
   ],
   "source": [
    "movies_reviews = pd.read_csv(\"Data sets/Movies Reviews/labeledTrainData.tsv\", sep='\\t')\n",
    "\n",
    "# Limpiar los documentos. Conservar sólo plabras (alfabéticas) y pasar a minúsculas\n",
    "movies_reviews.review = list(map(lambda row: re.sub(\"[^a-zA-Z]\", \" \", \n",
    "                                BeautifulSoup(row, \"lxml\").get_text().lower()), \n",
    "                                 movies_reviews.review))\n",
    "\n",
    "# Agregar una columna con la conversión de mensajes a listas de palabras\n",
    "# Se eliminan las palabras vacías\n",
    "stops = set(stopwords.words(\"english\"))                  \n",
    "movies_reviews[\"words\"] = list(map(lambda row: [w for w in row.split() if not w in stops], \n",
    "                                   movies_reviews.review))\n",
    "display(movies_reviews.head())\n",
    "\n",
    "# Generar un arreglo con los valores de clasificación\n",
    "Sentiments = np.array([int(x) for x in movies_reviews.sentiment])"
   ]
  },
  {
   "cell_type": "code",
   "execution_count": 9,
   "metadata": {
    "collapsed": false
   },
   "outputs": [
    {
     "name": "stdout",
     "output_type": "stream",
     "text": [
      "Palabras en el corpus:\n",
      " 2988089\n",
      "Palabras en el corpus:\n",
      " 74065\n",
      "50 palabras más populares:\n",
      " [('movie', 44031), ('film', 40147), ('one', 26788), ('like', 20274), ('good', 15140), ('time', 12724), ('even', 12646), ('would', 12436), ('story', 11983), ('really', 11736), ('see', 11475), ('well', 10662), ('much', 9765), ('get', 9310), ('bad', 9301), ('people', 9285), ('also', 9156), ('first', 9061), ('great', 9058), ('made', 8362), ('way', 8026), ('make', 8023), ('could', 7922), ('movies', 7663), ('think', 7296), ('characters', 7154), ('character', 7023), ('watch', 6973), ('two', 6906), ('films', 6887), ('seen', 6679), ('many', 6675), ('life', 6628), ('plot', 6585), ('acting', 6490), ('never', 6484), ('love', 6454), ('little', 6435), ('best', 6416), ('show', 6295), ('know', 6166), ('ever', 5995), ('man', 5982), ('better', 5737), ('end', 5648), ('still', 5623), ('say', 5395), ('scene', 5378), ('scenes', 5207), ('go', 5157)]\n"
     ]
    }
   ],
   "source": [
    "# Construcción de la Bolsa de palabras. Se seleccionan las 4000 palabras más frecuentes\n",
    "all_words = nltk.FreqDist(w.lower() for wl in movies_reviews.words for w in wl)\n",
    "print(\"Palabras en el corpus:\\n\", all_words.N())\n",
    "print(\"Palabras en el corpus:\\n\", len(all_words.most_common()))\n",
    "print(\"50 palabras más populares:\\n\", all_words.most_common(50))"
   ]
  },
  {
   "cell_type": "code",
   "execution_count": 6,
   "metadata": {
    "collapsed": false
   },
   "outputs": [
    {
     "name": "stdout",
     "output_type": "stream",
     "text": [
      "Puntos mal clasificados en el conjunto de entrenamiento: 1601 de 20000 (8.005%)\n",
      "\n",
      "Puntos mal clasificados en el conjunto de prueba: 713 de 5000 (14.26%)\n",
      "\n"
     ]
    }
   ],
   "source": [
    "from sklearn.feature_extraction.text import TfidfVectorizer\n",
    "vectorizer = TfidfVectorizer(stop_words='english')\n",
    "X_data = vectorizer.fit_transform(movies_reviews.review)\n",
    "\n",
    "cut = 4 * X_data.shape[0] // 5\n",
    "train_setM, test_setM = X_data[:cut], X_data[cut:]\n",
    "train_targetsetM, test_targetsetM = Sentiments[:cut], Sentiments[cut:]\n",
    "\n",
    "# Entrenamiento de un clasificador Multinomial Bayes ingenuo\n",
    "clfM = MultinomialNB()\n",
    "clfM.fit(train_setM, train_targetsetM)\n",
    "\n",
    "# Pruebas del clasificador\n",
    "predictions_trainM = clfM.predict(train_setM)\n",
    "fails_trainM = sum(train_targetsetM  != predictions_trainM)\n",
    "print(\"Puntos mal clasificados en el conjunto de entrenamiento: {} de {} ({}%)\\n\"\n",
    "      .format(fails_trainM, train_setM.shape[0], 100*fails_trainM/train_setM.shape[0]))\n",
    "predictions_testM = clfM.predict(test_setM)\n",
    "fails_testM = sum(test_targetsetM  != predictions_testM)\n",
    "print(\"Puntos mal clasificados en el conjunto de prueba: {} de {} ({}%)\\n\"\n",
    "      .format(fails_testM, test_setM.shape[0], 100*fails_testM/test_setM.shape[0]))"
   ]
  },
  {
   "cell_type": "markdown",
   "metadata": {},
   "source": [
    "<hr style=\"border-width: 3px;\">\n",
    "\n",
    "### Tarea 9\n",
    "\n",
    "* Realice pruebas de los clasificadores bayesianos ingenuos sobre sus datos.\n",
    "\n",
    "**Fecha de entrega**: Martes 21 de marzo."
   ]
  }
 ],
 "metadata": {
  "celltoolbar": "Raw Cell Format",
  "kernelspec": {
   "display_name": "Python 3",
   "language": "python",
   "name": "python3"
  },
  "language_info": {
   "codemirror_mode": {
    "name": "ipython",
    "version": 3
   },
   "file_extension": ".py",
   "mimetype": "text/x-python",
   "name": "python",
   "nbconvert_exporter": "python",
   "pygments_lexer": "ipython3",
   "version": "3.6.0"
  }
 },
 "nbformat": 4,
 "nbformat_minor": 0
}
