{
 "cells": [
  {
   "cell_type": "markdown",
   "metadata": {},
   "source": [
    "![agents](images/header.jpg)\n",
    "# Desambiguación\n",
    "### Ramón Soto C. [(rsotoc@moviquest.com)](mailto:rsotoc@moviquest.com/)\n",
    "[ver en nbviewer](http://nbviewer.ipython.org/github/rsotoc/nlp/blob/master/8.%20Desambiguación%20I.ipynb)"
   ]
  },
  {
   "cell_type": "markdown",
   "metadata": {},
   "source": [
    "## Ambigüedad\n",
    "\n",
    "Se entiende por ambigüedad la cualidad de un dicho, evento, actitud de una persona, etc., \"que puede entenderse de varios modos o admitir distintas interpretaciones y dar, por consiguiente, motivo a dudas, incertidumbre o confusión\" ([drae](http://dle.rae.es/?id=2Hrlgpx)).\n",
    "\n",
    "![ ](images/ambiguity.png)\n",
    "\n",
    "En el caso de la gramática, la ambigüedad es denominada **anfibología** y puede ser de naturaleza *fonética*, *léxica*, *sintáctica* (o estructural), *semántica*, o *pragmática*. \n",
    "\n",
    "![ ](images/groucho2.jpg)\n",
    "\n",
    "\n",
    "### Ambigüedad fonética\n",
    "\n",
    "La ambigüedad fonética ocurre en la lengua hablada cuando una determinada combinación de sonidos puede originar diferentes palabras. En algunos casos, la ambigüedad ocurre debido a imprecisiones en el habla, como por ejemplo en la frase \"*¿Me diste la caja?*\" contra \"*¿Mediste la caja?*\" o \"*Dámela vacía*\" frente a \"*Dame la vacía*\". La ambigüedad fonética también puede ocurrir debido a la pronunciación idéntica de una o varias palabras, lo que se conoce como homofonía, como ocurre en las siguientes frases: \"*Ellos van a su casa*\" contra \"*Ellos van a su caza*\" o \"*Las vallas están muy altas*\", contra \"*Las bayas están muy altas*\"\n",
    "\n",
    "![](images/homofonia.jpg)\n",
    "\n",
    "Este tipo de ambigüedad, sin embargo, no es de particular importancia en el análisis de texto (salvo para corregir errores en la transcripción de audio a texto).\n",
    "\n",
    "### Ambigüedad léxica\n",
    "\n",
    "La ambigüedad léxica se da cuando una palabra tiene múltiples significados o usos en un léxico. Existen dos tipos de ambigüedad léxica: la homografía (que en conjunto con la homofonía conforman la llamada homonimia) y la polisemia. \n",
    "\n",
    "#### Polisemia\n",
    "\n",
    "La polisemia se presenta cuando una misma palabra o signo lingüístico tiene varias acepciones o significados que se relacionan entre sí. Por ejemplo, la palabra \"*sierra*\" puede tener los siguientes significados:\n",
    "\n",
    "1. Herramienta para cortar madera u otros objetos duros, que generalmente consiste en una hoja de acero dentada sujeta a una empuñadura.\n",
    "2. Subconjunto de montañas cuya línea de cumbres tiene forma aserrada, quebrada o bastante pronunciada, por lo general es más larga que ancha.\n",
    "3. Varios tipos de peces.\n",
    "\n",
    "![](images/polisemia01.jpg)\n",
    "\n",
    "En los casos de los significados 2 y 3, la palabra se utiliza en forma metafórica, como remembranza de la primera; el perfil del conjunto de montañas se asemeja a los dientes de una sierra (herramienta), lo mismo que alguna característica en los peces sierra.\n",
    "\n",
    "#### Homonimia\n",
    "\n",
    "Las palabras homógrafas son aquellas que se escriben de forma idéntica pero tienen diferente etimología y, por lo tanto, distinto significado, por ejemplo, la palabra \"*vela*\" puede interpretarse como la acción de velar o como un cilindro de cera con una mecha para iluminar, ambos sentidos derivados del latín *vigilāre* y por lo tanto relacionados entre sí; la misma palabra también puede significar una tela grande que aprovecha la fuerza del viento, especialmente en un barco y proviene del latín *vela*, plural de *velum*, derivado a su vez del proto-indo-europeo *weg* (navegar) o *weǵʰ* (transportar), por lo que su significado es por completo diferente al de *vigilāre*. Lo mismo puede decirse de palabras como \"*vino*\" (bebida fermentada/conjugación de venir) o \"*nada*\" (del verbo nadar o ninguna cosa).\n",
    "\n",
    "![](images/homonimia.jpg)\n",
    "\n",
    "### Ambigüedad sintáctica\n",
    "\n",
    "La ambigüedad sintáctica ocurre cuando una frase puede analizarse de diferentes formas, como en el caso de la frase  \"I shot an elephant in my yard\"; esta frase tiene dos posibles significados, representados mediante los siguientes árboles sintácticos:\n",
    "\n",
    "![](images/groucho_elephant.png)\n",
    "\n",
    "Este problema suele ser frecuente con los adjetivos que pueden funcionar como adverbios, como en el caso de \"*solo*\" o \"*rápido*\": En la frase \"*Arregló el camión rápido*\", la palabra \"*rápido*\" puede hacer referencia a que el camión arreglado fue \"*el rápido*\" o a que la reparación fue \"*rápida*\". En ambos casos el significado de la palabra es el mismo y la ambigüedad se deriva del uso que se le da a la palabra en la construcción de la frase.\n",
    "\n",
    "### Ambigüedad semántica\n",
    "\n",
    "La ambigüedad semántica se presenta cuando una palabra o una frase tienen por si mismas un significado difuso, generado frecuentemente por un uso informal o generalizante del lenguaje. Así, por ejemplo, en la frase \"*todos los estudiantes de LCC deben conocer tres lenguajes de programación*\", no hay un significado claro: ¿Los tres lenguajes son específicos? (C, Java y Python, por ejemplo), es decir, ¿esos tres lenguajes representan el conocimiento de programación básico de un estudiante de LCC? o ¿se refiere a un nivel de diversidad? (tres lenguajes cualesquiera). La misma frase pudiera reescribirse como \"*todos los estudiantes de LCC deben conocer los lenguajes de programación C, Java y Python*\" (por ejemplo) o \"*todos los estudiantes de LCC deben conocer al menos tres lenguajes de programación diferentes*\".\n",
    "\n",
    "Se atribuye a Tomás de Aquino (y en algunos casos a Agustín de Hipona la frase \"*teme al hombre de un solo libro*\". Esta frase puede interpretarse (y quizás esa fue la intención del autor) de dos maneras: \"Un hombre que limita su razonar a un solo libro (un solo punto de vista) es una persona peligrosa, intransigente\", o bien, \"una persona que conoce solo un libro, pero lo conoce muy bien, es un contrincante de cuidado\". \n",
    "\n",
    "![](images/aquino.jpg)\n",
    "\n",
    "### Ambigüedad pragmática\n",
    "\n",
    "La ambigüedad pragmática se presenta cuando una frase tiene dos o más posibles interpretaciones, dependiendo del contexto en que se presenta, como en la frase \"*¿me puedes pasar la sal?*\" que puede interpretarse como \"*¿me haces el favor de pasarme la sal?*\" o como \"*¿tienes la capacidad de pasarme la sal?*\". Sin embargo, a diferencia de los casos de ambigüedad semántica, la ambigüedad pragmática suele resolverse al conocer el contexto. Otro ejemplo de ambigüedad pragmática se presenta en la frase \"*José le compró un ramo de flores*\", la ambigüedad provocada por le complemento indirecto (*le*), que puede referirse al destinatario de las flores o a la persona que las vende, se resuelve -usualmente- al conocer a quién se señala con \"*le*\"."
   ]
  },
  {
   "cell_type": "markdown",
   "metadata": {},
   "source": [
    "## Desambiguación del significado de las palabras\n",
    "\n",
    "En la vida real, la ambigüedad pocas veces es un problema, pues los humanos, usualmente, podemos reconocer el sentido de las palabras gracias al contexto, sin embargo, en el caso de la lingüística computacional, la ambigüedad representa uno de los problemas más serios a resolver. Algunos autores han descrito este problema como \"*[IA-completo](http://delivery.acm.org/10.1145/1460000/1459355/a10-navigli.pdf?ip=148.225.43.121&id=1459355&acc=ACTIVE%20SERVICE&key=6F4CCF05E2930152%2E0CFEE52C2C4AD467%2E4D4702B0C3E38B35%2E4D4702B0C3E38B35&CFID=982323527&CFTOKEN=59569672&__acm__=1506356273_fc4f12e59436b8a99acb47e3bfb9099f)*\", en analogía con los problemas \"*NP-completos*\", es decir, como uno de los problemas centrales a resolver en inteligencia artificial. El problema más viable de ser atacado es el de la ambigüedad léxica. Esta tarea se denomina **desambiguación del significado de las palabras** (**WSD** por las siglas en inglés, *Word Sense Disambiguation*) y puede hacerse de diferentes maneras:\n",
    "\n",
    "* Métodos basados en conocimiento: Estos métodos se basan en el uso de recursos léxicos como son diccionarios y tesauros (diccionarios ordenados de forma temática y no alfabética) en los que se especifican las palabras con anotaciones sobre su significado en diversos contextos. En algunos casos, también se utiliza conocimiento específico del dominio, expresado en forma de reglas. El método más conocido de este tipo es el **[algoritmo de Lesk](https://en.wikipedia.org/wiki/Lesk_algorithm)**. Este método selecciona el sentido de una palabra a partir de una medida de similaridad entre las definiciones de un diccionario.\n",
    "\n",
    "* Métodos de aprendizaje no supervisado. Son, fundamentalmente, métodos de *clustering* que identifican diferencias en el uso de palabras ambiguas en un corpus, sin hacer uso de un inventario de palabras ambiguas previamente etiquetadas. Como es usual en los métodos de *clustering*, los métodos de aprendizaje no supervisado para WSD no utilizan etiquetas en la identificación de agrupamientos, sino que simplemente diferencian entre clases, que en este caso corresponden a diferentes formas de utilizar una palabra dependiendo del contexto. Por esta razón, dado que en realidad no se realiza una desambiguación, este enfoque suele denominarse como **discriminación del sentido de las palabras**\n",
    "\n",
    "* Métodos de aprendizaje supervisado basados en corpus. Estos métodos también emplean un corpus, pero en el que los documentos ya tienen anotaciones sobre el sentido de las palabras ambiguas utilizadas. Estas anotaciones se emplean para entrenamiento de un sistema de toma de decisiones, típicamente mediante métodos de aprendizaje automático. La aproximación usual consiste en utilizar un corpus con anotaciones del sentido de las palabras construido de forma manual, sin embargo, en años recientes se han explorado formas automatizadas para generación de tales lexicones y que pueden utilizarse en conjunto con métodos de aprendizaje automático.\n",
    "\n",
    "* Métodos semisupervisados. Estos métodos utilizan conjuntos de datos no etiquetados, en un proceso de *clustering*, en conjunto con alguna fuente de conocimiento auxiliar, típicamente un pequeño *corpus* documentado que se utiliza como objetivo en un proceso de entrenamiento. \n"
   ]
  },
  {
   "cell_type": "code",
   "execution_count": 3,
   "metadata": {
    "collapsed": false
   },
   "outputs": [
    {
     "name": "stdout",
     "output_type": "stream",
     "text": [
      "Synset('chair.n.05')\n",
      "Synset('professorship.n.01')\n"
     ]
    }
   ],
   "source": [
    "from nltk.wsd import lesk\n",
    "\n",
    "frase1 = \"Take a seat on this chair\".split()\n",
    "frase2 = \"The chair of the Math Department\".split()\n",
    "\n",
    "print(lesk(frase1, 'chair'))\n",
    "print(lesk(frase2, 'chair'))"
   ]
  },
  {
   "cell_type": "code",
   "execution_count": 4,
   "metadata": {
    "collapsed": false
   },
   "outputs": [
    {
     "name": "stdout",
     "output_type": "stream",
     "text": [
      "Synset('chair.n.01') a seat for one person, with a support for the back\n",
      "Synset('professorship.n.01') the position of professor\n",
      "Synset('president.n.04') the officer who presides at the meetings of an organization\n",
      "Synset('electric_chair.n.01') an instrument of execution by electrocution; resembles an ordinary seat for one person\n",
      "Synset('chair.n.05') a particular seat in an orchestra\n",
      "Synset('chair.v.01') act or preside as chair, as of an academic department in a university\n",
      "Synset('moderate.v.01') preside over\n"
     ]
    }
   ],
   "source": [
    "from nltk.corpus import wordnet as wn\n",
    "\n",
    "for ss in wn.synsets('chair'):\n",
    "    print(ss, ss.definition())"
   ]
  },
  {
   "cell_type": "markdown",
   "metadata": {},
   "source": [
    "<hr style=\"border-width: 3px;\">\n",
    "\n",
    "### Tarea 9\n",
    "\n",
    "* Realice pruebas de los clasificadores bayesianos ingenuos sobre sus datos.\n",
    "\n",
    "**Fecha de entrega**: Martes 21 de marzo."
   ]
  }
 ],
 "metadata": {
  "celltoolbar": "Raw Cell Format",
  "kernelspec": {
   "display_name": "Python 3",
   "language": "python",
   "name": "python3"
  },
  "language_info": {
   "codemirror_mode": {
    "name": "ipython",
    "version": 3
   },
   "file_extension": ".py",
   "mimetype": "text/x-python",
   "name": "python",
   "nbconvert_exporter": "python",
   "pygments_lexer": "ipython3",
   "version": "3.6.0"
  }
 },
 "nbformat": 4,
 "nbformat_minor": 0
}
