{
 "cells": [
  {
   "cell_type": "markdown",
   "metadata": {},
   "source": [
    "![agents](images/header.jpg)\n",
    "# Etiquetado gramatical\n",
    "### Ramón Soto C. [(rsotoc@moviquest.com)](mailto:rsotoc@moviquest.com/)\n",
    "[ver en nbviewer](http://nbviewer.ipython.org/github/rsotoc/nlp/blob/master/10.%20Etiquetado.ipynb)"
   ]
  },
  {
   "cell_type": "markdown",
   "metadata": {},
   "source": [
    "## Definición\n",
    "\n",
    "El **etiquetado gramatical** es el proceso de asignar a cada una de las palabras de un texto una etiqueta que describe su categoría gramatical. Se suele denominar como **POS tagging** o **POST** (por las siglas en inglés *part-of-speech tagging*). \n",
    "\n",
    "El etiquetado gramatical es una actividad muy costosa que actualmente se realiza con buen nivel de éxito (97% en inglés, aproximadamente) utilizando métodos de aprendizaje automático. Por otra parte, esta identificación de palabras permite hacer un análisis más profundo del texto. Consideremos, por ejemplo, el siguiente modelo de lexicón:\n",
    "\n",
    "![](images/lexicon.png)\n",
    "\n",
    "Aquí, representamos un registro léxico $Lx$ como:\n",
    "\n",
    "$$Lx = <l,c,A>$$\t\n",
    "\n",
    "donde $l$ es el lexema/token que estamos registrando, $c$ es la *clase semántica* a la que pertenece $l$ y $A = (a, e, g)$ es una tercia que define las actitudes (polaridad) asociadas al lexema: ($a$) es la actitud del actor que expresa la opinión, ($e$) es la opinión, posiblemente nula, del escritor que publica o comenta la opinión del actor y ($g$) la actitud general de la comunidad hacia la opinión. $a$,$e$ y $g$ toman los siguientes posibles valores en escala de Likert:\n",
    "\n",
    "$$a,e,g ∈〈neg-,neg,neutral,pos,pos+〉$$\n",
    "\n",
    "y éstas, a su vez, pueden expresarse de manera difusa:\n",
    "\n",
    "![](images\\fuzzy_opinion5.png)\n",
    "\n",
    "Esta estructura permite hacer un análisis de polaridad desde puntos de vista semántico y pragmático, pero requiere identificar el tipo de palabra utilizada.\n",
    "\n",
    "Existen diferentes algoritmos para realizar el etiquetado gramatical de un corpus. Algunos de estos métodos se basan en el uso de lexicones formados por palabras ya documentadas, siendo el más famoso el **[Corpus Penn Treebank](https://web.archive.org/web/19970614160127/http://www.cis.upenn.edu:80/~treebank/)**, desarrollado por la Universidad de Pensilvania. Otros métodos utilizan reglas gramaticales para identificar el tipo de palabra, dependiendo de su posición en el texto. En cualquier caso, se suele utilizar el estándar de etiquetado utilizado en el corpus Penn Treebank. Este estándar se basa en una colección de conceptos gramaticales no bien ordenados, como se muestra a continuación.\n",
    "\n",
    "### Categorías gramaticales\n",
    "\n",
    "Las categorías gramaticales permiten clasificar las palabras en tanto componentes de una oración. En español se reconocen nueve partes de la oración:\n",
    "\n",
    "1. Sustantivo (o nombre): es una clase de palabra cuyos referentes son clases de entidades fijas: personas, seres vivos, cosas o conceptos abstractos.\n",
    "2. Adjetivo: es una clase de palabra que actúa como modificador de un sustantivo o como atributo.\n",
    "3. Artículo: es una clase de palabra utilizada para actualizar o precisar la referencia de un sustantivo, transformándolo de desconocido y abstracto a conocido y concreto (\"*un libro*\" vs. \"*el libro*\"). \n",
    "4. Pronombre:  es una clase de palabra que sustituye a un sustantivo y realiza sus mismas funciones.\n",
    "5. Verbo: El Verbo es una clase de palabra que funciona como núcleo del predicado de una oración. Expresa acción, movimiento, existencia, consecución, condición o estado del sujeto. \n",
    "6. Adverbio: es una clase de palabra que tiene la función de modificar verbos (ven **aquí**), adverbios (**demasiado** tarde) o adjetivos (**muy** inteligente). Expresan circunstancias, como pueden ser modo, lugar, tiempo, cantidad, afirmación, duda, etc.\n",
    "7. Interjección: es una clase de palabra que equivale a una oración completa que expresa un sentimiento vivo (¡*ay*!), una llamada enérgica (¡*hey*!) o que describen, elementalmente, una acción (¡*zas*!, ¡*pum*!).\n",
    "8. Preposición: es una clase de palabra que une palabras o sintagmas dentro de una oración: *a, ante, bajo, cabe, con, contra, de, desde, entre, hacia*, etc.\n",
    "9. Conjunción: es una clase de palabra que funciona como enlace entre palabras (José **y** María), sintagmas (Mi perro **y** el tuyo) u oraciones (luchar **para** ganar).\n",
    "\n",
    "En la lingüística moderna, esta clasificación se considera obsoleta y se ha reemplazado por una clasificación funcional, basada en conceptos como:\n",
    "\n",
    "1. Sintagma nominal: es un grupo de palabras cuyo núcleo es un sustantivo, un pronombre o una palabra sustantivada (el **azul** del mar).\n",
    "2. Sintagma determinante: es un tipo de sintagma en el que el núcleo sintáctico es un determinante. El complemento de un sintagma determinante es un sintagma nominal: `Sintagma determinante` $\\to$ (`Determinante`) + `Sintagma nominal`.\n",
    "3. Sintagma verbal: es un sintagma cuyo núcleo es un verbo.\n",
    "4. Complemento sintáctico: es un sintagma que completa, precisa, aclara, extiende o incrementa el significado del núcleo de otro sintagma.\n",
    "5. Determinante: es un tipo de palabra que identifica al sustantivo y precisa su significado (**aquel** gato negro).\n",
    "6. Construcción preposicional: es un sintagma constituido por una preposición (u otro tipo de adposición) que funciona como núcleo sintáctico y asigna caso al sintagma (típicamente nominal o determinante) que le sigue, como en \"libro **de física**\" o en \"viento **del norte**\".\n",
    "\n",
    "\n",
    "\n",
    "### Etiquetas utilizadas en el proyecto *Penn Treebank*\n",
    "\n",
    "El corpus *Penn Treebank* utiliza una combinación de conceptos para derivar una nomenclatura de etiquetas en forma de árbol, siendo las principales etiquetas las que se meustran a continuación:\n",
    "\n",
    "1.\t**CC** - Conjunciones coordinantes\n",
    "2.\t**CD** - Número cardinal\n",
    "3.\t**DT** - Determinante\n",
    "4.\t**EX** - Existencial (haber)\n",
    "5.\t**FW** - Palabra extranjera\n",
    "6.\t**IN** - Preposiciones o conjunciones subordinantes \n",
    "7.\t<span style=\"background-color:blue; color:white; width:100%; padding: 0 10px 0 10px;\"> **JJ** - Adjetivo</span>\n",
    "8.\t**JJR** - Adjetivo comparativo\n",
    "9.\t**JJS** - Adjetivo superlativo\n",
    "10.\t**LS** - Marcador de elemento de lista\n",
    "11.\t**MD** - Elemento auxiliar Modal\n",
    "12.\t<span style=\"background-color:blue; color:white; width:100%; padding: 0 10px 0 10px;\"> **NN** - Sustantivo singular o colectivo</span>\n",
    "13.\t**NNS** - Sustantivo plural\n",
    "14.\t**NNP** - Nombre propio, singular\n",
    "15.\t**NNPS** - Nombre propio, plural\n",
    "16.\t**PDT** - Pre Determinante\n",
    "17.\t**POS** - Marcador de genitivo posesivo\n",
    "18.\t**PRP** - Pronombre personal\n",
    "19.\t**PRP\\$** - Pronombre posesivo\n",
    "20.\t**RB** - Adverbio\n",
    "21.\t**RBR** - Adverbio comparativo\n",
    "22.\t**RBS** - Adverbio superlativo\n",
    "23.\t**RP** - Participio\n",
    "24.\t**SYM** - Símbolo\n",
    "25.\t**TO** - La palabra \"*to*\", como preposición o como marcador del infinitivo\n",
    "26.\t**UH** - Interjección\n",
    "27.\t<span style=\"background-color:blue; color:white; width:100%; padding: 0 10px 0 10px;\"> \n",
    "**VB** - Verbo, forma base </span>\n",
    "28.\t**VBD** - Verbo, pretérito\n",
    "29.\t**VBG** - Verbo, gerundio\n",
    "30.\t**VBN** - Verbo, pasado participio\n",
    "31.\t**VBP** - Verbo, singular presente, no 3a persona\n",
    "32.\t**VBZ** - Verbo, 3a persona singular presente\n",
    "33.\t**WDT** - Determinante Wh, palabra usada como determinante\n",
    "34.\t**WP** - Pronombre Wh \n",
    "35.\t**WP\\$** - Pronombre Wh  posesivo\n",
    "36.\t**WRB** - Adverbio Wh\n",
    "\n",
    "\n",
    "### Etiquetado utilizando *NLTK*\n",
    "A continuación, emplearemos un etiquetador gramatical pre entrenado incluido en el paquete **NLTK** de Python para etiquetar las palabras contenidas en la colección de revisiones de películas. "
   ]
  },
  {
   "cell_type": "code",
   "execution_count": 1,
   "metadata": {
    "collapsed": true
   },
   "outputs": [],
   "source": [
    "import numpy as np\n",
    "import pandas as pd\n",
    "import re\n",
    "import nltk\n",
    "from nltk.corpus import stopwords \n",
    "from bs4 import BeautifulSoup\n",
    "\n",
    "from IPython.display import display"
   ]
  },
  {
   "cell_type": "code",
   "execution_count": 2,
   "metadata": {
    "collapsed": false,
    "scrolled": true
   },
   "outputs": [
    {
     "data": {
      "text/html": [
       "<div>\n",
       "<style>\n",
       "    .dataframe thead tr:only-child th {\n",
       "        text-align: right;\n",
       "    }\n",
       "\n",
       "    .dataframe thead th {\n",
       "        text-align: left;\n",
       "    }\n",
       "\n",
       "    .dataframe tbody tr th {\n",
       "        vertical-align: top;\n",
       "    }\n",
       "</style>\n",
       "<table border=\"1\" class=\"dataframe\">\n",
       "  <thead>\n",
       "    <tr style=\"text-align: right;\">\n",
       "      <th></th>\n",
       "      <th>id</th>\n",
       "      <th>sentiment</th>\n",
       "      <th>review</th>\n",
       "      <th>words</th>\n",
       "    </tr>\n",
       "  </thead>\n",
       "  <tbody>\n",
       "    <tr>\n",
       "      <th>0</th>\n",
       "      <td>5814_8</td>\n",
       "      <td>1</td>\n",
       "      <td>with all this stuff going down at the moment w...</td>\n",
       "      <td>[stuff, going, moment, mj, started, listening,...</td>\n",
       "    </tr>\n",
       "    <tr>\n",
       "      <th>1</th>\n",
       "      <td>2381_9</td>\n",
       "      <td>1</td>\n",
       "      <td>the classic war of the worlds   by timothy hi...</td>\n",
       "      <td>[classic, war, worlds, timothy, hines, enterta...</td>\n",
       "    </tr>\n",
       "    <tr>\n",
       "      <th>2</th>\n",
       "      <td>7759_3</td>\n",
       "      <td>0</td>\n",
       "      <td>the film starts with a manager  nicholas bell ...</td>\n",
       "      <td>[film, starts, manager, nicholas, bell, giving...</td>\n",
       "    </tr>\n",
       "    <tr>\n",
       "      <th>3</th>\n",
       "      <td>3630_4</td>\n",
       "      <td>0</td>\n",
       "      <td>it must be assumed that those who praised this...</td>\n",
       "      <td>[must, assumed, praised, film, greatest, filme...</td>\n",
       "    </tr>\n",
       "    <tr>\n",
       "      <th>4</th>\n",
       "      <td>9495_8</td>\n",
       "      <td>1</td>\n",
       "      <td>superbly trashy and wondrously unpretentious  ...</td>\n",
       "      <td>[superbly, trashy, wondrously, unpretentious, ...</td>\n",
       "    </tr>\n",
       "  </tbody>\n",
       "</table>\n",
       "</div>"
      ],
      "text/plain": [
       "       id  sentiment                                             review  \\\n",
       "0  5814_8          1  with all this stuff going down at the moment w...   \n",
       "1  2381_9          1   the classic war of the worlds   by timothy hi...   \n",
       "2  7759_3          0  the film starts with a manager  nicholas bell ...   \n",
       "3  3630_4          0  it must be assumed that those who praised this...   \n",
       "4  9495_8          1  superbly trashy and wondrously unpretentious  ...   \n",
       "\n",
       "                                               words  \n",
       "0  [stuff, going, moment, mj, started, listening,...  \n",
       "1  [classic, war, worlds, timothy, hines, enterta...  \n",
       "2  [film, starts, manager, nicholas, bell, giving...  \n",
       "3  [must, assumed, praised, film, greatest, filme...  \n",
       "4  [superbly, trashy, wondrously, unpretentious, ...  "
      ]
     },
     "metadata": {},
     "output_type": "display_data"
    }
   ],
   "source": [
    "movies_reviews = pd.read_csv(\"Data sets/Movies Reviews/labeledTrainData.tsv\", sep='\\t')\n",
    "movies_reviews.review = list(map(lambda row: re.sub(\"[^a-zA-Z]\", \" \", \n",
    "                                BeautifulSoup(row, \"lxml\").get_text().lower()), \n",
    "                                 movies_reviews.review))\n",
    "stops = set(stopwords.words(\"english\"))                  \n",
    "movies_reviews[\"words\"] = list(map(lambda row: [w for w in row.split() if not w in stops], \n",
    "                                   movies_reviews.review))\n",
    "display(movies_reviews.head())"
   ]
  },
  {
   "cell_type": "markdown",
   "metadata": {},
   "source": [
    "A continuación, realizamos el etiquetado a partir del texto completo, para mantener la posición de las palabras, pero reservamos solamente las palabras que aparecen en nuestro lexicón (que, en este caso, es muy simple, pero que tratándose del lexicón de Comics, aprovecharíamos el trabajo de limpieza ya realizado). Además, eliminamos duplicados *palabra-etiqueta*."
   ]
  },
  {
   "cell_type": "code",
   "execution_count": 3,
   "metadata": {
    "collapsed": false
   },
   "outputs": [
    {
     "data": {
      "text/html": [
       "<div>\n",
       "<style>\n",
       "    .dataframe thead tr:only-child th {\n",
       "        text-align: right;\n",
       "    }\n",
       "\n",
       "    .dataframe thead th {\n",
       "        text-align: left;\n",
       "    }\n",
       "\n",
       "    .dataframe tbody tr th {\n",
       "        vertical-align: top;\n",
       "    }\n",
       "</style>\n",
       "<table border=\"1\" class=\"dataframe\">\n",
       "  <thead>\n",
       "    <tr style=\"text-align: right;\">\n",
       "      <th></th>\n",
       "      <th>id</th>\n",
       "      <th>sentiment</th>\n",
       "      <th>review</th>\n",
       "      <th>words</th>\n",
       "      <th>tagged_words</th>\n",
       "    </tr>\n",
       "  </thead>\n",
       "  <tbody>\n",
       "    <tr>\n",
       "      <th>0</th>\n",
       "      <td>5814_8</td>\n",
       "      <td>1</td>\n",
       "      <td>with all this stuff going down at the moment w...</td>\n",
       "      <td>[stuff, going, moment, mj, started, listening,...</td>\n",
       "      <td>[(watching, VBG), (bestest, JJS), (making, NN)...</td>\n",
       "    </tr>\n",
       "    <tr>\n",
       "      <th>1</th>\n",
       "      <td>2381_9</td>\n",
       "      <td>1</td>\n",
       "      <td>the classic war of the worlds   by timothy hi...</td>\n",
       "      <td>[classic, war, worlds, timothy, hines, enterta...</td>\n",
       "      <td>[(g, NN), (never, RB), (perceive, VBP), (impor...</td>\n",
       "    </tr>\n",
       "    <tr>\n",
       "      <th>2</th>\n",
       "      <td>7759_3</td>\n",
       "      <td>0</td>\n",
       "      <td>the film starts with a manager  nicholas bell ...</td>\n",
       "      <td>[film, starts, manager, nicholas, bell, giving...</td>\n",
       "      <td>[(packs, VBZ), (violent, JJ), (kids, NNS), (ar...</td>\n",
       "    </tr>\n",
       "    <tr>\n",
       "      <th>3</th>\n",
       "      <td>3630_4</td>\n",
       "      <td>0</td>\n",
       "      <td>it must be assumed that those who praised this...</td>\n",
       "      <td>[must, assumed, praised, film, greatest, filme...</td>\n",
       "      <td>[(matter, NN), (nature, NN), (title, NN), (rea...</td>\n",
       "    </tr>\n",
       "    <tr>\n",
       "      <th>4</th>\n",
       "      <td>9495_8</td>\n",
       "      <td>1</td>\n",
       "      <td>superbly trashy and wondrously unpretentious  ...</td>\n",
       "      <td>[superbly, trashy, wondrously, unpretentious, ...</td>\n",
       "      <td>[(bonkers, NNS), (kids, NNS), (prostitutes, NN...</td>\n",
       "    </tr>\n",
       "  </tbody>\n",
       "</table>\n",
       "</div>"
      ],
      "text/plain": [
       "       id  sentiment                                             review  \\\n",
       "0  5814_8          1  with all this stuff going down at the moment w...   \n",
       "1  2381_9          1   the classic war of the worlds   by timothy hi...   \n",
       "2  7759_3          0  the film starts with a manager  nicholas bell ...   \n",
       "3  3630_4          0  it must be assumed that those who praised this...   \n",
       "4  9495_8          1  superbly trashy and wondrously unpretentious  ...   \n",
       "\n",
       "                                               words  \\\n",
       "0  [stuff, going, moment, mj, started, listening,...   \n",
       "1  [classic, war, worlds, timothy, hines, enterta...   \n",
       "2  [film, starts, manager, nicholas, bell, giving...   \n",
       "3  [must, assumed, praised, film, greatest, filme...   \n",
       "4  [superbly, trashy, wondrously, unpretentious, ...   \n",
       "\n",
       "                                        tagged_words  \n",
       "0  [(watching, VBG), (bestest, JJS), (making, NN)...  \n",
       "1  [(g, NN), (never, RB), (perceive, VBP), (impor...  \n",
       "2  [(packs, VBZ), (violent, JJ), (kids, NNS), (ar...  \n",
       "3  [(matter, NN), (nature, NN), (title, NN), (rea...  \n",
       "4  [(bonkers, NNS), (kids, NNS), (prostitutes, NN...  "
      ]
     },
     "metadata": {},
     "output_type": "display_data"
    }
   ],
   "source": [
    "movies_reviews[\"tagged_words\"] = list(map(lambda row, words: list(set([w for w in \n",
    "                                                       nltk.pos_tag(nltk.word_tokenize(row))\n",
    "                                                       if w[0] in words])), \n",
    "                                   movies_reviews.review, movies_reviews.words))\n",
    "display(movies_reviews.head())"
   ]
  },
  {
   "cell_type": "markdown",
   "metadata": {},
   "source": [
    "Las palabras ya etiquetadas, para una de las revisiones, son:"
   ]
  },
  {
   "cell_type": "code",
   "execution_count": 4,
   "metadata": {
    "collapsed": false
   },
   "outputs": [
    {
     "name": "stdout",
     "output_type": "stream",
     "text": [
      "[('watching', 'VBG'), ('bestest', 'JJS'), ('making', 'NN'), ('originally', 'RB'), ('directors', 'NNS'), ('mind', 'NN'), ('performing', 'VBG'), ('nah', 'VBP'), ('anyway', 'RB'), ('guilty', 'JJ'), ('came', 'VBD'), ('dunno', 'NN'), ('film', 'NN'), ('cinema', 'NN'), ('pesci', 'NN'), ('maybe', 'RB'), ('like', 'IN'), ('mj', 'VB'), ('like', 'JJ'), ('grace', 'VB'), ('behind', 'IN'), ('movie', 'NN'), ('know', 'VBP'), ('working', 'VBG'), ('closed', 'JJ'), ('demon', 'NN'), ('made', 'VBD'), ('ever', 'RB'), ('character', 'NN'), ('bad', 'JJ'), ('michael', 'NNS'), ('true', 'JJ'), ('hmmm', 'VBZ'), ('psychopathic', 'JJ'), ('going', 'VBG'), ('alone', 'RB'), ('ironically', 'RB'), ('give', 'VB'), ('bit', 'NN'), ('subject', 'NN'), ('well', 'RB'), ('line', 'NN'), ('course', 'NN'), ('finally', 'RB'), ('towards', 'IN'), ('hate', 'VBP'), ('wanted', 'VBD'), ('started', 'VBD'), ('jackson', 'NN'), ('sequence', 'NN'), ('let', 'VB'), ('obvious', 'JJ'), ('mj', 'JJ'), ('extremely', 'RB'), ('smooth', 'JJ'), ('bunch', 'NN'), ('unless', 'IN'), ('fans', 'NNS'), ('may', 'MD'), ('filming', 'VBG'), ('stuff', 'NN'), ('also', 'RB'), ('excluding', 'VBG'), ('press', 'NN'), ('etc', 'FW'), ('feeling', 'NN'), ('biography', 'NN'), ('visually', 'RB'), ('want', 'VB'), ('kiddy', 'NN'), ('usually', 'RB'), ('wholesome', 'JJ'), ('would', 'MD'), ('girl', 'NN'), ('like', 'VBP'), ('actual', 'JJ'), ('whether', 'IN'), ('attention', 'NN'), ('sickest', 'JJ'), ('gave', 'VBD'), ('car', 'NN'), ('either', 'CC'), ('ranted', 'VBD'), ('say', 'VB'), ('odd', 'JJ'), ('things', 'NNS'), ('messages', 'NNS'), ('lord', 'NN'), ('one', 'CD'), ('really', 'RB'), ('released', 'VBN'), ('make', 'VB'), ('wants', 'VBZ'), ('moonwalker', 'NN'), ('know', 'VB'), ('criminal', 'JJ'), ('try', 'VB'), ('lots', 'NNS'), ('guy', 'NN'), ('cool', 'JJ'), ('another', 'DT'), ('speed', 'NN'), ('stay', 'VB'), ('thought', 'VBN'), ('kay', 'NN'), ('nice', 'JJ'), ('moment', 'NN'), ('starts', 'VBZ'), ('wiz', 'NN'), ('must', 'MD'), ('remember', 'VBP'), ('different', 'JJ'), ('hates', 'VBZ'), ('listening', 'VBG'), ('talented', 'JJ'), ('kid', 'NN'), ('call', 'VB'), ('convincing', 'VBG'), ('people', 'NNS'), ('dance', 'NN'), ('consenting', 'VBG'), ('plans', 'NNS'), ('robot', 'NN'), ('hate', 'VB'), ('doors', 'NNS'), ('complex', 'JJ'), ('get', 'VB'), ('minutes', 'NNS'), ('powerful', 'JJ'), ('watched', 'VBD'), ('turning', 'VBG'), ('mj', 'NN'), ('innocent', 'JJ'), ('dead', 'JJ'), ('drugs', 'NNS'), ('remotely', 'VBP'), ('bottom', 'JJ'), ('whole', 'JJ'), ('liars', 'NNS'), ('away', 'RB'), ('buddy', 'NN'), ('drug', 'NN'), ('feature', 'NN'), ('part', 'NN'), ('fact', 'NN'), ('boring', 'VBG'), ('latter', 'NN'), ('certain', 'JJ'), ('stupid', 'JJ'), ('message', 'NN'), ('jackson', 'VBP'), ('hope', 'VBP'), ('overheard', 'IN'), ('mj', 'FW'), ('joe', 'NN'), ('impressive', 'JJ'), ('supplying', 'VBG'), ('patience', 'NN'), ('egotist', 'NN'), ('insight', 'NN'), ('beyond', 'IN'), ('see', 'VB'), ('truly', 'RB'), ('music', 'NN'), ('think', 'VBP'), ('saint', 'NN'), ('director', 'NN'), ('michael', 'NN'), ('eighties', 'NNS'), ('planet', 'NN'), ('level', 'NN'), ('scene', 'NN'), ('documentary', 'NN'), ('find', 'VB'), ('subtle', 'VBN')]\n"
     ]
    }
   ],
   "source": [
    "print(movies_reviews[\"tagged_words\"][0])"
   ]
  },
  {
   "cell_type": "markdown",
   "metadata": {},
   "source": [
    "El significado de cada etiqueta puede obtenerse mediante el método `nltk.help.upenn_tagset`:"
   ]
  },
  {
   "cell_type": "code",
   "execution_count": 5,
   "metadata": {
    "collapsed": false
   },
   "outputs": [
    {
     "name": "stdout",
     "output_type": "stream",
     "text": [
      "NN: noun, common, singular or mass\n",
      "    common-carrier cabbage knuckle-duster Casino afghan shed thermostat\n",
      "    investment slide humour falloff slick wind hyena override subhumanity\n",
      "    machinist ...\n",
      "['making', 'directors', 'mind', 'dunno', 'film', 'cinema', 'pesci', 'movie', 'demon', 'character', 'michael', 'bit', 'subject', 'line', 'course', 'jackson', 'sequence', 'bunch', 'fans', 'stuff', 'press', 'feeling', 'biography', 'kiddy', 'girl', 'attention', 'car', 'things', 'messages', 'lord', 'moonwalker', 'lots', 'guy', 'speed', 'kay', 'moment', 'wiz', 'kid', 'people', 'dance', 'plans', 'robot', 'doors', 'minutes', 'mj', 'drugs', 'liars', 'buddy', 'drug', 'feature', 'part', 'fact', 'latter', 'message', 'joe', 'patience', 'egotist', 'insight', 'music', 'saint', 'director', 'michael', 'eighties', 'planet', 'level', 'scene', 'documentary'] \n",
      "\n",
      "VB: verb, base form\n",
      "    ask assemble assess assign assume atone attention avoid bake balkanize\n",
      "    bank begin behold believe bend benefit bevel beware bless boil bomb\n",
      "    boost brace break bring broil brush build ...\n",
      "['watching', 'performing', 'nah', 'came', 'mj', 'grace', 'know', 'working', 'made', 'hmmm', 'going', 'give', 'hate', 'wanted', 'started', 'let', 'filming', 'excluding', 'want', 'like', 'gave', 'ranted', 'say', 'released', 'make', 'wants', 'know', 'try', 'stay', 'thought', 'starts', 'remember', 'hates', 'listening', 'call', 'convincing', 'consenting', 'hate', 'get', 'watched', 'turning', 'remotely', 'boring', 'jackson', 'hope', 'supplying', 'see', 'think', 'find', 'subtle'] \n",
      "\n",
      "JJ: adjective or numeral, ordinal\n",
      "    third ill-mannered pre-war regrettable oiled calamitous first separable\n",
      "    ectoplasmic battery-powered participatory fourth still-to-be-named\n",
      "    multilingual multi-disciplinary ...\n",
      "['bestest', 'guilty', 'like', 'closed', 'bad', 'true', 'psychopathic', 'obvious', 'mj', 'smooth', 'wholesome', 'actual', 'sickest', 'odd', 'criminal', 'cool', 'nice', 'different', 'talented', 'complex', 'powerful', 'innocent', 'dead', 'bottom', 'whole', 'certain', 'stupid', 'impressive'] \n",
      "\n",
      "RB: adverb\n",
      "    occasionally unabatingly maddeningly adventurously professedly\n",
      "    stirringly prominently technologically magisterially predominately\n",
      "    swiftly fiscally pitilessly ...\n",
      "['originally', 'anyway', 'maybe', 'ever', 'alone', 'ironically', 'well', 'finally', 'extremely', 'also', 'visually', 'usually', 'really', 'away', 'truly'] \n",
      "\n"
     ]
    }
   ],
   "source": [
    "nltk.help.upenn_tagset('NN')\n",
    "nn = []\n",
    "for word in movies_reviews[\"tagged_words\"][0]: \n",
    "    if 'NN' in word[1]: \n",
    "        nn.append(word[0])\n",
    "print(nn, \"\\n\")\n",
    "\n",
    "nltk.help.upenn_tagset('VB')\n",
    "vbg = []\n",
    "for word in movies_reviews[\"tagged_words\"][0]: \n",
    "    if 'VB' in word[1]: \n",
    "        vbg.append(word[0])\n",
    "print(vbg, \"\\n\")\n",
    "\n",
    "nltk.help.upenn_tagset('JJ')\n",
    "jj = []\n",
    "for word in movies_reviews[\"tagged_words\"][0]: \n",
    "    if 'JJ' in word[1]: \n",
    "        jj.append(word[0])\n",
    "print(jj, \"\\n\")\n",
    "\n",
    "nltk.help.upenn_tagset('RB')\n",
    "rb = []\n",
    "for word in movies_reviews[\"tagged_words\"][0]: \n",
    "    if 'RB' in word[1]: \n",
    "        rb.append(word[0])\n",
    "print(rb, \"\\n\")\n"
   ]
  },
  {
   "cell_type": "markdown",
   "metadata": {
    "collapsed": true
   },
   "source": [
    "Aquí hemos integrado en la etiqueta `NN` las etiquetas `NNS`, `NNP` y `NNPS`:"
   ]
  },
  {
   "cell_type": "code",
   "execution_count": 11,
   "metadata": {
    "collapsed": false
   },
   "outputs": [
    {
     "name": "stdout",
     "output_type": "stream",
     "text": [
      "NN: noun, common, singular or mass\n",
      "    common-carrier cabbage knuckle-duster Casino afghan shed thermostat\n",
      "    investment slide humour falloff slick wind hyena override subhumanity\n",
      "    machinist ...\n",
      "['alexandre', 'acting', 'day', 'partners', 'characters', 'soundtrack', 'blackmail', 'metropolis', 'film', 'contract', 'corruption', 'miklos', 'hand', 'movie', 'daughter', 'reality', 'monster', 'plot', 'betrayal', 'sad', 'presence', 'brazil', 'anisio', 'course', 'gilberto', 'scruples', 'company', 'story', 'anyone', 'job', 'marco', 'crime', 'killer', 'guy', 'time', 'veracity', 'place', 'irony', 'ricca', 'flirts', 'people', 'cruel', 'ivan', 'borges', 'ones', 'estev', 'george', 'money', 'freire', 'person', 'paulo', 'something', 'exception', 'one', 'ximenes', 'betray', 'mariana', 'supervisor', 'guys'] \n",
      "\n",
      "NNS: noun, common, plural\n",
      "    undergraduates scotches bric-a-brac products bodyguards facets coasts\n",
      "    divestitures storehouses designs clubs fragrances averages\n",
      "    subjectivists apprehensions muses factory-jobs ...\n",
      "['partners', 'characters', 'metropolis', 'scruples', 'flirts', 'people', 'borges', 'ones', 'guys'] \n",
      "\n",
      "NNP: noun, proper, singular\n",
      "    Motown Venneboerger Czestochwa Ranzer Conchita Trumplane Christos\n",
      "    Oceanside Escobar Kreisler Sawyer Cougar Yvette Ervin ODI Darryl CTCA\n",
      "    Shannon A.K.C. Meltex Liverpool ...\n",
      "['mariana'] \n",
      "\n",
      "NNPS: noun, proper, plural\n",
      "    Americans Americas Amharas Amityvilles Amusements Anarcho-Syndicalists\n",
      "    Andalusians Andes Andruses Angels Animals Anthony Antilles Antiques\n",
      "    Apache Apaches Apocrypha ...\n",
      "['ximenes'] \n",
      "\n"
     ]
    }
   ],
   "source": [
    "nltk.help.upenn_tagset('NN')\n",
    "nn = []\n",
    "for word in movies_reviews[\"tagged_words\"][16183]: \n",
    "    if 'NN' in word[1]: \n",
    "        nn.append(word[0])\n",
    "print(nn, \"\\n\")\n",
    "\n",
    "nltk.help.upenn_tagset('NNS')\n",
    "nns = []\n",
    "for word in movies_reviews[\"tagged_words\"][16183]: \n",
    "    if 'NNS' == word[1]: \n",
    "        nns.append(word[0])\n",
    "print(nns, \"\\n\")\n",
    "\n",
    "nltk.help.upenn_tagset('NNP')\n",
    "nnp = []\n",
    "for word in movies_reviews[\"tagged_words\"][16183]: \n",
    "    if 'NNP' == word[1]: \n",
    "        nnp.append(word[0])\n",
    "print(nnp, \"\\n\")\n",
    "\n",
    "nltk.help.upenn_tagset('NNPS')\n",
    "nnps = []\n",
    "for word in movies_reviews[\"tagged_words\"][16183]: \n",
    "    if 'NNPS' == word[1]: \n",
    "        nnps.append(word[0])\n",
    "print(nnps, \"\\n\")\n"
   ]
  },
  {
   "cell_type": "markdown",
   "metadata": {},
   "source": [
    "Los errores que arroja un etiquetador genérico pre entrenado, como el que hemos usado en esta prueba, son evidentes al observar las palabras que, por ejemplo, son etiquetadas aquí como `adjetivos`:"
   ]
  },
  {
   "cell_type": "code",
   "execution_count": 12,
   "metadata": {
    "collapsed": false
   },
   "outputs": [
    {
     "name": "stdout",
     "output_type": "stream",
     "text": [
      "24174 \n",
      "\n",
      "['margaux', 'spiked', 'henchman', 'bonny', 'internalised', 'bid', 'yankee', 'polish', 'restrained', 'goldwyn', 'asta', 'hacked', 'arsenic', 'nil', 'literalist', 'ucsb', 'moreira', 'ryo', 'jinxed', 'sleazy', 'corneau', 'gambler', 'sjoman', 'ditto', 'berlin', 'complementary', 'tomorrows', 'lecarre', 'corral', 'preachy', 'deviant', 'nsync', 'superhuman', 'avg', 'yapfest', 'heaven', 'uncompelling', 'rob', 'nandjiwarra', 'tacit', 'eats', 'merian', 'anisio', 'emphasized', 'secondus', 'kol', 'cartoonist', 'tobin', 'great', 'neighbor', 'disappear', 'surf', 'appetite', 'comical', 'neil', 'boob', 'nuts', 'unabashedly', 'claremont', 'wire', 'blunted', 'fireman', 'lance', 'yale', 'ghoultown', 'cloris', 'adrift', 'leporid', 'snug', 'slutty', 'aubrey', 'fidelity', 'ambush', 'transatlantic', 'occultist', 'prey', 'pushed', 'trish', 'dry', 'prior', 'immersing', 'hilly', 'pitbull', 'unreleasable', 'doodle', 'devoted', 'supermortalman', 'gallant', 'journeyman', 'wynona', 'instalment', 'victoria', 'planted', 'quote', 'oversold', 'arrant', 'juxtaposed', 'dreadfully', 'nervy', 'yasuzo', 'sarajevo', 'senate', 'flux', 'hungrier', 'ngel', 'jumpin', 'bhamra', 'caveat', 'hairless', 'average', 'downward', 'insidious', 'fbp', 'twofold', 'harangued', 'indiscriminate', 'overact', 'flattest', 'klute', 'catty', 'amenable', 'nuke', 'trio', 'soy', 'shanti', 'murder', 'blobby', 'mythological', 'fran', 'blah', 'undermining', 'gal', 'rowen', 'defining', 'bodycount', 'europe', 'tow', 'laughfest', 'instructive', 'roeper', 'sexual', 'corresponding', 'zelda', 'lifelong', 'graveyard', 'bell', 'izo', 'patient', 'matinee', 'drained', 'flimsier', 'overage', 'stark', 'freaks', 'famine', 'snuggest', 'sur', 'proval', 'dullard', 'meg', 'predict', 'tutu', 'eyes', 'resembling', 'anybodies', 'cresta', 'elektra', 'tacked', 'capitaine', 'biologist', 'pullman', 'grayish', 'whig', 'roz', 'pretentiousness', 'prizzi', 'metacinematic', 'succulent', 'immoderate', 'deaf', 'nuyen', 'embellished', 'luxuriant', 'narcisstic', 'mischief', 'romcomic', 'disintegrated', 'additional', 'weta', 'sacre', 'classy', 'anastasia', 'unsurpassable', 'isolated', 'macedonian', 'monstervision', 'miko', 'january', 'sadie', 'eartha', 'grahm', 'loveless', 'erian', 'petite', 'coyle', 'sierra', 'sequined', 'crystalline', 'pe', 'camille', 'wretched', 'gatiss', 'beethoven', 'eels', 'chevy', 'rings', 'bathroom', 'colloquial', 'frivolity', 'mic', 'potato', 'ambition', 'grabovsky', 'tehrani', 'fernandina', 'digi', 'southeast', 'psychology', 'appear', 'raspy', 'munro', 'mysterious', 'busty', 'taglialucci', 'unalike', 'benevolent', 'lmotp', 'predominant', 'undoubtedly', 'vol', 'denim', 'redd', 'delightfully', 'bleached', 'hide', 'seriocomic', 'bong', 'albert', 'margarete', 'bib'] \n",
      "\n"
     ]
    }
   ],
   "source": [
    "jj_movies = []\n",
    "for row in movies_reviews[\"tagged_words\"]:\n",
    "    for word in row: \n",
    "        if 'JJ' in word[1]: \n",
    "            jj_movies.append(word[0])\n",
    "jj_movies = list(set(jj_movies))\n",
    "\n",
    "print(len(jj_movies), \"\\n\")\n",
    "print(jj_movies[:250], \"\\n\")"
   ]
  },
  {
   "cell_type": "markdown",
   "metadata": {},
   "source": [
    "Algo similar ocurre con las demás categorías, como la identificación de verbos"
   ]
  },
  {
   "cell_type": "code",
   "execution_count": 13,
   "metadata": {
    "collapsed": false
   },
   "outputs": [
    {
     "name": "stdout",
     "output_type": "stream",
     "text": [
      "28187 \n",
      "\n",
      "['margaux', 'tradition', 'realizes', 'spiked', 'careers', 'maddonna', 'reasoned', 'mecca', 'pages', 'occurs', 'fcked', 'bid', 'internalised', 'yankee', 'broaden', 'polish', 'restrained', 'cowl', 'gawked', 'hacked', 'botoxed', 'nil', 'ucsb', 'bends', 'trainwreck', 'sleazy', 'item', 'acquaints', 'rainbows', 'cloning', 'sjoman', 'airbrushed', 'provides', 'ditto', 'berlin', 'dugout', 'corral', 'preachy', 'lebrun', 'plowed', 'nsync', 'superhuman', 'trussed', 'heaven', 'uncompelling', 'rob', 'gooding', 'eats', 'exploring', 'belted', 'intention', 'anisio', 'emphasized', 'visualize', 'percolated', 'kol', 'stairway', 'chemically', 'corrects', 'fillet', 'surf', 'disappear', 'cavepeople', 'coe', 'neil', 'nuts', 'juice', 'enterprise', 'wire', 'blunted', 'matted', 'superiority', 'lance', 'cloris', 'adrift', 'taking', 'ambush', 'slutty', 'admonishes', 'overtakes', 'prey', 'chivalry', 'pushed', 'bucks', 'trish', 'dry', 'prior', 'immersing', 'avatar', 'descovered', 'unlikened', 'filth', 'devoted', 'eases', 'fells', 'categorized', 'brideshead', 'eccentricity', 'transcended', 'soared', 'victoria', 'planted', 'amounting', 'vivisects', 'quote', 'oversold', 'mourned', 'barfed', 'juxtaposed', 'unzombiefied', 'senate', 'dipping', 'flux', 'informs', 'wrenched', 'containing', 'mf', 'incubates', 'spelt', 'cd', 'average', 'implying', 'twofold', 'harangued', 'indiscriminate', 'costing', 'slandering', 'overact', 'galileo', 'palettes', 'klute', 'lakhan', 'livia', 'crib', 'overrules', 'nuke', 'sweeten', 'puling', 'shanti', 'murder', 'beauseigneur', 'dithering', 'fran', 'gras', 'humiliates', 'blah', 'decaffeinated', 'undermining', 'quoting', 'gal', 'int', 'tftc', 'fuses', 'blows', 'bans', 'frogging', 'isolate', 'defining', 'europe', 'tow', 'pare', 'moomins', 'cahill', 'silvano', 'adolphs', 'dipped', 'sexual', 'heywood', 'corresponding', 'ghidorah', 'zelda', 'empathizing', 'graveyard', 'bell', 'foy', 'bunked', 'pathar', 'menaces', 'izo', 'pedophiles', 'adventured', 'accrued', 'agonising', 'pransky', 'patient', 'drained', 'essaying', 'atreides', 'regresses', 'bohlen', 'stark', 'pleaded', 'christens', 'pioneered', 'freaks', 'intermingles', 'inherit', 'auer', 'sur', 'flirting', 'careening', 'perversion', 'dullard', 'meg', 'confides', 'predict', 'retrieves', 'gci', 'trouby', 'eyes', 'resembling', 'cresta', 'tacked', 'pullman', 'greenlight', 'speculates', 'roz', 'curtailing', 'deltoro', 'prizzi', 'worshipping', 'deaf', 'stimulate', 'combusting', 'embellished', 'cheered', 'buzzes', 'disintegrated', 'ghettos', 'classy', 'anastasia', 'overkilled', 'exit', 'isolated', 'coolio', 'propogate', 'denzil', 'holcomb', 'promotes', 'goulding', 'miko', 'similes', 'interfered', 'anecdotes', 'january', 'compiling', 'sadie', 'eartha', 'disapprove', 'sierra'] \n",
      "\n"
     ]
    }
   ],
   "source": [
    "vb_movies = []\n",
    "for row in movies_reviews[\"tagged_words\"]:\n",
    "    for word in row: \n",
    "        if 'VB' in word[1]: \n",
    "            vb_movies.append(word[0])\n",
    "vb_movies = list(set(vb_movies))\n",
    "\n",
    "print(len(vb_movies), \"\\n\")\n",
    "print(vb_movies[:250], \"\\n\")"
   ]
  },
  {
   "cell_type": "markdown",
   "metadata": {},
   "source": [
    "Y, aunque menos evidente, debido en parte a la cantidad de términos, también se presenta con los sustantivos:"
   ]
  },
  {
   "cell_type": "code",
   "execution_count": 14,
   "metadata": {
    "collapsed": false
   },
   "outputs": [
    {
     "name": "stdout",
     "output_type": "stream",
     "text": [
      "52842 \n",
      "\n",
      "['eels', 'sextet', 'downsizing', 'withdrawl', 'chevy', 'filmmakes', 'rings', 'relation', 'raghavan', 'lcd', 'chod', 'borderland', 'rigshospitalet', 'simulator', 'cellmates', 'bathroom', 'frivolity', 'relaxers', 'hards', 'mic', 'potato', 'ambition', 'sb', 'montano', 'grimacing', 'diazes', 'rees', 'grabovsky', 'poifect', 'anar', 'mindgames', 'malaise', 'apply', 'digi', 'southeast', 'psychology', 'balfour', 'redevelopment', 'predeccesor', 'appear', 'bashki', 'raspy', 'munro', 'busty', 'tite', 'benevolent', 'cheeni', 'predominant', 'zubeidaa', 'lumps', 'deepa', 'opener', 'mailings', 'vol', 'denim', 'redd', 'musketeers', 'revamps', 'entrant', 'videoteque', 'totty', 'shumaker', 'dies', 'podalyd', 'forefather', 'playthings', 'conceits', 'hide', 'sheryll', 'freezes', 'medellin', 'beaus', 'fragment', 'berseker', 'albert', 'incase', 'fletcher', 'knowledge', 'mymovies', 'advantage', 'devgan', 'treatise', 'impacting', 'ambiance', 'entertain', 'wyoming', 'canine', 'lars', 'sevens', 'spoilersthis', 'billingsley', 'denture', 'titilation', 'athey', 'decontamination', 'wai', 'examinations', 'dramathe', 'rides', 'reignites', 'als', 'aching', 'distract', 'tomeii', 'moly', 'tourists', 'moviemaking', 'headroom', 'bhaje', 'yasushi', 'arrogant', 'blackening', 'shapeless', 'shakycam', 'bladrick', 'tralala', 'skullduggery', 'fuck', 'commanders', 'interrelations', 'mis', 'artless', 'kathleen', 'guilliani', 'madam', 'sami', 'icegun', 'corne', 'kata', 'vinod', 'doozys', 'odessa', 'glenaan', 'tripe', 'capra', 'braddock', 'cauchon', 'forests', 'purport', 'mcintire', 'hires', 'cgi', 'licking', 'chronopolis', 'excellency', 'rewrites', 'gentle', 'dashiell', 'saltwater', 'customizers', 'magrath', 'slapdash', 'dachshunds', 'huxley', 'kliegs', 'crock', 'getty', 'sandhya', 'psychologies', 'mcgavin', 'tweed', 'hucksters', 'zebraman', 'newpaper', 'approaches', 'zebras', 'steadfast', 'evstigneev', 'millard', 'johansson', 'bro', 'goofy', 'sibling', 'ando', 'visconti', 'buerke', 'landua', 'ccxs', 'sommersault', 'svengali', 'yards', 'eventuality', 'antoine', 'doppelganger', 'mental', 'turner', 'approve', 'coffeehouse', 'outlands', 'brittany', 'sumo', 'mulder', 'miriam', 'disease', 'hitchock', 'iglesias', 'sammi', 'psychopath', 'tc', 'tuxedoed', 'attentive', 'lana', 'interface', 'marconi', 'scoop', 'prunella', 'stepmom', 'yas', 'hillbillies', 'forrest', 'elfriede', 'spirt', 'guire', 'questioner', 'horsecoach', 'hostesses', 'remember', 'runway', 'attract', 'afterlife', 'creeps', 'wang', 'future', 'theactors', 'lykis', 'moredirection', 'kyun', 'positivity', 'binouche', 'battalion', 'manouvres', 'description', 'rebuilder', 'wigs', 'islanders', 'kiesser', 'corley', 'puertorricans', 'iene', 'rythmic', 'midgetorgy', 'ramblings', 'underdogs', 'halla', 'grinderlin', 'immensity', 'keitel', 'vama', 'british', 'thunderblast'] \n",
      "\n"
     ]
    }
   ],
   "source": [
    "nn_movies = []\n",
    "for row in movies_reviews[\"tagged_words\"]:\n",
    "    for word in row: \n",
    "        if 'NN' in word[1]: \n",
    "            nn_movies.append(word[0])\n",
    "nn_movies = list(set(nn_movies))\n",
    "\n",
    "print(len(nn_movies), \"\\n\")\n",
    "print(nn_movies[500:750], \"\\n\")"
   ]
  },
  {
   "cell_type": "markdown",
   "metadata": {},
   "source": [
    "### Entrenamiento de un etiquetador propio\n",
    "\n",
    "Entrenar un etiquetador propio es un proceso costoso y largo, ya que hay que etiquetar manualmente un lexicón. Intentemos con nuestro lexicón de Comics. "
   ]
  },
  {
   "cell_type": "code",
   "execution_count": 15,
   "metadata": {
    "collapsed": true
   },
   "outputs": [],
   "source": [
    "import json\n",
    "\n",
    "file = 'Data Sets/Comics/clean_lexicon_comics.json'\n",
    "with open(file) as comics_file:\n",
    "    dict_comics = json.load(comics_file)\n",
    "comicsDf = pd.DataFrame.from_dict(dict_comics)\n",
    "\n",
    "comicsDf = comicsDf.reindex_axis(['title',\"description\", \"new_description\", \"full_description\"], axis=1)"
   ]
  },
  {
   "cell_type": "markdown",
   "metadata": {},
   "source": [
    "A continuación, reconstruimos la columna description para mantener la separación por frases:"
   ]
  },
  {
   "cell_type": "code",
   "execution_count": 16,
   "metadata": {
    "collapsed": false
   },
   "outputs": [
    {
     "data": {
      "text/html": [
       "<div>\n",
       "<style>\n",
       "    .dataframe thead tr:only-child th {\n",
       "        text-align: right;\n",
       "    }\n",
       "\n",
       "    .dataframe thead th {\n",
       "        text-align: left;\n",
       "    }\n",
       "\n",
       "    .dataframe tbody tr th {\n",
       "        vertical-align: top;\n",
       "    }\n",
       "</style>\n",
       "<table border=\"1\" class=\"dataframe\">\n",
       "  <thead>\n",
       "    <tr style=\"text-align: right;\">\n",
       "      <th></th>\n",
       "      <th>title</th>\n",
       "      <th>description</th>\n",
       "      <th>new_description</th>\n",
       "      <th>full_description</th>\n",
       "    </tr>\n",
       "  </thead>\n",
       "  <tbody>\n",
       "    <tr>\n",
       "      <th>0</th>\n",
       "      <td>'Mazing Man</td>\n",
       "      <td>mazing man is the title character of a comic b...</td>\n",
       "      <td>mazing_man man title_character comic_book_seri...</td>\n",
       "      <td>mazing man is the title character of a comic b...</td>\n",
       "    </tr>\n",
       "    <tr>\n",
       "      <th>1</th>\n",
       "      <td>711 (Quality Comics)</td>\n",
       "      <td>is a fictional superhero from the golden age o...</td>\n",
       "      <td>711_quality_comics fictional superhero golden_...</td>\n",
       "      <td>is a fictional superhero from the golden age o...</td>\n",
       "    </tr>\n",
       "    <tr>\n",
       "      <th>2</th>\n",
       "      <td>Abigail Brand</td>\n",
       "      <td>special agent special agent abigail brand is a...</td>\n",
       "      <td>abigail_brand special agent special agent abig...</td>\n",
       "      <td>special agent special agent abigail brand is a...</td>\n",
       "    </tr>\n",
       "    <tr>\n",
       "      <th>3</th>\n",
       "      <td>Abin Sur</td>\n",
       "      <td>abin sur is a fictional character and a superh...</td>\n",
       "      <td>abin_sur abin sur fictional_character superher...</td>\n",
       "      <td>abin sur is a fictional character and a superh...</td>\n",
       "    </tr>\n",
       "    <tr>\n",
       "      <th>4</th>\n",
       "      <td>Abner Jenkins</td>\n",
       "      <td>abner ronald jenkins formerly known as the bee...</td>\n",
       "      <td>abner_jenkins abner ronald jenkins formerly_kn...</td>\n",
       "      <td>abner ronald jenkins formerly known as the bee...</td>\n",
       "    </tr>\n",
       "  </tbody>\n",
       "</table>\n",
       "</div>"
      ],
      "text/plain": [
       "                  title                                        description  \\\n",
       "0           'Mazing Man  mazing man is the title character of a comic b...   \n",
       "1  711 (Quality Comics)  is a fictional superhero from the golden age o...   \n",
       "2         Abigail Brand  special agent special agent abigail brand is a...   \n",
       "3              Abin Sur  abin sur is a fictional character and a superh...   \n",
       "4         Abner Jenkins  abner ronald jenkins formerly known as the bee...   \n",
       "\n",
       "                                     new_description  \\\n",
       "0  mazing_man man title_character comic_book_seri...   \n",
       "1  711_quality_comics fictional superhero golden_...   \n",
       "2  abigail_brand special agent special agent abig...   \n",
       "3  abin_sur abin sur fictional_character superher...   \n",
       "4  abner_jenkins abner ronald jenkins formerly_kn...   \n",
       "\n",
       "                                    full_description  \n",
       "0  mazing man is the title character of a comic b...  \n",
       "1  is a fictional superhero from the golden age o...  \n",
       "2  special agent special agent abigail brand is a...  \n",
       "3  abin sur is a fictional character and a superh...  \n",
       "4  abner ronald jenkins formerly known as the bee...  "
      ]
     },
     "metadata": {},
     "output_type": "display_data"
    }
   ],
   "source": [
    "import xml.etree.ElementTree as ET\n",
    "APOSTROFOS = {\"aren't\" : \"are not\", \"can't\" : \"cannot\", \"couldn't\" : \"could not\", \n",
    "              \"didn't\" : \"did not\", \"doesn't\" : \"does not\", \"don't\" : \"do not\", \n",
    "              \"hadn't\" : \"had not\", \"hasn't\" : \"has not\", \"haven't\" : \"have not\", \n",
    "              \"he's\" : \"he is\", \"I'll\" : \"I will\", \"I'm\" : \"I am\", \"I've\" : \"I have\", \n",
    "              \"isn't\" : \"is not\", \"it's\" : \"it is\", \"let's\" : \"let us\", \"you've\" : \"you have\",\n",
    "              \"mustn't\" : \"must not\", \"shan't\" : \"shall not\", \"she'll\" : \"she will\", \n",
    "              \"she's\" : \"she is\", \"shouldn't\" : \"should not\", \"that's\" : \"that is\", \n",
    "              \"there's\" : \"there is\", \"they're\" : \"they are\", \"they've\" : \"they have\", \n",
    "              \"we're\" : \"we are\", \"we've\" : \"we have\", \"weren't\" : \"were not\", \n",
    "              \"what're\" : \"what are\", \"what's\" : \"what is\", \"what've\" : \"what have\", \n",
    "              \"where's\" : \"where is\", \"who're\" : \"who are\", \"who's\" : \"who is\", \n",
    "              \"who've\" : \"who have\", \"won't\" : \"will not\", \"wouldn't\" : \"would not\", \n",
    "              \"you're\" : \"you are\"} \n",
    "\n",
    "tree = ET.parse(\"Data Sets/Comics/all_characters.xml\")\n",
    "root = tree.getroot()\n",
    "index = 0\n",
    "for child in root:\n",
    "    if(child.tag.find(\"page\") >=0 ):\n",
    "        for grandchild in child:\n",
    "            if(grandchild.tag.find(\"title\") >= 0):\n",
    "                  title = grandchild.text\n",
    "            if(grandchild.tag.find(\"revision\") >= 0): \n",
    "                for grand2child in grandchild:\n",
    "                    if(grand2child.tag.find(\"text\") >= 0):\n",
    "                        #Obtener el texto del nodo\n",
    "                        text = grand2child.text.lower()\n",
    "                        #Eliminar las cadenas que inician en {{ seguidas de \n",
    "                        #cualquier cosa excepto }} y terminadas con }}\n",
    "                        text = re.sub('{{[^}}]*}}', '', text)\n",
    "                        #Misma idea, pero con el caracter especial \\[ \\] y Category:\n",
    "                        text = re.sub('\\[\\[Category:[^\\]\\]]*\\]\\]', '', text)\n",
    "                        #... y entre === ===\n",
    "                        text = re.sub('={3}[\\w]+={3}', '', text)\n",
    "                        #... y entre == ==\n",
    "                        text = re.sub('={2}[\\w]+={2}', '', text)\n",
    "                        #Extrae el texto de entre el código html... casi\n",
    "                        text = BeautifulSoup(text, \"lxml\").get_text() \n",
    "                        text = re.sub(\"<img([\\w\\W]+?)/?>\", \"\", text)\n",
    "                        #Eliminar direcciones http\n",
    "                        text = re.sub('\\w+:\\/{2}[\\d\\w-]+(\\.[\\d\\w-]+)*(?:(?:\\/[^\\s/]*))*', ' ', text) \n",
    "                        #... y direcciones de correo\n",
    "                        text = re.sub('[\\w\\.-]+@[\\w\\.-]+', \" \", text)\n",
    "                        #... y direcciones wikt*\n",
    "                        text = re.sub('\\[\\[wikt[^|]*|', '', text)\n",
    "                        #Eliminar puntos decorativos como en S.H.I.E.L.D.\n",
    "                        #text = text.replace(\".\",\"\")\n",
    "\n",
    "                        words = text.split()\n",
    "                        #Reenplazar el usos de apostrofos\n",
    "                        texto = [APOSTROFOS[word] if word in APOSTROFOS else word for word in words]\n",
    "                        texto = \" \".join(texto)\n",
    "                        #Eliminar otros caracteres no alfabéticos\n",
    "                        texto = re.sub(\"[^\\w*\\. +]\", \" \", texto)\n",
    "                        texto = re.sub(\"[\\d]\", \" \", texto)\n",
    "                        texto = re.sub(\" *\\.\", \".\", texto)\n",
    "                        texto = re.sub(\"(\\w)\\.(\\w)\\. \", r'\\1\\2 ', texto)\n",
    "                        #Eliminar palabras repetidas consecutivas\n",
    "                        words = re.sub(r'\\b(\\w+)(\\s+\\1\\b)+', r'\\1', texto).split()\n",
    "                        texto = \" \".join(words) \n",
    "                        \n",
    "        comicsDf.loc[index, \"full_description\"] = texto\n",
    "        index = index + 1\n",
    "\n",
    "display(comicsDf.head())"
   ]
  },
  {
   "cell_type": "code",
   "execution_count": 17,
   "metadata": {
    "collapsed": false
   },
   "outputs": [
    {
     "data": {
      "text/plain": [
       "'mazing man is the title character of a comic book series created by bob rozakis and stephen destefano and published by dc comics. the series ran for twelve issues in with additional special issues in and. in addition mazing man had an origin story in secret origins and an original one page story that appeared in an ad in comics buyer s guide. series overview the mazing man series depicts the misadventures of sigfried horatio hunch iii a benignly deranged little man in queens new york queens new york city new york state new york who dresses in a homemade costume and performs deeds like unclogging drains and watching out for local children. viewed as a harmless kook by his neighbors he saves a child from being hit by a truck in the first issue earning him some respect and notoriety not to mention a steady stream of appreciation and food from the mother in subsequent issues. maze tends to sing simon and garfunkel songs when struck on the head. his best friend is denton fixx a writer for bc comics who looks like a beagle. hunch is a millionaire having won first place in a magazine subscription company s sweepstakes. after winning the prize he felt obligated to subscribe to all of the company s magazines. as a result he receives a staggering load of publications daily including the pornographic magazine s that he genuinely reads only for the articles. he does not keep his wealth a secret per se he simply does not mention it and does not live an opulent lifestyle. his friends are unaware of his financial success. the original series although highly acclaimed was short lived. however comics artist frank miller comics frank miller admired the series. eager to help the property survive miller contributed a cover with the lead characters of the extremely popular mini series batman the dark knight returns for the last issue. the resulting exposure created enough interest for subsequent one shot comics one shot issues. a back up feature zoot sputnik appeared for several issues drawn by fred hembeck and ostensibly written by denton fixx it was supposed to be the book fixx wrote for bc comics. it was a parody of the golden age of comic books golden age narrative style where stories had no between issue continuity zoot and his team were space adventurers in one issue and cowboys in the next. the team s dog received a shock of energy and gained the ability to remember their disparate adventures. this was denton s attempt to introduce continuity to the book but it was met with disapproval by his editor. mazing man is one of a handful of dc titles to publish an issue not featuring the comics code authority stamp of approval while it was active. in the issue writer s block denton is stuck for a story and all his friends give their ideas. one of them dealt with an army of zombie s. although there was no gore or violence any mention of the living dead specifically the use of the word zombie was forbidden by the comics code. the issue was released without the stamp with no publicity positive or negative. much later in the ambush bug year none miniseries mazing man in the same nonsensical way of the series is revealed to be on death row. other characters denton fixx maze s best friend. writer for bc comics. looks like a beagle. brenda valentine a rising star at a local advertising agency. she is married to eddie valentine. eddie valentine assistant to the assistant manager at the south richmond bank. promoted to assistant manager in issue september the bank job or by hook or by crook married to brenda. baseball player and gold glove winner at john quincy high school. kp watson denton s human looking half sister. guido garibaldi the jock simpleton who lives in the same building as denton maze eddie and brenda. he works in three shoe stores and spends most of his time wondering which one he is called in sick at drinking beer and hopelessly pursuing women. sgt. muldavey a local police officer who is plagued by maze s heroics. mrs. costinas landlady of maze denton and kp most often seen sweeping the front steps of their building. never smiles and usually grunts at all passersby. helenita trialdo a baby whose appearances revolve around her lack of hair. senora tiraldo helenita s mother. walter vanderplatz eddie s supervisor at the south richmond bank. more than a bit of a stuffed shirt. in other media * mazing man appears in the animated series batman the brave and the bold episode four star spectacular voiced by tom kenny. in the kitty catastrophe segment he is the accident prone petsitting catsitter for a couple named owen and fiona. it is apparent that batman is his favorite superhero and the inspiration for his costume. see also * list of dc comics publications external links * mazing man at don markstein s toonopedia. archived from the original on february. * bobrozakis.blogspot.com category dc comics titles category comics debuts category comics characters introduced in category humor comics category fictional characters with schizophrenia category fictional characters from new york city'"
      ]
     },
     "metadata": {},
     "output_type": "display_data"
    }
   ],
   "source": [
    "display(comicsDf.loc[0].full_description)"
   ]
  },
  {
   "cell_type": "markdown",
   "metadata": {},
   "source": [
    "Seleccionamos los primeros 50 registros, para facilitar el análisis:"
   ]
  },
  {
   "cell_type": "code",
   "execution_count": 18,
   "metadata": {
    "collapsed": false
   },
   "outputs": [
    {
     "data": {
      "text/html": [
       "<div>\n",
       "<style>\n",
       "    .dataframe thead tr:only-child th {\n",
       "        text-align: right;\n",
       "    }\n",
       "\n",
       "    .dataframe thead th {\n",
       "        text-align: left;\n",
       "    }\n",
       "\n",
       "    .dataframe tbody tr th {\n",
       "        vertical-align: top;\n",
       "    }\n",
       "</style>\n",
       "<table border=\"1\" class=\"dataframe\">\n",
       "  <thead>\n",
       "    <tr style=\"text-align: right;\">\n",
       "      <th></th>\n",
       "      <th>title</th>\n",
       "      <th>description</th>\n",
       "      <th>new_description</th>\n",
       "      <th>full_description</th>\n",
       "      <th>tagged_words</th>\n",
       "    </tr>\n",
       "  </thead>\n",
       "  <tbody>\n",
       "    <tr>\n",
       "      <th>0</th>\n",
       "      <td>'Mazing Man</td>\n",
       "      <td>mazing man is the title character of a comic b...</td>\n",
       "      <td>mazing_man man title_character comic_book_seri...</td>\n",
       "      <td>mazing man is the title character of a comic b...</td>\n",
       "      <td>[(watching, VBG), (remember, VB), (kenny, NN),...</td>\n",
       "    </tr>\n",
       "    <tr>\n",
       "      <th>1</th>\n",
       "      <td>711 (Quality Comics)</td>\n",
       "      <td>is a fictional superhero from the golden age o...</td>\n",
       "      <td>711_quality_comics fictional superhero golden_...</td>\n",
       "      <td>is a fictional superhero from the golden age o...</td>\n",
       "      <td>[(publications, NNS), (edition, NN), (adventur...</td>\n",
       "    </tr>\n",
       "    <tr>\n",
       "      <th>2</th>\n",
       "      <td>Abigail Brand</td>\n",
       "      <td>special agent special agent abigail brand is a...</td>\n",
       "      <td>abigail_brand special agent special agent abig...</td>\n",
       "      <td>special agent special agent abigail brand is a...</td>\n",
       "      <td>[(non, NN), (command, NN), (states, VBZ), (hel...</td>\n",
       "    </tr>\n",
       "    <tr>\n",
       "      <th>3</th>\n",
       "      <td>Abin Sur</td>\n",
       "      <td>abin sur is a fictional character and a superh...</td>\n",
       "      <td>abin_sur abin sur fictional_character superher...</td>\n",
       "      <td>abin sur is a fictional character and a superh...</td>\n",
       "      <td>[(area, NN), (kyle, NN), (noted, VBN), (begins...</td>\n",
       "    </tr>\n",
       "    <tr>\n",
       "      <th>4</th>\n",
       "      <td>Abner Jenkins</td>\n",
       "      <td>abner ronald jenkins formerly known as the bee...</td>\n",
       "      <td>abner_jenkins abner ronald jenkins formerly_kn...</td>\n",
       "      <td>abner ronald jenkins formerly known as the bee...</td>\n",
       "      <td>[(carl, NN), (sea, NN), (powered, VBD), (non, ...</td>\n",
       "    </tr>\n",
       "  </tbody>\n",
       "</table>\n",
       "</div>"
      ],
      "text/plain": [
       "                  title                                        description  \\\n",
       "0           'Mazing Man  mazing man is the title character of a comic b...   \n",
       "1  711 (Quality Comics)  is a fictional superhero from the golden age o...   \n",
       "2         Abigail Brand  special agent special agent abigail brand is a...   \n",
       "3              Abin Sur  abin sur is a fictional character and a superh...   \n",
       "4         Abner Jenkins  abner ronald jenkins formerly known as the bee...   \n",
       "\n",
       "                                     new_description  \\\n",
       "0  mazing_man man title_character comic_book_seri...   \n",
       "1  711_quality_comics fictional superhero golden_...   \n",
       "2  abigail_brand special agent special agent abig...   \n",
       "3  abin_sur abin sur fictional_character superher...   \n",
       "4  abner_jenkins abner ronald jenkins formerly_kn...   \n",
       "\n",
       "                                    full_description  \\\n",
       "0  mazing man is the title character of a comic b...   \n",
       "1  is a fictional superhero from the golden age o...   \n",
       "2  special agent special agent abigail brand is a...   \n",
       "3  abin sur is a fictional character and a superh...   \n",
       "4  abner ronald jenkins formerly known as the bee...   \n",
       "\n",
       "                                        tagged_words  \n",
       "0  [(watching, VBG), (remember, VB), (kenny, NN),...  \n",
       "1  [(publications, NNS), (edition, NN), (adventur...  \n",
       "2  [(non, NN), (command, NN), (states, VBZ), (hel...  \n",
       "3  [(area, NN), (kyle, NN), (noted, VBN), (begins...  \n",
       "4  [(carl, NN), (sea, NN), (powered, VBD), (non, ...  "
      ]
     },
     "metadata": {},
     "output_type": "display_data"
    }
   ],
   "source": [
    "train_comicsDf = comicsDf[:50].copy()\n",
    "train_comicsDf[\"tagged_words\"] = list(map(lambda row, words: list(set(\n",
    "    [w for w in nltk.pos_tag(nltk.word_tokenize(row)) if w[0] in words.split()])),\n",
    "                        train_comicsDf.full_description, train_comicsDf.new_description))\n",
    "\n",
    "display(train_comicsDf.head())"
   ]
  },
  {
   "cell_type": "markdown",
   "metadata": {},
   "source": [
    "Nuevamente, hemos hecho el etiquetado a partir del texto completo y lo restringimos a las palabras del lexicón. Los tokens compuestos requieren un tratamiento adicional. El etiquetado de un documento ejemplo es:"
   ]
  },
  {
   "cell_type": "code",
   "execution_count": 19,
   "metadata": {
    "collapsed": false
   },
   "outputs": [
    {
     "name": "stdout",
     "output_type": "stream",
     "text": [
      "[('watching', 'VBG'), ('remember', 'VB'), ('kenny', 'NN'), ('owen', 'NN'), ('saves', 'VBZ'), ('inspiration', 'NN'), ('valentine', 'NN'), ('comics', 'NNS'), ('truck', 'NN'), ('created', 'VBN'), ('publications', 'NNS'), ('articles', 'NNS'), ('characters', 'NNS'), ('style', 'NN'), ('editor', 'NN'), ('appeared', 'VBD'), ('unaware', 'JJ'), ('eddie', 'VBP'), ('adventures', 'NNS'), ('writer', 'NN'), ('building', 'NN'), ('written', 'VBN'), ('media', 'NNS'), ('hair', 'NN'), ('women', 'NNS'), ('active', 'JJ'), ('deeds', 'NNS'), ('mother', 'NN'), ('space', 'NN'), ('like', 'IN'), ('category', 'JJ'), ('batman', 'IN'), ('fixx', 'JJ'), ('shirt', 'NN'), ('fixx', 'NN'), ('external', 'JJ'), ('star', 'NN'), ('quincy', 'NN'), ('stores', 'NNS'), ('grunts', 'NNS'), ('interest', 'NN'), ('way', 'NN'), ('heroics', 'NNS'), ('performs', 'NNS'), ('links', 'NNS'), ('simon', 'NN'), ('south', 'JJ'), ('genuinely', 'RB'), ('zombie', 'NNP'), ('miniseries', 'NNS'), ('batman', 'VBD'), ('three', 'CD'), ('four', 'CD'), ('positive', 'JJ'), ('parody', 'NN'), ('stephen', 'JJ'), ('special', 'JJ'), ('eddie', 'NN'), ('forbidden', 'VBN'), ('whose', 'WP$'), ('category', 'VBP'), ('magazines', 'NNS'), ('kitty', 'JJ'), ('year', 'NN'), ('sgt', 'NN'), ('subsequent', 'JJ'), ('head', 'NN'), ('back', 'RB'), ('denton', 'VBP'), ('addition', 'NN'), ('appearances', 'NNS'), ('stuffed', 'JJ'), ('depicts', 'VBZ'), ('never', 'RB'), ('plagued', 'VBN'), ('cover', 'NN'), ('glove', 'NN'), ('bit', 'NN'), ('mention', 'NN'), ('watson', 'JJ'), ('bank', 'NN'), ('front', 'JJ'), ('around', 'IN'), ('iii', 'VBP'), ('catastrophe', 'NN'), ('walter', 'NN'), ('manager', 'NN'), ('baby', 'NN'), ('daily', 'JJ'), ('dresses', 'VBZ'), ('publicity', 'NN'), ('rising', 'VBG'), ('extremely', 'RB'), ('block', 'NN'), ('ideas', 'NNS'), ('assistant', 'NN'), ('tom', 'JJ'), ('received', 'VBD'), ('steps', 'NNS'), ('company', 'NN'), ('works', 'VBZ'), ('felt', 'VBD'), ('gained', 'VBD'), ('living', 'NN'), ('guide', 'NN'), ('spends', 'VBZ'), ('drawn', 'VBN'), ('costume', 'NN'), ('handful', 'NN'), ('story', 'NN'), ('city', 'NN'), ('baseball', 'NN'), ('army', 'NN'), ('usually', 'RB'), ('prize', 'NN'), ('viewed', 'VBN'), ('lives', 'VBZ'), ('drains', 'NNS'), ('hook', 'NN'), ('married', 'JJ'), ('married', 'VBN'), ('zombie', 'NN'), ('songs', 'NNS'), ('admired', 'VBD'), ('series', 'NN'), ('financial', 'JJ'), ('hit', 'VBN'), ('secret', 'JJ'), ('job', 'NN'), ('use', 'NN'), ('published', 'VBN'), ('stream', 'NN'), ('apparent', 'JJ'), ('batman', 'NN'), ('deranged', 'JJ'), ('survive', 'JJ'), ('violence', 'NN'), ('one', 'CD'), ('contributed', 'VBD'), ('released', 'VBN'), ('row', 'NN'), ('superhero', 'NN'), ('accident', 'NN'), ('receives', 'VBZ'), ('enough', 'JJ'), ('eddie', 'VB'), ('denton', 'NN'), ('children', 'NNS'), ('live', 'VB'), ('drinking', 'VBG'), ('eager', 'JJ'), ('pursuing', 'VBG'), ('denton', 'JJ'), ('humor', 'NN'), ('named', 'VBN'), ('wondering', 'VBG'), ('issue', 'NN'), ('simply', 'RB'), ('next', 'JJ'), ('approval', 'NN'), ('supposed', 'VBN'), ('time', 'NN'), ('exposure', 'NN'), ('queens', 'JJ'), ('stuck', 'VBN'), ('ran', 'VBD'), ('first', 'JJ'), ('tends', 'VBZ'), ('place', 'NN'), ('voiced', 'VBN'), ('food', 'NN'), ('ostensibly', 'RB'), ('promoted', 'VBN'), ('word', 'NN'), ('give', 'VBP'), ('brenda', 'NN'), ('wealth', 'NN'), ('lifestyle', 'NN'), ('stories', 'NNS'), ('brave', 'NN'), ('richmond', 'NN'), ('featuring', 'VBG'), ('assistant', 'VB'), ('however', 'RB'), ('spectacular', 'NN'), ('attempt', 'NN'), ('property', 'NN'), ('gold', 'NN'), ('created', 'VBD'), ('met', 'VBN'), ('lack', 'NN'), ('looking', 'VBG'), ('guido', 'NN'), ('category', 'NN'), ('narrative', 'JJ'), ('issues', 'NNS'), ('authority', 'NN'), ('keep', 'VB'), ('human', 'JJ'), ('segment', 'NN'), ('dog', 'NN'), ('team', 'NN'), ('dead', 'JJ'), ('struck', 'NN'), ('child', 'NN'), ('winning', 'VBG'), ('per', 'NN'), ('success', 'NN'), ('prone', 'NN'), ('player', 'NN'), ('feature', 'NN'), ('negative', 'JJ'), ('continuity', 'NN'), ('resulting', 'JJ'), ('none', 'NN'), ('crook', 'NN'), ('adventurers', 'NNS'), ('friends', 'NNS'), ('fred', 'JJ'), ('winner', 'NN'), ('additional', 'JJ'), ('book', 'NN'), ('help', 'VB'), ('specifically', 'RB'), ('earning', 'VBG'), ('without', 'IN'), ('man', 'NN'), ('couple', 'NN'), ('publish', 'VB'), ('reads', 'VBZ'), ('acclaimed', 'VBN'), ('little', 'JJ'), ('respect', 'NN'), ('introduce', 'VB'), ('sick', 'NN'), ('miller', 'NN'), ('dealt', 'FW'), ('beer', 'NN'), ('although', 'IN'), ('ability', 'NN'), ('agency', 'NN'), ('jock', 'NN'), ('magazine', 'NN'), ('highly', 'RB'), ('buyer', 'NN'), ('popular', 'JJ'), ('death', 'NN'), ('brenda', 'VB'), ('including', 'VBG'), ('disapproval', 'NN'), ('john', 'NN'), ('local', 'JJ'), ('original', 'JJ'), ('result', 'NN'), ('energy', 'NN'), ('millionaire', 'NN'), ('mention', 'VB'), ('shock', 'NN'), ('harmless', 'NN'), ('eddie', 'JJ'), ('one', 'NN'), ('called', 'VBN'), ('favorite', 'JJ'), ('wrote', 'VBD'), ('list', 'NN')]\n"
     ]
    }
   ],
   "source": [
    "print(train_comicsDf[\"tagged_words\"][0])"
   ]
  },
  {
   "cell_type": "markdown",
   "metadata": {},
   "source": [
    "Como puede observarse, aparecen también palabras mal clasificadas. Por ejemplo, para el caso de los adjetivos (el principal tipo de palabra para evaluar polaridad), obtenemos lo siguiente, para el conjunto completo de 50 registros:"
   ]
  },
  {
   "cell_type": "code",
   "execution_count": 20,
   "metadata": {
    "collapsed": false
   },
   "outputs": [
    {
     "name": "stdout",
     "output_type": "stream",
     "text": [
      "1476 \n",
      "\n",
      "['corporeal', 'quick', 'countless', 'ultron', 'vulnerable', 'respective', 'tall', 'jsa', 'enough', 'certain', 'lan', 'traditional', 'classical', 'osborn', 'pistols', 'hot', 'pavitr', 'rid', 'mangaverse', 'deviant', 'superhuman', 'synthetic', 'alex', 'alias', 'universal', 'immune', 'heaven', 'hulk', 'american', 'sefton', 'horrible', 'secret', 'formal', 'nevertheless', 'superhero', 'bodily', 'april', 'great', 'titus', 'tempest', 'flesh', 'scott', 'key', 'disappear', 'disembodied', 'neil', 'manhattan', 'nighthawk', 'militant', 'object', 'enraged', 'final', 'small', 'rapid', 'ambush', 'texas', 'alfred', 'understanding', 'prey', 'paranormal', 'sid', 'smartest', 'indigo', 'aka', 'older', 'recent', 'atom', 'emerald', 'inspired', 'rann', 'come', 'specific', 'brief', 'spaceship', 'kyle', 'installed', 'concerned', 'birthday', 'brown', 'ben', 'mordru', 'library', 'sovereign', 'eventual', 'gary', 'daniel', 'common', 'anderson', 'inevitable', 'dramatic', 'steven', 'amy', 'anarchist', 'amethyst', 'notable', 'old', 'blind', 'harsh', 'ultimatum', 'villainous', 'reimagined', 'animal', 'altered', 'private', 'egghead', 'moral', 'gwen', 'revival', 'mythological', 'villain', 'live', 'tremendous', 'injustice', 'weaker', 'operative', 'supreme', 'ambiguous', 'nova', 'starheart', 'higher', 'summon', 'ghaur', 'rebellious', 'controversial', 'designated', 'sexual', 'less', 'aleta', 'file', 'schwartz', 'ambient', 'young', 'imminent', 'individual', 'tangent', 'facial', 'limbo', 'worn', 'stark', 'anthropomorphic', 'germany', 'sur', 'dynamic', 'dave', 'national', 'trusted', 'different', 'efficient', 'consciousness', 'francine', 'reluctant', 'impenetrable', 'otherdimensional', 'unclear', 'botched', 'blackthorn', 'possess', 'fill', 'americop', 'ballistic', 'obscure', 'regent', 'corporate', 'swordsman', 'additional', 'february', 'upset', 'gamma', 'cybernetic', 'abe', 'deceased', 'liaison', 'greg', 'restored', 'hall', 'endless', 'january', 'constant', 'teen', 'medical', 'smart', 'giant', 'radical', 'seek', 'florida', 'anti', 'dale', 'intense', 'sleep', 'ezekiel', 'susan', 'infinity', 'financial', 'mechanical', 'battled', 'sandman', 'fast', 'deadpool', 'demon', 'paralyzed', 'scarred', 'planet', 'initial', 'lantern', 'wonder', 'zar', 'visual', 'quantum', 'larger', 'newborn', 'unfamiliar', 'superior', 'wealthy', 'epic', 'lee', 'june', 'intelligent', 'impossible', 'avenger', 'gil', 'unwilling', 'necessary', 'robot', 'primary', 'second', 'insane', 'electronic', 'mysterious', 'limited', 'forever', 'human', 'wilson', 'told', 'intuitive', 'vol', 'antagonistic', 'worthy', 'albert', 'sorry', 'youthful', 'minimal', 'norman', 'dc', 'residual', 'yellow', 'unpredictable', 'friedrich', 'hydra', 'carol', 'arrow'] \n",
      "\n"
     ]
    }
   ],
   "source": [
    "jj_comics = []\n",
    "for row in train_comicsDf[\"tagged_words\"]:\n",
    "    for word in row: \n",
    "        if 'JJ' in word[1]: \n",
    "            jj_comics.append(word[0])\n",
    "jj_comics = list(set(jj_comics))\n",
    "\n",
    "print(len(jj_comics), \"\\n\")\n",
    "print(jj_comics[:250], \"\\n\")"
   ]
  },
  {
   "cell_type": "markdown",
   "metadata": {},
   "source": [
    "Realizamos el mismo análisis utilizando `review` y `new_review` como base:"
   ]
  },
  {
   "cell_type": "code",
   "execution_count": 22,
   "metadata": {
    "collapsed": false
   },
   "outputs": [],
   "source": [
    "train_comicsDf[\"tagged_words2\"] = list(map(lambda row, words: list(set(\n",
    "    [w for w in nltk.pos_tag(nltk.word_tokenize(row)) if w[0] in words.split()])),\n",
    "                        train_comicsDf.description, train_comicsDf.new_description))"
   ]
  },
  {
   "cell_type": "code",
   "execution_count": 26,
   "metadata": {
    "collapsed": false
   },
   "outputs": [],
   "source": [
    "train_comicsDf[\"tagged_words3\"] = list(map(lambda row: list(set(\n",
    "    [w for w in nltk.pos_tag(nltk.word_tokenize(row))])),\n",
    "                        train_comicsDf.new_description))"
   ]
  },
  {
   "cell_type": "code",
   "execution_count": 27,
   "metadata": {
    "collapsed": false
   },
   "outputs": [
    {
     "name": "stdout",
     "output_type": "stream",
     "text": [
      "Diferencias con 'description'\n",
      ": {'ups', 'corporeal', 'eager', 'reintroduced', 'margali', 'carol', 'weakened', 'abigail', 'forever', 'police', 'infected', 'heist', 'ann', 'alias', 'stamina', 'pixie', 'devastated', 'beast', 'consciousness', 'lucas', 'chemical', 'regardless', 'magik', 'helen', 'hate', 'mutated', 'kill', 'hair', 'benjamin', 'retrieved', 'eddie', 'spectacular', 'cyborg', 'thorn', 'dan', 'pistol', 'missed', 'thea', 'running', 'spidey', 'weapon', 'rom', 'damon', 'cover', 'june', 'nevertheless', 'birthday', 'born', 'ben', 'meanwhile', 'resulting'}\n",
      "\n",
      "Al revés:\n",
      " {'blob', 'sword', 'included', 'heven', 'slave', 'july', 'trio', 'apollo', 'nov', 'slingshot', 'ritchie', 'sep', 'dec', 'exile', 'newsaramacom', 'survival', 'logic', 'conquest', 'thomas', 'multiverse', 'clash', 'malebolgia', 'oct', 'upon', 'aug', 'darren', 'detailed', 'cassaday', 'publication', 'arrested', 'leslie', 'detroit', 'god', 'mantle', 'jpg', 'mask', 'katie', 'thereafter', 'hunger', 'website', 'rogue', 'octavius', 'starlin', 'bride', 'korvac', 'mayday', 'harris', 'kaine', 'dr', 'atlantis', 'develops', 'fujikawa', 'degree', 'bear', 'sekowsky', 'hive', 'austin', 'bros', 'shanna', 'armageddon', 'atalanta', 'collar', 'guide', 'fortress', 'helmet', 'faithful', 'arctic', 'readership', 'feb', 'lyle', 'hobgoblin', 'appear', 'skin', 'braddock', 'forehead', 'strongbow'}\n",
      "\n",
      "\n",
      "Diferencias con 'description'\n",
      ": {'corporeal', 'renew', 'winged', 'semi', 'lexcorp', 'devastating', 'underwater', 'weakened', 'troubled', 'allan', 'restored', 'police', 'empty', 'visited', 'entropy', 'mere', 'truly', 'masked', 'jake', 'near', 'signature', 'luther', 'amy', 'leather', 'erik', 'loyal', 'talented', 'checkmate', 'prototype', 'blacklight', 'gifted', 'ensuing', 'endless', 'kill', 'called', 'desperate', 'owlman', 'terry', 'cyborg', 'mexico', 'inorganic', 'watson', 'reaper', 'pistol', 'cancelled', 'el', 'distracted', 'weapon', 'explained', 'stepping', 'blind', 'grey', 'mephisto', 'returned', 'multi', 'driving', 'pistols', 'ezekiel', 'sapiens', 'pavitr', 'jade', 'doug', 'krypto', 'lockheed', 'ups', 'reimagined', 'edward', 'christopher', 'imprisonment', 'lake', 'battled', 'lionel', 'desired', 'fast', 'egghead', 'bug', 'abigail', 'modified', 'fixed', 'fred', 'scared', 'wanted', 'pixie', 'relaunched', 'nose', 'lana', 'powerless', 'pretty', 'planned', 'deactivate', 'ivan', 'thunderbolts', 'scarred', 'sting', 'politician', 'nyx', 'matching', 'accomplished', 'faster', 'copyright', 'hate', 'sustained', 'wonder', 'clark', 'colossus', 'shy', 'sean', 'kryptonian', 'winning', 'harder', 'science', 'closer', 'costumed', 'paradise', 'archaeology', 'stewart', 'indicated', 'rom', 'ghaur', 'mikaboshi', 'combined', 'following', 'damon', 'hepzibah', 'werewolf', 'nevertheless', 'oversized', 'starred', 'bodily', 'titled', 'wounded', 'friendly', 'standard', 'monument', 'showcase', 'designated', 'eager', 'spent', 'donna', 'johnny', 'pandora', 'pure', 'romanova', 'forever', 'disembodied', 'heist', 'manhattan', 'kirk', 'nighthawk', 'devastated', 'refined', 'tamaran', 'revamped', 'impressed', 'medieval', 'earthly', 'superheroes', 'distorted', 'toonopedia', 'orb', 'arch', 'male', 'functioning', 'hair', 'cameron', 'benjamin', 'sensory', 'outlaws', 'queens', 'saturday', 'knowhere', 'caped', 'zombified', 'warped', 'hundred', 'referred', 'beak', 'losing', 'gamora', 'comet', 'inexperienced', 'indicia', 'rampaging', 'aged', 'stephen', 'fanzing', 'psionic', 'sid', 'carol', 'deranged', 'firelord', 'reunited', 'siblings', 'ganthet', 'trusted', 'properly', 'ann', 'tim', 'bob', 'brutal', 'twisted', 'expanded', 'atom', 'bold', 'bobbi', 'torn', 'roger', 'stricken', 'shot', 'faust', 'kitty', 'expert', 'amber', 'regardless', 'jeffrey', 'hourman', 'illegitimate', 'pyreus', 'alt', 'pratt', 'describes', 'botched', 'roderick', 'amaya', 'aminedi', 'enhanced', 'failed', 'stored', 'rodriguez', 'luis', 'banshee', 'griffin', 'missed', 'ogord', 'excello', 'running', 'advanced', 'fill', 'americop', 'liz', 'spidey', 'writer', 'omnipotent', 'disturbed', 'virginia', 'complicated', 'birthday', 'reinvented', 'corazon', 'witch', 'enclave', 'sabretooth', 'deadly', 'pro', 'resulting'}\n",
      "\n",
      "Al revés:\n",
      " {'era', 'july', 'separated', 'comics_category', 'realizes', 'henchman', 'hand_combatant', 'volcano', 'xavier_institute', 'conquest', 'pocket', 'prophecy', 'burnt', 'formerly', 'revealed', 'recently_deceased', 'peak', 'sebastian_shaw_comics_sebastian', 'watch', 'artemis', 'art', 'animated_film', 'sasha_bordeaux', 'america_comic', 'avoid', 'every_issue', 'dc_superboy', 'shield_agent', 'velocidad', 'organized_crime', 'even_though', 'barrier', 'serpent', 'fin', 'cured', 'dimensional_portal', 'doctor_octopus', 'understand', 'mutants_category', 'moneyspider', 'short_time', 'louise_simonson_category', 'rob', 'jpg', 'explosion_caused', 'batman_annual', 'gerry', 'unlimited_video_game', 'protest', 'lapsed', 'plot', 'apprentice', 'take_care', 'attacked', 'teleported', 'damage_comics_damage', 'spawn', 'new_frontier', 'slave', 'comparison', 'debuts_category_lgbt_superheroes_category_fictional', 'lost_captain_america', 'page_story', 'neighbor', 'paul_neary', 'air_wave', 'avengers_academy', 'tribute', 'sample', 'dc_comic', 'marvel_editorial', 'wear', 'dna', 'plays', 'produce', 'organizes', 'bat', 'aim', 'horseman', 'agrees', 'earth_superman_vol', 'smith', 'tower', 'comics_queen_bee', 'female_team', 'forest', 'associated', 'lab', 'showcase_comics_showcase', 'disguise', 'vol_green', 'sept', 'pushed', 'video_game', 'midtown_high_school', 'jim_starlin', 'boxer', 'prior', 'opera', 'mutant_x_newspaper', 'half_brother', 'mentor', 'van', 'comic_book', 'gail_simone_category_fictional', 'white_lantern', 'souls', 'feb_may', 'uses', 'lifespan', 'daemos', 'fourth_wall', 'counter_earth', 'recalled', 'cable_vol', 'possesses_super', 'unite', 'dec_jan', 'ant_man', 'angels_category_fictional', 'next_appeared', 'creature', 'super_villainous', 'hela', 'bronze', 'steel_spider', 'avengers_initiative', 'content', 'marvel_future_fight', 'wave', 'afterward', 'pages_isbn', 'feature_film_deadpool', 'visit', 'laura', 'fist', 'fantastic_five', 'new_costume', 'power_pack_vol', 'crime_fighter', 'sidekick', 'series_end', 'years_old', 'home_planet', 'john_broome', 'skin', 'served', 'appreciate', 'populated', 'feature', 'obsidian_comics_obsidian', 'murder', 'event_known', 'girdle', 'composed', 'ship', 'wound', 'warhead', 'soul', 'powered', 'anarky_would', 'scuffle', 'captain_marvel', 'philip', 'invaded', 'countdown', 'europe', 'chameleon_comics_chameleon', 'four_issue', 'new_sidekick', 'penciler', 'superheroes_category_fictional', 'alan_scott', 'mcfarlane', 'plastic_man', 'repair', 'incredible_hulk', 'fighting_style', 'donna_troy', 'naming', 'disgust', 'fight_crime', 'rothstein', 'black_bolt', 'given_new', 'venom_comics_venom', 'give', 'patient', 'result', 'participate', 'well_known', 'prepared', 'die', 'jean_grey', 'reunion', 'spies_category_fictional', 'ultimate_marvel', 'dyna_mite', 'phil_coulson', 'shoot', 'newly_formed', 'sun', 'resentment', 'vril_dox', 'black_swan', 'six_months', 'alternative_versions_of_spider_man', 'origin_story', 'dc_multiverse', 'imprison', 'new_x_men', 'green_arrow', 'acknowledged', 'infinite_crisis', 'broken', 'sky', 'later_took', 'parallel_universe', 'bottom', 'experiment', 'unofficial_guide', 'android_robot_android', 'nemesis_rise', 'deaf', 'lie', 'guardian', 'trained', 'story_line', 'angel_dust', 'absorbing_man', 'champions_contest', 'prospect', 'planet_earth_due', 'hungry', 'new_official_handbook', 'bat_mite', 'comics_week', 'category_golden_age', 'gillis', 'make', 'wagner', 'hero', 'years_later', 'silk', 'taskmaster', 'kal', 'stuff', 'jerry_ordway', 'dale_eaglesham', 'crash', 'dox', 'morituri_radian', 'see', 'pulse', 'baron', 'film_x_men', 'galaxy_vol', 'car_crash', 'lyle', 'initiative', 'overcome', 'rogers', 'messiah', 'writer_john_broome', 'earth_two', 'pleasant_hill', 'last_ditch_effort', 'protect', 'route', 'continuum', 'villain_known', 'namora', 'nuklon', 'bruce_banner', 'katie', 'comic_book_urban_legends_revealed_comic', 'mask', 'league', 'ronin', 'apologized', 'hive', 'conceal', 'gorilla_grodd', 'fictional_world', 'powers_came', 'mimic', 'dragon_man', 'appear', 'toy_company', 'walter', 'exiles_vol', 'technologically_advanced', 'hospital', 'aftermath', 'absorb', 'enjoyed', 'grow', 'howard_chaykin', 'rest', 'launch', 'hide', 'spider_girl', 'teenager', 'supporting_character', 'powers_similar', 'anti_registration', 'forged', 'wonder_dog', 'david_peter', 'extraterrestrial_life', 'advantage', 'induced', 'comics_solomon_grundy', 'canine', 'trademark', 'amazing_fantasy_volume', 'ann_nocenti', 'cameos', 'ruined', 'american_ace', 'first_appearance', 'doppelgänger', 'roots', 'new_super', 'united_nations', 'guest_star', 'marvel_graphic', 'tension', 'thor_annual', 'deep_six', 'vol_august', 'catman', 'commentary', 'smallville_tv', 'middle_eastern', 'snowbird', 'way_back', 'parasite_comics_parasite', 'madam', 'approached', 'tom_defalco', 'crimson_fox', 'laura_bailey', 'insignia', 'cadmus', 'seal', 'braddock', 'castle', 'bomb', 'combine', 'included', 'second_story', 'vol_february', 'dark_heart', 'fear', 'northwind', 'physical_form', 'steve_gerber', 'batman_vol', 'sacrificed', 'void', 'personal_life', 'watchtower', 'storage', 'otherplace_limbo', 'codename', 'disgusted', 'jacob', 'entered', 'pep', 'sekowsky', 'beat', 'type', 'aspect', 'first_appeared', 'defeat', 'owen', 'bite', 'chaos', 'deaths', 'later_sent', 'comics_along', 'first_seen', 'blackest_night', 'new_member', 'tribunal', 'genocide', 'driven', 'russia', 'ultimate_spider_man', 'pit', 'blue_eagle', 'soulless', 'attract', 'obscurity', 'pretty_much', 'washington_dc', 'homeless_man', 'win', 'left_eye', 'release', 'television_series_flash', 'trickster', 'eaten', 'comics_artist_frank_miller', 'left_thumb', 'reality_shown', 'appears_alongside', 'fought', 'rann_thanagar_holy_war', 'chaos_war', 'hel', 'white_queen', 'blame', 'alongside_captain_america', 'super_hero', 'search', 'center', 'conflict', 'jonah_jameson', 'arrested', 'rogue', 'microscopic_size', 'enable', 'every_time', 'bitten', 'consume', 'better_known', 'cable_deadpool', 'cogliostro', 'sight', 'assumed', 'currently_unknown', 'also_revealed', 'synnar', 'transmute', 'dark_knight', 'alternate_universe', 'spin', 'profile', 'civil_war_comic', 'upgraded', 'recent_issues', 'alley_award_best', 'agent_venom', 'unleashing', 'extent', 'clash', 'officers_category_fictional', 'pyro_comics_pyro', 'lonnie_machin', 'avengers_vol', 'amazing_fantasy_vol', 'contributed', 'temple', 'meteor', 'defenders_comic', 'marvel_universe_earth', 'justice_league_dark', 'intercompany', 'scarlet_spider', 'accompany', 'unrequited_crush', 'crisis_infinite_earths', 'faithful', 'legion', 'listen', 'corpse', 'internet', 'one_nightcrawler', 'genetically_engineered', 'vessel', 'character', 'army', 'height', 'one_night', 'category_spider_man', 'one_shot', 'threatened', 'flashback', 'avengers_annual', 'graviton', 'accident', 'tone', 'later_appears', 'barbara_gordon', 'heroic_age_heroes', 'unknown_whether', 'negate', 'mrs', 'silver_age_comic', 'spacecraft', 'use_magic_category_fictional', 'girlfriend', 'corps_green_lantern', 'transported', 'also_one_shot', 'compensate', 'emotional_spectrum', 'fix', 'hawaii', 'superhuman_strength_category', 'aided', 'enlist', 'perform', 'intercept', 'merlyn', 'arkham', 'assistant', 'earth_x', 'cloned', 'lois_lane', 'effectiveness', 'darren', 'lose', 'demiurge', 'anti_monitor', 'instructed', 'back_home', 'states_themed', 'retold', 'surrender', 'seemingly_killed', 'bros', 'undo', 'small_group', 'tear', 'mister_fantastic', 'galaxy_annual', 'propel', 'remainder', 'radioactive_man', 'science_fiction', 'locate', 'fourth_world', 'fails', 'first_public', 'amazing_spider_man', 'mechanic', 'guided', 'x_force_annual', 'category_extraterrestrial', 'resident', 'darkdevil', 'form', 'fabian_nicieza', 'institute', 'betrayed', 'serum', 'take_part', 'pak', 'last_seen', 'lamp', 'miniature', 'playable_character', 'links_category_characters_created', 'thwart', 'tunic', 'overpowered', 'links_category_fictional', 'youths', 'two_one_annual', 'richard_rider_nova', 'accessed', 'historians_call', 'little_cheese', 'ghost_box', 'major_role', 'characters_category_fictional', 'series_comics_comic', 'spider_man', 'dates', 'forbidden', 'scene', 'hawkeye_comics_hawkeye', 'eating', 'nova_vol', 'douglas', 'general_public', 'depths', 'confront', 'antimatter', 'hears', 'lego_batman_beyond_gotham', 'maintain', 'consumed', 'bear', 'sanctuary', 'trapped', 'terrified', 'villain_called', 'expelled', 'spider_gwen', 'much_later', 'begin', 'surprise', 'fictional_people_category_fictional', 'one_issue', 'sought', 'dennis', 'forth', 'korvac', 'trick', 'american_people', 'crush', 'norman_osborn', 'crusader', 'streak', 'winter_soldier', 'sent', 'fate', 'finish', 'grown', 'gratitude', 'post', 'engagement', 'united_states', 'andrew', 'mogo', 'employed', 'nov', 'vibranium', 'exist', 'awareness', 'mini_series_spider_man', 'veteran', 'giovanni', 'writer_alan_grant', 'attempted', 'man_earth', 'need', 'murderer', 'fly', 'freedom', 'atrocitus', 'peak_physical', 'child_superheroes_category_fictional', 'summoned', 'end', 'foes', 'love_interest', 'gay', 'martial_artist', 'doctor_strange_vol', 'non_lethal', 'approach', 'miss_martian', 'paedia', 'nick_lowe', 'gill', 'acting', 'belasco', 'tim_drake', 'cia', 'kid', 'hank_pym', 'earth_prime', 'bullet', 'base', 'bill_finger', 'warriors_category', 'dr_strange_vol', 'puck_comics_puck', 'inherited', 'erik_josten', 'negative_zone', 'arrived', 'character_arts_fictional', 'superman_red_son_superman', 'drawn', 'joe_quesada', 'overthrow', 'hank_hall', 'coast', 'wade_wilson', 'chunk', 'track', 'power_girl', 'illyana_rasputin', 'madame_masque', 'solution', 'present_day', 'would_give', 'duel', 'forum', 'toonopedia_archived', 'writer_warren_ellis', 'esme', 'accept', 'laboratory', 'replaced', 'infiltrate', 'spite', 'purpose', 'resemble', 'later_became', 'first_encounter', 'flash_barry_allen_flash', 'redesign', 'embodiment', 'bobbi_morse', 'unlimited_episode', 'spirit', 'iron_man_annual', 'ease', 'len_wein', 'underwent', 'marvel_contest', 'human_torch', 'nova_corps', 'tell', 'pair', 'regard', 'reveal', 'robin_comic', 'take_place', 'write', 'soldier_x', 'civil_war', 'tree', 'originally_published', 'normie_osborn', 'resistance', 'black_canary', 'took_particular', 'idol', 'spree', 'happened', 'midtown_high', 'became_popular', 'blade', 'happen', 'sell', 'fights_crime', 'strip', 'even_able', 'determined', 'antagonist', 'atalanta', 'slow', 'doctor_impossible', 'nick_fury', 'white_tiger', 'jack_flag', 'engineers_category_fictional', 'fabian_nicieza_category', 'morrison', 'omacs', 'invade', 'wonder_woman', 'black_lantern', 'meet', 'man_beast', 'often_seen', 'detroit', 'dispute', 'alpha_the_ultimate_mutant', 'portrayed', 'gabriel', 'original_spider_woman', 'sheldon_moldoff', 'leaving', 'earth_universe', 'jade_comics_jade', 'place', 'beetle_comics_beetle', 'know', 'original_human', 'lucy_lane_superwoman', 'siege', 'adam_strange', 'request', 'corps_black_lantern', 'soulsword', 'grandfather', 'exile', 'disapproval', 'publish', 'tale', 'aging_process', 'pavitr_prabhakar', 'category_inhumans_category_fictional', 'threaten', 'strikeforce_morituri', 'prevent', 'links_cosmic', 'harvest', 'jameson', 'secret_service', 'manipulate', 'weather', 'jessica_drew', 'alter_ego', 'assimilate', 'voiced', 'amatsu_mikaboshi', 'novel', 'childhood', 'possession', 'marc', 'reappear', 'depowered', 'ronald', 'nomad', 'mike_sekowsky', 'mean', 'newsaramacom', 'battle_spider_man', 'wizard_shazam', 'alternate_timeline', 'living_tribunal', 'brother', 'african_american', 'doctor_mid_nite', 'human_form', 'issue', 'television_series_video_game', 'starship', 'frustrated', 'nail', 'marvel_adventures_spider_man', 'allen', 'flash_thompson', 'star_labs', 'intellect', 'agent_x', 'final_act', 'oracle', 'episodes', 'adventure', 'goes_back', 'fictional_character_biography', 'pantheon', 'mystical_power', 'bat_hound', 'sustain', 'mystique', 'martin', 'legacy', 'fictional_character', 'issue_comic', 'young_child', 'vol_dc', 'cartoon', 'publication', 'harmless', 'former_girlfriend', 'venom_symbiote', 'vendetta', 'shock', 'enjoy', 'teleport_category_fictional', 'dan_abnett', 'back', 'alpha_flight', 'surge', 'sacrifice', 'subject', 'hawkwoman', 'alongside_fellow', 'outfit', 'scan', 'agent_liberty', 'new_krypton', 'save', 'magician_fantasy', 'roy_thomas', 'confrontation', 'cable_comics_cable', 'invisible_woman', 'moon', 'ongoing_war', 'look_like', 'batman_comic', 'new_hero', 'corps_blue_beetle', 'silver_surfer', 'shapeshifters_category_fictional', 'earn', 'new_costumed', 'collect', 'superior_spider_man', 'arose', 'sinestro_corps', 'mort_weisinger', 'leave_earth', 'shanna', 'ambush_bug', 'premiere', 'green_lantern_vol', 'arctic', 'tried', 'ultra_humanite', 'high_evolutionary', 'black_widow', 'london', 'learning', 'tour', 'normal_human', 'suggest', 'speed_demon', 'lifestyle', 'expel', 'young_mutant', 'threatens', 'fellow_green_lantern', 'iron_man', 'superman_annual', 'dr', 'pay', 'revive', 'birth', 'long_hair', 'julius_schwartz', 'hal_jordan', 'greg_pak', 'spider_woman', 'extra_dimensional', 'care', 'mobile_game', 'strongbow', 'warriors_three', 'year_old', 'history_file', 'katie_power', 'much_like', 'reversed', 'amazing_fantasy', 'finally_able', 'learn', 'nature', 'hulk_former', 'resigned', 'crime_syndicate', 'insert_previews_special_insert', 'bibliography', 'modern_day', 'ghost_boxes', 'comics_zero_hour', 'nearly_destroyed', 'forced', 'banshee_comics_banshee', 'category_extraterrestrial_superheroes_category', 'artwork', 'mary_jane', 'answered', 'inertia', 'slingshot', 'trident', 'azrael_comics_batman', 'desert', 'series_finale', 'enemy', 'handled', 'colossus_comics_colossus', 'killed', 'would_later', 'series_smallville', 'first_three', 'marshall', 'counterpart', 'entry', 'amadeus_cho', 'riptide', 'chicken', 'early_years', 'fifty_state_initiative', 'recruited', 'blue_beetle', 'punch', 'also_created', 'expert_marksman', 'survival', 'one_day', 'supporting_cast', 'vol_oct', 'antennae', 'captain_america', 'next_day', 'artie', 'elder', 'uprising', 'vixen', 'incorporated', 'point', 'divide', 'space_ship', 'proud', 'gallery', 'official_handbook', 'harvey', 'kiss', 'checkmate_comics_checkmate', 'alley', 'connor', 'sean_mckeever', 'mystery', 'versions_ultimate_marvel', 'insisted', 'minute', 'one_annual', 'ocean', 'duplicate', 'custody', 'several_fictional_crossover', 'super_human', 'heroes_gathered', 'introduced', 'starlin', 'formerly_known', 'dc_animated_universe', 'kingdom_come_comic', 'abin_sur', 'stephanie', 'siren', 'join', 'imprisoned', 'spider_verse_spider', 'storm', 'heven', 'downfall', 'defend', 'died', 'ava_ayala', 'america_marvel', 'yellow_lantern', 'sneak', 'shadowcat', 'superdog', 'opponent', 'power_cosmic', 'america_jsa', 'roster', 'recurring_character', 'annihilation_conquest', 'action_figure', 'turn', 'never_made', 'yondu', 'use_magic_category', 'returning_home', 'propose', 'young_justice', 'rune', 'mini', 'superman_batman', 'television_characters_category', 'uncle_sam', 'comic_book_captain_america', 'simone', 'prison', 'persona', 'respect', 'first_official', 'registration_act', 'decide', 'bordeaux', 'use_magic', 'samurai', 'morituri_effect', 'pick', 'speaking_role', 'renegade', 'book_published', 'son', 'name', 'else', 'truth', 'machine_man', 'carter', 'two_different', 'young_woman', 'dose', 'atom_comics_atom', 'made_contact', 'bruce_wayne', 'gunned', 'path', 'represent', 'physical_contact', 'claim', 'wolverine_character_wolverine', 'vega_system', 'stan_lee', 'brian_michael_bendis', 'alan_grant', 'new_earth', 'kaine_parker_kaine', 'mode', 'infect', 'dark_reign', 'spaceknight', 'orchestrated', 'prodigy', 'cyborg_comics_cyborg', 'academy', 'flame', 'transform_back', 'iron_spider_armor', 'bullseye_comics_bullseye', 'follow', 'new_world', 'rann_thanagar_war', 'liefeld', 'plots', 'alien_race', 'victory', 'weapon_x', 'heal', 'mayday', 'native_american', 'comics_fear', 'grant_morrison', 'green_lantern', 'stark_international', 'stay', 'black_adam', 'resurrection', 'power_ring_chose', 'vigilante', 'lazarus', 'facebook', 'planet_rann', 'jay_garrick', 'protector', 'pulled', 'offshoot', 'haunted_tank', 'unhinged', 'would_become', 'average_human', 'elektra_comics_elektra', 'harris', 'holiday_special', 'aunt_maya', 'retired', 'acrobat', 'knocked_unconscious', 'long_term', 'sub_mariner', 'international_hero', 'figurine', 'savage_wolverine', 'participant', 'work_together', 'timeline', 'jonathan_hickman', 'origin', 'life_energy', 'villain_named', 'noir_spider_man', 'kingdom_come', 'demon_named', 'earth_three', 'still_active', 'cape', 'corner', 'central_intelligence_agency_cia', 'category_animal_superheroes_category', 'henry_peter_gyrich', 'alien_technology', 'geoff_johns', 'recruit', 'parallax_comics_parallax', 'comics_trade_paperback', 'film_green_lantern', 'large_scale', 'tribe', 'variant', 'replacing', 'keep', 'mccoy', 'warn', 'panic', 'suicide_squad', 'may_june', 'realm', 'comics_counter_earth', 'heat_abilities_category_fictional', 'destroy', 'tricked', 'boring', 'episode_avengers_assemble', 'become', 'marv_wolfman', 'interact', 'imprint_trade_name_imprint', 'uncanny_x_men', 'new_york', 'acrata', 'september_october', 'mite', 'continue', 'aunt_may', 'comic_books', 'feb', 'vol_january', 'film_deadpool', 'jsa_classified', 'universe_version', 'thunderstrike', 'unmasked', 'batman_shadow', 'rebel', 'april_may', 'karn', 'fin_fang_foom', 'also_part', 'x_men', 'uncannyxmennet_character_profile', 'avert', 'kobra', 'alter', 'unlock', 'like_spider', 'distress_signal', 'kyle_rayner', 'extract', 'inflicted', 'batman_arkham', 'amazon', 'kevin', 'garfield', 'logan', 'precognition_category_fictional', 'intended', 'john_stewart', 'quite', 'get_rid', 'engage', 'april_dcu_guide', 'classmate', 'first_time', 'attempt', 'spectacular_spider_man', 'dismissed', 'breaks_free', 'solomon_grundy', 'made_sure', 'luke', 'push', 'aliens_category', 'manor', 'collar', 'prove', 'think', 'steal', 'secret_wars', 'increase', 'media_video', 'first_battle', 'burglar', 'aid', 'wakanda', 'founding_member', 'chris_claremont', 'second_spider_man', 'power_pack', 'first_two', 'maiden', 'attack', 'supervillains_category_fictional', 'projectile', 'amadeus_chosen', 'experienced', 'nergal', 'marvel_mangaverse', 'infinity_war', 'norm_breyfogle', 'brought', 'category_fictional', 'category_characters_created', 'super_powered', 'kismet', 'old_man', 'clark_kent', 'sal_buscema', 'incarnation', 'draw', 'new_doom_patrol', 'planet_earth', 'plague', 'superman_batman_annual', 'expose', 'mantle', 'whilst', 'use', 'hear', 'journeys', 'sorcerer', 'lizard', 'jan', 'dum_dugan', 'guide', 'battle_however', 'tiger', 'television_series_category', 'thrown', 'category_jewish_superheroes_category', 'winners_squad', 'blazing_skull', 'begs', 'second_volume', 'dealt', 'february_fictional', 'also_written', 'drew', 'foot', 'also_appear', 'upon', 'comics_category_fictional', 'fifteen', 'solid_light', 'unrevealed', 'print', 'new_look', 'superboy_prime', 'hired', 'time_space', 'chess', 'ring_chose', 'bone', 'brimstone', 'upon_learning', 'doctor', 'jim', 'two_separate', 'green_goblin', 'shared_universe', 'noh_varr', 'freed', 'superhero_known', 'howling_commandos', 'american_eagle', 'superboy_kon_el', 'feels', 'superman_vol', 'centered', 'arrival', 'new_starlin', 'soul_gem', 'non_speaking', 'jenny', 'god', 'hellfire_club', 'armed', 'also_shown', 'shadow', 'tracked', 'professor_x', 'horde', 'side', 'november_january', 'super_speed', 'vigilante_comics_vigilante', 'captain_atom', 'mutant_marvel', 'teenage', 'ridden', 'stranger_comics_stranger', 'uncovered', 'star', 'hunter', 'chase', 'attached', 'spectre_comics_spectre', 'issue_fictional', 'amulet', 'abra', 'force_vol_october', 'shut', 'richard', 'ultimate_mutant', 'immune_system', 'war_machine', 'fantastic_four', 'pocket_universe', 'normie', 'mainstream_dc', 'series_marvel', 'aug', 'horn', 'debuted', 'apprehended', 'black_costume', 'original_story', 'apprehend', 'wield', 'fabric', 'student_named', 'brightest_day', 'multiverse', 'infinity_gauntlet', 'olympic_level_athlete', 'harry_osborn', 'interfering', 'defenders_vol', 'series_spider_man', 'oliver_queen', 'see_also', 'bring', 'utterly', 'dependent', 'appearance', 'allow', 'dead_wife', 'cross', 'set', 'strong_enough', 'wore', 'relied', 'ceo', 'superhero_costume', 'left_behind', 'whitman', 'love', 'guest', 'operate', 'aquaman', 'gather', 'mark_gruenwald', 'federal_government', 'possessed', 'force_field', 'note', 'ghost_rider', 'declared_war', 'toad', 'monger', 'dent', 'peter_david', 'rip', 'friendship', 'metahumans_category_fictional', 'artist_paul', 'medina', 'couple', 'comics_black_orchid', 'blackmails', 'utilized', 'chose', 'impaled', 'fury', 'skrulls', 'infinity_watch', 'charles_xavier', 'later_shown', 'super_strength', 'create', 'new_incarnation', 'upgrades', 'rebooted', 'animal_man', 'higashi', 'readership', 'ted_grant', 'prophesied', 'world_war', 'stuck', 'inhuman', 'superman_comic', 'inventors_category_fictional', 'august_fictional', 'squadron_supreme', 'atlantis_marvel', 'list', 'final_crisis', 'unleashes', 'accomplish', 'welcome', 'magician', 'comics_published', 'new_justice_league', 'marvel_mystery', 'apart', 'pencilled', 'coal_tiger', 'american_comic', 'arm', 'heroic_age', 'tyranny', 'amplify', 'original_sin', 'later_seen', 'artificially_created', 'michelle', 'red_robin', 'fighting_crime', 'bluestreak', 'logic', 'antidote', 'brother_eye', 'hood', 'green_flame', 'talent', 'new_red', 'x_factor_annual', 'marvel_comics_first_appeared', 'twin', 'erica', 'keith_giffen', 'discovered', 'god_like', 'webb', 'super_heroes', 'perish', 'top_comic', 'eagle', 'disappointment', 'nick_fury_agent', 'night_thrasher', 'physician', 'integrated', 'quality_comics_first_appeared', 'guise', 'centauri', 'mid', 'anthology', 'reside', 'performed', 'wipe', 'inked', 'regular_character', 'betty', 'video', 'disable', 'civil_war_comics_superhuman', 'satellite', 'writer_james_robinson', 'flynn', 'lord', 'various_superhuman', 'magnetic_abilities_category_fictional', 'veil', 'display', 'avengers_vol_february', 'daughter', 'sole_survivor', 'amazing_man', 'rendered', 'leg', 'zeta', 'goddess', 'years_ago', 'elixir', 'crossover_event', 'metropolis_comics_metropolis', 'head', 'energy_blast', 'avengers_vol_january', 'christopher_priest', 'battlefield', 'black_beetle', 'vol_nov', 'marvel_universe_update_fictional', 'green_goblin_norman', 'warner', 'augment', 'train', 'mystery_man', 'wish', 'found', 'slightly_different', 'corey_burton', 'mikhail', 'comic_books_published', 'devour', 'stone', 'jesse_quick', 'alternative_universe', 'contest', 'hayden', 'hollow', 'usually_depicted', 'spider_verse', 'noah', 'ensuing_battle', 'happily_married', 'helmet', 'fisk', 'series_would', 'examine', 'sword', 'adopt', 'involvement', 'atom_smasher', 'accent', 'prime_earth', 'star_lord', 'oct', 'three_times', 'test_subject', 'dc_universe', 'vol_april', 'phoenix', 'photographer', 'comics_code', 'niece', 'destroyer', 'childhood_friend', 'category_comic', 'america_vol', 'flare', 'return', 'project_category_american', 'dc_super', 'detective_comics_aug', 'comics_black_panther', 'arnim_zola', 'fictional_comic', 'piece', 'unarmed_combat', 'india', 'collaborated', 'gcpd', 'update', 'tortured', 'karolina_dean', 'avengers_earth', 'turned', 'enchantress', 'infinity_inc', 'super_strong', 'feature_film', 'contact', 'caused', 'show', 'dispose', 'barbara', 'fat', 'title', 'near_death', 'shortly_afterward', 'new_spider_man', 'superhuman_strength', 'alternate_earth', 'argue', 'hidden', 'high_school', 'non_powered', 'avatars_category_fictional', 'one_many', 'dec', 'leave', 'strong_friendship', 'hobgoblin_comics_hobgoblin', 'digital_comic', 'behest', 'prepare', 'subdue', 'new_female', 'one_shot_comic', 'spider_boy', 'insight', 'scythe', 'arc', 'old_team', 'marvel_universe', 'mac_gargan', 'keeper', 'zeta_beam', 'implied', 'relaunch', 'final_crisis_superman', 'introduce', 'beware', 'december_january', 'melissa', 'carl', 'speedy', 'resulted', 'please', 'whose_power', 'felix_faust', 'ultimate_marvel_universe', 'post_crisis_earth', 'giffen', 'jack_kirby', 'torn_apart', 'occupied', 'arrest', 'two_batman', 'police_officer', 'resurface', 'debuts_category_fictional', 'animated_direct', 'luthor', 'agent_carter', 'harlequin', 'blank', 'japan_ese', 'abducted', 'living', 'breaks', 'golden_age', 'winston', 'morgan', 'stop', 'splinter', 'attracted', 'neil_gaiman', 'uncannyxmennet_category_characters_created', 'intercepted', 'justice_league', 'realize', 'new_suit', 'first_solo', 'portray', 'east', 'obey', 'lady_styx', 'one_time', 'involved', 'descent', 'unfortunately', 'vampire', 'stepford_cuckoos', 'act', 'personnel_category_fictional', 'nightcrawler_comics_nightcrawler', 'parent', 'white_hot', 'last_days_part', 'thanos_imperative', 'graphic_novel', 'avengers_assemble', 'biography', 'sick', 'daisy', 'star_squadron', 'old_west', 'valkyrie', 'superheroes_category', 'commander', 'concept', 'one_point', 'representative', 'cohen', 'cosmic_energy', 'choose', 'story_written', 'ayesha', 'annual_fictional', 'kill_spider_man', 'regular_cast', 'angered', 'lot', 'tara_strong', 'goodbye', 'used', 'strike', 'wrist', 'ace', 'electrical_energy', 'radio', 'baron_zemo', 'wanda', 'costume_similar', 'thought_dead', 'surfer', 'scott_lobdell_category_characters_created', 'starro', 'chris_claremont_category_characters_created', 'overcomes', 'also_known', 'marc_silvestri', 'marvel_wiki', 'distinguish', 'marvel_super_hero_contest'}\n"
     ]
    }
   ],
   "source": [
    "jj_comics2 = []\n",
    "for row in train_comicsDf[\"tagged_words2\"]:\n",
    "    for word in row: \n",
    "        if 'JJ' in word[1]: \n",
    "            jj_comics2.append(word[0])\n",
    "print(\"Diferencias con 'description':\\n\", set(jj_comics)-set(jj_comics2))\n",
    "print(\"\\nAl revés:\\n\", set(jj_comics2)-set(jj_comics))\n",
    "\n",
    "jj_comics3 = []\n",
    "for row in train_comicsDf[\"tagged_words3\"]:\n",
    "    for word in row: \n",
    "        if 'JJ' in word[1]: \n",
    "            jj_comics3.append(word[0])\n",
    "print(\"\\n\\nDiferencias con 'new_description':\\n\", set(jj_comics)-set(jj_comics3))\n",
    "print(\"\\nAl revés:\\n\", set(jj_comics3)-set(jj_comics))"
   ]
  },
  {
   "cell_type": "markdown",
   "metadata": {},
   "source": [
    "Un análisis detallado arroja las siguientes palabras etiquetadas como adjetivos, siendo nombres (y, de paso, algunas palabras inútiles):"
   ]
  },
  {
   "cell_type": "code",
   "execution_count": 27,
   "metadata": {
    "collapsed": false
   },
   "outputs": [
    {
     "name": "stdout",
     "output_type": "stream",
     "text": [
      "Palabras mal etiquetadas como Adjetivo: 878\n",
      "Palabras sin utilidad: 404\n",
      "Tokens adjetivados: 8\n"
     ]
    }
   ],
   "source": [
    "wrong_jjs = ['nose', 'august', 'pistols', 'larry', 'brian', 'episode', 'earth', 'xorn', \n",
    "             'toei', 'gamma', 'ogord', 'underworld', 'thunderbolts', 'wolverine', 'dave',\n",
    "             'morlun', 'text', 'amon', 'sam', 'vol', 'manhattan', 'tom', 'starman', 'cho', \n",
    "             'anderson', 'ray', 'hourman', 'collar', 'amy', 'francine', 'john', 'sid', \n",
    "             'beak', 'stephen', 'armstrong', 'bucky', 'edward', 'obsidian', 'superman',\n",
    "             'thomas', 'mexico', 'deadpool', 'roderick', 'csa', 'newsarama', 'sabretooth', \n",
    "             'terry', 'texas', 'fabian', 'blackthorn', 'chicago', 'thor', 'friday', 'oct', \n",
    "             'mary', 'virginia', 'september', 'november', 'austin', 'pen', 'july', 'liz',  \n",
    "             'andrea', 'david', 'braddock', 'lexcorp', 'magus', 'flatman', 'werewolf', \n",
    "             'lana', 'entropy', 'steve', 'thanagar', 'starheart', 'website', 'sebastian', \n",
    "             'jean', 'fujikawa', 'cameron', 'lobo', 'corps', 'sorceress', 'abe', 'feb', \n",
    "             'spyder', 'leslie', 'romanova', 'bobbi', 'january', 'manga', 'erik', 'equal',\n",
    "             'ollie', 'sep', 'zar', 'surtur', 'hobgoblin', 'marcus', 'comet', 'blacklight', \n",
    "             'nighthawk', 'marvel', 'spaceship', 'chest', 'gaiman', 'west', 'malebolgia', \n",
    "             'breyfogle', 'athena', 'corazon', 'cosmo', 'anya', 'superboy', 'archive',  \n",
    "             'america', 'workshop', 'fox', 'gun', 'nyx', 'object', 'pratt', 'germany', \n",
    "             'parallax', 'arin', 'mephisto', 'millennium', 'agent', 'bug', 'lionel', \n",
    "             'nihilo', 'stargirl', 'onslaught', 'madelyne', 'clark', 'stark', 'venom',\n",
    "             'hercules', 'legs', 'giganta', 'americop', 'heven', 'february', 'mikaboshi', \n",
    "             'batman', 'gary', 'saga', 'trask', 'ajax', 'gog', 'katie', 'sinestro',  \n",
    "             'quasar', 'emma', 'gyrich', 'universe', 'nazi', 'frank', 'ian', 'quicksilver', \n",
    "             'scott', 'alex', 'kaine', 'gamora', 'miss', 'gilbert', 'sword', 'jeffrey',  \n",
    "             'ernie', 'beatty', 'donna', 'girl', 'neil', 'lieutenant', 'assassin', 'dec',\n",
    "             'jake', 'watson', 'simon', 'retcon', 'december', 'azazel', 'lee', 'nicieza', \n",
    "             'jessica', 'atlantis', 'centaur', 'nicholas', 'storyline', 'aug', 'hal',  \n",
    "             'damian', 'dc', 'alchemax', 'demon', 'arizona', 'excalibur', 'rodriguez',  \n",
    "             'dr', 'odin', 'andromeda', 'greg', 'lake', 'toy', 'steven', 'hive', 'thanos', \n",
    "             'gwen', 'helmet', 'xandarian', 'ganthet', 'alanna', 'wooden', 'atalanta',  \n",
    "             'smallville', 'morituri', 'daredevil', 'cat', 'bros', 'queens', 'dragon',  \n",
    "             'usa', 'amanda', 'johnny', 'schwartz', 'galactus', 'bio', 'nintendo', 'sandi',\n",
    "             'tamaran', 'blob', 'duncan', 'roger', 'exile', 'liaison', 'hit', 'dcu',\n",
    "             'arnold', 'god', 'sophie', 'angels', 'norman', 'teammate', 'fred', 'geist', \n",
    "             'nov', 'superwoman', 'magneto', 'lady', 'thanagarian', 'kirk', 'jordan', \n",
    "             'web', 'lonnie', 'gemworld', 'bruce', 'boy', 'ultraverse', 'april', 'angela', \n",
    "             'omac', 'kirby', 'abin', 'file', 'illyana', 'uatu', 'asgard', 'alfred',  \n",
    "             'azrael', 'wade', 'francis', 'urich', 'scorpio', 'octavius', 'ursa', 'wilson', \n",
    "             'loki', 'hawkeye', 'osborn', 'darhk', 'elseworlds', 'verse', 'terrible', \n",
    "             'christopher', 'spider', 'bullseye', 'arrow', 'earths', 'alexander', 'lex', \n",
    "             'sega', 'shaw', 'sunpyre', 'witch', 'imperiex', 'ezekiel', 'titus', 'luther', \n",
    "             'owlman', 'michael', 'banshee', 'aminedi', 'galaxy', 'lantern', 'everett', \n",
    "             'library', 'wyatt', 'tony', 'xavier', 'pyreus', 'darren', 'nightcrawler',  \n",
    "             'apollo', 'clash', 'detroit', 'lyle', 'wizard', 'namor', 'task', 'adam',  \n",
    "             'doug', 'fantasy', 'florida', 'non', 'bubble', 'detective', 'angel',  \n",
    "             'amadeus', 'eclipso', 'bob', 'eric', 'natalia', 'friedrich', 'ous', 'pet',  \n",
    "             'writer', 'cloud', 'outlaws', 'abyss', 'insect', 'krypto', 'ghaur', 'alpha',  \n",
    "             'hawkman', 'grant', 'robin', 'starhawk', 'delphyne', 'archaeology', 'allan', \n",
    "             'armageddon', 'andy', 'doomsday', 'pattern', 'chief', 'maddy', 'pavitr',  \n",
    "             'fixx', 'pandora', 'team', 'robert', 'seth', 'daniel', 'queen', 'actor',  \n",
    "             'metal', 'mahmud', 'wall', 'showcase', 'dick', 'gil', 'luis', 'science', \n",
    "             'costume', 'batwoman', 'reader', 'matthew', 'latter', 'susan', 'fatigue', \n",
    "             'kevlar', 'sean', 'omega', 'metropolis', 'sandman', 'lisa', 'mordru', 'swan',\n",
    "             'gina', 'harold', 'huntress', 'multiverse', 'kyle', 'dale', 'korvac', 'bride', \n",
    "             'alan', 'sister', 'shanna', 'jeremy', 'hydra', 'denton', 'peter', 'telepathy', \n",
    "             'nick', 'rebirth', 'apocalypse', 'sur', 'skaar', 'pretty', 'develops', 'ivan', \n",
    "             'denny', 'mangaverse', 'longtime', 'nanobot', 'october', 'ultron', 'kitty',\n",
    "             'atom', 'terrorist', 'flesh', 'albert', 'sepulchre', 'stewart', 'gotham', \n",
    "             'mother', 'mantle', 'ellen', 'harris', 'ambush', 'citizen', 'hulk', 'ritchie',  \n",
    "             'injustice', 'stakar', 'tim', 'orb', 'category', 'saturday', 'nephew', 'dog',\n",
    "             'mine', 'nextwave', 'planet', 'ann', 'magik', 'margali', 'amaya', 'dan', \n",
    "             'enclave', 'portal', 'warlock', 'keown', 'thea', 'oberoi', 'pistol', 'rom',  \n",
    "             'lucas', 'knight', 'hall', 'hepzibah', 'pip', 'xavier_institute', 'cyborg',\n",
    "             'prophecy', 'watch', 'artemis', 'art', 'animated_film', 'sasha_bordeaux', \n",
    "             'shield_agent', 'organized_crime', 'barrier', 'serpent', 'dimensional_portal', \n",
    "             'doctor_octopus', 'rob', 'gerry', 'plot', 'apprentice', 'spawn', 'new_frontier', \n",
    "             'neighbor', 'paul_neary', 'avengers_academy', 'tribute', 'sample', 'dna', \n",
    "             'bat', 'horseman', 'smith', 'tower', 'female_team', 'forest', 'lab', 'disguise', \n",
    "             'sept', 'video_game', 'boxer', 'opera', 'van', 'comic_book', 'half_brother',   \n",
    "             'mentor', 'white_lantern', 'souls', 'lifespan', 'daemos', 'ant_man', 'creature', \n",
    "             'super_villainous', 'hela', 'avengers_initiative', 'content', 'wave', 'fist', \n",
    "             'fantastic_five', 'crime_fighter', 'sidekick', 'visit', 'feature', 'henchman', \n",
    "             'home_planet', 'john_broome', 'skin', 'obsidian_comics_obsidian', 'murder', \n",
    "             'girdle', 'ship', 'warhead', 'scuffle', 'captain_marvel', 'philip', 'europe', \n",
    "             'countdown', 'penciler', 'alan_scott', 'mcfarlane', 'plastic_man', 'disgust', \n",
    "             'incredible_hulk', 'fighting_style', 'donna_troy', 'fight_crime', 'rothstein', \n",
    "             'black_bolt', 'result', 'jean_grey', 'reunion', 'phil_coulson', 'era', 'sun', \n",
    "             'volcano', 'shoot', 'resentment', 'vril_dox', 'black_swan', 'dc_multiverse', \n",
    "             'green_arrow', 'sky', 'parallel_universe', 'bottom', 'experiment', 'wagner', \n",
    "             'lie', 'angel_dust', 'absorbing_man', 'prospect', 'bat_mite', 'gillis', 'hero', \n",
    "             'taskmaster', 'kal', 'stuff', 'jerry_ordway', 'dale_eaglesham', 'dox', 'pulse', \n",
    "             'baron', 'lyle', 'rogers', 'messiah', 'pleasant_hill', 'route', 'continuum', \n",
    "             'namora', 'nuklon', 'bruce_banner', 'katie', 'mask', 'league', 'ronin', 'hive', \n",
    "             'gorilla_grodd', 'fictional_world', 'dragon_man', 'mimic', 'anti_registration', \n",
    "             'walter', 'hospital', 'aftermath', 'howard_chaykin', 'launch', 'spider_girl', \n",
    "             'supporting_character', 'wonder_dog', 'david_peter', 'extraterrestrial_life', \n",
    "             'advantage', 'ann_nocenti', 'doppelgänger', 'roots', 'united_nations', 'pit', \n",
    "             'catman', 'commentary', 'snowbird', 'madam', 'tom_defalco', 'crimson_fox', \n",
    "             'laura_bailey', 'insignia', 'cadmus', 'seal', 'braddock', 'castle', 'bomb', \n",
    "             'dark_heart', 'fear', 'northwind', 'steve_gerber', 'watchtower', 'storage', \n",
    "             'codename', 'jacob', 'pep', 'sekowsky', 'type', 'aspect', 'owen', 'bite', \n",
    "             'chaos', 'deaths', 'tribunal', 'genocide', 'russia', 'blue_eagle', 'tension', \n",
    "             'obscurity', 'washington_dc', 'release', 'trickster', 'white_queen', 'hel', \n",
    "             'blame', 'super_hero', 'lonnie_machin', 'temple', 'meteor', 'clash', 'extent', \n",
    "             'search', 'conflict', 'jonah_jameson', 'cogliostro', 'sight', 'character', \n",
    "             'dark_knight', 'profile', 'hawaii', 'merlyn', 'arkham', 'assistant', 'earth_x', \n",
    "             'lois_lane', 'darren', 'demiurge', 'also_one_shot', 'girlfriend', 'graviton', \n",
    "             'accident', 'tone', 'barbara_gordon', 'spacecraft', 'flashback', 'synnar', \n",
    "             'scarlet_spider', 'corpse', 'internet', 'vessel', 'army', 'height', 'mrs', \n",
    "             'ghost_box', 'spider_man', 'dates', 'scene', 'douglas', 'depths', 'tunic', \n",
    "             'youths', 'pak', 'lamp', 'bros', 'mister_fantastic', 'radioactive_man', \n",
    "             'science_fiction', 'remainder', 'fails', 'serum', 'fate', 'finish', 'dennis', \n",
    "             'gratitude', 'post', 'korvac', 'crusader', 'winter_soldier', 'norman_osborn', \n",
    "             'surprise', 'lego_batman_beyond_gotham', 'sanctuary', 'antimatter', 'streak',\n",
    "             'spider_gwen', 'adam_strange', 'invisible_woman', 'moon', 'dan_abnett', \n",
    "             'detroit', 'andrew', 'nov', 'vibranium', 'giovanni', 'morrison', 'black_lantern', \n",
    "             'wonder_woman', 'gabriel', 'artie', 'captain_america', 'connor', 'immune_system', \n",
    "             'sean_mckeever', 'bruce_wayne', 'richard', 'ultimate_mutant', 'fantastic_four', \n",
    "             'war_machine', 'carter', 'professor_x', 'marshall', 'sorcerer', 'lizard', 'jan', \n",
    "             'amulet', 'star', 'hunter', 'jenny', 'god', 'hellfire_club', 'son', 'name', \n",
    "             'amadeus_cho', 'chicken', 'projectile', 'yellow_lantern', 'charles_xavier', \n",
    "             'melissa', 'carl', 'x_men', 'luthor', 'agent_carter', 'harlequin', 'solution', \n",
    "             'duel', 'forum', 'esme', 'laboratory', 'spite', 'purpose', 'overthrow', 'hank_hall', \n",
    "             'coast', 'wade_wilson', 'chunk', 'track', 'power_girl', 'illyana_rasputin', \n",
    "             'madame_masque', 'bill_finger', 'erik_josten', 'negative_zone', 'joe_quesada', \n",
    "             'bullet', 'belasco', 'tim_drake', 'cia', 'kid', 'hank_pym', 'nick_lowe', 'gill', \n",
    "             'martial_artist', 'omacs', 'mogo', 'engagement', 'need', 'murderer', 'freedom', \n",
    "             'atrocitus', 'end', 'foes', 'approach', 'miss_martian', 'intellect', 'agent_x', \n",
    "             'oracle', 'episodes', 'adventure', 'pantheon', 'mystical_power', 'bat_hound', \n",
    "             'shadow', 'clark_kent', 'sal_buscema', 'head', 'christopher_priest', 'battlefield', \n",
    "             'black_beetle', 'warner', 'oliver_queen', 'keith_giffen', 'alien_race', 'kyle_rayner', \n",
    "             'weapon_x', 'jonathan_hickman', 'infinity_war', 'norm_breyfogle', 'super_heroes', \n",
    "             'love_interest', 'brother', 'doctor_mid_nite', 'issue', 'starship', 'nail', 'allen', \n",
    "             'flash_thompson', 'star_labs', 'arrival', 'soul_gem', 'horde', 'side', 'captain_atom', \n",
    "             'jack_kirby', 'starlin', 'abin_sur', 'siren', 'stephanie', 'mary_jane', 'human_torch', \n",
    "             'nova_corps', 'centauri', 'stan_lee', 'logan', 'sheldon_moldoff', 'tiger', 'amazon', \n",
    "             'kevin', 'garfield', 'eagle', 'disappointment', 'night_thrasher', 'physician', 'webb', \n",
    "             'mystique', 'martin', 'cartoon', 'publication', 'vendetta', \n",
    "            ]\n",
    "print(\"Palabras mal etiquetadas como Adjetivo:\", len(wrong_jjs))\n",
    "\n",
    "useless_words = ['newsaramacom', 'iii', 'unbeknownst', 'copyright', 'toonopedia', 'jpg',  \n",
    "                 'alt', 'jsa', 'jla', 'isbn', 'comics_category', 'nypd', 'america_comic', \n",
    "                 'sebastian_shaw_comics_sebastian', 'mutants_category', 'batman_annual',\n",
    "                 'louise_simonson_category', 'explosion_caused', 'unlimited_video_game',  \n",
    "                 'damage_comics_damage', 'lost_captain_america', 'marvel_editorial', \n",
    "                 'debuts_category_lgbt_superheroes_category_fictional', 'dc_comic', \n",
    "                 'earth_superman_vol', 'comics_queen_bee', 'showcase_comics_showcase', \n",
    "                 'vol_green', 'midtown_high_school', 'jim_starlin', 'mutant_x_newspaper', \n",
    "                 'gail_simone_category_fictional', 'feb_may', 'fourth_wall', 'laura',  \n",
    "                 'cable_vol', 'possesses_super', 'angels_category_fictional', 'dec_jan', \n",
    "                 'next_appeared', 'marvel_future_fight', 'pages_isbn', 'counter_earth',\n",
    "                 'feature_film_deadpool', 'new_costume', 'power_pack_vol', 'event_known', \n",
    "                 'anarky_would', 'chameleon_comics_chameleon', 'four_issue', 'new_sidekick', \n",
    "                 'superheroes_category_fictional', 'given_new', 'venom_comics_venom', \n",
    "                 'spies_category_fictional', 'ultimate_marvel', 'dyna_mite', 'origin_story',\n",
    "                 'alternative_versions_of_spider_man', 'new_x_men', 'unofficial_guide', \n",
    "                 'android_robot_android', 'story_line', 'planet_earth_due', 'comics_week', \n",
    "                 'new_official_handbook', 'category_golden_age', 'morituri_radian', \n",
    "                 'film_x_men', 'galaxy_vol', 'car_crash', 'writer_john_broome', 'earth_two', \n",
    "                 'last_ditch_effort', 'villain_known', 'powers_came', 'exiles_vol', \n",
    "                 'comic_book_urban_legends_revealed_comic', 'technologically_advanced', \n",
    "                 'powers_similar', 'comics_solomon_grundy', 'trademark', 'new_super', \n",
    "                 'amazing_fantasy_volume', 'american_ace', 'first_appearance', 'guest_star', \n",
    "                 'marvel_graphic', 'thor_annual', 'deep_six', 'vol_august', 'smallville_tv', \n",
    "                 'middle_eastern', 'way_back', 'parasite_comics_parasite', 'second_story', \n",
    "                 'vol_february', 'physical_form', 'batman_vol', 'personal_life', 'later_sent', \n",
    "                 'otherplace_limbo', 'first_appeared', 'comics_along', 'first_seen', \n",
    "                 'blackest_night', 'new_member', 'ultimate_spider_man', 'homeless_man', \n",
    "                 'left_eye', 'television_series_flash', 'comics_artist_frank_miller', \n",
    "                 'left_thumb', 'appears_alongside', 'rann_thanagar_holy_war', 'chaos_war', \n",
    "                 'reality_shown', 'alongside_captain_america', 'microscopic_size', \n",
    "                 'every_time', 'cable_deadpool', 'currently_unknown', 'also_revealed', \n",
    "                 'alternate_universe', 'civil_war_comic', 'recent_issues', 'alley_award_best', \n",
    "                 'agent_venom', 'officers_category_fictional', 'category_extraterrestrial',  \n",
    "                 'avengers_vol', 'amazing_fantasy_vol', 'defenders_comic', 'unrequited_crush', \n",
    "                 'marvel_universe_earth', 'justice_league_dark', 'crisis_infinite_earths', \n",
    "                 'one_nightcrawler', 'genetically_engineered', 'one_shot', 'avengers_annual', \n",
    "                 'later_appears', 'heroic_age_heroes', 'unknown_whether', 'silver_age_comic', \n",
    "                 'emotional_spectrum', 'use_magic_category_fictional', 'corps_green_lantern', \n",
    "                 'superhuman_strength_category', 'category_spider_man', 'amazing_spider_man', \n",
    "                 'anti_monitor', 'back_home', 'states_themed', 'seemingly_killed', 'form', \n",
    "                 'small_group', 'galaxy_annual', 'fourth_world', 'first_public', 'one_night', \n",
    "                 'x_force_annual', 'fabian_nicieza', 'links_category_characters_created',\n",
    "                 'institute', 'take_part', 'last_seen', 'playable_character', 'darkdevil', \n",
    "                 'pyro_comics_pyro', 'links_category_fictional', 'hawkeye_comics_hawkeye', \n",
    "                 'richard_rider_nova', 'historians_call', 'little_cheese', 'major_role', \n",
    "                 'characters_category_fictional', 'series_comics_comic', 'two_one_annual', \n",
    "                 'general_public', 'villain_called', 'fictional_people_category_fictional', \n",
    "                 'nova_vol', 'one_issue', 'american_people','mini_series_spider_man', \n",
    "                 'writer_alan_grant', 'scott_lobdell_category_characters_created',  \n",
    "                 'marvel_super_hero_contest', 'chris_claremont_category_characters_created', \n",
    "                 'also_known', 'marc_silvestri', 'marvel_wiki', 'beetle_comics_beetle', \n",
    "                 'television_characters_category', 'comic_book_captain_america', 'man_earth', \n",
    "                 'child_superheroes_category_fictional', 'several_fictional_crossover', \n",
    "                 'dc_animated_universe', 'kingdom_come_comic', 'alpha_the_ultimate_mutant', \n",
    "                 'use_magic_category',  'returning_home', 'marvel_adventures_spider_man', \n",
    "                 'category_extraterrestrial_superheroes_category', 'flash_barry_allen_flash', \n",
    "                 'category_inhumans_category_fictional', 'fictional_character_biography', \n",
    "                 'vigilante_comics_vigilante', 'category_animal_superheroes_category', \n",
    "                 'superman_batman', 'vol_nov', 'force_vol_october', 'spectre_comics_spectre', \n",
    "                 'marvel_universe_update_fictional', 'inventors_category_fictional', \n",
    "                 'metahumans_category_fictional', 'superman_comic', 'comics_black_orchid', \n",
    "                 'elektra_comics_elektra', 'parallax_comics_parallax', 'cable_comics_cable', \n",
    "                 'shapeshifters_category_fictional', 'comics_trade_paperback', 'dc_super', \n",
    "                 'green_lantern_vol', 'film_green_lantern', 'project_category_american', \n",
    "                 'detective_comics_aug', 'comics_black_panther', 'february_fictional', \n",
    "                 'character_arts_fictional', 'superman_red_son_superman', 'iron_man_annual', \n",
    "                 'toonopedia_archived', 'writer_warren_ellis', 'originally_published', \n",
    "                 'television_series_category', 'category_jewish_superheroes_category', \n",
    "                 'fictional_comic', 'engineers_category_fictional', 'alongside_fellow', \n",
    "                 'fabian_nicieza_category', 'superhero_known', 'teleport_category_fictional', \n",
    "                 'jade_comics_jade', 'often_seen', 'warriors_category', 'puck_comics_puck', \n",
    "                 'doctor_strange_vol', 'batman_comic', 'dr_strange_vol', 'alternate_timeline', \n",
    "                 'look_like', 'issue_fictional', 'stranger_comics_stranger', 'second_volume', \n",
    "                 'original_spider_woman', 'earth_universe', 'superman_vol', 'mutant_marvel', \n",
    "                 'superman_batman_annual', 'former_girlfriend', 'checkmate_comics_checkmate',  \n",
    "                 'first_three', 'upon_learning', 'official_handbook', 'series_smallville', \n",
    "                 'november_january', 'avengers_vol_february', 'bullseye_comics_bullseye', \n",
    "                 'versions_ultimate_marvel', 'comics_category_fictional', 'series_spider_man',\n",
    "                 'see_also', 'non_speaking', 'also_shown', 'book_published', 'defenders_vol', \n",
    "                 'dead_wife', 'two_different', 'young_woman', 'super_speed', 'series_marvel', \n",
    "                 'early_years', 'fifty_state_initiative', 'atom_comics_atom', 'human_form', \n",
    "                 'television_series_video_game', 'made_contact', 'new_world', 'one_annual', \n",
    "                 'mainstream_dc', 'also_created', 'kaine_parker_kaine', 'superman_annual', \n",
    "                 'two_separate', 'next_day', 'new_female', 'one_shot_comic', 'test_subject', \n",
    "                 'december_january', 'category_fictional', 'category_characters_created', \n",
    "                 'three_times', 'vol_april', 'wolverine_character_wolverine', 'regular_cast', \n",
    "                 'imprint_trade_name_imprint', 'annual_fictional', 'banshee_comics_banshee', \n",
    "                 'heat_abilities_category_fictional', 'marvel_comics_first_appeared',  \n",
    "                 'kill_spider_man', 'various_superhuman', 'civil_war_comics_superhuman', \n",
    "                 'precognition_category_fictional', 'nightcrawler_comics_nightcrawler', \n",
    "                 'magnetic_abilities_category_fictional', 'colossus_comics_colossus', \n",
    "                 'extra_dimensional', 'unlimited_episode', 'ultimate_marvel_universe', \n",
    "                 'august_fictional', 'vol_january', 'uncannyxmennet_character_profile',  \n",
    "                 'film_deadpool', 'writer_james_robinson', 'episode_avengers_assemble',\n",
    "                 'comic_books', 'superheroes_category', 'insert_previews_special_insert', \n",
    "                 'comics_published', 'september_october', 'metropolis_comics_metropolis', \n",
    "                 'avengers_vol_january', 'debuts_category_fictional', 'animated_direct', \n",
    "                 'uncannyxmennet_category_characters_created', 'comic_books_published', \n",
    "                 'personnel_category_fictional', 'category_comic', 'america_vol', \n",
    "                 'supervillains_category_fictional', 'shortly_afterward', 'digital_comic', \n",
    "                 'cyborg_comics_cyborg', 'took_particular', 'avatars_category_fictional', \n",
    "                 'hobgoblin_comics_hobgoblin', 'quality_comics_first_appeared', \n",
    "                 'peak_physical', 'paedia', 'earth_prime', 'present_day', 'would_give', \n",
    "                 'later_became', 'first_encounter', 'rann_thanagar_war', 'living_tribunal', \n",
    "                 'green_goblin_norman', 'energy_blast', 'expert_marksman', 'kingdom_come', \n",
    "                 'strikeforce_morituri', 'demon_named', 'one_day', 'links_cosmic', \n",
    "                 'supporting_cast', 'black_costume', 'original_story', 'final_act', \n",
    "                 'goes_back', 'vol_oct', 'young_child', 'vol_dc', 'issue_comic', \n",
    "                 'original_human', 'lucy_lane_superwoman', 'marvel_contest', \n",
    "                 'distress_signal', 'mystery_man', 'post_crisis_earth', 'villain_named', \n",
    "                 'superhero_costume', 'batman_arkham', 'nick_fury_agent', 'noir_spider_man', \n",
    "                 'earth_three', 'venom_symbiote', 'formerly_known', 'battle_however', \n",
    "                 'corps_black_lantern', 'old_man', 'still_active', 'slightly_different', \n",
    "                 'central_intelligence_agency_cia', 'regular_character', 'like_spider', \n",
    "                 'new_starlin', 'fictional_character', 'god_like', 'top_comic', \n",
    "                ]\n",
    "print(\"Palabras sin utilidad:\", len(useless_words))\n",
    "\n",
    "new_jjs = ['alien_technology', 'well_known', 'years_old', 'better_known', 'african_american', \n",
    "           'non_lethal', 'native_american', 'super_human']\n",
    "print(\"Tokens adjetivados:\", len(new_jjs))\n",
    "\n",
    "\n",
    "#'redesign', 'embodiment', 'bobbi_morse', 'spirit', 'ease', 'len_wein', 'underwent', 'tell', 'pair', 'regard', 'reveal', 'robin_comic', 'take_place', 'write', 'soldier_x', 'civil_war', 'tree', 'normie_osborn', 'resistance', 'black_canary', 'idol', 'spree', 'midtown_high', 'became_popular', 'blade', 'happen', 'sell', 'fights_crime', 'strip', 'even_able', 'antagonist', 'atalanta', 'slow', 'doctor_impossible', 'nick_fury', 'white_tiger', 'jack_flag', \n",
    "#'invade', 'meet', 'man_beast', 'dispute', 'leaving', 'place', 'know', 'siege', 'request', 'soulsword', 'grandfather', 'exile', 'disapproval', 'publish', 'tale', 'aging_process', 'pavitr_prabhakar', 'threaten', 'prevent', 'harvest', 'jameson', 'secret_service', 'manipulate', 'weather', 'jessica_drew', 'alter_ego', 'assimilate', 'voiced', 'amatsu_mikaboshi', 'novel', 'childhood', 'possession', 'marc', 'reappear', 'ronald', 'nomad', 'mike_sekowsky', 'mean', 'newsaramacom', 'battle_spider_man', 'wizard_shazam', \n",
    "#'alpha_flight', 'surge', 'sacrifice', 'subject', 'hawkwoman', 'outfit', 'scan', 'agent_liberty', 'new_krypton', 'save', 'magician_fantasy', 'roy_thomas', 'confrontation', 'ongoing_war', 'new_hero', 'corps_blue_beetle', 'silver_surfer', 'earn', 'new_costumed', 'collect', 'superior_spider_man', 'arose', 'sinestro_corps', 'mort_weisinger', 'leave_earth', 'shanna', 'ambush_bug', 'premiere', 'arctic', 'tried', 'ultra_humanite', 'high_evolutionary', 'black_widow', 'london', 'learning', 'tour', 'normal_human', 'suggest', 'speed_demon', 'lifestyle', 'expel', 'young_mutant', 'threatens', 'fellow_green_lantern', 'iron_man', 'dr', 'pay', 'revive', 'birth', 'long_hair', 'julius_schwartz', 'hal_jordan', 'greg_pak', 'spider_woman', 'care', 'mobile_game', 'strongbow', 'warriors_three', 'year_old', 'history_file', 'katie_power', 'much_like', 'reversed', 'amazing_fantasy', 'finally_able', 'learn', 'nature', 'hulk_former', 'resigned', 'crime_syndicate', 'bibliography', 'modern_day', 'ghost_boxes', 'comics_zero_hour', 'forced', 'artwork', \n",
    "#'inertia', 'slingshot', 'trident', 'azrael_comics_batman', 'desert', 'series_finale', 'enemy', 'handled', 'killed', 'would_later', \n",
    "#'counterpart', 'entry', 'riptide', 'blue_beetle', 'punch', 'survival', 'antennae', 'elder', 'uprising', 'vixen', 'incorporated', 'point', 'divide', 'space_ship', 'proud', 'gallery', 'harvey', 'kiss', \n",
    "#'alley', 'mystery', 'minute', 'ocean', 'duplicate', 'custody', 'join', 'spider_verse_spider', 'storm', 'heven', 'downfall', 'defend', 'died', 'ava_ayala', 'america_marvel', 'sneak', 'shadowcat', 'superdog', 'opponent', 'power_cosmic', 'america_jsa', 'roster', 'recurring_character', 'annihilation_conquest', 'action_figure', 'turn', 'never_made', 'yondu', 'propose', 'young_justice', 'rune', 'mini', 'uncle_sam', 'simone', 'prison', 'persona', 'respect', 'first_official', 'registration_act', 'decide', 'bordeaux', 'use_magic', 'samurai', 'morituri_effect', 'pick', 'speaking_role', 'renegade', \n",
    "#'else', 'truth', 'machine_man', 'dose', 'path', 'represent', 'physical_contact', 'claim', 'vega_system', 'brian_michael_bendis', 'alan_grant', 'new_earth', 'mode', 'infect', 'dark_reign', 'spaceknight', 'orchestrated', 'prodigy', 'academy', 'flame', 'transform_back', 'iron_spider_armor', \n",
    "#'follow', 'liefeld', 'plots', 'victory', 'heal', 'mayday', 'comics_fear', 'grant_morrison', 'green_lantern', 'stark_international', 'stay', 'black_adam', 'resurrection', 'power_ring_chose', 'vigilante', 'lazarus', 'facebook', 'planet_rann', 'jay_garrick', 'protector', 'offshoot', 'haunted_tank', 'unhinged', 'would_become', 'average_human', 'harris', 'holiday_special', 'aunt_maya', 'retired', 'acrobat', 'knocked_unconscious', 'long_term', 'sub_mariner', 'international_hero', 'figurine', 'savage_wolverine', 'participant', \n",
    "#'work_together', 'timeline', 'origin', 'life_energy', 'cape', 'corner', 'henry_peter_gyrich', 'geoff_johns', 'recruit', 'large_scale', 'tribe', 'variant', 'replacing', 'keep', 'mccoy', 'warn', 'panic', 'suicide_squad', 'may_june', 'realm', 'comics_counter_earth', 'destroy', 'boring', 'become', 'marv_wolfman', 'interact', 'uncanny_x_men', 'new_york', 'acrata', 'mite', 'continue', 'aunt_may', 'feb', 'jsa_classified', 'universe_version', 'thunderstrike', 'unmasked', 'batman_shadow', 'rebel', 'april_may', 'karn', 'fin_fang_foom', 'also_part', \n",
    "#'avert', 'kobra', 'alter', 'unlock', 'extract', 'inflicted', 'intended', 'john_stewart', 'quite', 'get_rid', 'engage', 'april_dcu_guide', 'classmate', 'first_time', 'attempt', 'spectacular_spider_man', 'dismissed', 'breaks_free', 'solomon_grundy', 'made_sure', 'luke', 'push', 'aliens_category', 'manor', 'collar', 'prove', 'think', 'steal', 'secret_wars', 'increase', 'media_video', 'first_battle', 'burglar', 'aid', 'wakanda', 'founding_member', 'chris_claremont', 'second_spider_man', 'power_pack', 'first_two', 'maiden', 'attack', \n",
    "#'amadeus_chosen', 'nergal', 'marvel_mangaverse', 'brought', 'super_powered', 'kismet', 'incarnation', 'draw', 'new_doom_patrol', 'planet_earth', 'plague', \n",
    "#'expose', 'mantle', 'whilst', 'use', 'hear', 'journeys', 'dum_dugan', 'guide', 'winners_squad', 'blazing_skull', 'begs', 'dealt', 'also_written', 'drew', 'foot', 'also_appear', 'upon', 'fifteen', 'solid_light', 'unrevealed', 'print', 'new_look', 'superboy_prime', 'hired', 'time_space', 'chess', 'ring_chose', 'bone', 'brimstone', 'doctor', 'jim', 'green_goblin', 'shared_universe', 'noh_varr', 'freed', 'howling_commandos', 'american_eagle', 'superboy_kon_el', 'feels', \n",
    "#'chase', 'abra', 'shut', 'pocket_universe', 'normie', 'aug', 'horn', 'apprehend', 'wield', 'fabric', 'brightest_day', 'multiverse', 'infinity_gauntlet', 'olympic_level_athlete', 'harry_osborn', 'interfering', \n",
    "#'bring', 'utterly', 'appearance', 'cross', 'set', 'strong_enough', 'wore', 'relied', 'ceo', 'left_behind', 'whitman', 'love', 'guest', 'operate', 'aquaman', 'gather', 'mark_gruenwald', 'federal_government', 'possessed', 'force_field', 'note', 'ghost_rider', 'declared_war', 'toad', 'monger', 'dent', 'peter_david', 'rip', 'friendship', 'artist_paul', 'medina', 'couple', 'blackmails', 'utilized', 'chose', 'impaled', 'fury', 'skrulls', 'infinity_watch', 'later_shown', 'super_strength', 'create', 'new_incarnation', 'upgrades', 'rebooted', 'animal_man', 'higashi', 'readership', 'ted_grant', 'prophesied', 'world_war', 'stuck', 'inhuman', 'squadron_supreme', 'atlantis_marvel', 'list', 'final_crisis', 'unleashes', 'accomplish', 'welcome', 'magician', 'new_justice_league', 'marvel_mystery', 'apart', 'pencilled', 'coal_tiger', 'american_comic', 'arm', 'heroic_age', 'tyranny', 'amplify', 'original_sin', 'later_seen', 'michelle', 'red_robin', 'fighting_crime', 'bluestreak', 'logic', 'antidote', 'brother_eye', 'hood', 'green_flame', 'talent', 'new_red', 'x_factor_annual', 'twin', 'erica', \n",
    "#'guise', 'mid', 'anthology', 'reside', 'performed', 'wipe', 'inked', 'betty', 'video', 'disable', 'satellite', 'flynn', 'lord', 'veil', 'display', 'daughter', 'sole_survivor', 'amazing_man', 'rendered', 'leg', 'zeta', 'goddess', 'years_ago', 'elixir', 'crossover_event', \n",
    "#'augment', 'train', 'wish', 'found', 'corey_burton', 'mikhail', 'devour', 'stone', 'jesse_quick', 'alternative_universe', 'contest', 'hayden', 'hollow', 'usually_depicted', 'spider_verse', 'noah', 'ensuing_battle', 'happily_married', 'helmet', 'fisk', 'series_would', 'examine', 'sword', 'adopt', 'involvement', 'atom_smasher', 'accent', 'prime_earth', 'star_lord', 'oct', 'dc_universe', 'phoenix', 'photographer', 'comics_code', 'niece', 'destroyer', 'childhood_friend', 'flare', 'return', 'arnim_zola', 'piece', 'unarmed_combat', 'india', 'collaborated', 'gcpd', 'update', 'tortured', 'karolina_dean', 'avengers_earth', 'turned', 'enchantress', 'infinity_inc', 'super_strong', 'feature_film', 'contact', 'caused', 'show', 'dispose', 'barbara', 'fat', 'title', 'near_death', 'new_spider_man', 'superhuman_strength', 'alternate_earth', 'argue', 'hidden', 'high_school', 'non_powered', 'one_many', 'dec', 'leave', 'strong_friendship', 'behest', 'prepare', 'subdue', 'spider_boy', 'insight', \n",
    "#'scythe', 'arc', 'old_team', 'marvel_universe', 'mac_gargan', 'keeper', 'zeta_beam', 'implied', 'relaunch', 'final_crisis_superman', 'introduce', 'beware', \n",
    "#'speedy', 'please', 'whose_power', 'felix_faust', 'giffen', 'torn_apart', 'arrest', 'two_batman', 'police_officer', 'resurface', \n",
    "#'golden_age', 'winston', 'morgan', 'stop', 'splinter', 'attracted', 'neil_gaiman', 'intercepted', 'justice_league', 'realize', 'new_suit', 'first_solo', 'portray', 'east', 'obey', 'lady_styx', 'one_time', 'involved', 'descent', 'unfortunately', 'vampire', 'stepford_cuckoos', 'act', 'parent', 'white_hot', 'last_days_part', 'thanos_imperative', 'graphic_novel', 'avengers_assemble', 'biography', 'sick', 'daisy', 'star_squadron', 'old_west', 'valkyrie', 'commander', 'concept', 'one_point', 'representative', 'cohen', 'cosmic_energy', 'choose', 'story_written', 'ayesha', 'lot', 'tara_strong', 'goodbye', 'strike', 'wrist', 'ace', 'electrical_energy', 'radio', 'baron_zemo', 'wanda', 'costume_similar', 'thought_dead', 'surfer', 'starro', 'overcomes', 'distinguish', "
   ]
  },
  {
   "cell_type": "markdown",
   "metadata": {},
   "source": [
    "Reemplazamos estas etiquetas en nuestra base de datos (el *dataframe* `train_comicsDf`):"
   ]
  },
  {
   "cell_type": "code",
   "execution_count": 28,
   "metadata": {
    "collapsed": false
   },
   "outputs": [
    {
     "name": "stdout",
     "output_type": "stream",
     "text": [
      "1048 \n",
      "\n",
      "['christian', 'ordinary', 'familiar', 'fastest', 'undone', 'aleta', 'green', 'amongst', 'mild', 'villainous', 'perspective', 'instrumental', 'evil', 'additional', 'larger', 'standard', 'disillusioned', 'visual', 'malicious', 'captive', 'intellectual', 'costumed', 'rid', 'alternative', 'context', 'self', 'consciousness', 'ultimo', 'internal', 'last', 'specific', 'inevitable', 'super', 'higher', 'possess', 'sympathetic', 'extrasensory', 'futuristic', 'brutal', 'shot', 'botched', 'pixie', 'functioning', 'fictional', 'infant', 'android', 'diplomatic', 'anonymous', 'reminiscent', 'difficult', 'noir', 'connected', 'korean', 'mohawk', 'sixteen', 'second', 'giant', 'next', 'invulnerable', 'rebellious', 'born', 'driving', 'visited', 'current', 'endless', 'wounded', 'firelord', 'uncredited', 'strongest', 'federal', 'antagonistic', 'uninhabited', 'satisfied', 'darkest', 'prey', 'unfortunate', 'hyper', 'formidable', 'earlier', 'radical', 'primary', 'less', 'spidey', 'southern', 'worthy', 'breakworld', 'lead', 'perfect', 'mutant', 'anniversary', 'favored', 'absolute', 'united', 'ord', 'new', 'monthly', 'renowned', 'original', 'futurist', 'controversial', 'precise', 'potential', 'light', 'unknown', 'chinese', 'supervillain', 'doomed', 'good', 'horrible', 'spiritual', 'contemporary', 'altered', 'friendly', 'prime', 'seek', 'large', 'injured', 'electromagnetic', 'everyman', 'loyal', 'quest', 'relaunched', 'resistant', 'ballistic', 'impressive', 'violent', 'cold', 'upcoming', 'unsuccessful', 'unexplained', 'meanwhile', 'mortal', 'revamped', 'gigantic', 'thirteen', 'military', 'magnetic', 'deviant', 'strong', 'enigmatic', 'guilty', 'fresh', 'married', 'demonic', 'interested', 'avenger', 'civilian', 'homosexual', 'bulletproof', 'canonical', 'aggressive', 'abused', 'indian', 'lockheed', 'beetle', 'public', 'supreme', 'reimagined', 'eternal', 'cosmic', 'cybernetic', 'gifted', 'advanced', 'experimental', 'uncertain', 'empty', 'weaker', 'sharp', 'kinetic', 'moral', 'exclusive', 'classic', 'hard', 'close', 'vulnerable', 'enraged', 'sonic', 'global', 'competent', 'able', 'odd', 'digital', 'lan', 'tactical', 'quick', 'rapid', 'masked', 'servant', 'explained', 'present', 'destroyed', 'protected', 'invisible', 'connect', 'infected', 'total', 'distinct', 'upper', 'come', 'neural', 'undercover', 'blue', 'common', 'intergalactic', 'tyrant', 'natural', 'animal', 'artist', 'prolonged', 'excello', 'illegal', 'electronic', 'robotic', 'opal', 'likely', 'extreme', 'stereotypical', 'uniform', 'sole', 'overweight', 'unofficial', 'rich', 'eager', 'wonder', 'militant', 'mach', 'unwilling', 'incident', 'ben', 'near', 'amethyst', 'conscious', 'correct', 'temporary', 'airborne', 'understanding', 'female', 'depicted', 'wide', 'multi', 'orphaned', 'illegitimate', 'elite', 'liberty', 'severe', 'younger', 'tall', 'small', 'unpublished', 'opposite'] \n",
      "\n"
     ]
    }
   ],
   "source": [
    "new_nn = []\n",
    "for i, row in zip(range(len(train_comicsDf)), train_comicsDf.tagged_words):\n",
    "    for j, word in zip(range(len(row)), row): \n",
    "        if word[0] in useless_words: \n",
    "            row.pop(j)\n",
    "        elif word[0] in wrong_jjs and 'JJ' in word[1]:\n",
    "            row.pop(j)\n",
    "            new_nn.append((word[0], 'NN')) \n",
    "    train_comicsDf.loc[i, \"tagged_words\"] = row + new_nn\n",
    "\n",
    "jj_comics = []\n",
    "for row in train_comicsDf[\"tagged_words\"]:\n",
    "    for word in row: \n",
    "        if 'JJ' in word[1]: \n",
    "            jj_comics.append(word[0])\n",
    "jj_comics = list(set(jj_comics))\n",
    "\n",
    "print(len(jj_comics), \"\\n\")\n",
    "print(jj_comics[:250], \"\\n\")"
   ]
  },
  {
   "cell_type": "code",
   "execution_count": 29,
   "metadata": {
    "collapsed": true
   },
   "outputs": [],
   "source": [
    "def untag(tagged_sentence):\n",
    "    return [w for w, t in tagged_sentence]"
   ]
  },
  {
   "cell_type": "code",
   "execution_count": 31,
   "metadata": {
    "collapsed": false
   },
   "outputs": [
    {
     "name": "stdout",
     "output_type": "stream",
     "text": [
      "[('Pierre', 'NNP'), ('Vinken', 'NNP'), (',', ','), ('61', 'CD'), ('years', 'NNS'), ('old', 'JJ'), (',', ','), ('will', 'MD'), ('join', 'VB'), ('the', 'DT'), ('board', 'NN'), ('as', 'IN'), ('a', 'DT'), ('nonexecutive', 'JJ'), ('director', 'NN'), ('Nov.', 'NNP'), ('29', 'CD'), ('.', '.')]\n",
      "Tagged sentences:  3914\n",
      "Tagged words: 1161192\n"
     ]
    }
   ],
   "source": [
    "tagged_sentences = nltk.corpus.treebank.tagged_sents()\n",
    " \n",
    "print (tagged_sentences[0])\n",
    "print (\"Tagged sentences: \", len(tagged_sentences))\n",
    "print (\"Tagged words:\", len(nltk.corpus.brown.tagged_words()))"
   ]
  },
  {
   "cell_type": "code",
   "execution_count": 32,
   "metadata": {
    "collapsed": false
   },
   "outputs": [
    {
     "name": "stdout",
     "output_type": "stream",
     "text": [
      "2935\n",
      "979\n"
     ]
    }
   ],
   "source": [
    "cutoff = int(.75 * len(tagged_sentences))\n",
    "training_sentences = tagged_sentences[:cutoff]\n",
    "test_sentences = tagged_sentences[cutoff:]\n",
    " \n",
    "print (len(training_sentences))\n",
    "print (len(test_sentences))\n",
    " \n",
    "def transform_to_dataset(tagged_sentences):\n",
    "    X, y = [], []\n",
    " \n",
    "    for tagged in tagged_sentences:\n",
    "        for index in range(len(tagged)):\n",
    "            X.append(features(untag(tagged), index))\n",
    "            y.append(tagged[index][1])\n",
    " \n",
    "    return X, y\n",
    " \n",
    "X, y = transform_to_dataset(training_sentences)"
   ]
  },
  {
   "cell_type": "code",
   "execution_count": 33,
   "metadata": {
    "collapsed": false
   },
   "outputs": [
    {
     "name": "stdout",
     "output_type": "stream",
     "text": [
      "Training completed\n",
      "Accuracy: 0.895026514543\n"
     ]
    }
   ],
   "source": [
    "from sklearn.tree import DecisionTreeClassifier\n",
    "from sklearn.feature_extraction import DictVectorizer\n",
    "from sklearn.pipeline import Pipeline\n",
    " \n",
    "clf = Pipeline([\n",
    "    ('vectorizer', DictVectorizer(sparse=False)),\n",
    "    ('classifier', DecisionTreeClassifier(criterion='entropy'))\n",
    "])\n",
    " \n",
    "clf.fit(X[:10000], y[:10000])   # Use only the first 10K samples if you're running it multiple times. It takes a fair bit :)\n",
    " \n",
    "print ('Training completed')\n",
    " \n",
    "X_test, y_test = transform_to_dataset(test_sentences)\n",
    "print (\"Accuracy:\", clf.score(X_test, y_test))"
   ]
  },
  {
   "cell_type": "code",
   "execution_count": 35,
   "metadata": {
    "collapsed": false
   },
   "outputs": [
    {
     "data": {
      "text/plain": [
       "['mazing man is the title character of a comic book series created by bob rozakis and stephen destefano and published by dc comics.',\n",
       " 'the series ran for twelve issues in with additional special issues in and.',\n",
       " 'in addition mazing man had an origin story in secret origins and an original one page story that appeared in an ad in comics buyer s guide.',\n",
       " 'series overview the mazing man series depicts the misadventures of sigfried horatio hunch iii a benignly deranged little man in queens new york queens new york city new york state new york who dresses in a homemade costume and performs deeds like unclogging drains and watching out for local children.',\n",
       " 'viewed as a harmless kook by his neighbors he saves a child from being hit by a truck in the first issue earning him some respect and notoriety not to mention a steady stream of appreciation and food from the mother in subsequent issues.',\n",
       " 'maze tends to sing simon and garfunkel songs when struck on the head.',\n",
       " 'his best friend is denton fixx a writer for bc comics who looks like a beagle.',\n",
       " 'hunch is a millionaire having won first place in a magazine subscription company s sweepstakes.',\n",
       " 'after winning the prize he felt obligated to subscribe to all of the company s magazines.',\n",
       " 'as a result he receives a staggering load of publications daily including the pornographic magazine s that he genuinely reads only for the articles.',\n",
       " 'he does not keep his wealth a secret per se he simply does not mention it and does not live an opulent lifestyle.',\n",
       " 'his friends are unaware of his financial success.',\n",
       " 'the original series although highly acclaimed was short lived.',\n",
       " 'however comics artist frank miller comics frank miller admired the series.',\n",
       " 'eager to help the property survive miller contributed a cover with the lead characters of the extremely popular mini series batman the dark knight returns for the last issue.',\n",
       " 'the resulting exposure created enough interest for subsequent one shot comics one shot issues.',\n",
       " 'a back up feature zoot sputnik appeared for several issues drawn by fred hembeck and ostensibly written by denton fixx it was supposed to be the book fixx wrote for bc comics.',\n",
       " 'it was a parody of the golden age of comic books golden age narrative style where stories had no between issue continuity zoot and his team were space adventurers in one issue and cowboys in the next.',\n",
       " 'the team s dog received a shock of energy and gained the ability to remember their disparate adventures.',\n",
       " 'this was denton s attempt to introduce continuity to the book but it was met with disapproval by his editor.',\n",
       " 'mazing man is one of a handful of dc titles to publish an issue not featuring the comics code authority stamp of approval while it was active.',\n",
       " 'in the issue writer s block denton is stuck for a story and all his friends give their ideas.',\n",
       " 'one of them dealt with an army of zombie s. although there was no gore or violence any mention of the living dead specifically the use of the word zombie was forbidden by the comics code.',\n",
       " 'the issue was released without the stamp with no publicity positive or negative.',\n",
       " 'much later in the ambush bug year none miniseries mazing man in the same nonsensical way of the series is revealed to be on death row.',\n",
       " 'other characters denton fixx maze s best friend.',\n",
       " 'writer for bc comics.',\n",
       " 'looks like a beagle.',\n",
       " 'brenda valentine a rising star at a local advertising agency.',\n",
       " 'she is married to eddie valentine.',\n",
       " 'eddie valentine assistant to the assistant manager at the south richmond bank.',\n",
       " 'promoted to assistant manager in issue september the bank job or by hook or by crook married to brenda.',\n",
       " 'baseball player and gold glove winner at john quincy high school.',\n",
       " 'kp watson denton s human looking half sister.',\n",
       " 'guido garibaldi the jock simpleton who lives in the same building as denton maze eddie and brenda.',\n",
       " 'he works in three shoe stores and spends most of his time wondering which one he is called in sick at drinking beer and hopelessly pursuing women.',\n",
       " 'sgt.',\n",
       " 'muldavey a local police officer who is plagued by maze s heroics.',\n",
       " 'mrs. costinas landlady of maze denton and kp most often seen sweeping the front steps of their building.',\n",
       " 'never smiles and usually grunts at all passersby.',\n",
       " 'helenita trialdo a baby whose appearances revolve around her lack of hair.',\n",
       " 'senora tiraldo helenita s mother.',\n",
       " 'walter vanderplatz eddie s supervisor at the south richmond bank.',\n",
       " 'more than a bit of a stuffed shirt.',\n",
       " 'in other media * mazing man appears in the animated series batman the brave and the bold episode four star spectacular voiced by tom kenny.',\n",
       " 'in the kitty catastrophe segment he is the accident prone petsitting catsitter for a couple named owen and fiona.',\n",
       " 'it is apparent that batman is his favorite superhero and the inspiration for his costume.',\n",
       " 'see also * list of dc comics publications external links * mazing man at don markstein s toonopedia.',\n",
       " 'archived from the original on february.',\n",
       " '* bobrozakis.blogspot.com category dc comics titles category comics debuts category comics characters introduced in category humor comics category fictional characters with schizophrenia category fictional characters from new york city']"
      ]
     },
     "metadata": {},
     "output_type": "display_data"
    }
   ],
   "source": [
    "from nltk import tokenize\n",
    "\n",
    "comics_sentences = tokenize.sent_tokenize(comicsDf.loc[0].full_description)\n",
    "display (comics_sentences)"
   ]
  },
  {
   "cell_type": "code",
   "execution_count": 38,
   "metadata": {
    "collapsed": false
   },
   "outputs": [
    {
     "name": "stdout",
     "output_type": "stream",
     "text": [
      "[('mazing', 'VBG'), ('man', 'NN'), ('is', 'VBZ'), ('the', 'DT'), ('title', 'JJ'), ('character', 'NN'), ('of', 'IN'), ('a', 'DT'), ('comic', 'JJ'), ('book', 'NN'), ('series', 'NN'), ('created', 'VBN'), ('by', 'IN'), ('bob', 'NN'), ('rozakis', 'NN'), ('and', 'CC'), ('stephen', 'JJ'), ('destefano', 'NN'), ('and', 'CC'), ('published', 'VBN'), ('by', 'IN'), ('dc', 'NN'), ('comics', 'NNS'), ('.', '.')]\n",
      "[('the', 'DT'), ('series', 'NN'), ('ran', 'VBD'), ('for', 'IN'), ('twelve', 'NN'), ('issues', 'NNS'), ('in', 'IN'), ('with', 'IN'), ('additional', 'JJ'), ('special', 'JJ'), ('issues', 'NNS'), ('in', 'IN'), ('and', 'CC'), ('.', '.')]\n",
      "[('in', 'IN'), ('addition', 'NN'), ('mazing', 'NN'), ('man', 'NN'), ('had', 'VBD'), ('an', 'DT'), ('origin', 'JJ'), ('story', 'NN'), ('in', 'IN'), ('secret', 'JJ'), ('origins', 'NNS'), ('and', 'CC'), ('an', 'DT'), ('original', 'JJ'), ('one', 'CD'), ('page', 'NN'), ('story', 'NN'), ('that', 'WDT'), ('appeared', 'VBD'), ('in', 'IN'), ('an', 'DT'), ('ad', 'NN'), ('in', 'IN'), ('comics', 'NNS'), ('buyer', 'NN'), ('s', 'NN'), ('guide', 'NN'), ('.', '.')]\n",
      "[('series', 'NN'), ('overview', 'VBP'), ('the', 'DT'), ('mazing', 'NN'), ('man', 'NN'), ('series', 'NN'), ('depicts', 'VBZ'), ('the', 'DT'), ('misadventures', 'NNS'), ('of', 'IN'), ('sigfried', 'JJ'), ('horatio', 'NN'), ('hunch', 'NN'), ('iii', 'VBP'), ('a', 'DT'), ('benignly', 'RB'), ('deranged', 'JJ'), ('little', 'JJ'), ('man', 'NN'), ('in', 'IN'), ('queens', 'JJ'), ('new', 'JJ'), ('york', 'NN'), ('queens', 'JJ'), ('new', 'JJ'), ('york', 'NN'), ('city', 'NN'), ('new', 'JJ'), ('york', 'NN'), ('state', 'NN'), ('new', 'JJ'), ('york', 'NN'), ('who', 'WP'), ('dresses', 'VBZ'), ('in', 'IN'), ('a', 'DT'), ('homemade', 'NN'), ('costume', 'NN'), ('and', 'CC'), ('performs', 'NNS'), ('deeds', 'NNS'), ('like', 'IN'), ('unclogging', 'VBG'), ('drains', 'NNS'), ('and', 'CC'), ('watching', 'VBG'), ('out', 'RP'), ('for', 'IN'), ('local', 'JJ'), ('children', 'NNS'), ('.', '.')]\n",
      "[('viewed', 'VBN'), ('as', 'IN'), ('a', 'DT'), ('harmless', 'NN'), ('kook', 'NN'), ('by', 'IN'), ('his', 'PRP$'), ('neighbors', 'NNS'), ('he', 'PRP'), ('saves', 'VBZ'), ('a', 'DT'), ('child', 'NN'), ('from', 'IN'), ('being', 'VBG'), ('hit', 'VBN'), ('by', 'IN'), ('a', 'DT'), ('truck', 'NN'), ('in', 'IN'), ('the', 'DT'), ('first', 'JJ'), ('issue', 'NN'), ('earning', 'VBG'), ('him', 'PRP'), ('some', 'DT'), ('respect', 'NN'), ('and', 'CC'), ('notoriety', 'NN'), ('not', 'RB'), ('to', 'TO'), ('mention', 'VB'), ('a', 'DT'), ('steady', 'JJ'), ('stream', 'NN'), ('of', 'IN'), ('appreciation', 'NN'), ('and', 'CC'), ('food', 'NN'), ('from', 'IN'), ('the', 'DT'), ('mother', 'NN'), ('in', 'IN'), ('subsequent', 'JJ'), ('issues', 'NNS'), ('.', '.')]\n",
      "[('maze', 'NN'), ('tends', 'VBZ'), ('to', 'TO'), ('sing', 'VB'), ('simon', 'NN'), ('and', 'CC'), ('garfunkel', 'NN'), ('songs', 'NNS'), ('when', 'WRB'), ('struck', 'NN'), ('on', 'IN'), ('the', 'DT'), ('head', 'NN'), ('.', '.')]\n",
      "[('his', 'PRP$'), ('best', 'JJS'), ('friend', 'NN'), ('is', 'VBZ'), ('denton', 'JJ'), ('fixx', 'NN'), ('a', 'DT'), ('writer', 'NN'), ('for', 'IN'), ('bc', 'NN'), ('comics', 'NNS'), ('who', 'WP'), ('looks', 'VBP'), ('like', 'IN'), ('a', 'DT'), ('beagle', 'NN'), ('.', '.')]\n",
      "[('hunch', 'NN'), ('is', 'VBZ'), ('a', 'DT'), ('millionaire', 'NN'), ('having', 'VBG'), ('won', 'VBN'), ('first', 'JJ'), ('place', 'NN'), ('in', 'IN'), ('a', 'DT'), ('magazine', 'NN'), ('subscription', 'NN'), ('company', 'NN'), ('s', 'NN'), ('sweepstakes', 'NNS'), ('.', '.')]\n",
      "[('after', 'IN'), ('winning', 'VBG'), ('the', 'DT'), ('prize', 'NN'), ('he', 'PRP'), ('felt', 'VBD'), ('obligated', 'VBN'), ('to', 'TO'), ('subscribe', 'VB'), ('to', 'TO'), ('all', 'DT'), ('of', 'IN'), ('the', 'DT'), ('company', 'NN'), ('s', 'JJ'), ('magazines', 'NNS'), ('.', '.')]\n",
      "[('as', 'IN'), ('a', 'DT'), ('result', 'NN'), ('he', 'PRP'), ('receives', 'VBZ'), ('a', 'DT'), ('staggering', 'JJ'), ('load', 'NN'), ('of', 'IN'), ('publications', 'NNS'), ('daily', 'JJ'), ('including', 'VBG'), ('the', 'DT'), ('pornographic', 'JJ'), ('magazine', 'NN'), ('s', 'NN'), ('that', 'IN'), ('he', 'PRP'), ('genuinely', 'RB'), ('reads', 'VBZ'), ('only', 'RB'), ('for', 'IN'), ('the', 'DT'), ('articles', 'NNS'), ('.', '.')]\n",
      "[('he', 'PRP'), ('does', 'VBZ'), ('not', 'RB'), ('keep', 'VB'), ('his', 'PRP$'), ('wealth', 'NN'), ('a', 'DT'), ('secret', 'JJ'), ('per', 'NN'), ('se', 'NN'), ('he', 'PRP'), ('simply', 'RB'), ('does', 'VBZ'), ('not', 'RB'), ('mention', 'VB'), ('it', 'PRP'), ('and', 'CC'), ('does', 'VBZ'), ('not', 'RB'), ('live', 'VB'), ('an', 'DT'), ('opulent', 'JJ'), ('lifestyle', 'NN'), ('.', '.')]\n",
      "[('his', 'PRP$'), ('friends', 'NNS'), ('are', 'VBP'), ('unaware', 'JJ'), ('of', 'IN'), ('his', 'PRP$'), ('financial', 'JJ'), ('success', 'NN'), ('.', '.')]\n",
      "[('the', 'DT'), ('original', 'JJ'), ('series', 'NN'), ('although', 'IN'), ('highly', 'RB'), ('acclaimed', 'VBN'), ('was', 'VBD'), ('short', 'JJ'), ('lived', 'VBD'), ('.', '.')]\n",
      "[('however', 'RB'), ('comics', 'NNS'), ('artist', 'VBP'), ('frank', 'JJ'), ('miller', 'NN'), ('comics', 'NNS'), ('frank', 'JJ'), ('miller', 'NN'), ('admired', 'VBD'), ('the', 'DT'), ('series', 'NN'), ('.', '.')]\n",
      "[('eager', 'NN'), ('to', 'TO'), ('help', 'VB'), ('the', 'DT'), ('property', 'NN'), ('survive', 'JJ'), ('miller', 'NN'), ('contributed', 'VBD'), ('a', 'DT'), ('cover', 'NN'), ('with', 'IN'), ('the', 'DT'), ('lead', 'JJ'), ('characters', 'NNS'), ('of', 'IN'), ('the', 'DT'), ('extremely', 'RB'), ('popular', 'JJ'), ('mini', 'NN'), ('series', 'NN'), ('batman', 'IN'), ('the', 'DT'), ('dark', 'NN'), ('knight', 'VBD'), ('returns', 'NNS'), ('for', 'IN'), ('the', 'DT'), ('last', 'JJ'), ('issue', 'NN'), ('.', '.')]\n",
      "[('the', 'DT'), ('resulting', 'JJ'), ('exposure', 'NN'), ('created', 'VBD'), ('enough', 'JJ'), ('interest', 'NN'), ('for', 'IN'), ('subsequent', 'JJ'), ('one', 'CD'), ('shot', 'NN'), ('comics', 'NNS'), ('one', 'CD'), ('shot', 'NN'), ('issues', 'NNS'), ('.', '.')]\n",
      "[('a', 'DT'), ('back', 'NN'), ('up', 'RP'), ('feature', 'NN'), ('zoot', 'NN'), ('sputnik', 'NN'), ('appeared', 'VBD'), ('for', 'IN'), ('several', 'JJ'), ('issues', 'NNS'), ('drawn', 'VBN'), ('by', 'IN'), ('fred', 'JJ'), ('hembeck', 'NN'), ('and', 'CC'), ('ostensibly', 'RB'), ('written', 'VBN'), ('by', 'IN'), ('denton', 'NN'), ('fixx', 'NN'), ('it', 'PRP'), ('was', 'VBD'), ('supposed', 'VBN'), ('to', 'TO'), ('be', 'VB'), ('the', 'DT'), ('book', 'NN'), ('fixx', 'JJ'), ('wrote', 'VBD'), ('for', 'IN'), ('bc', 'NN'), ('comics', 'NNS'), ('.', '.')]\n",
      "[('it', 'PRP'), ('was', 'VBD'), ('a', 'DT'), ('parody', 'NN'), ('of', 'IN'), ('the', 'DT'), ('golden', 'JJ'), ('age', 'NN'), ('of', 'IN'), ('comic', 'JJ'), ('books', 'NNS'), ('golden', 'JJ'), ('age', 'NN'), ('narrative', 'JJ'), ('style', 'NN'), ('where', 'WRB'), ('stories', 'NNS'), ('had', 'VBD'), ('no', 'DT'), ('between', 'IN'), ('issue', 'NN'), ('continuity', 'NN'), ('zoot', 'NN'), ('and', 'CC'), ('his', 'PRP$'), ('team', 'NN'), ('were', 'VBD'), ('space', 'NN'), ('adventurers', 'NNS'), ('in', 'IN'), ('one', 'CD'), ('issue', 'NN'), ('and', 'CC'), ('cowboys', 'VBZ'), ('in', 'IN'), ('the', 'DT'), ('next', 'JJ'), ('.', '.')]\n",
      "[('the', 'DT'), ('team', 'NN'), ('s', 'NN'), ('dog', 'NN'), ('received', 'VBD'), ('a', 'DT'), ('shock', 'NN'), ('of', 'IN'), ('energy', 'NN'), ('and', 'CC'), ('gained', 'VBD'), ('the', 'DT'), ('ability', 'NN'), ('to', 'TO'), ('remember', 'VB'), ('their', 'PRP$'), ('disparate', 'NN'), ('adventures', 'NNS'), ('.', '.')]\n",
      "[('this', 'DT'), ('was', 'VBD'), ('denton', 'NN'), ('s', 'NN'), ('attempt', 'NN'), ('to', 'TO'), ('introduce', 'VB'), ('continuity', 'NN'), ('to', 'TO'), ('the', 'DT'), ('book', 'NN'), ('but', 'CC'), ('it', 'PRP'), ('was', 'VBD'), ('met', 'VBN'), ('with', 'IN'), ('disapproval', 'NN'), ('by', 'IN'), ('his', 'PRP$'), ('editor', 'NN'), ('.', '.')]\n",
      "[('mazing', 'VBG'), ('man', 'NN'), ('is', 'VBZ'), ('one', 'CD'), ('of', 'IN'), ('a', 'DT'), ('handful', 'NN'), ('of', 'IN'), ('dc', 'JJ'), ('titles', 'NNS'), ('to', 'TO'), ('publish', 'VB'), ('an', 'DT'), ('issue', 'NN'), ('not', 'RB'), ('featuring', 'VBG'), ('the', 'DT'), ('comics', 'NNS'), ('code', 'VBP'), ('authority', 'NN'), ('stamp', 'NN'), ('of', 'IN'), ('approval', 'NN'), ('while', 'IN'), ('it', 'PRP'), ('was', 'VBD'), ('active', 'JJ'), ('.', '.')]\n",
      "[('in', 'IN'), ('the', 'DT'), ('issue', 'NN'), ('writer', 'NN'), ('s', 'VBD'), ('block', 'NN'), ('denton', 'NN'), ('is', 'VBZ'), ('stuck', 'VBN'), ('for', 'IN'), ('a', 'DT'), ('story', 'NN'), ('and', 'CC'), ('all', 'PDT'), ('his', 'PRP$'), ('friends', 'NNS'), ('give', 'VBP'), ('their', 'PRP$'), ('ideas', 'NNS'), ('.', '.')]\n",
      "[('one', 'CD'), ('of', 'IN'), ('them', 'PRP'), ('dealt', 'FW'), ('with', 'IN'), ('an', 'DT'), ('army', 'NN'), ('of', 'IN'), ('zombie', 'NNP'), ('s.', 'CC'), ('although', 'IN'), ('there', 'EX'), ('was', 'VBD'), ('no', 'DT'), ('gore', 'NN'), ('or', 'CC'), ('violence', 'NN'), ('any', 'DT'), ('mention', 'NN'), ('of', 'IN'), ('the', 'DT'), ('living', 'NN'), ('dead', 'JJ'), ('specifically', 'RB'), ('the', 'DT'), ('use', 'NN'), ('of', 'IN'), ('the', 'DT'), ('word', 'NN'), ('zombie', 'NN'), ('was', 'VBD'), ('forbidden', 'VBN'), ('by', 'IN'), ('the', 'DT'), ('comics', 'NNS'), ('code', 'NN'), ('.', '.')]\n",
      "[('the', 'DT'), ('issue', 'NN'), ('was', 'VBD'), ('released', 'VBN'), ('without', 'IN'), ('the', 'DT'), ('stamp', 'NN'), ('with', 'IN'), ('no', 'DT'), ('publicity', 'NN'), ('positive', 'JJ'), ('or', 'CC'), ('negative', 'JJ'), ('.', '.')]\n",
      "[('much', 'RB'), ('later', 'RBR'), ('in', 'IN'), ('the', 'DT'), ('ambush', 'NN'), ('bug', 'JJ'), ('year', 'NN'), ('none', 'NN'), ('miniseries', 'NNS'), ('mazing', 'VBG'), ('man', 'NN'), ('in', 'IN'), ('the', 'DT'), ('same', 'JJ'), ('nonsensical', 'JJ'), ('way', 'NN'), ('of', 'IN'), ('the', 'DT'), ('series', 'NN'), ('is', 'VBZ'), ('revealed', 'VBN'), ('to', 'TO'), ('be', 'VB'), ('on', 'IN'), ('death', 'NN'), ('row', 'NN'), ('.', '.')]\n",
      "[('other', 'JJ'), ('characters', 'NNS'), ('denton', 'VBP'), ('fixx', 'NN'), ('maze', 'NN'), ('s', 'NN'), ('best', 'RBS'), ('friend', 'NN'), ('.', '.')]\n",
      "[('writer', 'NN'), ('for', 'IN'), ('bc', 'NN'), ('comics', 'NNS'), ('.', '.')]\n",
      "[('looks', 'NNS'), ('like', 'IN'), ('a', 'DT'), ('beagle', 'NN'), ('.', '.')]\n",
      "[('brenda', 'NN'), ('valentine', 'NN'), ('a', 'DT'), ('rising', 'VBG'), ('star', 'NN'), ('at', 'IN'), ('a', 'DT'), ('local', 'JJ'), ('advertising', 'NN'), ('agency', 'NN'), ('.', '.')]\n",
      "[('she', 'PRP'), ('is', 'VBZ'), ('married', 'JJ'), ('to', 'TO'), ('eddie', 'VB'), ('valentine', 'NN'), ('.', '.')]\n",
      "[('eddie', 'JJ'), ('valentine', 'NN'), ('assistant', 'NN'), ('to', 'TO'), ('the', 'DT'), ('assistant', 'NN'), ('manager', 'NN'), ('at', 'IN'), ('the', 'DT'), ('south', 'JJ'), ('richmond', 'NN'), ('bank', 'NN'), ('.', '.')]\n",
      "[('promoted', 'VBN'), ('to', 'TO'), ('assistant', 'VB'), ('manager', 'NN'), ('in', 'IN'), ('issue', 'NN'), ('september', 'VBP'), ('the', 'DT'), ('bank', 'NN'), ('job', 'NN'), ('or', 'CC'), ('by', 'IN'), ('hook', 'NN'), ('or', 'CC'), ('by', 'IN'), ('crook', 'NN'), ('married', 'VBN'), ('to', 'TO'), ('brenda', 'VB'), ('.', '.')]\n",
      "[('baseball', 'NN'), ('player', 'NN'), ('and', 'CC'), ('gold', 'NN'), ('glove', 'NN'), ('winner', 'NN'), ('at', 'IN'), ('john', 'NN'), ('quincy', 'NN'), ('high', 'JJ'), ('school', 'NN'), ('.', '.')]\n",
      "[('kp', 'NN'), ('watson', 'NN'), ('denton', 'NN'), ('s', 'NN'), ('human', 'JJ'), ('looking', 'VBG'), ('half', 'NN'), ('sister', 'NN'), ('.', '.')]\n",
      "[('guido', 'NN'), ('garibaldi', 'VBZ'), ('the', 'DT'), ('jock', 'NN'), ('simpleton', 'NN'), ('who', 'WP'), ('lives', 'VBZ'), ('in', 'IN'), ('the', 'DT'), ('same', 'JJ'), ('building', 'NN'), ('as', 'IN'), ('denton', 'NN'), ('maze', 'NN'), ('eddie', 'NN'), ('and', 'CC'), ('brenda', 'NN'), ('.', '.')]\n",
      "[('he', 'PRP'), ('works', 'VBZ'), ('in', 'IN'), ('three', 'CD'), ('shoe', 'NN'), ('stores', 'NNS'), ('and', 'CC'), ('spends', 'VBZ'), ('most', 'JJS'), ('of', 'IN'), ('his', 'PRP$'), ('time', 'NN'), ('wondering', 'VBG'), ('which', 'WDT'), ('one', 'NN'), ('he', 'PRP'), ('is', 'VBZ'), ('called', 'VBN'), ('in', 'IN'), ('sick', 'NN'), ('at', 'IN'), ('drinking', 'VBG'), ('beer', 'NN'), ('and', 'CC'), ('hopelessly', 'RB'), ('pursuing', 'VBG'), ('women', 'NNS'), ('.', '.')]\n",
      "[('sgt', 'NN'), ('.', '.')]\n",
      "[('muldavey', 'VB'), ('a', 'DT'), ('local', 'JJ'), ('police', 'NN'), ('officer', 'NN'), ('who', 'WP'), ('is', 'VBZ'), ('plagued', 'VBN'), ('by', 'IN'), ('maze', 'NN'), ('s', 'NN'), ('heroics', 'NNS'), ('.', '.')]\n",
      "[('mrs.', 'NN'), ('costinas', 'NNS'), ('landlady', 'NN'), ('of', 'IN'), ('maze', 'JJ'), ('denton', 'NN'), ('and', 'CC'), ('kp', 'VB'), ('most', 'RBS'), ('often', 'RB'), ('seen', 'VBN'), ('sweeping', 'VBG'), ('the', 'DT'), ('front', 'JJ'), ('steps', 'NNS'), ('of', 'IN'), ('their', 'PRP$'), ('building', 'NN'), ('.', '.')]\n",
      "[('never', 'RB'), ('smiles', 'NNS'), ('and', 'CC'), ('usually', 'RB'), ('grunts', 'NNS'), ('at', 'IN'), ('all', 'DT'), ('passersby', 'NN'), ('.', '.')]\n",
      "[('helenita', 'NN'), ('trialdo', 'VBZ'), ('a', 'DT'), ('baby', 'NN'), ('whose', 'WP$'), ('appearances', 'NNS'), ('revolve', 'VBP'), ('around', 'IN'), ('her', 'PRP$'), ('lack', 'NN'), ('of', 'IN'), ('hair', 'NN'), ('.', '.')]\n",
      "[('senora', 'NNS'), ('tiraldo', 'VBP'), ('helenita', 'JJ'), ('s', 'NN'), ('mother', 'NN'), ('.', '.')]\n",
      "[('walter', 'NN'), ('vanderplatz', 'NN'), ('eddie', 'VBP'), ('s', 'NN'), ('supervisor', 'NN'), ('at', 'IN'), ('the', 'DT'), ('south', 'JJ'), ('richmond', 'NN'), ('bank', 'NN'), ('.', '.')]\n",
      "[('more', 'RBR'), ('than', 'IN'), ('a', 'DT'), ('bit', 'NN'), ('of', 'IN'), ('a', 'DT'), ('stuffed', 'JJ'), ('shirt', 'NN'), ('.', '.')]\n",
      "[('in', 'IN'), ('other', 'JJ'), ('media', 'NNS'), ('*', 'VBP'), ('mazing', 'VBG'), ('man', 'NN'), ('appears', 'VBZ'), ('in', 'IN'), ('the', 'DT'), ('animated', 'JJ'), ('series', 'NN'), ('batman', 'VBD'), ('the', 'DT'), ('brave', 'NN'), ('and', 'CC'), ('the', 'DT'), ('bold', 'JJ'), ('episode', 'NN'), ('four', 'CD'), ('star', 'NN'), ('spectacular', 'NN'), ('voiced', 'VBN'), ('by', 'IN'), ('tom', 'JJ'), ('kenny', 'NNS'), ('.', '.')]\n",
      "[('in', 'IN'), ('the', 'DT'), ('kitty', 'JJ'), ('catastrophe', 'NN'), ('segment', 'NN'), ('he', 'PRP'), ('is', 'VBZ'), ('the', 'DT'), ('accident', 'NN'), ('prone', 'NN'), ('petsitting', 'VBG'), ('catsitter', 'NN'), ('for', 'IN'), ('a', 'DT'), ('couple', 'NN'), ('named', 'VBN'), ('owen', 'NN'), ('and', 'CC'), ('fiona', 'NN'), ('.', '.')]\n",
      "[('it', 'PRP'), ('is', 'VBZ'), ('apparent', 'JJ'), ('that', 'IN'), ('batman', 'NN'), ('is', 'VBZ'), ('his', 'PRP$'), ('favorite', 'JJ'), ('superhero', 'NN'), ('and', 'CC'), ('the', 'DT'), ('inspiration', 'NN'), ('for', 'IN'), ('his', 'PRP$'), ('costume', 'NN'), ('.', '.')]\n",
      "[('see', 'NN'), ('also', 'RB'), ('*', 'NNP'), ('list', 'NN'), ('of', 'IN'), ('dc', 'JJ'), ('comics', 'NNS'), ('publications', 'NNS'), ('external', 'JJ'), ('links', 'NNS'), ('*', 'VBP'), ('mazing', 'VBG'), ('man', 'NN'), ('at', 'IN'), ('don', 'JJ'), ('markstein', 'NN'), ('s', 'JJ'), ('toonopedia', 'NN'), ('.', '.')]\n",
      "[('archived', 'VBN'), ('from', 'IN'), ('the', 'DT'), ('original', 'JJ'), ('on', 'IN'), ('february', 'JJ'), ('.', '.')]\n",
      "[('*', 'NN'), ('bobrozakis.blogspot.com', 'NN'), ('category', 'NN'), ('dc', 'NN'), ('comics', 'NNS'), ('titles', 'NNS'), ('category', 'VBP'), ('comics', 'NNS'), ('debuts', 'NNS'), ('category', 'NN'), ('comics', 'NNS'), ('characters', 'NNS'), ('introduced', 'VBN'), ('in', 'IN'), ('category', 'NN'), ('humor', 'NN'), ('comics', 'NNS'), ('category', 'JJ'), ('fictional', 'JJ'), ('characters', 'NNS'), ('with', 'IN'), ('schizophrenia', 'JJ'), ('category', 'NN'), ('fictional', 'JJ'), ('characters', 'NNS'), ('from', 'IN'), ('new', 'JJ'), ('york', 'CD'), ('city', 'NN')]\n"
     ]
    }
   ],
   "source": [
    "comics_tagg_sent = []\n",
    "for sent in comics_sentences:\n",
    "    tagg_sent = nltk.pos_tag(nltk.word_tokenize(sent))\n",
    "    comics_tagg_sent.append(tagg_sent)\n",
    "    print(tagg_sent)"
   ]
  },
  {
   "cell_type": "code",
   "execution_count": null,
   "metadata": {
    "collapsed": true
   },
   "outputs": [],
   "source": []
  }
 ],
 "metadata": {
  "celltoolbar": "Raw Cell Format",
  "kernelspec": {
   "display_name": "Python 3",
   "language": "python",
   "name": "python3"
  },
  "language_info": {
   "codemirror_mode": {
    "name": "ipython",
    "version": 3
   },
   "file_extension": ".py",
   "mimetype": "text/x-python",
   "name": "python",
   "nbconvert_exporter": "python",
   "pygments_lexer": "ipython3",
   "version": "3.6.0"
  }
 },
 "nbformat": 4,
 "nbformat_minor": 0
}
