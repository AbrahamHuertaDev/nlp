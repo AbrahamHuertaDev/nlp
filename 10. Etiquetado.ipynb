{
 "cells": [
  {
   "cell_type": "markdown",
   "metadata": {},
   "source": [
    "![agents](images/header.jpg)\n",
    "# Etiquetado gramatical\n",
    "### Ramón Soto C. [(rsotoc@moviquest.com)](mailto:rsotoc@moviquest.com/)\n",
    "[ver en nbviewer](http://nbviewer.ipython.org/github/rsotoc/nlp/blob/master/10.%20Etiquetado.ipynb)"
   ]
  },
  {
   "cell_type": "markdown",
   "metadata": {},
   "source": [
    "## Definición\n",
    "\n",
    "El **etiquetado gramatical** es el proceso de asignar a cada una de las palabras de un texto una etiqueta que describe su categoría gramatical. Se suele denominar como **POS tagging** o **POST** (por las siglas en inglés *part-of-speech tagging*). \n",
    "\n",
    "El etiquetado gramatical es una actividad muy costosa que actualmente se realiza con buen nivel de éxito (97% en inglés, aproximadamente) utilizando métodos de aprendizaje automático. Por otra parte, esta identificación de palabras permite hacer un análisis más profundo del texto. Consideremos, por ejemplo, el siguiente modelo de lexicón:\n",
    "\n",
    "![](images/lexicon.png)\n",
    "\n",
    "Aquí, representamos un registro léxico $Lx$ como:\n",
    "\n",
    "$$Lx = <l,c,A>$$\t\n",
    "\n",
    "donde $l$ es el lexema/token que estamos registrando, $c$ es la *clase semántica* a la que pertenece $l$ y $A = (a, e, g)$ es una tercia que define las actitudes (polaridad) asociadas al lexema: ($a$) es la actitud del actor que expresa la opinión, ($e$) es la opinión, posiblemente nula, del escritor que publica o comenta la opinión del actor y ($g$) la actitud general de la comunidad hacia la opinión. $a$,$e$ y $g$ toman los siguientes posibles valores en escala de Likert:\n",
    "\n",
    "$$a,e,g ∈〈neg-,neg,neutral,pos,pos+〉$$\n",
    "\n",
    "y éstas, a su vez, pueden expresarse de manera difusa:\n",
    "\n",
    "![](images\\fuzzy_opinion5.png)\n",
    "\n",
    "Esta estructura permite hacer un análisis de polaridad desde puntos de vista semántico y pragmático, pero requiere identificar el tipo de palabra utilizada.\n",
    "\n",
    "Existen diferentes algoritmos para realizar el etiquetado gramatical de un corpus. Algunos de estos métodos se basan en el uso de lexicones formados por palabras ya documentadas, siendo el más famoso el **[Corpus Penn Treebank](https://web.archive.org/web/19970614160127/http://www.cis.upenn.edu:80/~treebank/)**, desarrollado por la Universidad de Pensilvania. Otros métodos utilizan reglas gramaticales para identificar el tipo de palabra, dependiendo de su posición en el texto. En cualquier caso, se suele utilizar el estándar de etiquetado utilizado en el corpus Penn Treebank. Este estándar se basa en una colección de conceptos gramaticales no bien ordenados, como se muestra a continuación.\n",
    "\n",
    "### Categorías gramaticales\n",
    "\n",
    "Las categorías gramaticales permiten clasificar las palabras en tanto componentes de una oración. En español se reconocen nueve partes de la oración:\n",
    "\n",
    "1. Sustantivo (o nombre): es una clase de palabra cuyos referentes son clases de entidades fijas: personas, seres vivos, cosas o conceptos abstractos.\n",
    "2. Adjetivo: es una clase de palabra que actúa como modificador de un sustantivo o como atributo.\n",
    "3. Artículo: es una clase de palabra utilizada para actualizar o precisar la referencia de un sustantivo, transformándolo de desconocido y abstracto a conocido y concreto (\"*un libro*\" vs. \"*el libro*\"). \n",
    "4. Pronombre:  es una clase de palabra que sustituye a un sustantivo y realiza sus mismas funciones.\n",
    "5. Verbo: El Verbo es una clase de palabra que funciona como núcleo del predicado de una oración. Expresa acción, movimiento, existencia, consecución, condición o estado del sujeto. \n",
    "6. Adverbio: es una clase de palabra que tiene la función de modificar verbos (ven **aquí**), adverbios (**demasiado** tarde) o adjetivos (**muy** inteligente). Expresan circunstancias, como pueden ser modo, lugar, tiempo, cantidad, afirmación, duda, etc.\n",
    "7. Interjección: es una clase de palabra que equivale a una oración completa que expresa un sentimiento vivo (¡*ay*!), una llamada enérgica (¡*hey*!) o que describen, elementalmente, una acción (¡*zas*!, ¡*pum*!).\n",
    "8. Preposición: es una clase de palabra que une palabras o sintagmas dentro de una oración: *a, ante, bajo, cabe, con, contra, de, desde, entre, hacia*, etc.\n",
    "9. Conjunción: es una clase de palabra que funciona como enlace entre palabras (José **y** María), sintagmas (Mi perro **y** el tuyo) u oraciones (luchar **para** ganar).\n",
    "\n",
    "En la lingüística moderna, esta clasificación se considera obsoleta y se ha reemplazado por una clasificación funcional, basada en conceptos como:\n",
    "\n",
    "1. Sintagma nominal: es un grupo de palabras cuyo núcleo es un sustantivo, un pronombre o una palabra sustantivada (el **azul** del mar).\n",
    "2. Sintagma determinante: es un tipo de sintagma en el que el núcleo sintáctico es un determinante. El complemento de un sintagma determinante es un sintagma nominal: `Sintagma determinante` $\\to$ (`Determinante`) + `Sintagma nominal`.\n",
    "3. Sintagma verbal: es un sintagma cuyo núcleo es un verbo.\n",
    "4. Complemento sintáctico: es un sintagma que completa, precisa, aclara, extiende o incrementa el significado del núcleo de otro sintagma.\n",
    "5. Determinante: es un tipo de palabra que identifica al sustantivo y precisa su significado (**aquel** gato negro).\n",
    "6. Construcción preposicional: es un sintagma constituido por una preposición (u otro tipo de adposición) que funciona como núcleo sintáctico y asigna caso al sintagma (típicamente nominal o determinante) que le sigue, como en \"libro **de física**\" o en \"viento **del norte**\".\n",
    "\n",
    "\n",
    "\n",
    "### Etiquetas utilizadas en el proyecto *Penn Treebank*\n",
    "\n",
    "El corpus *Penn Treebank* utiliza una combinación de conceptos para derivar una nomenclatura de etiquetas en forma de árbol, siendo las principales etiquetas las que se meustran a continuación:\n",
    "\n",
    "1.\t**CC** - Conjunciones coordinantes\n",
    "2.\t**CD** - Número cardinal\n",
    "3.\t**DT** - Determinante\n",
    "4.\t**EX** - Existencial (haber)\n",
    "5.\t**FW** - Palabra extranjera\n",
    "6.\t**IN** - Preposiciones o conjunciones subordinantes \n",
    "7.\t<span style=\"background-color:blue; color:white; width:100%; padding: 0 10px 0 10px;\"> **JJ** - Adjetivo</span>\n",
    "8.\t**JJR** - Adjetivo comparativo\n",
    "9.\t**JJS** - Adjetivo superlativo\n",
    "10.\t**LS** - Marcador de elemento de lista\n",
    "11.\t**MD** - Elemento auxiliar Modal\n",
    "12.\t<span style=\"background-color:blue; color:white; width:100%; padding: 0 10px 0 10px;\"> **NN** - Sustantivo singular o colectivo</span>\n",
    "13.\t**NNS** - Sustantivo plural\n",
    "14.\t**NNP** - Nombre propio, singular\n",
    "15.\t**NNPS** - Nombre propio, plural\n",
    "16.\t**PDT** - Pre Determinante\n",
    "17.\t**POS** - Marcador de genitivo posesivo\n",
    "18.\t**PRP** - Pronombre personal\n",
    "19.\t**PRP\\$** - Pronombre posesivo\n",
    "20.\t**RB** - Adverbio\n",
    "21.\t**RBR** - Adverbio comparativo\n",
    "22.\t**RBS** - Adverbio superlativo\n",
    "23.\t**RP** - Participio\n",
    "24.\t**SYM** - Símbolo\n",
    "25.\t**TO** - La palabra \"*to*\", como preposición o como marcador del infinitivo\n",
    "26.\t**UH** - Interjección\n",
    "27.\t<span style=\"background-color:blue; color:white; width:100%; padding: 0 10px 0 10px;\"> \n",
    "**VB** - Verbo, forma base </span>\n",
    "28.\t**VBD** - Verbo, pretérito\n",
    "29.\t**VBG** - Verbo, gerundio\n",
    "30.\t**VBN** - Verbo, pasado participio\n",
    "31.\t**VBP** - Verbo, singular presente, no 3a persona\n",
    "32.\t**VBZ** - Verbo, 3a persona singular presente\n",
    "33.\t**WDT** - Determinante Wh, palabra usada como determinante\n",
    "34.\t**WP** - Pronombre Wh \n",
    "35.\t**WP\\$** - Pronombre Wh  posesivo\n",
    "36.\t**WRB** - Adverbio Wh\n",
    "\n",
    "\n",
    "### Etiquetado utilizando *NLTK*\n",
    "A continuación, emplearemos un etiquetador gramatical pre entrenado incluido en el paquete **NLTK** de Python para etiquetar las palabras contenidas en la colección de revisiones de películas. "
   ]
  },
  {
   "cell_type": "code",
   "execution_count": 1,
   "metadata": {
    "collapsed": true
   },
   "outputs": [],
   "source": [
    "import numpy as np\n",
    "import pandas as pd\n",
    "import re\n",
    "import nltk\n",
    "from nltk.corpus import stopwords \n",
    "from bs4 import BeautifulSoup\n",
    "\n",
    "from IPython.display import display"
   ]
  },
  {
   "cell_type": "code",
   "execution_count": 2,
   "metadata": {
    "collapsed": false,
    "scrolled": true
   },
   "outputs": [
    {
     "data": {
      "text/html": [
       "<div>\n",
       "<style>\n",
       "    .dataframe thead tr:only-child th {\n",
       "        text-align: right;\n",
       "    }\n",
       "\n",
       "    .dataframe thead th {\n",
       "        text-align: left;\n",
       "    }\n",
       "\n",
       "    .dataframe tbody tr th {\n",
       "        vertical-align: top;\n",
       "    }\n",
       "</style>\n",
       "<table border=\"1\" class=\"dataframe\">\n",
       "  <thead>\n",
       "    <tr style=\"text-align: right;\">\n",
       "      <th></th>\n",
       "      <th>id</th>\n",
       "      <th>sentiment</th>\n",
       "      <th>review</th>\n",
       "      <th>words</th>\n",
       "    </tr>\n",
       "  </thead>\n",
       "  <tbody>\n",
       "    <tr>\n",
       "      <th>0</th>\n",
       "      <td>5814_8</td>\n",
       "      <td>1</td>\n",
       "      <td>with all this stuff going down at the moment w...</td>\n",
       "      <td>[stuff, going, moment, mj, started, listening,...</td>\n",
       "    </tr>\n",
       "    <tr>\n",
       "      <th>1</th>\n",
       "      <td>2381_9</td>\n",
       "      <td>1</td>\n",
       "      <td>the classic war of the worlds   by timothy hi...</td>\n",
       "      <td>[classic, war, worlds, timothy, hines, enterta...</td>\n",
       "    </tr>\n",
       "    <tr>\n",
       "      <th>2</th>\n",
       "      <td>7759_3</td>\n",
       "      <td>0</td>\n",
       "      <td>the film starts with a manager  nicholas bell ...</td>\n",
       "      <td>[film, starts, manager, nicholas, bell, giving...</td>\n",
       "    </tr>\n",
       "    <tr>\n",
       "      <th>3</th>\n",
       "      <td>3630_4</td>\n",
       "      <td>0</td>\n",
       "      <td>it must be assumed that those who praised this...</td>\n",
       "      <td>[must, assumed, praised, film, greatest, filme...</td>\n",
       "    </tr>\n",
       "    <tr>\n",
       "      <th>4</th>\n",
       "      <td>9495_8</td>\n",
       "      <td>1</td>\n",
       "      <td>superbly trashy and wondrously unpretentious  ...</td>\n",
       "      <td>[superbly, trashy, wondrously, unpretentious, ...</td>\n",
       "    </tr>\n",
       "  </tbody>\n",
       "</table>\n",
       "</div>"
      ],
      "text/plain": [
       "       id  sentiment                                             review  \\\n",
       "0  5814_8          1  with all this stuff going down at the moment w...   \n",
       "1  2381_9          1   the classic war of the worlds   by timothy hi...   \n",
       "2  7759_3          0  the film starts with a manager  nicholas bell ...   \n",
       "3  3630_4          0  it must be assumed that those who praised this...   \n",
       "4  9495_8          1  superbly trashy and wondrously unpretentious  ...   \n",
       "\n",
       "                                               words  \n",
       "0  [stuff, going, moment, mj, started, listening,...  \n",
       "1  [classic, war, worlds, timothy, hines, enterta...  \n",
       "2  [film, starts, manager, nicholas, bell, giving...  \n",
       "3  [must, assumed, praised, film, greatest, filme...  \n",
       "4  [superbly, trashy, wondrously, unpretentious, ...  "
      ]
     },
     "metadata": {},
     "output_type": "display_data"
    }
   ],
   "source": [
    "movies_reviews = pd.read_csv(\"Data sets/Movies Reviews/labeledTrainData.tsv\", sep='\\t')\n",
    "movies_reviews.review = list(map(lambda row: re.sub(\"[^a-zA-Z]\", \" \", \n",
    "                                BeautifulSoup(row, \"lxml\").get_text().lower()), \n",
    "                                 movies_reviews.review))\n",
    "stops = set(stopwords.words(\"english\"))                  \n",
    "movies_reviews[\"words\"] = list(map(lambda row: [w for w in row.split() if not w in stops], \n",
    "                                   movies_reviews.review))\n",
    "display(movies_reviews.head())"
   ]
  },
  {
   "cell_type": "markdown",
   "metadata": {},
   "source": [
    "A continuación, realizamos el etiquetado a partir del texto completo, para mantener la posición de las palabras, pero reservamos solamente las palabras que aparecen en nuestro lexicón (que, en este caso, es muy simple, pero que tratándose del lexicón de Comics, aprovecharíamos el trabajo de limpieza ya realizado). Además, eliminamos duplicados *palabra-etiqueta*."
   ]
  },
  {
   "cell_type": "code",
   "execution_count": 3,
   "metadata": {
    "collapsed": false
   },
   "outputs": [
    {
     "data": {
      "text/html": [
       "<div>\n",
       "<style>\n",
       "    .dataframe thead tr:only-child th {\n",
       "        text-align: right;\n",
       "    }\n",
       "\n",
       "    .dataframe thead th {\n",
       "        text-align: left;\n",
       "    }\n",
       "\n",
       "    .dataframe tbody tr th {\n",
       "        vertical-align: top;\n",
       "    }\n",
       "</style>\n",
       "<table border=\"1\" class=\"dataframe\">\n",
       "  <thead>\n",
       "    <tr style=\"text-align: right;\">\n",
       "      <th></th>\n",
       "      <th>id</th>\n",
       "      <th>sentiment</th>\n",
       "      <th>review</th>\n",
       "      <th>words</th>\n",
       "      <th>tagged_words</th>\n",
       "    </tr>\n",
       "  </thead>\n",
       "  <tbody>\n",
       "    <tr>\n",
       "      <th>0</th>\n",
       "      <td>5814_8</td>\n",
       "      <td>1</td>\n",
       "      <td>with all this stuff going down at the moment w...</td>\n",
       "      <td>[stuff, going, moment, mj, started, listening,...</td>\n",
       "      <td>[(must, MD), (bit, NN), (different, JJ), (spee...</td>\n",
       "    </tr>\n",
       "    <tr>\n",
       "      <th>1</th>\n",
       "      <td>2381_9</td>\n",
       "      <td>1</td>\n",
       "      <td>the classic war of the worlds   by timothy hi...</td>\n",
       "      <td>[classic, war, worlds, timothy, hines, enterta...</td>\n",
       "      <td>[(wells, NNS), (shortcomings, NNS), (fare, NN)...</td>\n",
       "    </tr>\n",
       "    <tr>\n",
       "      <th>2</th>\n",
       "      <td>7759_3</td>\n",
       "      <td>0</td>\n",
       "      <td>the film starts with a manager  nicholas bell ...</td>\n",
       "      <td>[film, starts, manager, nicholas, bell, giving...</td>\n",
       "      <td>[(james, NNS), (performances, NNS), (reacting,...</td>\n",
       "    </tr>\n",
       "    <tr>\n",
       "      <th>3</th>\n",
       "      <td>3630_4</td>\n",
       "      <td>0</td>\n",
       "      <td>it must be assumed that those who praised this...</td>\n",
       "      <td>[must, assumed, praised, film, greatest, filme...</td>\n",
       "      <td>[(must, MD), (loveliness, NN), (realisation, N...</td>\n",
       "    </tr>\n",
       "    <tr>\n",
       "      <th>4</th>\n",
       "      <td>9495_8</td>\n",
       "      <td>1</td>\n",
       "      <td>superbly trashy and wondrously unpretentious  ...</td>\n",
       "      <td>[superbly, trashy, wondrously, unpretentious, ...</td>\n",
       "      <td>[(give, VBP), (love, NN), (two, CD), (years, N...</td>\n",
       "    </tr>\n",
       "  </tbody>\n",
       "</table>\n",
       "</div>"
      ],
      "text/plain": [
       "       id  sentiment                                             review  \\\n",
       "0  5814_8          1  with all this stuff going down at the moment w...   \n",
       "1  2381_9          1   the classic war of the worlds   by timothy hi...   \n",
       "2  7759_3          0  the film starts with a manager  nicholas bell ...   \n",
       "3  3630_4          0  it must be assumed that those who praised this...   \n",
       "4  9495_8          1  superbly trashy and wondrously unpretentious  ...   \n",
       "\n",
       "                                               words  \\\n",
       "0  [stuff, going, moment, mj, started, listening,...   \n",
       "1  [classic, war, worlds, timothy, hines, enterta...   \n",
       "2  [film, starts, manager, nicholas, bell, giving...   \n",
       "3  [must, assumed, praised, film, greatest, filme...   \n",
       "4  [superbly, trashy, wondrously, unpretentious, ...   \n",
       "\n",
       "                                        tagged_words  \n",
       "0  [(must, MD), (bit, NN), (different, JJ), (spee...  \n",
       "1  [(wells, NNS), (shortcomings, NNS), (fare, NN)...  \n",
       "2  [(james, NNS), (performances, NNS), (reacting,...  \n",
       "3  [(must, MD), (loveliness, NN), (realisation, N...  \n",
       "4  [(give, VBP), (love, NN), (two, CD), (years, N...  "
      ]
     },
     "metadata": {},
     "output_type": "display_data"
    }
   ],
   "source": [
    "movies_reviews[\"tagged_words\"] = list(map(lambda row, words: list(set([w for w in \n",
    "                                                       nltk.pos_tag(nltk.word_tokenize(row))\n",
    "                                                       if w[0] in words])), \n",
    "                                   movies_reviews.review, movies_reviews.words))\n",
    "display(movies_reviews.head())"
   ]
  },
  {
   "cell_type": "markdown",
   "metadata": {},
   "source": [
    "Las palabras ya etiquetadas, para una de las revisiones, son:"
   ]
  },
  {
   "cell_type": "code",
   "execution_count": 4,
   "metadata": {
    "collapsed": false
   },
   "outputs": [
    {
     "name": "stdout",
     "output_type": "stream",
     "text": [
      "[('must', 'MD'), ('bit', 'NN'), ('different', 'JJ'), ('speed', 'NN'), ('eighties', 'NNS'), ('watching', 'VBG'), ('anyway', 'RB'), ('wants', 'VBZ'), ('jackson', 'VBP'), ('actual', 'JJ'), ('hate', 'VBP'), ('bad', 'JJ'), ('criminal', 'JJ'), ('kiddy', 'NN'), ('one', 'CD'), ('nah', 'VBP'), ('grace', 'VB'), ('saint', 'NN'), ('buddy', 'NN'), ('alone', 'RB'), ('starts', 'VBZ'), ('latter', 'NN'), ('made', 'VBD'), ('guilty', 'JJ'), ('pesci', 'NN'), ('behind', 'IN'), ('extremely', 'RB'), ('bestest', 'JJS'), ('obvious', 'JJ'), ('hate', 'VB'), ('supplying', 'VBG'), ('started', 'VBD'), ('drug', 'NN'), ('music', 'NN'), ('part', 'NN'), ('may', 'MD'), ('plans', 'NNS'), ('moonwalker', 'NN'), ('like', 'VBP'), ('ironically', 'RB'), ('nice', 'JJ'), ('subject', 'NN'), ('overheard', 'IN'), ('dead', 'JJ'), ('see', 'VB'), ('cool', 'JJ'), ('know', 'VB'), ('michael', 'NNS'), ('filming', 'VBG'), ('things', 'NNS'), ('think', 'VBP'), ('car', 'NN'), ('maybe', 'RB'), ('remotely', 'VBP'), ('doors', 'NNS'), ('boring', 'VBG'), ('mind', 'NN'), ('remember', 'VBP'), ('closed', 'JJ'), ('get', 'VB'), ('making', 'NN'), ('really', 'RB'), ('unless', 'IN'), ('originally', 'RB'), ('directors', 'NNS'), ('etc', 'FW'), ('liars', 'NNS'), ('also', 'RB'), ('dunno', 'NN'), ('bunch', 'NN'), ('jackson', 'NN'), ('talented', 'JJ'), ('consenting', 'VBG'), ('ranted', 'VBD'), ('stuff', 'NN'), ('joe', 'NN'), ('impressive', 'JJ'), ('working', 'VBG'), ('bottom', 'JJ'), ('wanted', 'VBD'), ('turning', 'VBG'), ('mj', 'NN'), ('beyond', 'IN'), ('documentary', 'NN'), ('certain', 'JJ'), ('visually', 'RB'), ('sequence', 'NN'), ('smooth', 'JJ'), ('going', 'VBG'), ('sickest', 'JJ'), ('thought', 'VBN'), ('try', 'VB'), ('convincing', 'VBG'), ('robot', 'NN'), ('michael', 'NN'), ('messages', 'NNS'), ('feature', 'NN'), ('planet', 'NN'), ('cinema', 'NN'), ('complex', 'JJ'), ('odd', 'JJ'), ('patience', 'NN'), ('call', 'VB'), ('line', 'NN'), ('character', 'NN'), ('well', 'RB'), ('innocent', 'JJ'), ('truly', 'RB'), ('hates', 'VBZ'), ('stay', 'VB'), ('drugs', 'NNS'), ('listening', 'VBG'), ('usually', 'RB'), ('dance', 'NN'), ('want', 'VB'), ('course', 'NN'), ('whether', 'IN'), ('mj', 'FW'), ('people', 'NNS'), ('minutes', 'NNS'), ('either', 'CC'), ('give', 'VB'), ('biography', 'NN'), ('stupid', 'JJ'), ('towards', 'IN'), ('true', 'JJ'), ('came', 'VBD'), ('level', 'NN'), ('say', 'VB'), ('excluding', 'VBG'), ('director', 'NN'), ('mj', 'JJ'), ('like', 'JJ'), ('subtle', 'VBN'), ('wholesome', 'JJ'), ('wiz', 'NN'), ('feeling', 'NN'), ('performing', 'VBG'), ('attention', 'NN'), ('kid', 'NN'), ('kay', 'NN'), ('lots', 'NNS'), ('another', 'DT'), ('watched', 'VBD'), ('guy', 'NN'), ('mj', 'VB'), ('lord', 'NN'), ('film', 'NN'), ('movie', 'NN'), ('away', 'RB'), ('would', 'MD'), ('powerful', 'JJ'), ('insight', 'NN'), ('find', 'VB'), ('demon', 'NN'), ('gave', 'VBD'), ('like', 'IN'), ('hmmm', 'VBZ'), ('message', 'NN'), ('know', 'VBP'), ('girl', 'NN'), ('egotist', 'NN'), ('hope', 'VBP'), ('make', 'VB'), ('fans', 'NNS'), ('fact', 'NN'), ('released', 'VBN'), ('psychopathic', 'JJ'), ('finally', 'RB'), ('scene', 'NN'), ('whole', 'JJ'), ('ever', 'RB'), ('let', 'VB'), ('moment', 'NN'), ('press', 'NN')]\n"
     ]
    }
   ],
   "source": [
    "print(movies_reviews[\"tagged_words\"][0])"
   ]
  },
  {
   "cell_type": "markdown",
   "metadata": {},
   "source": [
    "El significado de cada etiqueta puede obtenerse mediante el método `nltk.help.upenn_tagset`:"
   ]
  },
  {
   "cell_type": "code",
   "execution_count": 5,
   "metadata": {
    "collapsed": false
   },
   "outputs": [
    {
     "name": "stdout",
     "output_type": "stream",
     "text": [
      "NN: noun, common, singular or mass\n",
      "    common-carrier cabbage knuckle-duster Casino afghan shed thermostat\n",
      "    investment slide humour falloff slick wind hyena override subhumanity\n",
      "    machinist ...\n",
      "['bit', 'speed', 'eighties', 'kiddy', 'saint', 'buddy', 'latter', 'pesci', 'drug', 'music', 'part', 'plans', 'moonwalker', 'subject', 'michael', 'things', 'car', 'doors', 'mind', 'making', 'directors', 'liars', 'dunno', 'bunch', 'jackson', 'stuff', 'joe', 'mj', 'documentary', 'sequence', 'robot', 'michael', 'messages', 'feature', 'planet', 'cinema', 'patience', 'line', 'character', 'drugs', 'dance', 'course', 'people', 'minutes', 'biography', 'level', 'director', 'wiz', 'feeling', 'attention', 'kid', 'kay', 'lots', 'guy', 'lord', 'film', 'movie', 'insight', 'demon', 'message', 'girl', 'egotist', 'fans', 'fact', 'scene', 'moment', 'press'] \n",
      "\n",
      "VB: verb, base form\n",
      "    ask assemble assess assign assume atone attention avoid bake balkanize\n",
      "    bank begin behold believe bend benefit bevel beware bless boil bomb\n",
      "    boost brace break bring broil brush build ...\n",
      "['watching', 'wants', 'jackson', 'hate', 'nah', 'grace', 'starts', 'made', 'hate', 'supplying', 'started', 'like', 'see', 'know', 'filming', 'think', 'remotely', 'boring', 'remember', 'get', 'consenting', 'ranted', 'working', 'wanted', 'turning', 'going', 'thought', 'try', 'convincing', 'call', 'hates', 'stay', 'listening', 'want', 'give', 'came', 'say', 'excluding', 'subtle', 'performing', 'watched', 'mj', 'find', 'gave', 'hmmm', 'know', 'hope', 'make', 'released', 'let'] \n",
      "\n",
      "JJ: adjective or numeral, ordinal\n",
      "    third ill-mannered pre-war regrettable oiled calamitous first separable\n",
      "    ectoplasmic battery-powered participatory fourth still-to-be-named\n",
      "    multilingual multi-disciplinary ...\n",
      "['different', 'actual', 'bad', 'criminal', 'guilty', 'bestest', 'obvious', 'nice', 'dead', 'cool', 'closed', 'talented', 'impressive', 'bottom', 'certain', 'smooth', 'sickest', 'complex', 'odd', 'innocent', 'stupid', 'true', 'mj', 'like', 'wholesome', 'powerful', 'psychopathic', 'whole'] \n",
      "\n",
      "RB: adverb\n",
      "    occasionally unabatingly maddeningly adventurously professedly\n",
      "    stirringly prominently technologically magisterially predominately\n",
      "    swiftly fiscally pitilessly ...\n",
      "['anyway', 'alone', 'extremely', 'ironically', 'maybe', 'really', 'originally', 'also', 'visually', 'well', 'truly', 'usually', 'away', 'finally', 'ever'] \n",
      "\n"
     ]
    }
   ],
   "source": [
    "nltk.help.upenn_tagset('NN')\n",
    "nn = []\n",
    "for word in movies_reviews[\"tagged_words\"][0]: \n",
    "    if 'NN' in word[1]: \n",
    "        nn.append(word[0])\n",
    "print(nn, \"\\n\")\n",
    "\n",
    "nltk.help.upenn_tagset('VB')\n",
    "vbg = []\n",
    "for word in movies_reviews[\"tagged_words\"][0]: \n",
    "    if 'VB' in word[1]: \n",
    "        vbg.append(word[0])\n",
    "print(vbg, \"\\n\")\n",
    "\n",
    "nltk.help.upenn_tagset('JJ')\n",
    "jj = []\n",
    "for word in movies_reviews[\"tagged_words\"][0]: \n",
    "    if 'JJ' in word[1]: \n",
    "        jj.append(word[0])\n",
    "print(jj, \"\\n\")\n",
    "\n",
    "nltk.help.upenn_tagset('RB')\n",
    "rb = []\n",
    "for word in movies_reviews[\"tagged_words\"][0]: \n",
    "    if 'RB' in word[1]: \n",
    "        rb.append(word[0])\n",
    "print(rb, \"\\n\")\n"
   ]
  },
  {
   "cell_type": "markdown",
   "metadata": {
    "collapsed": true
   },
   "source": [
    "Puede observarse la estructura de árbol (no bien documentada :-|) del corpus *Penn Treebank*, por ejemplo en el caso de los nombres, donde la etiqueta `NN`integra las etiquetas `NNS`, `NNP` y `NNPS`:"
   ]
  },
  {
   "cell_type": "code",
   "execution_count": 27,
   "metadata": {
    "collapsed": false
   },
   "outputs": [
    {
     "name": "stdout",
     "output_type": "stream",
     "text": [
      "NN: noun, common, singular or mass\n",
      "    common-carrier cabbage knuckle-duster Casino afghan shed thermostat\n",
      "    investment slide humour falloff slick wind hyena override subhumanity\n",
      "    machinist ...\n",
      "['bit', 'speed', 'eighties', 'kiddy', 'saint', 'buddy', 'latter', 'pesci', 'drug', 'music', 'part', 'plans', 'moonwalker', 'subject', 'michael', 'things', 'car', 'doors', 'mind', 'making', 'directors', 'liars', 'dunno', 'bunch', 'jackson', 'stuff', 'joe', 'mj', 'documentary', 'sequence', 'robot', 'michael', 'messages', 'feature', 'planet', 'cinema', 'patience', 'line', 'character', 'drugs', 'dance', 'course', 'people', 'minutes', 'biography', 'level', 'director', 'wiz', 'feeling', 'attention', 'kid', 'kay', 'lots', 'guy', 'lord', 'film', 'movie', 'insight', 'demon', 'message', 'girl', 'egotist', 'fans', 'fact', 'scene', 'moment', 'press'] \n",
      "\n",
      "NNS: noun, common, plural\n",
      "    undergraduates scotches bric-a-brac products bodyguards facets coasts\n",
      "    divestitures storehouses designs clubs fragrances averages\n",
      "    subjectivists apprehensions muses factory-jobs ...\n",
      "['eighties', 'plans', 'michael', 'things', 'doors', 'directors', 'liars', 'messages', 'drugs', 'people', 'minutes', 'lots', 'fans'] \n",
      "\n",
      "NNP: noun, proper, singular\n",
      "    Motown Venneboerger Czestochwa Ranzer Conchita Trumplane Christos\n",
      "    Oceanside Escobar Kreisler Sawyer Cougar Yvette Ervin ODI Darryl CTCA\n",
      "    Shannon A.K.C. Meltex Liverpool ...\n",
      "[] \n",
      "\n",
      "NNPS: noun, proper, plural\n",
      "    Americans Americas Amharas Amityvilles Amusements Anarcho-Syndicalists\n",
      "    Andalusians Andes Andruses Angels Animals Anthony Antilles Antiques\n",
      "    Apache Apaches Apocrypha ...\n",
      "['friends'] \n",
      "\n"
     ]
    }
   ],
   "source": [
    "nltk.help.upenn_tagset('NN')\n",
    "nn = []\n",
    "for word in movies_reviews[\"tagged_words\"][0]: \n",
    "    if 'NN' in word[1]: \n",
    "        nn.append(word[0])\n",
    "print(nn, \"\\n\")\n",
    "\n",
    "nltk.help.upenn_tagset('NNS')\n",
    "nns = []\n",
    "for word in movies_reviews[\"tagged_words\"][0]: \n",
    "    if 'NNS' in word[1]: \n",
    "        nns.append(word[0])\n",
    "print(nns, \"\\n\")\n",
    "\n",
    "nltk.help.upenn_tagset('NNP')\n",
    "nnp = []\n",
    "for word in movies_reviews[\"tagged_words\"][0]: \n",
    "    if 'NNP' in word[1]: \n",
    "        nnp.append(word[0])\n",
    "print(nnp, \"\\n\")\n",
    "\n",
    "nltk.help.upenn_tagset('NNPS')\n",
    "nnps = []\n",
    "for word in movies_reviews[\"tagged_words\"][716]: \n",
    "    if 'NNPS' in word[1]: \n",
    "        nnps.append(word[0])\n",
    "print(nnps, \"\\n\")\n"
   ]
  },
  {
   "cell_type": "markdown",
   "metadata": {},
   "source": [
    "Los errores que arroja un etiquetador genérico pre entrenado, como el que hemos usado en esta prueba, son evidentes al observar las palabras que, por ejemplo, son etiquetadas aquí como `adjetivos`:"
   ]
  },
  {
   "cell_type": "code",
   "execution_count": 11,
   "metadata": {
    "collapsed": false
   },
   "outputs": [
    {
     "name": "stdout",
     "output_type": "stream",
     "text": [
      "24174 \n",
      "\n",
      "['whilst', 'umberto', 'kagan', 'hy', 'amato', 'gayle', 'laufther', 'ram', 'handicap', 'starship', 'commemorative', 'hilda', 'lakeside', 'worser', 'pike', 'ariel', 'libyan', 'travelled', 'materialized', 'headless', 'cartoonist', 'fastest', 'reek', 'addiction', 'intermittedly', 'sorter', 'guillermo', 'horibble', 'alecky', 'peculiar', 'samantha', 'prada', 'loose', 'wearisome', 'bedchamber', 'fantastical', 'antonionian', 'tenant', 'suraj', 'misshapen', 'dithyrambical', 'germaphobic', 'palma', 'intermediate', 'bemused', 'turk', 'macho', 'glittering', 'hunter', 'diy', 'sophomoric', 'eighteenth', 'dreadfull', 'ie', 'tell', 'sleepapedic', 'dull', 'earthy', 'akhras', 'reflexive', 'sibilant', 'crawford', 'smallweed', 'lowsy', 'movieman', 'torrential', 'tone', 'sctv', 'dodo', 'integrated', 'hippie', 'chinese', 'hornophobia', 'luana', 'satiated', 'kringle', 'mias', 'celi', 'thinner', 'texan', 'awakened', 'breathless', 'beautifull', 'cosmological', 'cattle', 'slaone', 'arrest', 'stoic', 'prevented', 'internecine', 'demme', 'flesh', 'interplanetary', 'benton', 'decline', 'samurai', 'drawn', 'occaisional', 'buster', 'edwardian', 'ravenous', 'soapy', 'atticus', 'wachowski', 'carnal', 'med', 'rapturous', 'glass', 'incorrigible', 'baltic', 'undervalued', 'fedevich', 'qian', 'denice', 'face', 'underwhelmed', 'tu', 'manoy', 'bullet', 'snapped', 'hyper', 'spiceworld', 'fetched', 'doubter', 'lindy', 'strictest', 'relish', 'castillian', 'talkie', 'gracia', 'purist', 'indicated', 'youssef', 'mcmillian', 'positive', 'equal', 'slowish', 'austin', 'guppy', 'heyday', 'posse', 'ottawa', 'mac', 'remake', 'untouched', 'hollywoodised', 'geraldo', 'process', 'jusassic', 'sandbagged', 'windblown', 'ashok', 'subtler', 'midohio', 'easier', 'scientific', 'spite', 'louise', 'premature', 'asl', 'stripes', 'malte', 'pasolini', 'dolph', 'undoing', 'implosive', 'plastic', 'darkend', 'mediatic', 'similarly', 'cathernine', 'suburbanite', 'filmhistory', 'thomsett', 'fishbourne', 'uninventive', 'conjured', 'squared', 'prohibitive', 'openminded', 'asimov', 'ummmph', 'vicarious', 'rectifier', 'picturesque', 'simian', 'gital', 'swim', 'hapless', 'ethnical', 'metrosexual', 'crocky', 'clubbed', 'flic', 'kansan', 'underrated', 'ratso', 'aronofsky', 'camping', 'cautionary', 'furious', 'emptiest', 'impact', 'fyi', 'missed', 'pavlov', 'eager', 'lavish', 'blemish', 'scanning', 'afterlife', 'contributing', 'patched', 'compatable', 'sima', 'karadzhic', 'oboe', 'nearer', 'sleaze', 'obliterated', 'garloupis', 'uglier', 'astrid', 'turkish', 'vocal', 'senseless', 'decimal', 'singles', 'unfunnily', 'pati', 'frame', 'cellar', 'blended', 'orpheus', 'sigrid', 'subordinated', 'twofold', 'shredder', 'surer', 'uden', 'comment', 'darker', 'moonlight', 'greenaway', 'patty', 'patriarchal', 'kaajal', 'demonstrable', 'solar', 'wasteful'] \n",
      "\n"
     ]
    }
   ],
   "source": [
    "jj_movies = []\n",
    "for row in movies_reviews[\"tagged_words\"]:\n",
    "    for word in row: \n",
    "        if 'JJ' in word[1]: \n",
    "            jj_movies.append(word[0])\n",
    "jj_movies = list(set(jj_movies))\n",
    "\n",
    "print(len(jj_movies), \"\\n\")\n",
    "print(jj_movies[:250], \"\\n\")"
   ]
  },
  {
   "cell_type": "markdown",
   "metadata": {},
   "source": [
    "Algo similar ocurre con las demás categorías, como la identificación de verbos"
   ]
  },
  {
   "cell_type": "code",
   "execution_count": 12,
   "metadata": {
    "collapsed": false
   },
   "outputs": [
    {
     "name": "stdout",
     "output_type": "stream",
     "text": [
      "28187 \n",
      "\n",
      "['whilst', 'arcand', 'chauffeured', 'umberto', 'whilereminding', 'outweighs', 'amato', 'basks', 'summarized', 'ram', 'rust', 'starship', 'hilda', 'britons', 'intermingles', 'spiced', 'ariel', 'scenesadded', 'tonnerre', 'travelled', 'materialized', 'reek', 'guillermo', 'paxson', 'duds', 'samantha', 'demotivated', 'prada', 'loose', 'wearisome', 'johntopping', 'strips', 'bedchamber', 'lapse', 'bridge', 'tenant', 'suraj', 'samways', 'stales', 'eschewed', 'palma', 'bemused', 'reappear', 'opener', 'macho', 'tended', 'conceit', 'glittering', 'lensing', 'hunter', 'overruled', 'diy', 'thudding', 'ie', 'tell', 'haywood', 'christens', 'dull', 'earthy', 'coincides', 'smooshed', 'biking', 'smallweed', 'crawford', 'munchausen', 'motocrossed', 'tone', 'iceland', 'restructure', 'integrated', 'avails', 'eliot', 'hippie', 'atreides', 'chinese', 'hornophobia', 'luana', 'kingdom', 'hawkins', 'vivica', 'keppel', 'kitaen', 'satiated', 'belgrad', 'merlin', 'thinner', 'compounded', 'awakened', 'drinks', 'lousing', 'breathless', 'cons', 'splashed', 'trebek', 'arrest', 'stoic', 'frenzy', 'prevented', 'demme', 'keeling', 'flesh', 'expels', 'benton', 'stymie', 'decline', 'lapaine', 'samurai', 'drawn', 'buster', 'soapy', 'veg', 'wachowski', 'photocopied', 'med', 'classmate', 'glass', 'quartet', 'canonizes', 'janitor', 'filmgoing', 'undervalued', 'savoured', 'stroked', 'giraud', 'face', 'underwhelmed', 'parsing', 'bullet', 'rescinds', 'abscond', 'snapped', 'googled', 'explicated', 'hyper', 'apparentlyunengineered', 'suffices', 'fetched', 'mhatre', 'lindy', 'vacillate', 'relish', 'talkie', 'dunno', 'indicated', 'standpoint', 'youssef', 'coined', 'unreviewed', 'equal', 'austin', 'ottawa', 'mac', 'sunways', 'remake', 'cooperating', 'untouched', 'geraldo', 'cajoling', 'process', 'missunderstand', 'stephens', 'subtler', 'sooni', 'vacuum', 'easier', 'kosleck', 'spite', 'mussed', 'bagged', 'priming', 'rappelling', 'louise', 'premature', 'asl', 'stripes', 'pasolini', 'dolph', 'undoing', 'bettering', 'forpractice', 'cook', 'roast', 'yada', 'dechifered', 'aveu', 'colorize', 'woke', 'lemora', 'conjured', 'inhabited', 'squared', 'klicking', 'antagonizing', 'suspenseless', 'motor', 'purge', 'hitchhiking', 'asimov', 'reappraised', 'immitating', 'regains', 'sagas', 'althogh', 'becalmed', 'redden', 'enraging', 'swim', 'supporters', 'outbid', 'caked', 'stemming', 'toughened', 'kubrik', 'herein', 'debating', 'underrated', 'ratso', 'aronofsky', 'camping', 'impact', 'fyi', 'danzig', 'missed', 'pavlov', 'scanning', 'lavish', 'eager', 'rises', 'augured', 'contributing', 'patched', 'mattering', 'tamper', 'withholds', 'unlocks', 'bosses', 'gloves', 'nearer', 'sleaze', 'seam', 'obliterated', 'homages', 'turkish', 'plop', 'condescends', 'boost', 'senseless', 'dissipating', 'idiotized', 'mishandle'] \n",
      "\n"
     ]
    }
   ],
   "source": [
    "vb_movies = []\n",
    "for row in movies_reviews[\"tagged_words\"]:\n",
    "    for word in row: \n",
    "        if 'VB' in word[1]: \n",
    "            vb_movies.append(word[0])\n",
    "vb_movies = list(set(vb_movies))\n",
    "\n",
    "print(len(vb_movies), \"\\n\")\n",
    "print(vb_movies[:250], \"\\n\")"
   ]
  },
  {
   "cell_type": "markdown",
   "metadata": {},
   "source": [
    "Y, aunque menos evidente, debido en parte a la cantidad de términos, también se presenta con los sustantivos:"
   ]
  },
  {
   "cell_type": "code",
   "execution_count": 15,
   "metadata": {
    "collapsed": false
   },
   "outputs": [
    {
     "name": "stdout",
     "output_type": "stream",
     "text": [
      "52842 \n",
      "\n",
      "['similarity', 'dumbs', 'copain', 'rebarba', 'capacities', 'jellyfish', 'carre', 'selection', 'headley', 'immanuel', 'salutes', 'breadth', 'outgrew', 'baylock', 'imdbs', 'artefact', 'trailers', 'sunsets', 'laughter', 'wastrel', 'conservation', 'isolating', 'welch', 'makhmalbaf', 'deter', 'miaows', 'correspondent', 'proposes', 'nepal', 'miscue', 'cornrows', 'hrpuff', 'idiosyncrasy', 'locks', 'blades', 'lyndon', 'goodall', 'teuton', 'francessca', 'ruscico', 'eytan', 'superfly', 'losses', 'doesnt', 'yalom', 'iris', 'leonidas', 'authur', 'copying', 'briefcases', 'sigur', 'deserve', 'descents', 'zhi', 'diagram', 'frank', 'plateaus', 'soundbites', 'tbi', 'leiji', 'mcneil', 'jaysun', 'beauticin', 'magnificent', 'gaines', 'tides', 'parades', 'skillet', 'passers', 'jolt', 'lomax', 'dentists', 'synthesis', 'darkman', 'pharmacy', 'serio', 'psychosis', 'pulsates', 'extravagance', 'weedy', 'malarky', 'exception', 'plucks', 'pendant', 'rubin', 'preparing', 'sev', 'incoming', 'reisman', 'yaphet', 'myeres', 'transmitter', 'kirchenbauer', 'pretences', 'deserting', 'grieving', 'gallo', 'keenans', 'ryan', 'budakon', 'tros', 'flu', 'ditches', 'backroom', 'audi', 'marblehead', 'shimkus', 'eclipse', 'tarus', 'occhipinti', 'kiss', 'keying', 'telehobbie', 'hymn', 'chistina', 'scola', 'market', 'congestion', 'jordache', 'happiest', 'documents', 'rios', 'pago', 'meters', 'rawail', 'puerile', 'skyraiders', 'rivas', 'malcontent', 'adeline', 'bored', 'mt', 'slob', 'mesoamericans', 'primal', 'ranikhet', 'unemployment', 'clavichord', 'prolific', 'intersections', 'spanner', 'spearritt', 'belles', 'zara', 'glenrowan', 'kremlin', 'onibaba', 'yasmine', 'cheez', 'relationships', 'banal', 'seamus', 'sartorius', 'whiners', 'lerman', 'thinkfilm', 'wormy', 'athleticism', 'rarity', 'idap', 'coalville', 'credibly', 'earthiness', 'biological', 'melania', 'nancy', 'isobel', 'hofman', 'oboro', 'rosey', 'alatri', 'goosey', 'mislead', 'bulldozer', 'prix', 'hesitancies', 'doorknob', 'couer', 'teleportation', 'genetics', 'watsons', 'inveresk', 'xu', 'remmi', 'pyrenees', 'wooooooooohhhh', 'tamilyn', 'spaniard', 'onscreen', 'shack', 'cacti', 'informations', 'flinstones', 'gpa', 'flightplan', 'terorism', 'outnumbers', 'ewan', 'cashback', 'quigley', 'foppery', 'witte', 'nothings', 'johanne', 'dummy', 'fleeing', 'kinkade', 'skinamax', 'totter', 'fdtb', 'technician', 'gozu', 'plebs', 'centerers', 'luciano', 'contagonists', 'clyton', 'andrej', 'remaining', 'ahhhh', 'ind', 'crocodiles', 'johnsons', 'doggies', 'hiltz', 'edification', 'fett', 'pronounce', 'devoy', 'fantine', 'pageant', 'gudalcanal', 'wahala', 'petersburg', 'overthrown', 'kristine', 'abbasi', 'mercurio', 'esperanto', 'grappler', 'sforza', 'doctorates', 'bacchus', 'hemmitt', 'observer', 'influx', 'imitations', 'holroyd', 'gland', 'inpromptu'] \n",
      "\n"
     ]
    }
   ],
   "source": [
    "nn_movies = []\n",
    "for row in movies_reviews[\"tagged_words\"]:\n",
    "    for word in row: \n",
    "        if 'NN' in word[1]: \n",
    "            nn_movies.append(word[0])\n",
    "nn_movies = list(set(nn_movies))\n",
    "\n",
    "print(len(nn_movies), \"\\n\")\n",
    "print(nn_movies[500:750], \"\\n\")"
   ]
  },
  {
   "cell_type": "markdown",
   "metadata": {},
   "source": [
    "### Entrenamiento de un etiquetador propio\n",
    "\n",
    "Entrenar un etiquetador propio es un proceso costoso y largo, ya que hay que etiquetar manualmente un lexicón. Intentemos con nuestro lexicón de Comics. "
   ]
  },
  {
   "cell_type": "code",
   "execution_count": 16,
   "metadata": {
    "collapsed": false
   },
   "outputs": [
    {
     "data": {
      "text/html": [
       "<div>\n",
       "<style>\n",
       "    .dataframe thead tr:only-child th {\n",
       "        text-align: right;\n",
       "    }\n",
       "\n",
       "    .dataframe thead th {\n",
       "        text-align: left;\n",
       "    }\n",
       "\n",
       "    .dataframe tbody tr th {\n",
       "        vertical-align: top;\n",
       "    }\n",
       "</style>\n",
       "<table border=\"1\" class=\"dataframe\">\n",
       "  <thead>\n",
       "    <tr style=\"text-align: right;\">\n",
       "      <th></th>\n",
       "      <th>title</th>\n",
       "      <th>description</th>\n",
       "      <th>new_description</th>\n",
       "    </tr>\n",
       "  </thead>\n",
       "  <tbody>\n",
       "    <tr>\n",
       "      <th>0</th>\n",
       "      <td>'Mazing Man</td>\n",
       "      <td>mazing man is the title character of a comic b...</td>\n",
       "      <td>mazing_man man title_character comic_book_seri...</td>\n",
       "    </tr>\n",
       "    <tr>\n",
       "      <th>1</th>\n",
       "      <td>711 (Quality Comics)</td>\n",
       "      <td>is a fictional superhero from the golden age o...</td>\n",
       "      <td>711_quality_comics fictional superhero golden_...</td>\n",
       "    </tr>\n",
       "    <tr>\n",
       "      <th>2</th>\n",
       "      <td>Abigail Brand</td>\n",
       "      <td>special agent special agent abigail brand is a...</td>\n",
       "      <td>abigail_brand special agent special agent abig...</td>\n",
       "    </tr>\n",
       "    <tr>\n",
       "      <th>3</th>\n",
       "      <td>Abin Sur</td>\n",
       "      <td>abin sur is a fictional character and a superh...</td>\n",
       "      <td>abin_sur abin sur fictional_character superher...</td>\n",
       "    </tr>\n",
       "    <tr>\n",
       "      <th>4</th>\n",
       "      <td>Abner Jenkins</td>\n",
       "      <td>abner ronald jenkins formerly known as the bee...</td>\n",
       "      <td>abner_jenkins abner ronald jenkins formerly_kn...</td>\n",
       "    </tr>\n",
       "  </tbody>\n",
       "</table>\n",
       "</div>"
      ],
      "text/plain": [
       "                  title                                        description  \\\n",
       "0           'Mazing Man  mazing man is the title character of a comic b...   \n",
       "1  711 (Quality Comics)  is a fictional superhero from the golden age o...   \n",
       "2         Abigail Brand  special agent special agent abigail brand is a...   \n",
       "3              Abin Sur  abin sur is a fictional character and a superh...   \n",
       "4         Abner Jenkins  abner ronald jenkins formerly known as the bee...   \n",
       "\n",
       "                                     new_description  \n",
       "0  mazing_man man title_character comic_book_seri...  \n",
       "1  711_quality_comics fictional superhero golden_...  \n",
       "2  abigail_brand special agent special agent abig...  \n",
       "3  abin_sur abin sur fictional_character superher...  \n",
       "4  abner_jenkins abner ronald jenkins formerly_kn...  "
      ]
     },
     "metadata": {},
     "output_type": "display_data"
    }
   ],
   "source": [
    "import json\n",
    "\n",
    "file = 'Data Sets/Comics/clean_lexicon_comics.json'\n",
    "with open(file) as comics_file:\n",
    "    dict_comics = json.load(comics_file)\n",
    "comicsDf = pd.DataFrame.from_dict(dict_comics)\n",
    "\n",
    "comicsDf = comicsDf.reindex_axis(['title',\"description\", \"new_description\"], axis=1)\n",
    "display(comicsDf.head())"
   ]
  },
  {
   "cell_type": "markdown",
   "metadata": {},
   "source": [
    "Seleccionamos los primeros 50 registros, para facilitar el análisis:"
   ]
  },
  {
   "cell_type": "code",
   "execution_count": 32,
   "metadata": {
    "collapsed": false
   },
   "outputs": [
    {
     "data": {
      "text/html": [
       "<div>\n",
       "<style>\n",
       "    .dataframe thead tr:only-child th {\n",
       "        text-align: right;\n",
       "    }\n",
       "\n",
       "    .dataframe thead th {\n",
       "        text-align: left;\n",
       "    }\n",
       "\n",
       "    .dataframe tbody tr th {\n",
       "        vertical-align: top;\n",
       "    }\n",
       "</style>\n",
       "<table border=\"1\" class=\"dataframe\">\n",
       "  <thead>\n",
       "    <tr style=\"text-align: right;\">\n",
       "      <th></th>\n",
       "      <th>title</th>\n",
       "      <th>description</th>\n",
       "      <th>new_description</th>\n",
       "      <th>tagged_words</th>\n",
       "    </tr>\n",
       "  </thead>\n",
       "  <tbody>\n",
       "    <tr>\n",
       "      <th>0</th>\n",
       "      <td>'Mazing Man</td>\n",
       "      <td>mazing man is the title character of a comic b...</td>\n",
       "      <td>mazing_man man title_character comic_book_seri...</td>\n",
       "      <td>[(bit, NN), (denton, VBP), (secret, JJ), (publ...</td>\n",
       "    </tr>\n",
       "    <tr>\n",
       "      <th>1</th>\n",
       "      <td>711 (Quality Comics)</td>\n",
       "      <td>is a fictional superhero from the golden age o...</td>\n",
       "      <td>711_quality_comics fictional superhero golden_...</td>\n",
       "      <td>[(hospital, NN), (jail, NN), (markstein, NN), ...</td>\n",
       "    </tr>\n",
       "    <tr>\n",
       "      <th>2</th>\n",
       "      <td>Abigail Brand</td>\n",
       "      <td>special agent special agent abigail brand is a...</td>\n",
       "      <td>abigail_brand special agent special agent abig...</td>\n",
       "      <td>[(reality, NN), (witness, VB), (guard, NN), (i...</td>\n",
       "    </tr>\n",
       "    <tr>\n",
       "      <th>3</th>\n",
       "      <td>Abin Sur</td>\n",
       "      <td>abin sur is a fictional character and a superh...</td>\n",
       "      <td>abin_sur abin sur fictional_character superher...</td>\n",
       "      <td>[(scott, NN), (reality, NN), (together, RB), (...</td>\n",
       "    </tr>\n",
       "    <tr>\n",
       "      <th>4</th>\n",
       "      <td>Abner Jenkins</td>\n",
       "      <td>abner ronald jenkins formerly known as the bee...</td>\n",
       "      <td>abner_jenkins abner ronald jenkins formerly_kn...</td>\n",
       "      <td>[(jail, NN), (together, RB), (liberation, NN),...</td>\n",
       "    </tr>\n",
       "  </tbody>\n",
       "</table>\n",
       "</div>"
      ],
      "text/plain": [
       "                  title                                        description  \\\n",
       "0           'Mazing Man  mazing man is the title character of a comic b...   \n",
       "1  711 (Quality Comics)  is a fictional superhero from the golden age o...   \n",
       "2         Abigail Brand  special agent special agent abigail brand is a...   \n",
       "3              Abin Sur  abin sur is a fictional character and a superh...   \n",
       "4         Abner Jenkins  abner ronald jenkins formerly known as the bee...   \n",
       "\n",
       "                                     new_description  \\\n",
       "0  mazing_man man title_character comic_book_seri...   \n",
       "1  711_quality_comics fictional superhero golden_...   \n",
       "2  abigail_brand special agent special agent abig...   \n",
       "3  abin_sur abin sur fictional_character superher...   \n",
       "4  abner_jenkins abner ronald jenkins formerly_kn...   \n",
       "\n",
       "                                        tagged_words  \n",
       "0  [(bit, NN), (denton, VBP), (secret, JJ), (publ...  \n",
       "1  [(hospital, NN), (jail, NN), (markstein, NN), ...  \n",
       "2  [(reality, NN), (witness, VB), (guard, NN), (i...  \n",
       "3  [(scott, NN), (reality, NN), (together, RB), (...  \n",
       "4  [(jail, NN), (together, RB), (liberation, NN),...  "
      ]
     },
     "metadata": {},
     "output_type": "display_data"
    }
   ],
   "source": [
    "train_comicsDf = comicsDf[:50].copy()\n",
    "train_comicsDf[\"tagged_words\"] = list(map(lambda row, words: list(set(\n",
    "    [w for w in nltk.pos_tag(nltk.word_tokenize(row)) if w[0] in words.split()])),\n",
    "                        train_comicsDf.description, train_comicsDf.new_description))\n",
    "\n",
    "display(train_comicsDf.head())"
   ]
  },
  {
   "cell_type": "markdown",
   "metadata": {},
   "source": [
    "Nuevamente, hemos hecho el etiquetado a partir del texto completo y lo restringimos a las palabras del lexicón. Los tokens compuestos requieren un tratamiento adicional. El etiquetado de un documento ejemplo es:"
   ]
  },
  {
   "cell_type": "code",
   "execution_count": 18,
   "metadata": {
    "collapsed": false
   },
   "outputs": [
    {
     "name": "stdout",
     "output_type": "stream",
     "text": [
      "[('bit', 'NN'), ('denton', 'VBP'), ('secret', 'JJ'), ('published', 'VBN'), ('give', 'VBP'), ('man', 'NN'), ('ability', 'NN'), ('zombie', 'NN'), ('valentine', 'NN'), ('eddie', 'VBP'), ('daily', 'JJ'), ('year', 'NN'), ('one', 'NN'), ('tom', 'NN'), ('positive', 'JJ'), ('unaware', 'JJ'), ('watching', 'VBG'), ('accident', 'NN'), ('songs', 'NNS'), ('married', 'JJ'), ('highly', 'RB'), ('star', 'NN'), ('city', 'NN'), ('john', 'NN'), ('one', 'CD'), ('heroics', 'NNS'), ('shirt', 'NN'), ('publish', 'VB'), ('tends', 'NNS'), ('continuity', 'NN'), ('external', 'JJ'), ('mention', 'VB'), ('team', 'NN'), ('original', 'JJ'), ('hook', 'NN'), ('manager', 'NN'), ('lifestyle', 'NN'), ('eddie', 'VB'), ('prone', 'NN'), ('list', 'NN'), ('extremely', 'RB'), ('assistant', 'NN'), ('felt', 'VBD'), ('building', 'NN'), ('south', 'JJ'), ('category', 'NN'), ('special', 'JJ'), ('crook', 'NN'), ('head', 'NN'), ('three', 'CD'), ('bank', 'NN'), ('deranged', 'JJ'), ('financial', 'JJ'), ('looking', 'VBG'), ('remember', 'VB'), ('steps', 'NNS'), ('beer', 'NN'), ('drains', 'NNS'), ('wealth', 'NN'), ('millionaire', 'NN'), ('dead', 'JJ'), ('company', 'NN'), ('women', 'NNS'), ('miniseries', 'NNS'), ('use', 'NN'), ('humor', 'NN'), ('lives', 'VBZ'), ('magazine', 'NN'), ('back', 'RB'), ('next', 'JJ'), ('additional', 'JJ'), ('ran', 'VBD'), ('drawn', 'VBN'), ('publications', 'NNS'), ('violence', 'NN'), ('negative', 'JJ'), ('baby', 'NN'), ('receives', 'VBZ'), ('simply', 'RB'), ('adventures', 'NNS'), ('superhero', 'NN'), ('depicts', 'VBZ'), ('rising', 'VBG'), ('richmond', 'NN'), ('walter', 'NN'), ('appeared', 'VBD'), ('admired', 'VBD'), ('fixx', 'JJ'), ('catastrophe', 'NN'), ('issue', 'NN'), ('keep', 'VB'), ('met', 'VBN'), ('place', 'NN'), ('segment', 'NN'), ('help', 'VB'), ('deeds', 'NNS'), ('front', 'JJ'), ('media', 'NNS'), ('eddie', 'FW'), ('miller', 'NN'), ('guide', 'JJ'), ('per', 'NN'), ('popular', 'JJ'), ('without', 'IN'), ('living', 'NN'), ('job', 'NN'), ('survive', 'JJ'), ('denton', 'JJ'), ('writer', 'NN'), ('apparent', 'JJ'), ('first', 'JJ'), ('way', 'NN'), ('sick', 'NN'), ('property', 'NN'), ('dresses', 'VBZ'), ('costume', 'NN'), ('narrative', 'JJ'), ('stream', 'NN'), ('dealt', 'FW'), ('glove', 'NN'), ('watson', 'JJ'), ('introduce', 'VB'), ('exposure', 'NN'), ('quincy', 'NN'), ('truck', 'NN'), ('live', 'VB'), ('queens', 'JJ'), ('category', 'JJ'), ('addition', 'NN'), ('magazines', 'NNS'), ('subsequent', 'JJ'), ('prize', 'NN'), ('little', 'JJ'), ('shock', 'NN'), ('gold', 'NN'), ('featuring', 'VBG'), ('drinking', 'VBG'), ('ideas', 'NNS'), ('sgt', 'VBD'), ('adventurers', 'NNS'), ('food', 'NN'), ('feature', 'NN'), ('enough', 'JJ'), ('brenda', 'VB'), ('eddie', 'NN'), ('mrs', 'VBP'), ('stuck', 'VBN'), ('energy', 'NN'), ('batman', 'NN'), ('performs', 'NNS'), ('stores', 'NNS'), ('buyer', 'NN'), ('brave', 'NN'), ('usually', 'RB'), ('winner', 'NN'), ('friends', 'NNS'), ('issues', 'NNS'), ('whose', 'WP$'), ('space', 'NN'), ('brenda', 'NN'), ('jock', 'NN'), ('specifically', 'RB'), ('word', 'NN'), ('created', 'VBD'), ('army', 'NN'), ('guido', 'NN'), ('editor', 'NN'), ('series', 'NN'), ('publicity', 'NN'), ('works', 'VBZ'), ('iii', 'VBP'), ('dog', 'NN'), ('including', 'VBG'), ('grunts', 'NNS'), ('attempt', 'NN'), ('owen', 'NN'), ('around', 'IN'), ('although', 'IN'), ('wondering', 'VBG'), ('book', 'NN'), ('simon', 'NN'), ('stephen', 'JJ'), ('disapproval', 'NN'), ('plagued', 'VBN'), ('acclaimed', 'VBN'), ('fixx', 'NN'), ('stuffed', 'JJ'), ('story', 'NN'), ('mother', 'NN'), ('promoted', 'VBD'), ('voiced', 'VBN'), ('human', 'JJ'), ('comics', 'NNS'), ('death', 'NN'), ('harmless', 'NN'), ('supposed', 'VBN'), ('kenny', 'NN'), ('appearances', 'NNS'), ('written', 'VBN'), ('active', 'JJ'), ('favorite', 'JJ'), ('assistant', 'VB'), ('batman', 'VBD'), ('ostensibly', 'RB'), ('named', 'VBN'), ('local', 'JJ'), ('approval', 'NN'), ('child', 'NN'), ('result', 'NN'), ('genuinely', 'RB'), ('mention', 'NN'), ('baseball', 'NN'), ('resulting', 'VBG'), ('struck', 'NN'), ('interest', 'NN'), ('characters', 'NNS'), ('handful', 'NN'), ('batman', 'IN'), ('player', 'NN'), ('hair', 'NN'), ('couple', 'NN'), ('success', 'NN'), ('style', 'NN'), ('stories', 'NNS'), ('four', 'CD'), ('links', 'NNS'), ('none', 'NN'), ('block', 'NN'), ('row', 'NN'), ('winning', 'VBG'), ('contributed', 'VBD'), ('pursuing', 'VBG'), ('never', 'RB'), ('kitty', 'JJ'), ('eager', 'NN'), ('married', 'VBN'), ('viewed', 'VBN'), ('children', 'NNS'), ('category', 'VBP'), ('like', 'IN'), ('denton', 'NN'), ('spectacular', 'NN'), ('however', 'RB'), ('received', 'VBD'), ('agency', 'NN'), ('time', 'NN'), ('cover', 'NN'), ('authority', 'NN'), ('saves', 'VBZ'), ('released', 'VBN'), ('called', 'VBN'), ('respect', 'NN'), ('lack', 'NN'), ('inspiration', 'NN'), ('parody', 'NN'), ('articles', 'NNS'), ('wrote', 'VBD'), ('hit', 'VBN'), ('gained', 'VBD'), ('created', 'VBN'), ('fred', 'JJ'), ('spends', 'VBZ'), ('earning', 'VBG'), ('reads', 'VBZ'), ('forbidden', 'VBN')]\n"
     ]
    }
   ],
   "source": [
    "print(train_comicsDf[\"tagged_words\"][0])"
   ]
  },
  {
   "cell_type": "markdown",
   "metadata": {},
   "source": [
    "Como puede observarse, aparecen también palabras más clasificadas. Por ejemplo, para el caso de los adjetivos (el principal tipo de palabra para evaluar polaridad), obtenemos lo siguiente, para el conjunto completo de 50 registros:"
   ]
  },
  {
   "cell_type": "code",
   "execution_count": 20,
   "metadata": {
    "collapsed": false
   },
   "outputs": [
    {
     "name": "stdout",
     "output_type": "stream",
     "text": [
      "1501 \n",
      "\n",
      "['individual', 'jeremy', 'earth', 'unlockable', 'spyder', 'nephew', 'unpublished', 'unwilling', 'ign', 'winning', 'multiple', 'excello', 'csa', 'mysterious', 'ninja', 'rich', 'finale', 'cho', 'xorn', 'proper', 'fastest', 'utilizes', 'legal', 'stephen', 'redirect', 'opal', 'obscure', 'famous', 'eclipso', 'texas', 'loose', 'paradise', 'pretty', 'battled', 'miss', 'primary', 'intense', 'literary', 'tactician', 'ganthet', 'visual', 'skaar', 'intervene', 'atalanta', 'disembodied', 'jeffrey', 'north', 'indian', 'mantle', 'exile', 'politician', 'good', 'millennium', 'sixth', 'residual', 'black', 'horrible', 'heroic', 'skilled', 'chinese', 'angel', 'sepulchre', 'unused', 'simon', 'braddock', 'nazi', 'various', 'dec', 'slingshot', 'connected', 'disillusioned', 'alien', 'clark', 'roderick', 'sur', 'wounded', 'flesh', 'fascist', 'interplanetary', 'firelord', 'parallel', 'corazon', 'android', 'semi', 'armstrong', 'prey', 'self', 'sabretooth', 'prototype', 'twisted', 'nightmare', 'ten', 'reinvented', 'sid', 'online', 'tom', 'sadistic', 'realistic', 'malebolgia', 'anthropomorphic', 'hybrid', 'historical', 'jpg', 'pratt', 'complete', 'native', 'impenetrable', 'hyper', 'bucky', 'incredible', 'dramatic', 'african', 'pattern', 'cool', 'hepzibah', 'indicated', 'ambiguous', 'positive', 'excellent', 'anti', 'martian', 'equal', 'twelve', 'male', 'storyline', 'flexible', 'austin', 'unexpected', 'regular', 'detailed', 'mutant', 'technological', 'thanagar', 'minor', 'following', 'trask', 'unable', 'earliest', 'denton', 'eponymous', 'scientific', 'library', 'regenerative', 'ollie', 'task', 'upon', 'literal', 'mere', 'grim', 'juvenile', 'amongst', 'stewart', 'insane', 'maximum', 'mexico', 'comics', 'wizard', 'effective', 'critical', 'wooden', 'nighthawk', 'magus', 'rid', 'superwoman', 'venom', 'radian', 'everyman', 'fill', 'starhawk', 'experience', 'received', 'thirteen', 'kitty', 'korean', 'possess', 'anarky', 'narrative', 'ghaur', 'talented', 'gritty', 'asgard', 'foster', 'servant', 'future', 'pro', 'appear', 'key', 'unbeknownst', 'left', 'usurp', 'text', 'initial', 'strongbow', 'osborn', 'website', 'tyrannical', 'extended', 'mexican', 'checkmate', 'senior', 'team', 'able', 'painted', 'prominent', 'unsuccessful', 'reformed', 'modern', 'verse', 'arizona', 'lady', 'tyrant', 'gold', 'seek', 'robert', 'right', 'tech', 'known', 'perspective', 'horrific', 'ogord', 'bigger', 'ordinary', 'cosmic', 'gigantic', 'pip', 'real', 'false', 'sandman', 'nextwave', 'designated', 'plotted', 'sympathetic', 'degree', 'sefton', 'alternative', 'cassaday', 'shot', 'morlun', 'occasional', 'graphic', 'solar', 'superior', 'conscious', 'eric', 'ultimo', 'titus', 'inherent', 'clear', 'thereafter', 'sapiens'] \n",
      "\n"
     ]
    }
   ],
   "source": [
    "jj_comics = []\n",
    "for row in train_comicsDf[\"tagged_words\"]:\n",
    "    for word in row: \n",
    "        if 'JJ' in word[1]: \n",
    "            jj_comics.append(word[0])\n",
    "jj_comics = list(set(jj_comics))\n",
    "\n",
    "print(len(jj_comics), \"\\n\")\n",
    "print(jj_comics[:250], \"\\n\")"
   ]
  },
  {
   "cell_type": "markdown",
   "metadata": {},
   "source": [
    "Un análisis detallado arroja las siguientes palabras etiquetadas como adjetivos, siendo nombres (y, de paso, algunas palabras inútiles):"
   ]
  },
  {
   "cell_type": "code",
   "execution_count": 28,
   "metadata": {
    "collapsed": false
   },
   "outputs": [
    {
     "name": "stdout",
     "output_type": "stream",
     "text": [
      "Palabras mal etiquetadas como Adjetivo: 440\n"
     ]
    }
   ],
   "source": [
    "wrong_jjs = ['nose', 'august', 'pistols', 'larry', 'brian', 'episode', 'earth', 'xorn', \n",
    "            'toei', 'north', 'gamma', 'ogord', 'underworld', 'thunderbolts', 'wolverine', \n",
    "            'morlun', 'text', 'amon', 'sam', 'vol', 'manhattan', 'tom', 'starman', 'dave', \n",
    "            'anderson', 'ray', 'hourman', 'collar', 'amy', 'francine', 'john', 'sid', \n",
    "            'beak', 'stephen', 'armstrong', 'bucky', 'edward', 'obsidian', 'south', 'cho', \n",
    "            'thomas', 'mexico', 'deadpool', 'roderick', 'csa', 'newsarama', 'sabretooth', \n",
    "            'terry', 'texas', 'fabian', 'blackthorn', 'chicago', 'thor', 'friday', 'oct', \n",
    "            'mary', 'virginia', 'september', 'november', 'austin', 'pen', 'july', 'superman', \n",
    "            'andrea', 'david', 'braddock', 'lexcorp', 'magus', 'flatman', 'werewolf', \n",
    "            'lana', 'entropy', 'steve', 'thanagar', 'starheart', 'website', 'sebastian', \n",
    "            'jean', 'fujikawa', 'cameron', 'lobo', 'corps', 'sorceress', 'abe', 'onslaught', \n",
    "            'spyder', 'leslie', 'romanova', 'bobbi', 'january', 'manga', 'erik', 'blacklight', \n",
    "            'ollie', 'sep', 'zar', 'surtur', 'hobgoblin', 'marcus', 'comet', 'liz', \n",
    "            'nighthawk', 'marvel', 'spaceship', 'chest', 'gaiman', 'west', 'malebolgia', \n",
    "            'breyfogle', 'athena', 'corazon', 'cosmo', 'anya', 'superboy', 'archive', 'equal', \n",
    "            'america', 'workshop', 'fox', 'gun', 'nyx', 'object', 'pratt', 'germany', \n",
    "            'parallax', 'arin', 'mephisto', 'millennium', 'agent', 'bug', 'lionel', 'nihilo', \n",
    "            'hercules', 'legs', 'giganta', 'americop', 'heven', 'february', 'mikaboshi', \n",
    "            'batman', 'gary', 'saga', 'trask', 'ajax', 'gog', 'katie', 'sinestro', 'stargirl', \n",
    "            'quasar', 'emma', 'gyrich', 'universe', 'nazi', 'frank', 'ian', 'quicksilver', \n",
    "            'scott', 'alex', 'kaine', 'gamora', 'miss', 'gilbert', 'sword', 'jeffrey', 'feb', \n",
    "            'ernie', 'beatty', 'donna', 'girl', 'neil', 'lieutenant', 'assassin', 'madelyne', \n",
    "            'jake', 'watson', 'simon', 'retcon', 'december', 'azazel', 'lee', 'nicieza', \n",
    "            'jessica', 'atlantis', 'centaur', 'nicholas', 'storyline', 'aug', 'hal', 'venom', \n",
    "            'damian', 'dc', 'alchemax', 'demon', 'arizona', 'excalibur', 'rodriguez', 'dec', \n",
    "            'dr', 'odin', 'andromeda', 'greg', 'lake', 'toy', 'steven', 'hive', 'thanos', \n",
    "            'gwen', 'helmet', 'xandarian', 'ganthet', 'alanna', 'wooden', 'atalanta', 'clark', \n",
    "            'smallville', 'morituri', 'daredevil', 'cat', 'bros', 'queens', 'dragon', 'stark', \n",
    "            'usa', 'amanda', 'johnny', 'schwartz', 'galactus', 'bio', 'nintendo', 'tamaran', \n",
    "            'arnold', 'god', 'sophie', 'angels', 'norman', 'teammate', 'fred', 'sandi', \n",
    "            'nov', 'superwoman', 'magneto', 'lady', 'thanagarian', 'kirk', 'blob', 'jordan', \n",
    "            'web', 'lonnie', 'gemworld', 'bruce', 'boy', 'ultraverse', 'april', 'angela', \n",
    "            'omac', 'kirby', 'abin', 'file', 'illyana', 'uatu', 'asgard', 'alfred', 'duncan', \n",
    "            'azrael', 'wade', 'francis', 'urich', 'scorpio', 'octavius', 'ursa', 'wilson', \n",
    "            'loki', 'hawkeye', 'osborn', 'darhk', 'elseworlds', 'verse', 'terrible', 'roger', \n",
    "            'christopher', 'spider', 'bullseye', 'arrow', 'earths', 'alexander', 'lex', \n",
    "            'sega', 'shaw', 'sunpyre', 'witch', 'imperiex', 'ezekiel', 'titus', 'luther', \n",
    "            'owlman', 'michael', 'banshee', 'aminedi', 'galaxy', 'lantern', 'everett', \n",
    "            'library', 'wyatt', 'tony', 'xavier', 'pyreus', 'darren', 'nightcrawler', 'geist', \n",
    "            'apollo', 'clash', 'detroit', 'lyle', 'wizard', 'namor', 'task', 'adam', 'exile', \n",
    "            'doug', 'fantasy', 'florida', 'non', 'bubble', 'detective', 'angel', 'ritchie', \n",
    "            'amadeus', 'eclipso', 'bob', 'eric', 'natalia', 'friedrich', 'ous', 'pet', 'dcu', \n",
    "            'writer', 'cloud', 'outlaws', 'abyss', 'insect', 'krypto', 'ghaur', 'alpha', 'hit', \n",
    "            'hawkman', 'grant', 'robin', 'starhawk', 'delphyne', 'archaeology', 'allan', 'liaison', \n",
    "            'armageddon', 'andy', 'doomsday', 'pattern', 'chief', 'maddy', 'pavitr', 'reader', \n",
    "            'fixx', 'pandora', 'team', 'robert', 'seth', 'daniel', 'queen', 'actor', 'ivan', \n",
    "            'metal', 'mahmud', 'wall', 'showcase', 'dick', 'gil', 'luis', 'science', 'costume', \n",
    "            'kevlar', 'sean', 'omega', 'metropolis', 'sandman', 'lisa', 'mordru', 'fatigue', \n",
    "            'gina', 'harold', 'huntress', 'multiverse', 'kyle', 'dale', 'korvac', 'bride', \n",
    "            'alan', 'sister', 'shanna', 'jeremy', 'hydra', 'denton', 'peter', 'telepathy', \n",
    "            'nick', 'rebirth', 'apocalypse', 'sur', 'skaar', 'pretty', 'develops', 'batwoman', \n",
    "            'denny', 'mangaverse', 'longtime', 'nanobot', 'october', 'ultron', 'kitty', 'susan', \n",
    "            'atom', 'terrorist', 'flesh', 'albert', 'sepulchre', 'stewart', 'gotham', 'latter', \n",
    "            'mother', 'mantle', 'ellen', 'harris', 'ambush', 'citizen', 'hulk', 'swan', 'matthew', \n",
    "            'injustice', 'stakar', 'tim', 'orb', 'category']\n",
    "print(\"Palabras mal etiquetadas como Adjetivo:\", len(wrong_jjs))\n",
    "\n",
    "useless_words = ['newsaramacom', 'iii', 'unbeknownst', 'hepzibah', 'copyright', 'toonopedia', 'jpg',  \n",
    "                  'alt', 'jsa', 'jla', 'pip', 'isbn', 'nypd']"
   ]
  },
  {
   "cell_type": "markdown",
   "metadata": {},
   "source": [
    "Reemplazamos estas etiquetas en nuestra base de datos (el *dataframe* `train_comicsDf`):"
   ]
  },
  {
   "cell_type": "code",
   "execution_count": 36,
   "metadata": {
    "collapsed": false
   },
   "outputs": [
    {
     "name": "stdout",
     "output_type": "stream",
     "text": [
      "1077 \n",
      "\n",
      "['physical', 'colorful', 'individual', 'useless', 'different', 'captive', 'communist', 'crimson', 'special', 'developed', 'extensive', 'villainess', 'unlockable', 'close', 'nephew', 'december', 'supportive', 'british', 'unpublished', 'favored', 'short', 'classical', 'moral', 'unwilling', 'ign', 'winning', 'azrael', 'reminiscent', 'explosive', 'otherdimensional', 'noir', 'multiple', 'sentient', 'episode', 'survival', 'excello', 'dog', 'uncertain', 'romantic', 'rogue', 'csa', 'stepping', 'mysterious', 'driving', 'ninja', 'sapien', 'x', 'new', 'rich', 'finale', 'electromagnetic', 'much', 'strongest', 'annual', 'prime', 'functioning', 'proper', 'fastest', 'utilizes', 'rapid', 'mobile', 'upright', 'sovereign', 'imminent', 'legal', 'closest', 'unfamiliar', 'young', 'redirect', 'foreign', 'destiny', 'sekowsky', 'metahuman', 'truly', 'famous', 'opal', 'obscure', 'magic', 'swordsman', 'altered', 'alongside', 'epic', 'demonic', 'immortal', 'promising', 'interim', 'united', 'second', 'featured', 'particular', 'peaceful', 'loose', 'starred', 'greater', 'subtle', 'paradise', 'thumb', 'essential', 'battled', 'artist', 'separate', 'defeated', 'likely', 'bulletproof', 'retrospective', 'primary', 'natural', 'aware', 'bold', 'dynamic', 'correct', 'pseudo', 'trojan', 'intense', 'live', 'digital', 'literary', 'tactician', 'understanding', 'enough', 'ultimatum', 'high', 'visual', 'amaya', 'crazy', 'subsequent', 'injured', 'intervene', 'kree', 'category', 'describes', 'fan', 'extraterrestrial', 'sting', 'atlantean', 'brutal', 'quiet', 'disembodied', 'top', 'quantum', 'indestructible', 'cripple', 'giant', 'exclusive', 'tactical', 'visited', 'negative', 'funeral', 'indian', 'alex', 'reluctant', 'seventh', 'closer', 'free', 'stored', 'politician', 'smart', 'darkness', 'good', 'eighth', 'middle', 'familiar', 'older', 'oversized', 'distracted', 'pacific', 'kinetic', 'sixth', 'spatial', 'unofficial', 'neo', 'militant', 'residual', 'technical', 'first', 'unworthy', 'secondary', 'black', 'metallic', 'horrible', 'heroic', 'combined', 'signature', 'true', 'skilled', 'renew', 'anarchist', 'spy', 'gifted', 'chinese', 'medieval', 'sophisticated', 'operative', 'francine', 'angel', 'assemble', 'shield', 'least', 'unused', 'amazing', 'fanzing', 'brown', 'olympian', 'odd', 'nazi', 'various', 'hot', 'slingshot', 'petty', 'external', 'disappear', 'connected', 'arctic', 'numerous', 'tall', 'disillusioned', 'alien', 'unicorn', 'harder', 'favorite', 'typical', 'intergalactic', 'father', 'destroyed', 'wounded', 'old', 'full', 'fascist', 'fit', 'active', 'interplanetary', 'stereotypical', 'interstellar', 'firelord', 'extrasensory', 'breakworld', 'warp', 'beloved', 'parallel', 'android', 'semi', 'losing', 'uneasy', 'immune', 'paramilitary', 'monthly', 'worthy', 'prey', 'self', 'lead'] \n",
      "\n"
     ]
    }
   ],
   "source": [
    "new_nn = []\n",
    "for i, row in zip(range(len(train_comicsDf)), train_comicsDf.tagged_words):\n",
    "    for j, word in zip(range(len(row)), row): \n",
    "        if word[0] in useless_words and 'JJ' in word[1]: \n",
    "            row.pop(j)\n",
    "        elif word[0] in wrong_jjs and 'JJ' in word[1]:\n",
    "            row.pop(j)\n",
    "            new_nn.append((word[0], 'NN')) \n",
    "            \n",
    "    train_comicsDf.loc[i, \"tagged_words\"] = row + new_nn\n",
    "\n",
    "jj_comics = []\n",
    "for row in train_comicsDf[\"tagged_words\"]:\n",
    "    for word in row: \n",
    "        if 'JJ' in word[1]: \n",
    "            jj_comics.append(word[0])\n",
    "jj_comics = list(set(jj_comics))\n",
    "\n",
    "print(len(jj_comics), \"\\n\")\n",
    "print(jj_comics[:250], \"\\n\")"
   ]
  }
 ],
 "metadata": {
  "celltoolbar": "Raw Cell Format",
  "kernelspec": {
   "display_name": "Python 3",
   "language": "python",
   "name": "python3"
  },
  "language_info": {
   "codemirror_mode": {
    "name": "ipython",
    "version": 3
   },
   "file_extension": ".py",
   "mimetype": "text/x-python",
   "name": "python",
   "nbconvert_exporter": "python",
   "pygments_lexer": "ipython3",
   "version": "3.6.0"
  }
 },
 "nbformat": 4,
 "nbformat_minor": 0
}
