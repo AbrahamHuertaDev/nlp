{
 "cells": [
  {
   "cell_type": "markdown",
   "metadata": {},
   "source": [
    "![agents](images/header.jpg)\n",
    "# Etiquetado gramatical\n",
    "### Ramón Soto C. [(rsotoc@moviquest.com)](mailto:rsotoc@moviquest.com/)\n",
    "[ver en nbviewer](http://nbviewer.ipython.org/github/rsotoc/nlp/blob/master/10.%20Etiquetado.ipynb)"
   ]
  },
  {
   "cell_type": "markdown",
   "metadata": {},
   "source": [
    "## Definición\n",
    "\n",
    "El **etiquetado gramatical** es el proceso de asignar a cada una de las palabras de un texto una etiqueta que describe su categoría gramatical. Se suele denominar como **POS tagging** o **POST** (por las siglas en inglés *part-of-speech tagging*). \n",
    "\n",
    "El etiquetado gramatical es una actividad muy costosa que actualmente se realiza con buen nivel de éxito (97% en inglés, aproximadamente) utilizando métodos de aprendizaje automático. Por otra parte, esta identificación de palabras permite hacer un análisis más profundo del texto. Consideremos, por ejemplo, el siguiente modelo de lexicón:\n",
    "\n",
    "![](images/lexicon.png)\n",
    "\n",
    "Aquí, representamos un registro léxico $Lx$ como:\n",
    "\n",
    "$$Lx = <l,c,A>$$\t\n",
    "\n",
    "donde $l$ es el lexema/token que estamos registrando, $c$ es la *clase semántica* a la que pertenece $l$ y $A = (a, e, g)$ es una tercia que define las actitudes (polaridad) asociadas al lexema: ($a$) es la actitud del actor que expresa la opinión, ($e$) es la opinión, posiblemente nula, del escritor que publica o comenta la opinión del actor y ($g$) la actitud general de la comunidad hacia la opinión. $a$,$e$ y $g$ toman los siguientes posibles valores en escala de Likert:\n",
    "\n",
    "$$a,e,g ∈〈neg-,neg,neutral,pos,pos+〉$$\n",
    "\n",
    "y éstas, a su vez, pueden expresarse de manera difusa:\n",
    "\n",
    "![](images\\fuzzy_opinion5.png)\n",
    "\n",
    "Esta estructura permite hacer un análisis de polaridad desde puntos de vista semántico y pragmático, pero requiere identificar el tipo de palabra utilizada.\n",
    "\n",
    "Existen diferentes algoritmos para realizar el etiquetado gramatical de un corpus. Algunos de estos métodos se basan en el uso de lexicones formados por palabras ya documentadas, siendo el más famoso el **[Corpus Penn Treebank](https://web.archive.org/web/19970614160127/http://www.cis.upenn.edu:80/~treebank/)**, desarrollado por la Universidad de Pensilvania. Otros métodos utilizan reglas gramaticales para identificar el tipo de palabra, dependiendo de su posición en el texto. En cualquier caso, se suele utilizar el estándar de etiquetado utilizado en el corpus Penn Treebank. Este estándar se basa en una colección de conceptos gramaticales no bien ordenados, como se muestra a continuación.\n",
    "\n",
    "### Categorías gramaticales\n",
    "\n",
    "Las categorías gramaticales permiten clasificar las palabras en tanto componentes de una oración. En español se reconocen nueve partes de la oración:\n",
    "\n",
    "1. Sustantivo (o nombre): es una clase de palabra cuyos referentes son clases de entidades fijas: personas, seres vivos, cosas o conceptos abstractos.\n",
    "2. Adjetivo: es una clase de palabra que actúa como modificador de un sustantivo o como atributo.\n",
    "3. Artículo: es una clase de palabra utilizada para actualizar o precisar la referencia de un sustantivo, transformándolo de desconocido y abstracto a conocido y concreto (\"*un libro*\" vs. \"*el libro*\"). \n",
    "4. Pronombre:  es una clase de palabra que sustituye a un sustantivo y realiza sus mismas funciones.\n",
    "5. Verbo: El Verbo es una clase de palabra que funciona como núcleo del predicado de una oración. Expresa acción, movimiento, existencia, consecución, condición o estado del sujeto. \n",
    "6. Adverbio: es una clase de palabra que tiene la función de modificar verbos (ven **aquí**), adverbios (**demasiado** tarde) o adjetivos (**muy** inteligente). Expresan circunstancias, como pueden ser modo, lugar, tiempo, cantidad, afirmación, duda, etc.\n",
    "7. Interjección: es una clase de palabra que equivale a una oración completa que expresa un sentimiento vivo (¡*ay*!), una llamada enérgica (¡*hey*!) o que describen, elementalmente, una acción (¡*zas*!, ¡*pum*!).\n",
    "8. Preposición: es una clase de palabra que une palabras o sintagmas dentro de una oración: *a, ante, bajo, cabe, con, contra, de, desde, entre, hacia*, etc.\n",
    "9. Conjunción: es una clase de palabra que funciona como enlace entre palabras (José **y** María), sintagmas (Mi perro **y** el tuyo) u oraciones (luchar **para** ganar).\n",
    "\n",
    "En la lingüística moderna, esta clasificación se considera obsoleta y se ha reemplazado por una clasificación funcional, basada en conceptos como:\n",
    "\n",
    "1. Sintagma nominal: es un grupo de palabras cuyo núcleo es un sustantivo, un pronombre o una palabra sustantivada (el **azul** del mar).\n",
    "2. Sintagma determinante: es un tipo de sintagma en el que el núcleo sintáctico es un determinante. El complemento de un sintagma determinante es un sintagma nominal: `Sintagma determinante` $\\to$ (`Determinante`) + `Sintagma nominal`.\n",
    "3. Sintagma verbal: es un sintagma cuyo núcleo es un verbo.\n",
    "4. Complemento sintáctico: es un sintagma que completa, precisa, aclara, extiende o incrementa el significado del núcleo de otro sintagma.\n",
    "5. Determinante: es un tipo de palabra que identifica al sustantivo y precisa su significado (**aquel** gato negro).\n",
    "6. Construcción preposicional: es un sintagma constituido por una preposición (u otro tipo de adposición) que funciona como núcleo sintáctico y asigna caso al sintagma (típicamente nominal o determinante) que le sigue, como en \"libro **de física**\" o en \"viento **del norte**\".\n",
    "\n",
    "\n",
    "\n",
    "### Etiquetas utilizadas en el proyecto *Penn Treebank*\n",
    "\n",
    "El corpus *Penn Treebank* utiliza una combinación de conceptos para derivar una nomenclatura de etiquetas en forma de árbol, siendo las principales etiquetas las que se meustran a continuación:\n",
    "\n",
    "1.\t**CC** - Conjunciones coordinantes\n",
    "2.\t**CD** - Número cardinal\n",
    "3.\t**DT** - Determinante\n",
    "4.\t**EX** - Existencial (haber)\n",
    "5.\t**FW** - Palabra extranjera\n",
    "6.\t**IN** - Preposiciones o conjunciones subordinantes \n",
    "7.\t<span style=\"background-color:blue; color:white; width:100%; padding: 0 10px 0 10px;\"> **JJ** - Adjetivo</span>\n",
    "8.\t**JJR** - Adjetivo comparativo\n",
    "9.\t**JJS** - Adjetivo superlativo\n",
    "10.\t**LS** - Marcador de elemento de lista\n",
    "11.\t**MD** - Elemento auxiliar Modal\n",
    "12.\t<span style=\"background-color:blue; color:white; width:100%; padding: 0 10px 0 10px;\"> **NN** - Sustantivo singular o colectivo</span>\n",
    "13.\t**NNS** - Sustantivo plural\n",
    "14.\t**NNP** - Nombre propio, singular\n",
    "15.\t**NNPS** - Nombre propio, plural\n",
    "16.\t**PDT** - Pre Determinante\n",
    "17.\t**POS** - Marcador de genitivo posesivo\n",
    "18.\t**PRP** - Pronombre personal\n",
    "19.\t**PRP\\$** - Pronombre posesivo\n",
    "20.\t**RB** - Adverbio\n",
    "21.\t**RBR** - Adverbio comparativo\n",
    "22.\t**RBS** - Adverbio superlativo\n",
    "23.\t**RP** - Participio\n",
    "24.\t**SYM** - Símbolo\n",
    "25.\t**TO** - La palabra \"*to*\", como preposición o como marcador del infinitivo\n",
    "26.\t**UH** - Interjección\n",
    "27.\t<span style=\"background-color:blue; color:white; width:100%; padding: 0 10px 0 10px;\"> \n",
    "**VB** - Verbo, forma base </span>\n",
    "28.\t**VBD** - Verbo, pretérito\n",
    "29.\t**VBG** - Verbo, gerundio\n",
    "30.\t**VBN** - Verbo, pasado participio\n",
    "31.\t**VBP** - Verbo, singular presente, no 3a persona\n",
    "32.\t**VBZ** - Verbo, 3a persona singular presente\n",
    "33.\t**WDT** - Determinante Wh, palabra usada como determinante\n",
    "34.\t**WP** - Pronombre Wh \n",
    "35.\t**WP\\$** - Pronombre Wh  posesivo\n",
    "36.\t**WRB** - Adverbio Wh\n",
    "\n",
    "\n",
    "### Etiquetado utilizando *NLTK*\n",
    "A continuación, emplearemos un etiquetador gramatical basado en reglas incluido en el paquete **NLTK** de Python para etiquetar las palabras contenidas en la colección de revisiones de películas."
   ]
  },
  {
   "cell_type": "code",
   "execution_count": 1,
   "metadata": {
    "collapsed": true
   },
   "outputs": [],
   "source": [
    "import numpy as np\n",
    "import pandas as pd\n",
    "import re\n",
    "import nltk\n",
    "from nltk.corpus import stopwords \n",
    "from bs4 import BeautifulSoup\n",
    "\n",
    "from IPython.display import display"
   ]
  },
  {
   "cell_type": "code",
   "execution_count": 2,
   "metadata": {
    "collapsed": false,
    "scrolled": true
   },
   "outputs": [
    {
     "data": {
      "text/html": [
       "<div>\n",
       "<style>\n",
       "    .dataframe thead tr:only-child th {\n",
       "        text-align: right;\n",
       "    }\n",
       "\n",
       "    .dataframe thead th {\n",
       "        text-align: left;\n",
       "    }\n",
       "\n",
       "    .dataframe tbody tr th {\n",
       "        vertical-align: top;\n",
       "    }\n",
       "</style>\n",
       "<table border=\"1\" class=\"dataframe\">\n",
       "  <thead>\n",
       "    <tr style=\"text-align: right;\">\n",
       "      <th></th>\n",
       "      <th>id</th>\n",
       "      <th>sentiment</th>\n",
       "      <th>review</th>\n",
       "      <th>words</th>\n",
       "    </tr>\n",
       "  </thead>\n",
       "  <tbody>\n",
       "    <tr>\n",
       "      <th>0</th>\n",
       "      <td>5814_8</td>\n",
       "      <td>1</td>\n",
       "      <td>with all this stuff going down at the moment w...</td>\n",
       "      <td>[stuff, going, moment, mj, started, listening,...</td>\n",
       "    </tr>\n",
       "    <tr>\n",
       "      <th>1</th>\n",
       "      <td>2381_9</td>\n",
       "      <td>1</td>\n",
       "      <td>the classic war of the worlds   by timothy hi...</td>\n",
       "      <td>[classic, war, worlds, timothy, hines, enterta...</td>\n",
       "    </tr>\n",
       "    <tr>\n",
       "      <th>2</th>\n",
       "      <td>7759_3</td>\n",
       "      <td>0</td>\n",
       "      <td>the film starts with a manager  nicholas bell ...</td>\n",
       "      <td>[film, starts, manager, nicholas, bell, giving...</td>\n",
       "    </tr>\n",
       "    <tr>\n",
       "      <th>3</th>\n",
       "      <td>3630_4</td>\n",
       "      <td>0</td>\n",
       "      <td>it must be assumed that those who praised this...</td>\n",
       "      <td>[must, assumed, praised, film, greatest, filme...</td>\n",
       "    </tr>\n",
       "    <tr>\n",
       "      <th>4</th>\n",
       "      <td>9495_8</td>\n",
       "      <td>1</td>\n",
       "      <td>superbly trashy and wondrously unpretentious  ...</td>\n",
       "      <td>[superbly, trashy, wondrously, unpretentious, ...</td>\n",
       "    </tr>\n",
       "  </tbody>\n",
       "</table>\n",
       "</div>"
      ],
      "text/plain": [
       "       id  sentiment                                             review  \\\n",
       "0  5814_8          1  with all this stuff going down at the moment w...   \n",
       "1  2381_9          1   the classic war of the worlds   by timothy hi...   \n",
       "2  7759_3          0  the film starts with a manager  nicholas bell ...   \n",
       "3  3630_4          0  it must be assumed that those who praised this...   \n",
       "4  9495_8          1  superbly trashy and wondrously unpretentious  ...   \n",
       "\n",
       "                                               words  \n",
       "0  [stuff, going, moment, mj, started, listening,...  \n",
       "1  [classic, war, worlds, timothy, hines, enterta...  \n",
       "2  [film, starts, manager, nicholas, bell, giving...  \n",
       "3  [must, assumed, praised, film, greatest, filme...  \n",
       "4  [superbly, trashy, wondrously, unpretentious, ...  "
      ]
     },
     "metadata": {},
     "output_type": "display_data"
    }
   ],
   "source": [
    "movies_reviews = pd.read_csv(\"Data sets/Movies Reviews/labeledTrainData.tsv\", sep='\\t')\n",
    "movies_reviews.review = list(map(lambda row: re.sub(\"[^a-zA-Z]\", \" \", \n",
    "                                BeautifulSoup(row, \"lxml\").get_text().lower()), \n",
    "                                 movies_reviews.review))\n",
    "stops = set(stopwords.words(\"english\"))                  \n",
    "movies_reviews[\"words\"] = list(map(lambda row: [w for w in row.split() if not w in stops], \n",
    "                                   movies_reviews.review))\n",
    "display(movies_reviews.head())"
   ]
  },
  {
   "cell_type": "markdown",
   "metadata": {},
   "source": [
    "A continuación, realizamos el etiquetado a partir del texto completo, para mantener la posición de las palabras, pero reservamos solamente las palabras que aparecen en nuestro lexicón (que, en este caso, es muy simple, pero que tratándose del lexicón de Comics, aprovecharíamos el trabajo de limpieza ya realizado). Además, eliminamos duplicados *palabra-etiqueta*."
   ]
  },
  {
   "cell_type": "code",
   "execution_count": 3,
   "metadata": {
    "collapsed": false
   },
   "outputs": [
    {
     "data": {
      "text/html": [
       "<div>\n",
       "<style>\n",
       "    .dataframe thead tr:only-child th {\n",
       "        text-align: right;\n",
       "    }\n",
       "\n",
       "    .dataframe thead th {\n",
       "        text-align: left;\n",
       "    }\n",
       "\n",
       "    .dataframe tbody tr th {\n",
       "        vertical-align: top;\n",
       "    }\n",
       "</style>\n",
       "<table border=\"1\" class=\"dataframe\">\n",
       "  <thead>\n",
       "    <tr style=\"text-align: right;\">\n",
       "      <th></th>\n",
       "      <th>id</th>\n",
       "      <th>sentiment</th>\n",
       "      <th>review</th>\n",
       "      <th>words</th>\n",
       "      <th>tagged_words</th>\n",
       "    </tr>\n",
       "  </thead>\n",
       "  <tbody>\n",
       "    <tr>\n",
       "      <th>0</th>\n",
       "      <td>5814_8</td>\n",
       "      <td>1</td>\n",
       "      <td>with all this stuff going down at the moment w...</td>\n",
       "      <td>[stuff, going, moment, mj, started, listening,...</td>\n",
       "      <td>[(ironically, RB), (jackson, VBP), (different,...</td>\n",
       "    </tr>\n",
       "    <tr>\n",
       "      <th>1</th>\n",
       "      <td>2381_9</td>\n",
       "      <td>1</td>\n",
       "      <td>the classic war of the worlds   by timothy hi...</td>\n",
       "      <td>[classic, war, worlds, timothy, hines, enterta...</td>\n",
       "      <td>[(entertained, VBN), (war, NN), (different, JJ...</td>\n",
       "    </tr>\n",
       "    <tr>\n",
       "      <th>2</th>\n",
       "      <td>7759_3</td>\n",
       "      <td>0</td>\n",
       "      <td>the film starts with a manager  nicholas bell ...</td>\n",
       "      <td>[film, starts, manager, nicholas, bell, giving...</td>\n",
       "      <td>[(middling, VBG), (majority, NN), (rating, NN)...</td>\n",
       "    </tr>\n",
       "    <tr>\n",
       "      <th>3</th>\n",
       "      <td>3630_4</td>\n",
       "      <td>0</td>\n",
       "      <td>it must be assumed that those who praised this...</td>\n",
       "      <td>[must, assumed, praised, film, greatest, filme...</td>\n",
       "      <td>[(singers, NNS), (imperfections, NNS), (repres...</td>\n",
       "    </tr>\n",
       "    <tr>\n",
       "      <th>4</th>\n",
       "      <td>9495_8</td>\n",
       "      <td>1</td>\n",
       "      <td>superbly trashy and wondrously unpretentious  ...</td>\n",
       "      <td>[superbly, trashy, wondrously, unpretentious, ...</td>\n",
       "      <td>[(rough, IN), (sleazy, JJ), (valuable, JJ), (a...</td>\n",
       "    </tr>\n",
       "  </tbody>\n",
       "</table>\n",
       "</div>"
      ],
      "text/plain": [
       "       id  sentiment                                             review  \\\n",
       "0  5814_8          1  with all this stuff going down at the moment w...   \n",
       "1  2381_9          1   the classic war of the worlds   by timothy hi...   \n",
       "2  7759_3          0  the film starts with a manager  nicholas bell ...   \n",
       "3  3630_4          0  it must be assumed that those who praised this...   \n",
       "4  9495_8          1  superbly trashy and wondrously unpretentious  ...   \n",
       "\n",
       "                                               words  \\\n",
       "0  [stuff, going, moment, mj, started, listening,...   \n",
       "1  [classic, war, worlds, timothy, hines, enterta...   \n",
       "2  [film, starts, manager, nicholas, bell, giving...   \n",
       "3  [must, assumed, praised, film, greatest, filme...   \n",
       "4  [superbly, trashy, wondrously, unpretentious, ...   \n",
       "\n",
       "                                        tagged_words  \n",
       "0  [(ironically, RB), (jackson, VBP), (different,...  \n",
       "1  [(entertained, VBN), (war, NN), (different, JJ...  \n",
       "2  [(middling, VBG), (majority, NN), (rating, NN)...  \n",
       "3  [(singers, NNS), (imperfections, NNS), (repres...  \n",
       "4  [(rough, IN), (sleazy, JJ), (valuable, JJ), (a...  "
      ]
     },
     "metadata": {},
     "output_type": "display_data"
    }
   ],
   "source": [
    "movies_reviews[\"tagged_words\"] = list(map(lambda row, words: list(set([w for w in \n",
    "                                                       nltk.pos_tag(nltk.word_tokenize(row))\n",
    "                                                       if w[0] in words])), \n",
    "                                   movies_reviews.review, movies_reviews.words))\n",
    "display(movies_reviews.head())"
   ]
  },
  {
   "cell_type": "markdown",
   "metadata": {},
   "source": [
    "Las palabras ya etiquetadas, para una de las revisiones, son:"
   ]
  },
  {
   "cell_type": "code",
   "execution_count": 4,
   "metadata": {
    "collapsed": false
   },
   "outputs": [
    {
     "name": "stdout",
     "output_type": "stream",
     "text": [
      "[('ironically', 'RB'), ('jackson', 'VBP'), ('different', 'JJ'), ('would', 'MD'), ('mj', 'NN'), ('hope', 'VBP'), ('going', 'VBG'), ('really', 'RB'), ('behind', 'IN'), ('started', 'VBD'), ('complex', 'JJ'), ('doors', 'NNS'), ('may', 'MD'), ('supplying', 'VBG'), ('subject', 'NN'), ('sickest', 'JJ'), ('car', 'NN'), ('egotist', 'NN'), ('consenting', 'VBG'), ('beyond', 'IN'), ('bit', 'NN'), ('give', 'VB'), ('saint', 'NN'), ('call', 'VB'), ('gave', 'VBD'), ('nah', 'VBP'), ('boring', 'VBG'), ('filming', 'VBG'), ('remotely', 'VBP'), ('bunch', 'NN'), ('patience', 'NN'), ('true', 'JJ'), ('part', 'NN'), ('movie', 'NN'), ('alone', 'RB'), ('girl', 'NN'), ('latter', 'NN'), ('pesci', 'NN'), ('level', 'NN'), ('obvious', 'JJ'), ('directors', 'NNS'), ('finally', 'RB'), ('liars', 'NNS'), ('buddy', 'NN'), ('grace', 'VB'), ('documentary', 'NN'), ('certain', 'JJ'), ('truly', 'RB'), ('know', 'VBP'), ('ranted', 'VBD'), ('let', 'VB'), ('innocent', 'JJ'), ('press', 'NN'), ('impressive', 'JJ'), ('turning', 'VBG'), ('bestest', 'JJS'), ('another', 'DT'), ('know', 'VB'), ('things', 'NNS'), ('one', 'CD'), ('nice', 'JJ'), ('cool', 'JJ'), ('originally', 'RB'), ('well', 'RB'), ('etc', 'FW'), ('remember', 'VBP'), ('listening', 'VBG'), ('message', 'NN'), ('made', 'VBD'), ('ever', 'RB'), ('eighties', 'NNS'), ('bad', 'JJ'), ('character', 'NN'), ('lots', 'NNS'), ('attention', 'NN'), ('robot', 'NN'), ('working', 'VBG'), ('music', 'NN'), ('director', 'NN'), ('joe', 'NN'), ('fact', 'NN'), ('wiz', 'NN'), ('want', 'VB'), ('visually', 'RB'), ('say', 'VB'), ('demon', 'NN'), ('subtle', 'VBN'), ('mj', 'VB'), ('messages', 'NNS'), ('extremely', 'RB'), ('performing', 'VBG'), ('michael', 'NNS'), ('michael', 'NN'), ('mj', 'FW'), ('scene', 'NN'), ('maybe', 'RB'), ('wants', 'VBZ'), ('guy', 'NN'), ('watched', 'VBD'), ('powerful', 'JJ'), ('think', 'VBP'), ('wholesome', 'JJ'), ('like', 'IN'), ('mj', 'JJ'), ('bottom', 'JJ'), ('dance', 'NN'), ('mind', 'NN'), ('either', 'CC'), ('unless', 'IN'), ('lord', 'NN'), ('see', 'VB'), ('watching', 'VBG'), ('hate', 'VB'), ('psychopathic', 'JJ'), ('drug', 'NN'), ('moonwalker', 'NN'), ('anyway', 'RB'), ('minutes', 'NNS'), ('closed', 'JJ'), ('people', 'NNS'), ('talented', 'JJ'), ('hate', 'VBP'), ('like', 'VBP'), ('whether', 'IN'), ('line', 'NN'), ('make', 'VB'), ('hates', 'VBZ'), ('stay', 'VB'), ('guilty', 'JJ'), ('smooth', 'JJ'), ('insight', 'NN'), ('drugs', 'NNS'), ('stuff', 'NN'), ('whole', 'JJ'), ('hmmm', 'VBZ'), ('criminal', 'JJ'), ('speed', 'NN'), ('making', 'NN'), ('dead', 'JJ'), ('get', 'VB'), ('biography', 'NN'), ('cinema', 'NN'), ('towards', 'IN'), ('came', 'VBD'), ('sequence', 'NN'), ('kiddy', 'NN'), ('away', 'RB'), ('moment', 'NN'), ('thought', 'VBN'), ('plans', 'NNS'), ('like', 'JJ'), ('feeling', 'NN'), ('course', 'NN'), ('film', 'NN'), ('kay', 'NN'), ('fans', 'NNS'), ('usually', 'RB'), ('kid', 'NN'), ('overheard', 'IN'), ('actual', 'JJ'), ('try', 'VB'), ('jackson', 'NN'), ('feature', 'NN'), ('wanted', 'VBD'), ('starts', 'VBZ'), ('released', 'VBN'), ('odd', 'JJ'), ('stupid', 'JJ'), ('must', 'MD'), ('find', 'VB'), ('excluding', 'VBG'), ('convincing', 'VBG'), ('planet', 'NN'), ('dunno', 'NN'), ('also', 'RB')]\n"
     ]
    }
   ],
   "source": [
    "print(movies_reviews[\"tagged_words\"][0])"
   ]
  },
  {
   "cell_type": "markdown",
   "metadata": {},
   "source": [
    "El significado de cada etiqueta puede obtenerse mediante el método `nltk.help.upenn_tagset`:"
   ]
  },
  {
   "cell_type": "code",
   "execution_count": 5,
   "metadata": {
    "collapsed": false
   },
   "outputs": [
    {
     "name": "stdout",
     "output_type": "stream",
     "text": [
      "NN: noun, common, singular or mass\n",
      "    common-carrier cabbage knuckle-duster Casino afghan shed thermostat\n",
      "    investment slide humour falloff slick wind hyena override subhumanity\n",
      "    machinist ...\n",
      "['mj', 'doors', 'subject', 'car', 'egotist', 'bit', 'saint', 'bunch', 'patience', 'part', 'movie', 'girl', 'latter', 'pesci', 'level', 'directors', 'liars', 'buddy', 'documentary', 'press', 'things', 'message', 'eighties', 'character', 'lots', 'attention', 'robot', 'music', 'director', 'joe', 'fact', 'wiz', 'demon', 'messages', 'michael', 'michael', 'scene', 'guy', 'dance', 'mind', 'lord', 'drug', 'moonwalker', 'minutes', 'people', 'line', 'insight', 'drugs', 'stuff', 'speed', 'making', 'biography', 'cinema', 'sequence', 'kiddy', 'moment', 'plans', 'feeling', 'course', 'film', 'kay', 'fans', 'kid', 'jackson', 'feature', 'planet', 'dunno'] \n",
      "\n",
      "VB: verb, base form\n",
      "    ask assemble assess assign assume atone attention avoid bake balkanize\n",
      "    bank begin behold believe bend benefit bevel beware bless boil bomb\n",
      "    boost brace break bring broil brush build ...\n",
      "['jackson', 'hope', 'going', 'started', 'supplying', 'consenting', 'give', 'call', 'gave', 'nah', 'boring', 'filming', 'remotely', 'grace', 'know', 'ranted', 'let', 'turning', 'know', 'remember', 'listening', 'made', 'working', 'want', 'say', 'subtle', 'mj', 'performing', 'wants', 'watched', 'think', 'see', 'watching', 'hate', 'hate', 'like', 'make', 'hates', 'stay', 'hmmm', 'get', 'came', 'thought', 'try', 'wanted', 'starts', 'released', 'find', 'excluding', 'convincing'] \n",
      "\n",
      "JJ: adjective or numeral, ordinal\n",
      "    third ill-mannered pre-war regrettable oiled calamitous first separable\n",
      "    ectoplasmic battery-powered participatory fourth still-to-be-named\n",
      "    multilingual multi-disciplinary ...\n",
      "['different', 'complex', 'sickest', 'true', 'obvious', 'certain', 'innocent', 'impressive', 'bestest', 'nice', 'cool', 'bad', 'powerful', 'wholesome', 'mj', 'bottom', 'psychopathic', 'closed', 'talented', 'guilty', 'smooth', 'whole', 'criminal', 'dead', 'like', 'actual', 'odd', 'stupid'] \n",
      "\n",
      "RB: adverb\n",
      "    occasionally unabatingly maddeningly adventurously professedly\n",
      "    stirringly prominently technologically magisterially predominately\n",
      "    swiftly fiscally pitilessly ...\n",
      "['ironically', 'really', 'alone', 'finally', 'truly', 'originally', 'well', 'ever', 'visually', 'extremely', 'maybe', 'anyway', 'away', 'usually', 'also'] \n",
      "\n"
     ]
    }
   ],
   "source": [
    "nltk.help.upenn_tagset('NN')\n",
    "nn = []\n",
    "for word in movies_reviews[\"tagged_words\"][0]: \n",
    "    if 'NN' in word[1]: \n",
    "        nn.append(word[0])\n",
    "print(nn, \"\\n\")\n",
    "\n",
    "nltk.help.upenn_tagset('VB')\n",
    "vbg = []\n",
    "for word in movies_reviews[\"tagged_words\"][0]: \n",
    "    if 'VB' in word[1]: \n",
    "        vbg.append(word[0])\n",
    "print(vbg, \"\\n\")\n",
    "\n",
    "nltk.help.upenn_tagset('JJ')\n",
    "jj = []\n",
    "for word in movies_reviews[\"tagged_words\"][0]: \n",
    "    if 'JJ' in word[1]: \n",
    "        jj.append(word[0])\n",
    "print(jj, \"\\n\")\n",
    "\n",
    "nltk.help.upenn_tagset('RB')\n",
    "rb = []\n",
    "for word in movies_reviews[\"tagged_words\"][0]: \n",
    "    if 'RB' in word[1]: \n",
    "        rb.append(word[0])\n",
    "print(rb, \"\\n\")\n"
   ]
  },
  {
   "cell_type": "code",
   "execution_count": null,
   "metadata": {
    "collapsed": true
   },
   "outputs": [],
   "source": []
  }
 ],
 "metadata": {
  "celltoolbar": "Raw Cell Format",
  "kernelspec": {
   "display_name": "Python 3",
   "language": "python",
   "name": "python3"
  },
  "language_info": {
   "codemirror_mode": {
    "name": "ipython",
    "version": 3
   },
   "file_extension": ".py",
   "mimetype": "text/x-python",
   "name": "python",
   "nbconvert_exporter": "python",
   "pygments_lexer": "ipython3",
   "version": "3.6.0"
  }
 },
 "nbformat": 4,
 "nbformat_minor": 0
}
