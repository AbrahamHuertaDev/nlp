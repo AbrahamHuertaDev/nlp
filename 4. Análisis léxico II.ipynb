{
 "cells": [
  {
   "cell_type": "markdown",
   "metadata": {},
   "source": [
    "![agents](images/header.jpg)\n",
    "# Análisis léxico: Colocaciones y $N$-Gramas\n",
    "### Ramón Soto C. [(rsotoc@moviquest.com)](mailto:rsotoc@moviquest.com/)\n",
    "[ver en nbviewer](http://nbviewer.ipython.org/github/rsotoc/nlp/blob/master/Introducción.ipynb)"
   ]
  },
  {
   "cell_type": "markdown",
   "metadata": {},
   "source": [
    "\n",
    "\n",
    "## Modelo de N-Gramas\n",
    "\n",
    "Una característica de los lenguajes naturales es que las frases que los componen no tienen una distribución uniforme. Por el contrario, existen construcciones que son más comunes que otras. De esta manera, aunque las frases $f_1 = \\textrm{\"el perro camina\"}$ y $f_2 = \\textrm{\"el perro vuela\"}$ son ambas correctas sintácticamente, es más probable encontrar la frase $f_1$ que la frase $f_2$ en un texto arbitrario. \n",
    "\n",
    "En la película \"*Take The Money And Run*\", Virgil Starkwell (Woody Allen) intenta asaltar un banco y entrega al cajero una nota con el mensaje \"*Please put fifty thousand dollars into this bag and act natural as I am pointing a gun at you*\" que es leída por los empleados del banco como \"*Please put fifty thousand dollars into this bag and ABT natural as I am pointing a GUB at you*\". \n",
    "\n",
    "[![](images/i_have_a_gub.jpg)](https://www.youtube.com/watch?v=pEm0zi8QrpA)\n",
    "\n",
    "Sin embargo, es obvio que la frase \"*I am pointing a GUN at you*\" es más probable que la frase \"*I am pointing a GUB at you*\", por lo que en la vida real no nos cuesta trabajo reconocer la frase correcta. Para modelar esta capacidad de predecir la ocurrencia de una palabra en una frase se utilizan **Modelos de lenguajes** que asignan probabilidades a las secuencias de palabras que pueden conformar un texto. \n",
    "\n",
    "El modelo más simple es el **Modelo de N-Gramas**\". Este modelo asume que la probabiliad de ocurrencia de una palabra está determinada por las palabras recientes; lo que se conoce como la **suposición de Markov**. De manera que para el cálculo de estas probabilidades basta contabilizar la ocurrencia de secuencias de palabras de longitud definida. Un **$N$-Grama** es una secuencia de $N$ palabras. Así, por ejemplo, un 2-grama (o bigrama) es una secuencia de 2 palabras, como \"*el hombre*\", \"*hombre camina*\", \"*camina en*\", \"*en el*\", \"*el parque*\". Un 3-grama (trigrama) es una secuencia de tres palabras, como \"*el hombre camina*\", \"*hombre camina en*\", \"*camina en el*\", \"*en el parque*\". "
   ]
  },
  {
   "cell_type": "code",
   "execution_count": 1,
   "metadata": {
    "collapsed": false
   },
   "outputs": [
    {
     "name": "stdout",
     "output_type": "stream",
     "text": [
      "Bigramas:\n",
      " Counter({('.', 'el'): 2, ('el', 'perro'): 2, ('en', 'el'): 2, ('el', 'parque'): 2, ('los', 'amigos'): 1, ('amigos', 'toman'): 1, ('toman', 'cafe'): 1, ('cafe', '.'): 1, ('perro', 'duerme'): 1, ('duerme', 'en'): 1, ('parque', '.'): 1, ('el', 'hombre'): 1, ('hombre', 'con'): 1, ('con', 'el'): 1, ('perro', 'camina'): 1, ('camina', 'en'): 1, ('parque', 'con'): 1, ('con', 'amigos'): 1, ('amigos', '.'): 1})\n",
      "\n",
      "Trigramas:\n",
      " Counter({('en', 'el', 'parque'): 2, ('los', 'amigos', 'toman'): 1, ('amigos', 'toman', 'cafe'): 1, ('toman', 'cafe', '.'): 1, ('cafe', '.', 'el'): 1, ('.', 'el', 'perro'): 1, ('el', 'perro', 'duerme'): 1, ('perro', 'duerme', 'en'): 1, ('duerme', 'en', 'el'): 1, ('el', 'parque', '.'): 1, ('parque', '.', 'el'): 1, ('.', 'el', 'hombre'): 1, ('el', 'hombre', 'con'): 1, ('hombre', 'con', 'el'): 1, ('con', 'el', 'perro'): 1, ('el', 'perro', 'camina'): 1, ('perro', 'camina', 'en'): 1, ('camina', 'en', 'el'): 1, ('el', 'parque', 'con'): 1, ('parque', 'con', 'amigos'): 1, ('con', 'amigos', '.'): 1})\n",
      "\n",
      "Tetragramas:\n",
      " Counter({('los', 'amigos', 'toman', 'cafe'): 1, ('amigos', 'toman', 'cafe', '.'): 1, ('toman', 'cafe', '.', 'el'): 1, ('cafe', '.', 'el', 'perro'): 1, ('.', 'el', 'perro', 'duerme'): 1, ('el', 'perro', 'duerme', 'en'): 1, ('perro', 'duerme', 'en', 'el'): 1, ('duerme', 'en', 'el', 'parque'): 1, ('en', 'el', 'parque', '.'): 1, ('el', 'parque', '.', 'el'): 1, ('parque', '.', 'el', 'hombre'): 1, ('.', 'el', 'hombre', 'con'): 1, ('el', 'hombre', 'con', 'el'): 1, ('hombre', 'con', 'el', 'perro'): 1, ('con', 'el', 'perro', 'camina'): 1, ('el', 'perro', 'camina', 'en'): 1, ('perro', 'camina', 'en', 'el'): 1, ('camina', 'en', 'el', 'parque'): 1, ('en', 'el', 'parque', 'con'): 1, ('el', 'parque', 'con', 'amigos'): 1, ('parque', 'con', 'amigos', '.'): 1})\n"
     ]
    }
   ],
   "source": [
    "import nltk\n",
    "from nltk import word_tokenize\n",
    "from nltk.util import ngrams\n",
    "from collections import Counter\n",
    "\n",
    "text = \"los amigos toman cafe. el perro duerme en el parque. el hombre con el perro \\\n",
    "camina en el parque con amigos.\"\n",
    "\n",
    "token = nltk.word_tokenize(text)\n",
    "bigrams = ngrams(token,2)\n",
    "trigrams = ngrams(token,3)\n",
    "tetragrams = ngrams(token,4)\n",
    "\n",
    "bigrams_list = list(bigrams)\n",
    "counter_bigrams = Counter(bigrams_list)\n",
    "print (\"Bigramas:\\n\", counter_bigrams)\n",
    "\n",
    "trigrams_list = list(trigrams)\n",
    "counter_trigrams = Counter(trigrams_list)\n",
    "print (\"\\nTrigramas:\\n\", counter_trigrams)\n",
    "\n",
    "tetragrams_list = list(tetragrams)\n",
    "counter_tetragrams = Counter(tetragrams_list)\n",
    "print (\"\\nTetragramas:\\n\", counter_tetragrams)"
   ]
  },
  {
   "cell_type": "markdown",
   "metadata": {},
   "source": [
    "### $N$-Gramas en la base de datos de personajes de comics"
   ]
  },
  {
   "cell_type": "code",
   "execution_count": 2,
   "metadata": {
    "collapsed": false
   },
   "outputs": [],
   "source": [
    "from IPython.display import display\n",
    "import pandas as pd\n",
    "pd.options.display.max_colwidth = 150 "
   ]
  },
  {
   "cell_type": "code",
   "execution_count": 3,
   "metadata": {
    "collapsed": false
   },
   "outputs": [
    {
     "data": {
      "text/html": [
       "<div>\n",
       "<table border=\"1\" class=\"dataframe\">\n",
       "  <thead>\n",
       "    <tr style=\"text-align: right;\">\n",
       "      <th></th>\n",
       "      <th>description</th>\n",
       "      <th>main_words</th>\n",
       "      <th>name</th>\n",
       "    </tr>\n",
       "  </thead>\n",
       "  <tbody>\n",
       "    <tr>\n",
       "      <th>0</th>\n",
       "      <td>mazing man is the title character of a comic book series created by bob rozakis and stephen destefano and published by dc comics the series ran fo...</td>\n",
       "      <td>[man, title, character, comic, book, series, created, bob, rozakis, stephen, published, dc, comics, series, ran, twelve, issues, additional, speci...</td>\n",
       "      <td>'Mazing Man</td>\n",
       "    </tr>\n",
       "  </tbody>\n",
       "</table>\n",
       "</div>"
      ],
      "text/plain": [
       "                                                                                                                                             description  \\\n",
       "0  mazing man is the title character of a comic book series created by bob rozakis and stephen destefano and published by dc comics the series ran fo...   \n",
       "\n",
       "                                                                                                                                              main_words  \\\n",
       "0  [man, title, character, comic, book, series, created, bob, rozakis, stephen, published, dc, comics, series, ran, twelve, issues, additional, speci...   \n",
       "\n",
       "          name  \n",
       "0  'Mazing Man  "
      ]
     },
     "metadata": {},
     "output_type": "display_data"
    }
   ],
   "source": [
    "import json\n",
    "\n",
    "file = 'Data Sets/Comics/clean_comics.json'\n",
    "with open(file) as comics_file:\n",
    "    dict_comics = json.load(comics_file)\n",
    "\n",
    "comicsDf = pd.DataFrame.from_dict(dict_comics)\n",
    "\n",
    "display(comicsDf.head(1))"
   ]
  },
  {
   "cell_type": "code",
   "execution_count": 4,
   "metadata": {
    "collapsed": false
   },
   "outputs": [
    {
     "data": {
      "text/html": [
       "<div>\n",
       "<table border=\"1\" class=\"dataframe\">\n",
       "  <thead>\n",
       "    <tr style=\"text-align: right;\">\n",
       "      <th></th>\n",
       "      <th>name</th>\n",
       "      <th>description</th>\n",
       "      <th>main_words</th>\n",
       "    </tr>\n",
       "  </thead>\n",
       "  <tbody>\n",
       "    <tr>\n",
       "      <th>0</th>\n",
       "      <td>'Mazing Man</td>\n",
       "      <td>mazing man is the title character of a comic book series created by bob rozakis and stephen destefano and published by dc comics the series ran fo...</td>\n",
       "      <td>[man, title, character, comic, book, series, created, bob, rozakis, stephen, published, dc, comics, series, ran, twelve, issues, additional, speci...</td>\n",
       "    </tr>\n",
       "  </tbody>\n",
       "</table>\n",
       "</div>"
      ],
      "text/plain": [
       "          name  \\\n",
       "0  'Mazing Man   \n",
       "\n",
       "                                                                                                                                             description  \\\n",
       "0  mazing man is the title character of a comic book series created by bob rozakis and stephen destefano and published by dc comics the series ran fo...   \n",
       "\n",
       "                                                                                                                                              main_words  \n",
       "0  [man, title, character, comic, book, series, created, bob, rozakis, stephen, published, dc, comics, series, ran, twelve, issues, additional, speci...  "
      ]
     },
     "metadata": {},
     "output_type": "display_data"
    }
   ],
   "source": [
    "#Sólo para reducir mi OCD\n",
    "comicsDf = comicsDf.reindex_axis(['name',\"description\", \"main_words\"], axis=1)\n",
    "display(comicsDf.head(1))"
   ]
  },
  {
   "cell_type": "code",
   "execution_count": 5,
   "metadata": {
    "collapsed": false
   },
   "outputs": [
    {
     "name": "stderr",
     "output_type": "stream",
     "text": [
      "/Users/rsotoc/anaconda3/lib/python3.6/site-packages/ipykernel/__main__.py:1: DeprecationWarning: generator 'ngrams' raised StopIteration\n",
      "  if __name__ == '__main__':\n"
     ]
    },
    {
     "data": {
      "text/html": [
       "<div>\n",
       "<table border=\"1\" class=\"dataframe\">\n",
       "  <thead>\n",
       "    <tr style=\"text-align: right;\">\n",
       "      <th></th>\n",
       "      <th>name</th>\n",
       "      <th>description</th>\n",
       "      <th>main_words</th>\n",
       "      <th>bigrams</th>\n",
       "    </tr>\n",
       "  </thead>\n",
       "  <tbody>\n",
       "    <tr>\n",
       "      <th>0</th>\n",
       "      <td>'Mazing Man</td>\n",
       "      <td>mazing man is the title character of a comic book series created by bob rozakis and stephen destefano and published by dc comics the series ran fo...</td>\n",
       "      <td>[man, title, character, comic, book, series, created, bob, rozakis, stephen, published, dc, comics, series, ran, twelve, issues, additional, speci...</td>\n",
       "      <td>[(mazing, man), (man, is), (is, the), (the, title), (title, character), (character, of), (of, a), (a, comic), (comic, book), (book, series), (seri...</td>\n",
       "    </tr>\n",
       "    <tr>\n",
       "      <th>1</th>\n",
       "      <td>711 (Quality Comics)</td>\n",
       "      <td>is a fictional superhero from the golden age of comics he was created by george brenner and published by quality comics first appeared in police c...</td>\n",
       "      <td>[fictional, superhero, golden, age, comics, created, george, published, quality, comics, first, appeared, police, comics, august, lasted, january,...</td>\n",
       "      <td>[(is, a), (a, fictional), (fictional, superhero), (superhero, from), (from, the), (the, golden), (golden, age), (age, of), (of, comics), (comics, ...</td>\n",
       "    </tr>\n",
       "    <tr>\n",
       "      <th>2</th>\n",
       "      <td>Abigail Brand</td>\n",
       "      <td>special agent special agent abigail brand is a fictional character appearing in american comic book s published by marvel comics abigail brand s f...</td>\n",
       "      <td>[special, agent, special, agent, abigail, brand, fictional, character, appearing, american, comic, book, published, marvel, comics, abigail, brand...</td>\n",
       "      <td>[(special, agent), (agent, special), (special, agent), (agent, abigail), (abigail, brand), (brand, is), (is, a), (a, fictional), (fictional, chara...</td>\n",
       "    </tr>\n",
       "    <tr>\n",
       "      <th>3</th>\n",
       "      <td>Abin Sur</td>\n",
       "      <td>abin sur is a fictional character and a superhero from the dc comics dc universe universe he was a member of the green lantern corps and is best k...</td>\n",
       "      <td>[abin, sur, fictional, character, superhero, dc, comics, dc, universe, universe, member, green, lantern, corps, best, known, predecessor, green, l...</td>\n",
       "      <td>[(abin, sur), (sur, is), (is, a), (a, fictional), (fictional, character), (character, and), (and, a), (a, superhero), (superhero, from), (from, th...</td>\n",
       "    </tr>\n",
       "    <tr>\n",
       "      <th>4</th>\n",
       "      <td>Abner Jenkins</td>\n",
       "      <td>abner ronald jenkins formerly known as the beetle comics beetle mach mach mach mach iv mach v mach vii and currently known as mach x and is a fict...</td>\n",
       "      <td>[abner, ronald, jenkins, formerly, known, beetle, comics, beetle, mach, mach, mach, mach, mach, mach, vii, currently, known, mach, x, fictional, c...</td>\n",
       "      <td>[(abner, ronald), (ronald, jenkins), (jenkins, formerly), (formerly, known), (known, as), (as, the), (the, beetle), (beetle, comics), (comics, bee...</td>\n",
       "    </tr>\n",
       "  </tbody>\n",
       "</table>\n",
       "</div>"
      ],
      "text/plain": [
       "                   name  \\\n",
       "0           'Mazing Man   \n",
       "1  711 (Quality Comics)   \n",
       "2         Abigail Brand   \n",
       "3              Abin Sur   \n",
       "4         Abner Jenkins   \n",
       "\n",
       "                                                                                                                                             description  \\\n",
       "0  mazing man is the title character of a comic book series created by bob rozakis and stephen destefano and published by dc comics the series ran fo...   \n",
       "1  is a fictional superhero from the golden age of comics he was created by george brenner and published by quality comics first appeared in police c...   \n",
       "2  special agent special agent abigail brand is a fictional character appearing in american comic book s published by marvel comics abigail brand s f...   \n",
       "3  abin sur is a fictional character and a superhero from the dc comics dc universe universe he was a member of the green lantern corps and is best k...   \n",
       "4  abner ronald jenkins formerly known as the beetle comics beetle mach mach mach mach iv mach v mach vii and currently known as mach x and is a fict...   \n",
       "\n",
       "                                                                                                                                              main_words  \\\n",
       "0  [man, title, character, comic, book, series, created, bob, rozakis, stephen, published, dc, comics, series, ran, twelve, issues, additional, speci...   \n",
       "1  [fictional, superhero, golden, age, comics, created, george, published, quality, comics, first, appeared, police, comics, august, lasted, january,...   \n",
       "2  [special, agent, special, agent, abigail, brand, fictional, character, appearing, american, comic, book, published, marvel, comics, abigail, brand...   \n",
       "3  [abin, sur, fictional, character, superhero, dc, comics, dc, universe, universe, member, green, lantern, corps, best, known, predecessor, green, l...   \n",
       "4  [abner, ronald, jenkins, formerly, known, beetle, comics, beetle, mach, mach, mach, mach, mach, mach, vii, currently, known, mach, x, fictional, c...   \n",
       "\n",
       "                                                                                                                                                 bigrams  \n",
       "0  [(mazing, man), (man, is), (is, the), (the, title), (title, character), (character, of), (of, a), (a, comic), (comic, book), (book, series), (seri...  \n",
       "1  [(is, a), (a, fictional), (fictional, superhero), (superhero, from), (from, the), (the, golden), (golden, age), (age, of), (of, comics), (comics, ...  \n",
       "2  [(special, agent), (agent, special), (special, agent), (agent, abigail), (abigail, brand), (brand, is), (is, a), (a, fictional), (fictional, chara...  \n",
       "3  [(abin, sur), (sur, is), (is, a), (a, fictional), (fictional, character), (character, and), (and, a), (a, superhero), (superhero, from), (from, th...  \n",
       "4  [(abner, ronald), (ronald, jenkins), (jenkins, formerly), (formerly, known), (known, as), (as, the), (the, beetle), (beetle, comics), (comics, bee...  "
      ]
     },
     "metadata": {},
     "output_type": "display_data"
    },
    {
     "name": "stdout",
     "output_type": "stream",
     "text": [
      "Cantidad de bigramas en el corpus:  3391034\n",
      "\n",
      "Bigramas más populares:\n",
      " [(('of', 'the'), 26955), (('in', 'the'), 22292), (('x', 'men'), 8457), (('to', 'the'), 8214), (('and', 'the'), 7985), (('as', 'a'), 7543), (('with', 'the'), 6988), (('marvel', 'comics'), 6206), (('by', 'the'), 5661), (('he', 'is'), 5238), (('in', 'a'), 5209), (('spider', 'man'), 4942), (('to', 'be'), 4916), (('is', 'a'), 4811), (('from', 'the'), 4394), (('on', 'the'), 4182), (('as', 'the'), 4138), (('of', 'his'), 4031), (('dc', 'comics'), 3906), (('he', 'was'), 3862), (('at', 'the'), 3711), (('one', 'of'), 3458), (('during', 'the'), 3429), (('for', 'the'), 3412), (('the', 'character'), 3361), (('the', 'new'), 3318), (('comic', 'book'), 3280), (('that', 'he'), 3252), (('of', 'a'), 3147), (('the', 'x'), 3097), (('she', 'is'), 3048), (('justice', 'league'), 2992), (('the', 'team'), 2818), (('appeared', 'in'), 2806), (('member', 'of'), 2753), (('appears', 'in'), 2670), (('him', 'to'), 2460), (('version', 'of'), 2456), (('with', 'a'), 2449), (('able', 'to'), 2386), (('it', 'is'), 2381), (('that', 'the'), 2381), (('the', 'first'), 2291), (('green', 'lantern'), 2288), (('and', 'his'), 2258), (('part', 'of'), 2226), (('in', 'his'), 2193), (('she', 'was'), 2173), (('after', 'the'), 2116), (('a', 'member'), 2116)]\n"
     ]
    }
   ],
   "source": [
    "comicsDf[\"bigrams\"] = list(map(lambda row: list(ngrams(word_tokenize(row),2)), \n",
    "                                   comicsDf.description))\n",
    "display(comicsDf.head())\n",
    "\n",
    "comics_bigrams = []\n",
    "for row in comicsDf.bigrams:\n",
    "    comics_bigrams.extend(row)\n",
    "most_common_comics_bigrams = nltk.FreqDist(comics_bigrams)\n",
    "\n",
    "print(\"Cantidad de bigramas en el corpus: \", most_common_comics_bigrams.N())\n",
    "print(\"\\nBigramas más populares:\\n\", most_common_comics_bigrams.most_common(50))"
   ]
  },
  {
   "cell_type": "markdown",
   "metadata": {},
   "source": [
    "## Colocaciones\n",
    "\n",
    "En lexicología, una colocación es un término que designa combinaciones de unidades léxicas  que se distinguen por un frecuencia que resulta inesperadamente alta. En los bigramas anteriores destacan los siguientes:\n",
    "\n",
    "<code>[... (('x', 'men'), 8457), ... (('marvel', 'comics'), 6206), ... (('spider', 'man'), 4942), ... (('dc', 'comics'), 3906), ... (('comic', 'book'), 3280), ... (('justice', 'league'), 2991), ... (('green', 'lantern'), 2288), ...]\n",
    "</code>\n",
    "\n",
    "Estos términos permiten hacer un análisis más inteligente del texto. Identificamos otras colocaciones importantes:"
   ]
  },
  {
   "cell_type": "code",
   "execution_count": 6,
   "metadata": {
    "collapsed": false
   },
   "outputs": [
    {
     "name": "stderr",
     "output_type": "stream",
     "text": [
      "/Users/rsotoc/anaconda3/lib/python3.6/site-packages/ipykernel/__main__.py:2: DeprecationWarning: generator 'ngrams' raised StopIteration\n",
      "  from ipykernel import kernelapp as app\n"
     ]
    },
    {
     "data": {
      "text/html": [
       "<div>\n",
       "<table border=\"1\" class=\"dataframe\">\n",
       "  <thead>\n",
       "    <tr style=\"text-align: right;\">\n",
       "      <th></th>\n",
       "      <th>name</th>\n",
       "      <th>description</th>\n",
       "      <th>main_words</th>\n",
       "      <th>bigrams</th>\n",
       "      <th>clean_bigrams</th>\n",
       "    </tr>\n",
       "  </thead>\n",
       "  <tbody>\n",
       "    <tr>\n",
       "      <th>0</th>\n",
       "      <td>'Mazing Man</td>\n",
       "      <td>mazing man is the title character of a comic book series created by bob rozakis and stephen destefano and published by dc comics the series ran fo...</td>\n",
       "      <td>[man, title, character, comic, book, series, created, bob, rozakis, stephen, published, dc, comics, series, ran, twelve, issues, additional, speci...</td>\n",
       "      <td>[(mazing, man), (man, is), (is, the), (the, title), (title, character), (character, of), (of, a), (a, comic), (comic, book), (book, series), (seri...</td>\n",
       "      <td>[(title, character), (comic, book), (book, series), (series, created), (bob, rozakis), (dc, comics), (series, ran), (twelve, issues), (additional,...</td>\n",
       "    </tr>\n",
       "    <tr>\n",
       "      <th>1</th>\n",
       "      <td>711 (Quality Comics)</td>\n",
       "      <td>is a fictional superhero from the golden age of comics he was created by george brenner and published by quality comics first appeared in police c...</td>\n",
       "      <td>[fictional, superhero, golden, age, comics, created, george, published, quality, comics, first, appeared, police, comics, august, lasted, january,...</td>\n",
       "      <td>[(is, a), (a, fictional), (fictional, superhero), (superhero, from), (from, the), (the, golden), (golden, age), (age, of), (of, comics), (comics, ...</td>\n",
       "      <td>[(fictional, superhero), (golden, age), (quality, comics), (comics, first), (first, appeared), (police, comics), (comics, august), (killed, daniel...</td>\n",
       "    </tr>\n",
       "    <tr>\n",
       "      <th>2</th>\n",
       "      <td>Abigail Brand</td>\n",
       "      <td>special agent special agent abigail brand is a fictional character appearing in american comic book s published by marvel comics abigail brand s f...</td>\n",
       "      <td>[special, agent, special, agent, abigail, brand, fictional, character, appearing, american, comic, book, published, marvel, comics, abigail, brand...</td>\n",
       "      <td>[(special, agent), (agent, special), (special, agent), (agent, abigail), (abigail, brand), (brand, is), (is, a), (a, fictional), (fictional, chara...</td>\n",
       "      <td>[(special, agent), (agent, special), (special, agent), (agent, abigail), (abigail, brand), (fictional, character), (character, appearing), (americ...</td>\n",
       "    </tr>\n",
       "    <tr>\n",
       "      <th>3</th>\n",
       "      <td>Abin Sur</td>\n",
       "      <td>abin sur is a fictional character and a superhero from the dc comics dc universe universe he was a member of the green lantern corps and is best k...</td>\n",
       "      <td>[abin, sur, fictional, character, superhero, dc, comics, dc, universe, universe, member, green, lantern, corps, best, known, predecessor, green, l...</td>\n",
       "      <td>[(abin, sur), (sur, is), (is, a), (a, fictional), (fictional, character), (character, and), (and, a), (a, superhero), (superhero, from), (from, th...</td>\n",
       "      <td>[(abin, sur), (fictional, character), (dc, comics), (comics, dc), (dc, universe), (universe, universe), (green, lantern), (lantern, corps), (best,...</td>\n",
       "    </tr>\n",
       "    <tr>\n",
       "      <th>4</th>\n",
       "      <td>Abner Jenkins</td>\n",
       "      <td>abner ronald jenkins formerly known as the beetle comics beetle mach mach mach mach iv mach v mach vii and currently known as mach x and is a fict...</td>\n",
       "      <td>[abner, ronald, jenkins, formerly, known, beetle, comics, beetle, mach, mach, mach, mach, mach, mach, vii, currently, known, mach, x, fictional, c...</td>\n",
       "      <td>[(abner, ronald), (ronald, jenkins), (jenkins, formerly), (formerly, known), (known, as), (as, the), (the, beetle), (beetle, comics), (comics, bee...</td>\n",
       "      <td>[(abner, ronald), (ronald, jenkins), (jenkins, formerly), (formerly, known), (beetle, comics), (comics, beetle), (beetle, mach), (mach, mach), (ma...</td>\n",
       "    </tr>\n",
       "  </tbody>\n",
       "</table>\n",
       "</div>"
      ],
      "text/plain": [
       "                   name  \\\n",
       "0           'Mazing Man   \n",
       "1  711 (Quality Comics)   \n",
       "2         Abigail Brand   \n",
       "3              Abin Sur   \n",
       "4         Abner Jenkins   \n",
       "\n",
       "                                                                                                                                             description  \\\n",
       "0  mazing man is the title character of a comic book series created by bob rozakis and stephen destefano and published by dc comics the series ran fo...   \n",
       "1  is a fictional superhero from the golden age of comics he was created by george brenner and published by quality comics first appeared in police c...   \n",
       "2  special agent special agent abigail brand is a fictional character appearing in american comic book s published by marvel comics abigail brand s f...   \n",
       "3  abin sur is a fictional character and a superhero from the dc comics dc universe universe he was a member of the green lantern corps and is best k...   \n",
       "4  abner ronald jenkins formerly known as the beetle comics beetle mach mach mach mach iv mach v mach vii and currently known as mach x and is a fict...   \n",
       "\n",
       "                                                                                                                                              main_words  \\\n",
       "0  [man, title, character, comic, book, series, created, bob, rozakis, stephen, published, dc, comics, series, ran, twelve, issues, additional, speci...   \n",
       "1  [fictional, superhero, golden, age, comics, created, george, published, quality, comics, first, appeared, police, comics, august, lasted, january,...   \n",
       "2  [special, agent, special, agent, abigail, brand, fictional, character, appearing, american, comic, book, published, marvel, comics, abigail, brand...   \n",
       "3  [abin, sur, fictional, character, superhero, dc, comics, dc, universe, universe, member, green, lantern, corps, best, known, predecessor, green, l...   \n",
       "4  [abner, ronald, jenkins, formerly, known, beetle, comics, beetle, mach, mach, mach, mach, mach, mach, vii, currently, known, mach, x, fictional, c...   \n",
       "\n",
       "                                                                                                                                                 bigrams  \\\n",
       "0  [(mazing, man), (man, is), (is, the), (the, title), (title, character), (character, of), (of, a), (a, comic), (comic, book), (book, series), (seri...   \n",
       "1  [(is, a), (a, fictional), (fictional, superhero), (superhero, from), (from, the), (the, golden), (golden, age), (age, of), (of, comics), (comics, ...   \n",
       "2  [(special, agent), (agent, special), (special, agent), (agent, abigail), (abigail, brand), (brand, is), (is, a), (a, fictional), (fictional, chara...   \n",
       "3  [(abin, sur), (sur, is), (is, a), (a, fictional), (fictional, character), (character, and), (and, a), (a, superhero), (superhero, from), (from, th...   \n",
       "4  [(abner, ronald), (ronald, jenkins), (jenkins, formerly), (formerly, known), (known, as), (as, the), (the, beetle), (beetle, comics), (comics, bee...   \n",
       "\n",
       "                                                                                                                                           clean_bigrams  \n",
       "0  [(title, character), (comic, book), (book, series), (series, created), (bob, rozakis), (dc, comics), (series, ran), (twelve, issues), (additional,...  \n",
       "1  [(fictional, superhero), (golden, age), (quality, comics), (comics, first), (first, appeared), (police, comics), (comics, august), (killed, daniel...  \n",
       "2  [(special, agent), (agent, special), (special, agent), (agent, abigail), (abigail, brand), (fictional, character), (character, appearing), (americ...  \n",
       "3  [(abin, sur), (fictional, character), (dc, comics), (comics, dc), (dc, universe), (universe, universe), (green, lantern), (lantern, corps), (best,...  \n",
       "4  [(abner, ronald), (ronald, jenkins), (jenkins, formerly), (formerly, known), (beetle, comics), (comics, beetle), (beetle, mach), (mach, mach), (ma...  "
      ]
     },
     "metadata": {},
     "output_type": "display_data"
    },
    {
     "name": "stdout",
     "output_type": "stream",
     "text": [
      "Cantidad de bigramas en el corpus:  969524\n",
      "\n",
      "Bigramas más populares:\n",
      " [(('x', 'men'), 8457), (('marvel', 'comics'), 6212), (('spider', 'man'), 4942), (('dc', 'comics'), 3909), (('comic', 'book'), 3281), (('justice', 'league'), 2992), (('green', 'lantern'), 2289), (('captain', 'america'), 2008), (('first', 'appeared'), 1462), (('iron', 'man'), 1462), (('tv', 'series'), 1437), (('fantastic', 'four'), 1410), (('uncanny', 'x'), 1326), (('teen', 'titans'), 1236), (('wonder', 'woman'), 1179), (('super', 'heroes'), 1102), (('fictional', 'character'), 993), (('captain', 'marvel'), 986), (('marvel', 'universe'), 984), (('new', 'york'), 975), (('new', 'mutants'), 884), (('civil', 'war'), 853), (('x', 'factor'), 819), (('x', 'force'), 813), (('dc', 'universe'), 799), (('lantern', 'corps'), 787), (('american', 'comic'), 781), (('ghost', 'rider'), 765), (('playable', 'character'), 753), (('amazing', 'spider'), 741), (('justice', 'society'), 726), (('green', 'arrow'), 678), (('golden', 'age'), 649), (('world', 'war'), 635), (('united', 'states'), 616), (('alpha', 'flight'), 615), (('video', 'game'), 613), (('men', 'vol'), 603), (('black', 'panther'), 599), (('comic', 'books'), 593), (('limited', 'series'), 584), (('new', 'warriors'), 581), (('hal', 'jordan'), 572), (('infinite', 'crisis'), 569), (('animated', 'series'), 565), (('new', 'x'), 558), (('avengers', 'comics'), 542), (('first', 'appearance'), 531), (('new', 'avengers'), 526), (('one', 'shot'), 524)]\n"
     ]
    }
   ],
   "source": [
    "comicsDf[\"clean_bigrams\"] = list(map(lambda words, bigrams: \n",
    "                                        [b for b in list(ngrams(words, 2))\n",
    "                                        if b in bigrams], \n",
    "                                        comicsDf.main_words, comicsDf.bigrams))\n",
    "display(comicsDf.head())\n",
    "\n",
    "clean_bigrams = []\n",
    "for row in comicsDf.clean_bigrams:\n",
    "    clean_bigrams.extend(row)\n",
    "common_clean_bigrams = nltk.FreqDist(clean_bigrams)\n",
    "\n",
    "print(\"Cantidad de bigramas en el corpus: \", common_clean_bigrams.N())\n",
    "print(\"\\nBigramas más populares:\\n\", common_clean_bigrams.most_common(50))"
   ]
  },
  {
   "cell_type": "markdown",
   "metadata": {},
   "source": [
    "En estos resultados observamos que todos los bigramas presentados tienen significado útil y algunos como <code>'x', 'men'</code>, <code>'spider', 'man'</code> y muchos otros, pierden sentido si se les separa. En estos casos, puede ser conveniente reemplazar el bigrama por un token: <code>'x_men'</code>, <code>'spider_man'</code>, etc. "
   ]
  },
  {
   "cell_type": "code",
   "execution_count": 7,
   "metadata": {
    "collapsed": false
   },
   "outputs": [
    {
     "data": {
      "text/html": [
       "<div>\n",
       "<table border=\"1\" class=\"dataframe\">\n",
       "  <thead>\n",
       "    <tr style=\"text-align: right;\">\n",
       "      <th></th>\n",
       "      <th>name</th>\n",
       "      <th>description</th>\n",
       "      <th>main_words</th>\n",
       "      <th>bigrams</th>\n",
       "      <th>clean_bigrams</th>\n",
       "      <th>all_collocations</th>\n",
       "    </tr>\n",
       "  </thead>\n",
       "  <tbody>\n",
       "    <tr>\n",
       "      <th>0</th>\n",
       "      <td>'Mazing Man</td>\n",
       "      <td>mazing man is the title character of a comic book series created by bob rozakis and stephen destefano and published by dc comics the series ran fo...</td>\n",
       "      <td>[man, title, character, comic, book, series, created, bob, rozakis, stephen, published, dc, comics, series, ran, twelve, issues, additional, speci...</td>\n",
       "      <td>[(mazing, man), (man, is), (is, the), (the, title), (title, character), (character, of), (of, a), (a, comic), (comic, book), (book, series), (seri...</td>\n",
       "      <td>[(title, character), (comic, book), (book, series), (series, created), (bob, rozakis), (dc, comics), (series, ran), (twelve, issues), (additional,...</td>\n",
       "      <td>[title character, comic book, book series, series created, bob rozakis, dc comics, series ran, twelve issues, additional special, special issues, ...</td>\n",
       "    </tr>\n",
       "    <tr>\n",
       "      <th>1</th>\n",
       "      <td>711 (Quality Comics)</td>\n",
       "      <td>is a fictional superhero from the golden age of comics he was created by george brenner and published by quality comics first appeared in police c...</td>\n",
       "      <td>[fictional, superhero, golden, age, comics, created, george, published, quality, comics, first, appeared, police, comics, august, lasted, january,...</td>\n",
       "      <td>[(is, a), (a, fictional), (fictional, superhero), (superhero, from), (from, the), (the, golden), (golden, age), (age, of), (of, comics), (comics, ...</td>\n",
       "      <td>[(fictional, superhero), (golden, age), (quality, comics), (comics, first), (first, appeared), (police, comics), (comics, august), (killed, daniel...</td>\n",
       "      <td>[fictional superhero, golden age, quality comics, comics first, first appeared, police comics, comics august, killed daniel, district attorney, ex...</td>\n",
       "    </tr>\n",
       "    <tr>\n",
       "      <th>2</th>\n",
       "      <td>Abigail Brand</td>\n",
       "      <td>special agent special agent abigail brand is a fictional character appearing in american comic book s published by marvel comics abigail brand s f...</td>\n",
       "      <td>[special, agent, special, agent, abigail, brand, fictional, character, appearing, american, comic, book, published, marvel, comics, abigail, brand...</td>\n",
       "      <td>[(special, agent), (agent, special), (special, agent), (agent, abigail), (abigail, brand), (brand, is), (is, a), (a, fictional), (fictional, chara...</td>\n",
       "      <td>[(special, agent), (agent, special), (special, agent), (agent, abigail), (abigail, brand), (fictional, character), (character, appearing), (americ...</td>\n",
       "      <td>[special agent, agent special, special agent, agent abigail, abigail brand, fictional character, character appearing, american comic, comic book, ...</td>\n",
       "    </tr>\n",
       "    <tr>\n",
       "      <th>3</th>\n",
       "      <td>Abin Sur</td>\n",
       "      <td>abin sur is a fictional character and a superhero from the dc comics dc universe universe he was a member of the green lantern corps and is best k...</td>\n",
       "      <td>[abin, sur, fictional, character, superhero, dc, comics, dc, universe, universe, member, green, lantern, corps, best, known, predecessor, green, l...</td>\n",
       "      <td>[(abin, sur), (sur, is), (is, a), (a, fictional), (fictional, character), (character, and), (and, a), (a, superhero), (superhero, from), (from, th...</td>\n",
       "      <td>[(abin, sur), (fictional, character), (dc, comics), (comics, dc), (dc, universe), (universe, universe), (green, lantern), (lantern, corps), (best,...</td>\n",
       "      <td>[abin sur, fictional character, dc comics, comics dc, dc universe, universe universe, green lantern, lantern corps, best known, green lantern, lan...</td>\n",
       "    </tr>\n",
       "    <tr>\n",
       "      <th>4</th>\n",
       "      <td>Abner Jenkins</td>\n",
       "      <td>abner ronald jenkins formerly known as the beetle comics beetle mach mach mach mach iv mach v mach vii and currently known as mach x and is a fict...</td>\n",
       "      <td>[abner, ronald, jenkins, formerly, known, beetle, comics, beetle, mach, mach, mach, mach, mach, mach, vii, currently, known, mach, x, fictional, c...</td>\n",
       "      <td>[(abner, ronald), (ronald, jenkins), (jenkins, formerly), (formerly, known), (known, as), (as, the), (the, beetle), (beetle, comics), (comics, bee...</td>\n",
       "      <td>[(abner, ronald), (ronald, jenkins), (jenkins, formerly), (formerly, known), (beetle, comics), (comics, beetle), (beetle, mach), (mach, mach), (ma...</td>\n",
       "      <td>[abner ronald, ronald jenkins, jenkins formerly, formerly known, beetle comics, comics beetle, beetle mach, mach mach, mach mach, mach mach, mach ...</td>\n",
       "    </tr>\n",
       "  </tbody>\n",
       "</table>\n",
       "</div>"
      ],
      "text/plain": [
       "                   name  \\\n",
       "0           'Mazing Man   \n",
       "1  711 (Quality Comics)   \n",
       "2         Abigail Brand   \n",
       "3              Abin Sur   \n",
       "4         Abner Jenkins   \n",
       "\n",
       "                                                                                                                                             description  \\\n",
       "0  mazing man is the title character of a comic book series created by bob rozakis and stephen destefano and published by dc comics the series ran fo...   \n",
       "1  is a fictional superhero from the golden age of comics he was created by george brenner and published by quality comics first appeared in police c...   \n",
       "2  special agent special agent abigail brand is a fictional character appearing in american comic book s published by marvel comics abigail brand s f...   \n",
       "3  abin sur is a fictional character and a superhero from the dc comics dc universe universe he was a member of the green lantern corps and is best k...   \n",
       "4  abner ronald jenkins formerly known as the beetle comics beetle mach mach mach mach iv mach v mach vii and currently known as mach x and is a fict...   \n",
       "\n",
       "                                                                                                                                              main_words  \\\n",
       "0  [man, title, character, comic, book, series, created, bob, rozakis, stephen, published, dc, comics, series, ran, twelve, issues, additional, speci...   \n",
       "1  [fictional, superhero, golden, age, comics, created, george, published, quality, comics, first, appeared, police, comics, august, lasted, january,...   \n",
       "2  [special, agent, special, agent, abigail, brand, fictional, character, appearing, american, comic, book, published, marvel, comics, abigail, brand...   \n",
       "3  [abin, sur, fictional, character, superhero, dc, comics, dc, universe, universe, member, green, lantern, corps, best, known, predecessor, green, l...   \n",
       "4  [abner, ronald, jenkins, formerly, known, beetle, comics, beetle, mach, mach, mach, mach, mach, mach, vii, currently, known, mach, x, fictional, c...   \n",
       "\n",
       "                                                                                                                                                 bigrams  \\\n",
       "0  [(mazing, man), (man, is), (is, the), (the, title), (title, character), (character, of), (of, a), (a, comic), (comic, book), (book, series), (seri...   \n",
       "1  [(is, a), (a, fictional), (fictional, superhero), (superhero, from), (from, the), (the, golden), (golden, age), (age, of), (of, comics), (comics, ...   \n",
       "2  [(special, agent), (agent, special), (special, agent), (agent, abigail), (abigail, brand), (brand, is), (is, a), (a, fictional), (fictional, chara...   \n",
       "3  [(abin, sur), (sur, is), (is, a), (a, fictional), (fictional, character), (character, and), (and, a), (a, superhero), (superhero, from), (from, th...   \n",
       "4  [(abner, ronald), (ronald, jenkins), (jenkins, formerly), (formerly, known), (known, as), (as, the), (the, beetle), (beetle, comics), (comics, bee...   \n",
       "\n",
       "                                                                                                                                           clean_bigrams  \\\n",
       "0  [(title, character), (comic, book), (book, series), (series, created), (bob, rozakis), (dc, comics), (series, ran), (twelve, issues), (additional,...   \n",
       "1  [(fictional, superhero), (golden, age), (quality, comics), (comics, first), (first, appeared), (police, comics), (comics, august), (killed, daniel...   \n",
       "2  [(special, agent), (agent, special), (special, agent), (agent, abigail), (abigail, brand), (fictional, character), (character, appearing), (americ...   \n",
       "3  [(abin, sur), (fictional, character), (dc, comics), (comics, dc), (dc, universe), (universe, universe), (green, lantern), (lantern, corps), (best,...   \n",
       "4  [(abner, ronald), (ronald, jenkins), (jenkins, formerly), (formerly, known), (beetle, comics), (comics, beetle), (beetle, mach), (mach, mach), (ma...   \n",
       "\n",
       "                                                                                                                                        all_collocations  \n",
       "0  [title character, comic book, book series, series created, bob rozakis, dc comics, series ran, twelve issues, additional special, special issues, ...  \n",
       "1  [fictional superhero, golden age, quality comics, comics first, first appeared, police comics, comics august, killed daniel, district attorney, ex...  \n",
       "2  [special agent, agent special, special agent, agent abigail, abigail brand, fictional character, character appearing, american comic, comic book, ...  \n",
       "3  [abin sur, fictional character, dc comics, comics dc, dc universe, universe universe, green lantern, lantern corps, best known, green lantern, lan...  \n",
       "4  [abner ronald, ronald jenkins, jenkins formerly, formerly known, beetle comics, comics beetle, beetle mach, mach mach, mach mach, mach mach, mach ...  "
      ]
     },
     "metadata": {},
     "output_type": "display_data"
    }
   ],
   "source": [
    "comicsDf[\"all_collocations\"] = list(map(lambda doc, bigrams: \n",
    "                            [b[0]+\" \"+b[1] for b in bigrams if b[0]+\" \"+b[1] in doc], \n",
    "                            comicsDf.description, comicsDf.clean_bigrams))\n",
    "display(comicsDf.head())"
   ]
  },
  {
   "cell_type": "code",
   "execution_count": 8,
   "metadata": {
    "collapsed": false
   },
   "outputs": [
    {
     "name": "stdout",
     "output_type": "stream",
     "text": [
      "Cantidad de bigramas en el corpus:  969524\n",
      "\n",
      "Bigramas más populares:\n",
      " [('x men', 8457), ('marvel comics', 6212), ('spider man', 4942), ('dc comics', 3909), ('comic book', 3281), ('justice league', 2992), ('green lantern', 2289), ('captain america', 2008), ('first appeared', 1462), ('iron man', 1462), ('tv series', 1437), ('fantastic four', 1410), ('uncanny x', 1326), ('teen titans', 1236), ('wonder woman', 1179), ('super heroes', 1102), ('fictional character', 993), ('captain marvel', 986), ('marvel universe', 984), ('new york', 975), ('new mutants', 884), ('civil war', 853), ('x factor', 819), ('x force', 813), ('dc universe', 799), ('lantern corps', 787), ('american comic', 781), ('ghost rider', 765), ('playable character', 753), ('amazing spider', 741), ('justice society', 726), ('green arrow', 678), ('golden age', 649), ('world war', 635), ('united states', 616), ('alpha flight', 615), ('video game', 613), ('men vol', 603), ('black panther', 599), ('comic books', 593), ('limited series', 584), ('new warriors', 581), ('hal jordan', 572), ('infinite crisis', 569), ('animated series', 565), ('new x', 558), ('avengers comics', 542), ('first appearance', 531), ('new avengers', 526), ('one shot', 524)]\n"
     ]
    }
   ],
   "source": [
    "clean_collocations = []\n",
    "for row in comicsDf.all_collocations:\n",
    "    clean_collocations.extend(row)\n",
    "common_clean_collocations = nltk.FreqDist(clean_collocations)\n",
    "\n",
    "print(\"Cantidad de bigramas en el corpus: \", common_clean_collocations.N())\n",
    "print(\"\\nBigramas más populares:\\n\", common_clean_collocations.most_common(50))"
   ]
  },
  {
   "cell_type": "code",
   "execution_count": 9,
   "metadata": {
    "collapsed": false
   },
   "outputs": [
    {
     "name": "stdout",
     "output_type": "stream",
     "text": [
      "408004 colocaciones\n",
      " [('x men', 8457), ('marvel comics', 6212), ('spider man', 4942), ('dc comics', 3909), ('comic book', 3281), ('justice league', 2992), ('green lantern', 2289), ('captain america', 2008), ('first appeared', 1462), ('iron man', 1462), ('tv series', 1437), ('fantastic four', 1410), ('uncanny x', 1326), ('teen titans', 1236), ('wonder woman', 1179), ('super heroes', 1102), ('fictional character', 993), ('captain marvel', 986), ('marvel universe', 984), ('new york', 975)] \n",
      "...\n",
      " [('mansion xavier', 75), ('timber wolf', 75), ('nightwing vol', 75), ('took place', 74), ('vol green', 74), ('sinister six', 74), ('titans east', 74), ('outsiders comics', 74), ('thor vol', 74), ('supergirl kara', 74), ('black hood', 74), ('blue marvel', 74), ('marvel boy', 74), ('books golden', 73), ('long enough', 73), ('three issue', 73), ('infinity gauntlet', 73), ('come comics', 73), ('new teen', 73), ('team member', 73)] \n",
      "...\n",
      " [('however zor', 1), ('tied together', 1), ('suggested zor', 1), ('alura telling', 1), ('father proud', 1), ('genuine request', 1), ('wanted kara', 1), ('wherever one', 1), ('line went', 1), ('phantoms would', 1), ('send kara', 1), ('remove kal', 1), ('phantoms subsequently', 1), ('subsequently invading', 1), ('supergirl belonged', 1), ('universe upon', 1), ('nevertheless real', 1), ('indexphp zor', 1), ('el zor', 1), ('el profile', 1)]\n"
     ]
    }
   ],
   "source": [
    "#colocaciones únicas\n",
    "nc = len(common_clean_collocations.most_common())\n",
    "print(nc, \"colocaciones\\n\", \n",
    "      common_clean_collocations.most_common(20),\n",
    "      \"\\n...\\n\",\n",
    "      list(common_clean_collocations.most_common())[int(nc/500):int(nc/500)+20],\n",
    "      \"\\n...\\n\",\n",
    "      list(common_clean_collocations.most_common())[nc-20:])"
   ]
  },
  {
   "cell_type": "markdown",
   "metadata": {},
   "source": [
    "A partir de este listado, con las 20 colocaciones más frecuentes, las 20 colocaciones menos frecuentes y 20 colocaciones con frecuencia media, observamos que no todas pueden tomarse como tokens, e incluso, la mayoría no tienen sentido como unidades. Construimos entonces las colocaciones tomando en cuenta el diccionario preliminar, reflejado en la columna <code>main_words</code> y mantenemos el nombre del personaje:"
   ]
  },
  {
   "cell_type": "code",
   "execution_count": 12,
   "metadata": {
    "collapsed": false
   },
   "outputs": [
    {
     "name": "stdout",
     "output_type": "stream",
     "text": [
      "80691 \n",
      " [('space adventurer', 1), ('whose appearance', 1), ('man script', 1), ('special issue', 1), ('though highly', 1), ('one miniseries', 1), ('archives lost', 1), ('costume list', 1), ('named owen', 1), ('couple named', 1), ('accident prone', 1), ('catastrophe segment', 1), ('kitty catastrophe', 1), ('spectacular voiced', 1), ('star spectacular', 1), ('four star', 1), ('episode four', 1), ('stuffed shirt', 1), ('mother walter', 1), ('whose appearances', 1), ('baby whose', 1), ('usually grunts', 1), ('building never', 1), ('front steps', 1), ('heroics mrs', 1), ('women sgt', 1), ('pursuing women', 1), ('drinking beer', 1), ('time wondering', 1), ('sister guido', 1), ('looking half', 1), ('human looking', 1), ('watson denton', 1), ('quincy high', 1), ('john quincy', 1), ('glove winner', 1), ('gold glove', 1), ('brenda baseball', 1), ('crook married', 1), ('bank job', 1), ('bank promoted', 1), ('richmond bank', 1), ('south richmond', 1), ('assistant manager', 1), ('valentine assistant', 1), ('valentine eddie', 1), ('eddie valentine', 1), ('rising star', 1), ('brenda valentine', 1), ('friend writer', 1), ('row denton', 1), ('none miniseries', 1), ('negative much', 1), ('publicity positive', 1), ('released without', 1), ('word zombie', 1), ('dead specifically', 1), ('living dead', 1), ('ideas one', 1), ('friends give', 1), ('block denton', 1), ('issue writer', 1), ('comics code', 1), ('introduce continuity', 1), ('dog received', 1), ('space adventurers', 1), ('issue continuity', 1), ('narrative style', 1), ('age narrative', 1), ('fixx wrote', 1), ('book fixx', 1), ('ostensibly written', 1), ('issues drawn', 1), ('shot issues', 1), ('subsequent one', 1), ('enough interest', 1), ('created enough', 1), ('exposure created', 1), ('resulting exposure', 1), ('series batman', 1), ('popular mini', 1), ('extremely popular', 1), ('miller contributed', 1), ('survive miller', 1), ('property survive', 1), ('series eager', 1), ('miller admired', 1), ('frank miller', 1), ('however comics', 1), ('lived however', 1), ('highly acclaimed', 1), ('although highly', 1), ('financial success', 1), ('secret per', 1), ('genuinely reads', 1), ('daily including', 1), ('publications daily', 1), ('looks like', 1), ('comics looks', 1), ('denton fixx', 1), ('sing simon', 1), ('steady stream', 1), ('issue earning', 1), ('children viewed', 1), ('local children', 1), ('deeds like', 1), ('performs deeds', 1), ('york queens', 1), ('queens new', 1), ('little man', 1), ('deranged little', 1), ('special issues', 1), ('additional special', 1), ('self free', 1), ('like man', 1), ('quality comic', 1), ('two year', 1), ('ion dc', 1), ('ice comics', 1), ('main dc', 1), ('comics aug', 1), ('book hero', 1), ('appearance htm', 1), ('edition reprint', 1), ('comics millennium', 1), ('edition dc', 1), ('millennium edition', 1), ('domain dc', 1), ('public domain', 1), ('others lapsed', 1), ('comics characters', 1), ('age many', 1), ('would see', 1), ('would look', 1), ('criminal would', 1), ('card made', 1), ('calling card', 1), ('business suit', 1), ('brown business', 1), ('green cape', 1), ('magazine heroes', 1), ('pulp magazine', 1), ('traditional pulp', 1), ('traditional costume', 1), ('book heroes', 1), ('early comic', 1), ('many early', 1), ('like many', 1), ('comics like', 1), ('died replacing', 1)]\n"
     ]
    }
   ],
   "source": [
    "import math\n",
    "\n",
    "comics_all_collocations = list(common_clean_collocations.keys())\n",
    "dict_all_collocations = dict(zip(comics_all_collocations, [0]*nc))\n",
    "for w in comics_all_collocations:\n",
    "    for d in comicsDf.description:\n",
    "        if(w in d):\n",
    "            dict_all_collocations[w] += 1\n",
    "\n",
    "top_collocations = []\n",
    "numDocs_comics = len(comicsDf)\n",
    "for d in comicsDf.description:\n",
    "    N = len(d.split()) - 1 #El número de bigramas es le núymero de palabras - 1\n",
    "    for w in reversed(comics_all_collocations): #En reversa para evitar problemas con los índices\n",
    "        if(w in d):\n",
    "            tfidf = d.count(w) / N * math.log(numDocs_comics/dict_all_collocations[w], 2)\n",
    "            if(tfidf > 0.01):\n",
    "                top_collocations.append(w)\n",
    "                comics_all_collocations.remove(w)"
   ]
  },
  {
   "cell_type": "code",
   "execution_count": 23,
   "metadata": {
    "collapsed": false
   },
   "outputs": [],
   "source": [
    "collocations_tokens = [b for b in common_clean_collocations.most_common() \n",
    "                      if b[0] in top_collocations]\n",
    "comicsDf = comicsDf.reindex(columns = [\"name\", \"description\", \"main_words\", \"bigrams\", \n",
    "                                        \"clean_bigrams\", \"all_collocations\", \"new_description\"])\n",
    "\n",
    "for i, row in zip(range(len(comicsDf)), comicsDf.main_words):\n",
    "    n = \"_\".join(comicsDf.loc[i, \"name\"].split()) + \" \"\n",
    "    s = \" \".join(row)\n",
    "    for w in collocations_tokens:\n",
    "        s = re.sub(\" \" + w[0], \" \" + \"_\".join(w[0].split()), s)\n",
    "    comicsDf.loc[i, \"new_description\"] = n.lower() + s\n",
    "display(comicsDf.head())\n",
    "\n",
    "new_main_words = []\n",
    "for row in comicsDf.new_description:\n",
    "    new_main_words.extend(row.split())\n",
    "common_new_main_words = nltk.FreqDist(new_main_words)"
   ]
  },
  {
   "cell_type": "code",
   "execution_count": 65,
   "metadata": {
    "collapsed": false
   },
   "outputs": [
    {
     "name": "stdout",
     "output_type": "stream",
     "text": [
      "Cantidad de bigramas en el corpus:  93068\n",
      "\n",
      "Bigramas más populares:\n",
      "['x_men', 'one', 'time', 'marvel_comics', 'earth', 'comics', 'powers', 'spider_man', 'also', 'series', 'character', 'team', 'appears', 'batman', 'justice_league', 'member', 'however', 'battle', 'dc_comics', 'death', 'superman', 'later', 'created', 'new', 'father', 'version', 'body', 'avengers', 'able', 'help', 'power', 'revealed', 'vol', 'green_lantern', 'life', 'part', 'killed', 'voiced', 'fight', 'ability', 'two', 'world', 'use', 'would', 'first', 'back', 'used', 'well', 'order', 'marvel']\n",
      "...\n",
      "['inter', 'carl', 'distinct', 'joined_forces', 'archenemy', 'alley', 'tension', 'swamp', 'religion', 'numbering', 'pit', 'enhance', 'antidote', 'promising', 'gail_simone', 'clashed', 'jpg_left_thumb', 'texas', 'tremendous', 'credits', 'engineered', 'likes', 'cosmic_teams', 'gave_birth', 'concussive_force', 'liquid', 'intervene', 'combine', 'labs', 'long_term', 'crime_fighter', 'african', 'bride', 'faked', 'heroic_age', 'wins', 'considering', 'exploded', 'luck', 'mark_gruenwald', 'suits', 'utilizing', 'studies', 'scourge', 'comics_hellfire_club', 'sebastian_shaw', 'doorway', 'jason_blood', 'signs', 'hunters']\n"
     ]
    }
   ],
   "source": [
    "print(\"Cantidad de bigramas en el corpus: \", len(common_new_main_words.most_common()))\n",
    "\n",
    "lexicon_comics = [w[0] for w in common_new_main_words.most_common(6000)]\n",
    "print(\"\\nBigramas más populares:\\n{}\\n...\\n{}\"\n",
    "      .format(lexicon_comics[:50], lexicon_comics[5950:6000]))"
   ]
  },
  {
   "cell_type": "markdown",
   "metadata": {},
   "source": [
    "## Conclusiones\n",
    "\n",
    "<hr style=\"border-width: 3px;\">\n",
    "\n",
    "### Tarea 1\n",
    "\n",
    "Describa un problema de reconocimiento de patrones de su interés y explique por qué un modelo tradicional sería inapropiado para resolverlo (utilice la celda siguiente, en esta libreta, para presentar su problema seleccionado).\n",
    "\n",
    "**Fecha de entrega**: Viernes 20 de enero."
   ]
  },
  {
   "cell_type": "code",
   "execution_count": null,
   "metadata": {
    "collapsed": true
   },
   "outputs": [],
   "source": []
  }
 ],
 "metadata": {
  "celltoolbar": "Raw Cell Format",
  "kernelspec": {
   "display_name": "Python 3",
   "language": "python",
   "name": "python3"
  },
  "language_info": {
   "codemirror_mode": {
    "name": "ipython",
    "version": 3
   },
   "file_extension": ".py",
   "mimetype": "text/x-python",
   "name": "python",
   "nbconvert_exporter": "python",
   "pygments_lexer": "ipython3",
   "version": "3.6.0"
  }
 },
 "nbformat": 4,
 "nbformat_minor": 0
}
