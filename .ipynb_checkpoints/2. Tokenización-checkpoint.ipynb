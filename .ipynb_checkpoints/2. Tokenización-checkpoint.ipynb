{
 "cells": [
  {
   "cell_type": "markdown",
   "metadata": {},
   "source": [
    "![agents](images/header.jpg)\n",
    "# Limpieza y tokenización\n",
    "### Ramón Soto C. [(rsotoc@moviquest.com)](mailto:rsotoc@moviquest.com/)\n",
    "[ver en nbviewer](http://nbviewer.ipython.org/github/rsotoc/nlp/blob/master/Introducción.ipynb)"
   ]
  },
  {
   "cell_type": "markdown",
   "metadata": {},
   "source": [
    "## Tokenización\n",
    "\n",
    "El primer paso para analizar el mensaje contenido en un documento de texto es la **tokenización**, es decir, la segmentación del texto original (en bruto) para obtener un conjunto de palabras y símbolos que puedan ser analizados como entidades con significado. \n",
    "\n",
    "![](images/nlp02.png)\n",
    "\n",
    "La pertinencia de esta división depende mucho del lenguaje y del contexto del mensaje que se está analizando.\n",
    "\n",
    "![](images/ideo_tok.png)\n",
    "\n",
    "En el caso de languajes como el español y el inglés, la estructura del lenguaje escrito es predominantemente alfabética con el uso de logogramas para representación alternativa/compacta de números y para símbolos ([sistemas de escritura](https://en.wikipedia.org/wiki/Writing_system)). En este caso, la segmentación de un texto en *tokens* es relativamente simple, utilizando caracteres de demarcación como pueden ser los espacios en blanco y los signos de puntuación.\n",
    "\n",
    "Utilizando la bibliotec [nltk (*Natural language toolkit*)](http://www.nltk.org) de python, por ejemplo, podemos descomponer el siguiente [texto](https://www.youtube.com/watch?v=CJkBsVGRNF0):\n",
    "\n",
    "> Grave desencanto te ha dado, a resultas, uh, uh, <br>\n",
    "del cual te dedicas ahora a las ciencias ocultas.  <br>\n",
    "Tú que ya eras torpe de racionalista,  <br>\n",
    "no lo tienes fácil, Satanás te asista.  <br>\n",
    "Siendo sólo fea, siendo sólo arpía,  <br>\n",
    "nunca serás bruja de categoría.  <br>\n",
    "\n",
    "en frases..."
   ]
  },
  {
   "cell_type": "code",
   "execution_count": 1,
   "metadata": {
    "collapsed": true
   },
   "outputs": [],
   "source": [
    "from IPython.display import display\n",
    "import pandas as pd\n",
    "pd.options.display.max_colwidth = 150 # Modificar la longitud de caracteres en una celda que se imprimirán \n",
    "import nltk\n",
    "from nltk.tokenize import sent_tokenize, word_tokenize\n",
    "import string"
   ]
  },
  {
   "cell_type": "code",
   "execution_count": 2,
   "metadata": {
    "collapsed": false
   },
   "outputs": [
    {
     "name": "stdout",
     "output_type": "stream",
     "text": [
      "Grave desencanto te ha dado, a resultas, uh, uh, \n",
      "del cual te dedicas ahora a las ciencias ocultas. \n",
      "Tú que ya eras torpe de racionalista, \n",
      "no lo tienes fácil, Satanás te asista. \n",
      "Siendo sólo fea, siendo sólo arpía, \n",
      "nunca serás bruja de categoría. \n",
      "\n",
      "['Grave desencanto te ha dado, a resultas, uh, uh, \\ndel cual te dedicas ahora a las ciencias ocultas.', 'Tú que ya eras torpe de racionalista, \\nno lo tienes fácil, Satanás te asista.', 'Siendo sólo fea, siendo sólo arpía, \\nnunca serás bruja de categoría.'] \n",
      "\n"
     ]
    },
    {
     "data": {
      "text/html": [
       "<div>\n",
       "<table border=\"1\" class=\"dataframe\">\n",
       "  <thead>\n",
       "    <tr style=\"text-align: right;\">\n",
       "      <th></th>\n",
       "      <th>Frase</th>\n",
       "    </tr>\n",
       "  </thead>\n",
       "  <tbody>\n",
       "    <tr>\n",
       "      <th>0</th>\n",
       "      <td>Grave desencanto te ha dado, a resultas, uh, uh, \\ndel cual te dedicas ahora a las ciencias ocultas.</td>\n",
       "    </tr>\n",
       "    <tr>\n",
       "      <th>1</th>\n",
       "      <td>Tú que ya eras torpe de racionalista, \\nno lo tienes fácil, Satanás te asista.</td>\n",
       "    </tr>\n",
       "    <tr>\n",
       "      <th>2</th>\n",
       "      <td>Siendo sólo fea, siendo sólo arpía, \\nnunca serás bruja de categoría.</td>\n",
       "    </tr>\n",
       "  </tbody>\n",
       "</table>\n",
       "</div>"
      ],
      "text/plain": [
       "                                                                                                  Frase\n",
       "0  Grave desencanto te ha dado, a resultas, uh, uh, \\ndel cual te dedicas ahora a las ciencias ocultas.\n",
       "1                        Tú que ya eras torpe de racionalista, \\nno lo tienes fácil, Satanás te asista.\n",
       "2                                 Siendo sólo fea, siendo sólo arpía, \\nnunca serás bruja de categoría."
      ]
     },
     "metadata": {},
     "output_type": "display_data"
    }
   ],
   "source": [
    "raw_text = [r\"\"\"Grave desencanto te ha dado, a resultas, uh, uh, \n",
    "del cual te dedicas ahora a las ciencias ocultas. \n",
    "Tú que ya eras torpe de racionalista, \n",
    "no lo tienes fácil, Satanás te asista. \n",
    "Siendo sólo fea, siendo sólo arpía, \n",
    "nunca serás bruja de categoría.\"\"\"]\n",
    "print(raw_text[0], \"\\n\")\n",
    "\n",
    "frases = sent_tokenize(raw_text[0])\n",
    "print(frases, \"\\n\")\n",
    "\n",
    "#Convertir a Dataframe, para manipular más adecuadamente\n",
    "df_frases = pd.DataFrame(frases)\n",
    "df_frases.columns = [\"Frase\"]\n",
    "display(df_frases)"
   ]
  },
  {
   "cell_type": "markdown",
   "metadata": {},
   "source": [
    "... o en palabras+símbolos"
   ]
  },
  {
   "cell_type": "code",
   "execution_count": 3,
   "metadata": {
    "collapsed": false
   },
   "outputs": [
    {
     "data": {
      "text/html": [
       "<div>\n",
       "<table border=\"1\" class=\"dataframe\">\n",
       "  <thead>\n",
       "    <tr style=\"text-align: right;\">\n",
       "      <th></th>\n",
       "      <th>Palabra</th>\n",
       "    </tr>\n",
       "  </thead>\n",
       "  <tbody>\n",
       "    <tr>\n",
       "      <th>0</th>\n",
       "      <td>Grave</td>\n",
       "    </tr>\n",
       "    <tr>\n",
       "      <th>1</th>\n",
       "      <td>desencanto</td>\n",
       "    </tr>\n",
       "    <tr>\n",
       "      <th>2</th>\n",
       "      <td>te</td>\n",
       "    </tr>\n",
       "    <tr>\n",
       "      <th>3</th>\n",
       "      <td>ha</td>\n",
       "    </tr>\n",
       "    <tr>\n",
       "      <th>4</th>\n",
       "      <td>dado</td>\n",
       "    </tr>\n",
       "    <tr>\n",
       "      <th>5</th>\n",
       "      <td>,</td>\n",
       "    </tr>\n",
       "    <tr>\n",
       "      <th>6</th>\n",
       "      <td>a</td>\n",
       "    </tr>\n",
       "    <tr>\n",
       "      <th>7</th>\n",
       "      <td>resultas</td>\n",
       "    </tr>\n",
       "    <tr>\n",
       "      <th>8</th>\n",
       "      <td>,</td>\n",
       "    </tr>\n",
       "    <tr>\n",
       "      <th>9</th>\n",
       "      <td>uh</td>\n",
       "    </tr>\n",
       "    <tr>\n",
       "      <th>10</th>\n",
       "      <td>,</td>\n",
       "    </tr>\n",
       "    <tr>\n",
       "      <th>11</th>\n",
       "      <td>uh</td>\n",
       "    </tr>\n",
       "    <tr>\n",
       "      <th>12</th>\n",
       "      <td>,</td>\n",
       "    </tr>\n",
       "    <tr>\n",
       "      <th>13</th>\n",
       "      <td>del</td>\n",
       "    </tr>\n",
       "    <tr>\n",
       "      <th>14</th>\n",
       "      <td>cual</td>\n",
       "    </tr>\n",
       "    <tr>\n",
       "      <th>15</th>\n",
       "      <td>te</td>\n",
       "    </tr>\n",
       "    <tr>\n",
       "      <th>16</th>\n",
       "      <td>dedicas</td>\n",
       "    </tr>\n",
       "    <tr>\n",
       "      <th>17</th>\n",
       "      <td>ahora</td>\n",
       "    </tr>\n",
       "    <tr>\n",
       "      <th>18</th>\n",
       "      <td>a</td>\n",
       "    </tr>\n",
       "    <tr>\n",
       "      <th>19</th>\n",
       "      <td>las</td>\n",
       "    </tr>\n",
       "    <tr>\n",
       "      <th>20</th>\n",
       "      <td>ciencias</td>\n",
       "    </tr>\n",
       "    <tr>\n",
       "      <th>21</th>\n",
       "      <td>ocultas</td>\n",
       "    </tr>\n",
       "    <tr>\n",
       "      <th>22</th>\n",
       "      <td>.</td>\n",
       "    </tr>\n",
       "  </tbody>\n",
       "</table>\n",
       "</div>"
      ],
      "text/plain": [
       "       Palabra\n",
       "0        Grave\n",
       "1   desencanto\n",
       "2           te\n",
       "3           ha\n",
       "4         dado\n",
       "5            ,\n",
       "6            a\n",
       "7     resultas\n",
       "8            ,\n",
       "9           uh\n",
       "10           ,\n",
       "11          uh\n",
       "12           ,\n",
       "13         del\n",
       "14        cual\n",
       "15          te\n",
       "16     dedicas\n",
       "17       ahora\n",
       "18           a\n",
       "19         las\n",
       "20    ciencias\n",
       "21     ocultas\n",
       "22           ."
      ]
     },
     "metadata": {},
     "output_type": "display_data"
    }
   ],
   "source": [
    "palabras = word_tokenize(df_frases.iloc[0,0]) # Pasar el valor en la primera celda del dataframe al tokenizador\n",
    "df_palabras = pd.DataFrame(palabras)\n",
    "df_palabras.columns = [\"Palabra\"]\n",
    "display(df_palabras)"
   ]
  },
  {
   "cell_type": "markdown",
   "metadata": {},
   "source": [
    "![ ](images/blank.png)\n",
    "## Limpieza del texto en bruto\n",
    "\n",
    "Un problema que enfrentamos usualmente en el reconocimiento de patrones es que los datos suelen venir \"sucios\", es decir, pueden incluir valores falsos o inusuales que afectan la eficacia de los métodos. Este problema es particularmente importante en el caso del análisis automático de textos. La razón de ello es que, en una gran mayoría de los casos, los documentos de texto disponibles se escriben escritos de manera \"*libre*\", sin sujetarse a estructuras formales.\n",
    "\n",
    "[![](images/nlp03.png)](https://squirro.com/2017/02/16/unstructured-data-waking-giant/)\n",
    "\n",
    "Estos textos suelen contener errores de escritura (*typos*) y de gramática, palabras de algún argot, contenido no deseado como URLs o etiquetas de marcaje. Considérese, por ejemplo, la siguiente revisión (alterada -\\_-) de una película:\n",
    "\n",
    "> I thought that Ice Age was an excellent movie! As a woman of 30, with no children, I really &amp;lt;3 these animated movies. They're fantastic! &lt;br />&lt;br />&lt;b>Sid&lt;/b> is the best character I have seen in some time, better than &lt;i>Bartok&lt;/i> in Anastasia &amp;amp; even more humorous than &lt;i>Melman&lt;/i> in Madagascar. &lt;br />&lt;br />My favourite scene is the part where Sid says \\Oh, oh, oh, I love this game!\\\" and Sid and Manny continue to figure out what the squirrel is trying to tell them about the \\\"tigers\\\"...\\\"Pack of wolves, pack of bears, pack of fleas, pack of whiskers, pack of noses, pack a derm?, pack of lies, pack of troubles, pack a wallop, pack of birds, pack of flying fish...\\\" or however that part goes! ROFL, that's so funny LMAO! &lt;br />&lt;br />If anyone has any tips on where to buy the director's cut version, please email me at darkmaster666@yahoo.com.\n",
    "\n",
    "Al repetir los ejercicios de tokenización obtenemos:"
   ]
  },
  {
   "cell_type": "code",
   "execution_count": 4,
   "metadata": {
    "collapsed": false
   },
   "outputs": [
    {
     "name": "stdout",
     "output_type": "stream",
     "text": [
      "I thought that Ice Age was an excellent movie! As a woman of 30, with no children, I really &lt;3 these animated movies. They're fantastic! <br /><br /><b>Sid</b> is the best character I have seen in some time, better than <i>Bartok</i> in Anastasia &amp; even more humorous than <i>Melman</i> in Madagascar. <br /><br />My favourite scene is the part where Sid says \\Oh, oh, oh, I love this game!\\\" and Sid \"\\ and Manny continue to figure out what the squirrel is trying to tell them about the \\\"tigers\\\"... \\\"Pack of wolves, pack of bears, pack of fleas, pack of whiskers, pack of noses, pack a derm?, pack of lies, pack of troubles, pack a wallop, pack of birds, pack of flying fish...\\\" or however that part goes! ROFL, that's so funny LMAO! <br /><br />If anyone has any tips on where to buy the director's cut version, please email me at darkmaster666@yahoo.com. \n",
      "\n"
     ]
    },
    {
     "data": {
      "text/html": [
       "<div>\n",
       "<table border=\"1\" class=\"dataframe\">\n",
       "  <thead>\n",
       "    <tr style=\"text-align: right;\">\n",
       "      <th></th>\n",
       "      <th>Frase</th>\n",
       "    </tr>\n",
       "  </thead>\n",
       "  <tbody>\n",
       "    <tr>\n",
       "      <th>0</th>\n",
       "      <td>I thought that Ice Age was an excellent movie!</td>\n",
       "    </tr>\n",
       "    <tr>\n",
       "      <th>1</th>\n",
       "      <td>As a woman of 30, with no children, I really &amp;lt;3 these animated movies.</td>\n",
       "    </tr>\n",
       "    <tr>\n",
       "      <th>2</th>\n",
       "      <td>They're fantastic!</td>\n",
       "    </tr>\n",
       "    <tr>\n",
       "      <th>3</th>\n",
       "      <td>&lt;br /&gt;&lt;br /&gt;&lt;b&gt;Sid&lt;/b&gt; is the best character I have seen in some time, better than &lt;i&gt;Bartok&lt;/i&gt; in Anastasia &amp;amp; even more humorous than &lt;i&gt;Mel...</td>\n",
       "    </tr>\n",
       "    <tr>\n",
       "      <th>4</th>\n",
       "      <td>&lt;br /&gt;&lt;br /&gt;My favourite scene is the part where Sid says \\Oh, oh, oh, I love this game!\\\" and Sid \"\\ and Manny continue to figure out what the sq...</td>\n",
       "    </tr>\n",
       "    <tr>\n",
       "      <th>5</th>\n",
       "      <td>ROFL, that's so funny LMAO!</td>\n",
       "    </tr>\n",
       "    <tr>\n",
       "      <th>6</th>\n",
       "      <td>&lt;br /&gt;&lt;br /&gt;If anyone has any tips on where to buy the director's cut version, please email me at darkmaster666@yahoo.com.</td>\n",
       "    </tr>\n",
       "  </tbody>\n",
       "</table>\n",
       "</div>"
      ],
      "text/plain": [
       "                                                                                                                                                   Frase\n",
       "0                                                                                                         I thought that Ice Age was an excellent movie!\n",
       "1                                                                              As a woman of 30, with no children, I really &lt;3 these animated movies.\n",
       "2                                                                                                                                     They're fantastic!\n",
       "3  <br /><br /><b>Sid</b> is the best character I have seen in some time, better than <i>Bartok</i> in Anastasia &amp; even more humorous than <i>Mel...\n",
       "4  <br /><br />My favourite scene is the part where Sid says \\Oh, oh, oh, I love this game!\\\" and Sid \"\\ and Manny continue to figure out what the sq...\n",
       "5                                                                                                                            ROFL, that's so funny LMAO!\n",
       "6                             <br /><br />If anyone has any tips on where to buy the director's cut version, please email me at darkmaster666@yahoo.com."
      ]
     },
     "metadata": {},
     "output_type": "display_data"
    },
    {
     "data": {
      "text/html": [
       "<div>\n",
       "<table border=\"1\" class=\"dataframe\">\n",
       "  <thead>\n",
       "    <tr style=\"text-align: right;\">\n",
       "      <th></th>\n",
       "      <th>Palabra</th>\n",
       "    </tr>\n",
       "  </thead>\n",
       "  <tbody>\n",
       "    <tr>\n",
       "      <th>0</th>\n",
       "      <td>I</td>\n",
       "    </tr>\n",
       "    <tr>\n",
       "      <th>1</th>\n",
       "      <td>really</td>\n",
       "    </tr>\n",
       "    <tr>\n",
       "      <th>2</th>\n",
       "      <td>&amp;</td>\n",
       "    </tr>\n",
       "    <tr>\n",
       "      <th>3</th>\n",
       "      <td>lt</td>\n",
       "    </tr>\n",
       "    <tr>\n",
       "      <th>4</th>\n",
       "      <td>;</td>\n",
       "    </tr>\n",
       "    <tr>\n",
       "      <th>5</th>\n",
       "      <td>3</td>\n",
       "    </tr>\n",
       "    <tr>\n",
       "      <th>6</th>\n",
       "      <td>these</td>\n",
       "    </tr>\n",
       "    <tr>\n",
       "      <th>7</th>\n",
       "      <td>animated</td>\n",
       "    </tr>\n",
       "    <tr>\n",
       "      <th>8</th>\n",
       "      <td>movies</td>\n",
       "    </tr>\n",
       "    <tr>\n",
       "      <th>9</th>\n",
       "      <td>.</td>\n",
       "    </tr>\n",
       "    <tr>\n",
       "      <th>10</th>\n",
       "      <td>They</td>\n",
       "    </tr>\n",
       "    <tr>\n",
       "      <th>11</th>\n",
       "      <td>'re</td>\n",
       "    </tr>\n",
       "    <tr>\n",
       "      <th>12</th>\n",
       "      <td>fantastic</td>\n",
       "    </tr>\n",
       "    <tr>\n",
       "      <th>13</th>\n",
       "      <td>!</td>\n",
       "    </tr>\n",
       "    <tr>\n",
       "      <th>14</th>\n",
       "      <td>&lt;</td>\n",
       "    </tr>\n",
       "    <tr>\n",
       "      <th>15</th>\n",
       "      <td>br</td>\n",
       "    </tr>\n",
       "    <tr>\n",
       "      <th>16</th>\n",
       "      <td>/</td>\n",
       "    </tr>\n",
       "    <tr>\n",
       "      <th>17</th>\n",
       "      <td>&gt;</td>\n",
       "    </tr>\n",
       "    <tr>\n",
       "      <th>18</th>\n",
       "      <td>&lt;</td>\n",
       "    </tr>\n",
       "    <tr>\n",
       "      <th>19</th>\n",
       "      <td>br</td>\n",
       "    </tr>\n",
       "  </tbody>\n",
       "</table>\n",
       "</div>"
      ],
      "text/plain": [
       "      Palabra\n",
       "0           I\n",
       "1      really\n",
       "2           &\n",
       "3          lt\n",
       "4           ;\n",
       "5           3\n",
       "6       these\n",
       "7    animated\n",
       "8      movies\n",
       "9           .\n",
       "10       They\n",
       "11        're\n",
       "12  fantastic\n",
       "13          !\n",
       "14          <\n",
       "15         br\n",
       "16          /\n",
       "17          >\n",
       "18          <\n",
       "19         br"
      ]
     },
     "metadata": {},
     "output_type": "display_data"
    }
   ],
   "source": [
    "raw_text2 = [r\"\"\"I thought that Ice Age was an excellent movie! As a woman of 30, with no children, I really\n",
    "            &lt;3 these animated movies. They're fantastic! <br /><br /><b>Sid</b> is the best character I have \n",
    "            seen in some time, better than <i>Bartok</i> in Anastasia &amp; even more humorous than <i>Melman</i> \n",
    "            in Madagascar. <br /><br />My favourite scene is the part where Sid says \\Oh, oh, oh, I love this \n",
    "            game!\\\" and Sid \"\\ and Manny continue to figure out what the squirrel is trying to tell them about \n",
    "            the \\\"tigers\\\"... \\\"Pack of wolves, pack of bears, pack of fleas, pack of whiskers, pack of noses, \n",
    "            pack a derm?, pack of lies, pack of troubles, pack a wallop, pack of birds, pack of flying fish...\\\" \n",
    "            or however that part goes! ROFL, that's so funny LMAO! <br /><br />If anyone has any tips on where to \n",
    "            buy the director's cut version, please email me at darkmaster666@yahoo.com.\"\"\".replace('\\n',' ')]\n",
    "\n",
    "raw_text2[0] = ' '.join(raw_text2[0].split())\n",
    "print(raw_text2[0], \"\\n\")\n",
    "\n",
    "frases2 = sent_tokenize(raw_text2[0])\n",
    "df_frases2 = pd.DataFrame(frases2)\n",
    "df_frases2.columns = [\"Frase\"]\n",
    "display(df_frases2)\n",
    "\n",
    "palabras2 = word_tokenize(raw_text2[0][83:150]) # Pasar un segmento de la cadena al tokenizador\n",
    "df_palabras2 = pd.DataFrame(palabras2)\n",
    "df_palabras2.columns = [\"Palabra\"]\n",
    "display(df_palabras2)"
   ]
  },
  {
   "cell_type": "markdown",
   "metadata": {},
   "source": [
    "En esta segmentación podemos observar la presencia de *tokens* que son de poca utilidad para analizar el mensaje o que incluso son el resutado de una \"mala\" segmentación. Destaca el conjunto de tokens 2 al 5 en este dataframe (&amp;, lt, ;, 3) que debieran visualizarse como <3 e interpretarse como \"love\". También preocupa el token \"'re\" o los símbolos obtenidos de las etiquetas de marcaje.\n",
    "\n",
    "De esta manera, antesa de proceder a tokenizar el texto conviene realizar algunas tareas de limpieza. \n",
    "\n",
    "#### 1. Texto en minúsculas\n",
    "La primera de ellas, que en una aproximación estándar no afecta la interpretación del texto y facilita, por otra parte, la comparación de tokens, consisten en transformar el texto a minúsculas:"
   ]
  },
  {
   "cell_type": "code",
   "execution_count": 5,
   "metadata": {
    "collapsed": false
   },
   "outputs": [
    {
     "name": "stdout",
     "output_type": "stream",
     "text": [
      "i thought that ice age was an excellent movie! as a woman of 30, with no children, i really &lt;3 these animated movies. they're fantastic! <br /><br /><b>sid</b> is the best character i have seen in some time, better than <i>bartok</i> in anastasia &amp; even more humorous than <i>melman</i> in madagascar. <br /><br />my favourite scene is the part where sid says \\oh, oh, oh, i love this game!\\\" and sid \"\\ and manny continue to figure out what the squirrel is trying to tell them about the \\\"tigers\\\"... \\\"pack of wolves, pack of bears, pack of fleas, pack of whiskers, pack of noses, pack a derm?, pack of lies, pack of troubles, pack a wallop, pack of birds, pack of flying fish...\\\" or however that part goes! rofl, that's so funny lmao! <br /><br />if anyone has any tips on where to buy the director's cut version, please email me at darkmaster666@yahoo.com.\n"
     ]
    }
   ],
   "source": [
    "texto1 = raw_text2[0].lower()\n",
    "print(texto1)"
   ]
  },
  {
   "cell_type": "markdown",
   "metadata": {},
   "source": [
    "#### 2. Eliminación de URLs\n",
    "\n",
    "Si nos fijamos en la segmentación de las últimas palabras en este texto, observamos lo siguiente:"
   ]
  },
  {
   "cell_type": "code",
   "execution_count": 6,
   "metadata": {
    "collapsed": false
   },
   "outputs": [
    {
     "data": {
      "text/plain": [
       "'please email me at darkmaster666@yahoo.com.'"
      ]
     },
     "metadata": {},
     "output_type": "display_data"
    },
    {
     "data": {
      "text/html": [
       "<div>\n",
       "<table border=\"1\" class=\"dataframe\">\n",
       "  <thead>\n",
       "    <tr style=\"text-align: right;\">\n",
       "      <th></th>\n",
       "      <th>Palabra</th>\n",
       "    </tr>\n",
       "  </thead>\n",
       "  <tbody>\n",
       "    <tr>\n",
       "      <th>0</th>\n",
       "      <td>please</td>\n",
       "    </tr>\n",
       "    <tr>\n",
       "      <th>1</th>\n",
       "      <td>email</td>\n",
       "    </tr>\n",
       "    <tr>\n",
       "      <th>2</th>\n",
       "      <td>me</td>\n",
       "    </tr>\n",
       "    <tr>\n",
       "      <th>3</th>\n",
       "      <td>at</td>\n",
       "    </tr>\n",
       "    <tr>\n",
       "      <th>4</th>\n",
       "      <td>darkmaster666</td>\n",
       "    </tr>\n",
       "    <tr>\n",
       "      <th>5</th>\n",
       "      <td>@</td>\n",
       "    </tr>\n",
       "    <tr>\n",
       "      <th>6</th>\n",
       "      <td>yahoo.com</td>\n",
       "    </tr>\n",
       "    <tr>\n",
       "      <th>7</th>\n",
       "      <td>.</td>\n",
       "    </tr>\n",
       "  </tbody>\n",
       "</table>\n",
       "</div>"
      ],
      "text/plain": [
       "         Palabra\n",
       "0         please\n",
       "1          email\n",
       "2             me\n",
       "3             at\n",
       "4  darkmaster666\n",
       "5              @\n",
       "6      yahoo.com\n",
       "7              ."
      ]
     },
     "metadata": {},
     "output_type": "display_data"
    }
   ],
   "source": [
    "display(raw_text2[0][825:])\n",
    "\n",
    "palabras3 = word_tokenize(raw_text2[0][824:])\n",
    "df_palabras3 = pd.DataFrame(palabras3)\n",
    "df_palabras3.columns = [\"Palabra\"]\n",
    "display(df_palabras3)"
   ]
  },
  {
   "cell_type": "markdown",
   "metadata": {},
   "source": [
    "Por una parte, la dirección de correo electrónico aporta muy poco a la interpretación del mensaje (basta saber que la autora desea que se el envíe información) y por otra parte, la dirección (un solo objeto) fue descompuesto en 3 tokens. Usualmente esta es otra tarea de limpieza del texto: eliminar las URLs. Para ello, lo más simple es emplear expresiones regulares que reconocan estas palabras y las eliminen."
   ]
  },
  {
   "cell_type": "code",
   "execution_count": 7,
   "metadata": {
    "collapsed": false
   },
   "outputs": [
    {
     "name": "stdout",
     "output_type": "stream",
     "text": [
      "i thought that ice age was an excellent movie! as a woman of 30, with no children, i really &lt;3 these animated movies. they're fantastic! <br /><br /><b>sid</b> is the best character i have seen in some time, better than <i>bartok</i> in anastasia &amp; even more humorous than <i>melman</i> in madagascar. <br /><br />my favourite scene is the part where sid says \\oh, oh, oh, i love this game!\\\" and sid \"\\ and manny continue to figure out what the squirrel is trying to tell them about the \\\"tigers\\\"... \\\"pack of wolves, pack of bears, pack of fleas, pack of whiskers, pack of noses, pack a derm?, pack of lies, pack of troubles, pack a wallop, pack of birds, pack of flying fish...\\\" or however that part goes! rofl, that's so funny lmao! <br /><br />if anyone has any tips on where to buy the director's cut version, please email me at  \n"
     ]
    }
   ],
   "source": [
    "import re\n",
    "\n",
    "texto2 = re.sub(r'[\\w\\.-]+@[\\w\\.-]+', \" \", texto1)\n",
    "texto2 = re.sub(r'\\w+:\\/{2}[\\d\\w-]+(\\.[\\d\\w-]+)*(?:(?:\\/[^\\s/]*))*', '',  texto2)\n",
    "print(texto2)"
   ]
  },
  {
   "cell_type": "markdown",
   "metadata": {},
   "source": [
    "#### 3. Eliminación de etiquetas de marcaje\n",
    "\n",
    "A continuación, eliminamos las etiquetas de marcaje cuya función principal es agregar \"emotividad\" al mensaje. Esta actividad también puede realizarse mediante el uso de expresiones regulares, sin embargo, la biblioteca **BeautifulSoup** arroja muy buenos resultados y es de fácil uso:"
   ]
  },
  {
   "cell_type": "code",
   "execution_count": 8,
   "metadata": {
    "collapsed": false
   },
   "outputs": [
    {
     "name": "stdout",
     "output_type": "stream",
     "text": [
      "i thought that ice age was an excellent movie! as a woman of 30, with no children, i really <3 these animated movies. they're fantastic! sid is the best character i have seen in some time, better than bartok in anastasia & even more humorous than melman in madagascar. my favourite scene is the part where sid says \\oh, oh, oh, i love this game!\\\" and sid \"\\ and manny continue to figure out what the squirrel is trying to tell them about the \\\"tigers\\\"... \\\"pack of wolves, pack of bears, pack of fleas, pack of whiskers, pack of noses, pack a derm?, pack of lies, pack of troubles, pack a wallop, pack of birds, pack of flying fish...\\\" or however that part goes! rofl, that's so funny lmao! if anyone has any tips on where to buy the director's cut version, please email me at  \n"
     ]
    }
   ],
   "source": [
    "from bs4 import BeautifulSoup\n",
    "\n",
    "texto3 = BeautifulSoup(texto2, \"lxml\").get_text() \n",
    "print(texto3)"
   ]
  },
  {
   "cell_type": "markdown",
   "metadata": {},
   "source": [
    "#### 4. Eliminar signos de puntuación\n",
    "\n",
    "Los signos de puntuación tienen dos efectos negativos: 1) Se identifican como tokens independientes, haciendo más complejo el espacio de características, y 2) Dificulta segmentar una cadena (cuando no se utiliza una biblioteca especializada como *nltk.tokenize*)."
   ]
  },
  {
   "cell_type": "code",
   "execution_count": 9,
   "metadata": {
    "collapsed": false
   },
   "outputs": [
    {
     "name": "stdout",
     "output_type": "stream",
     "text": [
      "Tokens diferentes en el texto completo (usando nltk.tokenize):  127 \n",
      "\n",
      "Tokens diferentes en el texto sin signos de puntuación (usando nltk.tokenize):  118 \n",
      "\n",
      "Tokens en el texto completo utilizando string.split, delimitando con espacios:\n",
      " ['i', 'thought', 'that', 'ice', 'age', 'was', 'an', 'excellent', 'movie!', 'as', 'a', 'woman', 'of', '30,', 'with', 'no', 'children,', 'i', 'really', '<3', 'these', 'animated', 'movies.', \"they're\", 'fantastic!', 'sid', 'is', 'the', 'best', 'character', 'i', 'have', 'seen', 'in', 'some', 'time,', 'better', 'than', 'bartok', 'in', 'anastasia', '&', 'even', 'more', 'humorous', 'than', 'melman', 'in', 'madagascar.', 'my', 'favourite', 'scene', 'is', 'the', 'part', 'where', 'sid', 'says', '\\\\oh,', 'oh,', 'oh,', 'i', 'love', 'this', 'game!\\\\\"', 'and', 'sid', '\"\\\\', 'and', 'manny', 'continue', 'to', 'figure', 'out', 'what', 'the', 'squirrel', 'is', 'trying', 'to', 'tell', 'them', 'about', 'the', '\\\\\"tigers\\\\\"...', '\\\\\"pack', 'of', 'wolves,', 'pack', 'of', 'bears,', 'pack', 'of', 'fleas,', 'pack', 'of', 'whiskers,', 'pack', 'of', 'noses,', 'pack', 'a', 'derm?,', 'pack', 'of', 'lies,', 'pack', 'of', 'troubles,', 'pack', 'a', 'wallop,', 'pack', 'of', 'birds,', 'pack', 'of', 'flying', 'fish...\\\\\"', 'or', 'however', 'that', 'part', 'goes!', 'rofl,', \"that's\", 'so', 'funny', 'lmao!', 'if', 'anyone', 'has', 'any', 'tips', 'on', 'where', 'to', 'buy', 'the', \"director's\", 'cut', 'version,', 'please', 'email', 'me', 'at']\n"
     ]
    }
   ],
   "source": [
    "palabras3 = word_tokenize(raw_text2[0])\n",
    "print(\"Tokens diferentes en el texto completo (usando nltk.tokenize): \", \n",
    "      len( set(palabras3)), \"\\n\")\n",
    "\n",
    "puncList = [\".\", \";\", \":\", \"!\", \"?\", \"/\", \"\\\\\", \",\", \")\", \"(\", \"\\\"\"]\n",
    "for punc in puncList:\n",
    "    palabras3 = [word.replace(punc,'') for word in palabras3]\n",
    "print(\"Tokens diferentes en el texto sin signos de puntuación (usando nltk.tokenize): \", \n",
    "      len( set(palabras3)), \"\\n\")\n",
    "\n",
    "print(\"Tokens en el texto completo utilizando string.split, delimitando con espacios:\\n\",\n",
    "     texto3.split())"
   ]
  },
  {
   "cell_type": "markdown",
   "metadata": {},
   "source": [
    "Una elección común es eliminar los signos de puntuación:"
   ]
  },
  {
   "cell_type": "code",
   "execution_count": 10,
   "metadata": {
    "collapsed": false
   },
   "outputs": [
    {
     "name": "stdout",
     "output_type": "stream",
     "text": [
      "i thought that ice age was an excellent movie as a woman of 30 with no children i really <3 these animated movies they're fantastic sid is the best character i have seen in some time better than bartok in anastasia & even more humorous than melman in madagascar my favourite scene is the part where sid says oh oh oh i love this game and sid  and manny continue to figure out what the squirrel is trying to tell them about the tigers pack of wolves pack of bears pack of fleas pack of whiskers pack of noses pack a derm pack of lies pack of troubles pack a wallop pack of birds pack of flying fish or however that part goes rofl that's so funny lmao if anyone has any tips on where to buy the director's cut version please email me at\n"
     ]
    }
   ],
   "source": [
    "words = texto3.split()\n",
    "for punc in puncList:\n",
    "    words = [word.replace(punc,'') for word in words]\n",
    "\n",
    "texto4 = \" \".join(words)\n",
    "print(texto4)"
   ]
  },
  {
   "cell_type": "markdown",
   "metadata": {},
   "source": [
    "Una alternativa que rescata la estructura marcada por el punto, que delimita las oraciones en un texto, consiste en procesar por frases:"
   ]
  },
  {
   "cell_type": "code",
   "execution_count": 11,
   "metadata": {
    "collapsed": false,
    "scrolled": true
   },
   "outputs": [
    {
     "data": {
      "text/html": [
       "<div>\n",
       "<table border=\"1\" class=\"dataframe\">\n",
       "  <thead>\n",
       "    <tr style=\"text-align: right;\">\n",
       "      <th></th>\n",
       "      <th>Frase</th>\n",
       "    </tr>\n",
       "  </thead>\n",
       "  <tbody>\n",
       "    <tr>\n",
       "      <th>0</th>\n",
       "      <td>i thought that ice age was an excellent movie</td>\n",
       "    </tr>\n",
       "    <tr>\n",
       "      <th>1</th>\n",
       "      <td>as a woman of 30 with no children i really &lt;3 these animated movies</td>\n",
       "    </tr>\n",
       "    <tr>\n",
       "      <th>2</th>\n",
       "      <td>they're fantastic</td>\n",
       "    </tr>\n",
       "    <tr>\n",
       "      <th>3</th>\n",
       "      <td>sid is the best character i have seen in some time better than bartok in anastasia &amp; even more humorous than melman in madagascar</td>\n",
       "    </tr>\n",
       "    <tr>\n",
       "      <th>4</th>\n",
       "      <td>my favourite scene is the part where sid says oh oh oh i love this game and sid  and manny continue to figure out what the squirrel is trying to t...</td>\n",
       "    </tr>\n",
       "    <tr>\n",
       "      <th>5</th>\n",
       "      <td>rofl that's so funny lmao</td>\n",
       "    </tr>\n",
       "    <tr>\n",
       "      <th>6</th>\n",
       "      <td>if anyone has any tips on where to buy the director's cut version please email me at</td>\n",
       "    </tr>\n",
       "  </tbody>\n",
       "</table>\n",
       "</div>"
      ],
      "text/plain": [
       "                                                                                                                                                   Frase\n",
       "0                                                                                                          i thought that ice age was an excellent movie\n",
       "1                                                                                    as a woman of 30 with no children i really <3 these animated movies\n",
       "2                                                                                                                                      they're fantastic\n",
       "3                      sid is the best character i have seen in some time better than bartok in anastasia & even more humorous than melman in madagascar\n",
       "4  my favourite scene is the part where sid says oh oh oh i love this game and sid  and manny continue to figure out what the squirrel is trying to t...\n",
       "5                                                                                                                              rofl that's so funny lmao\n",
       "6                                                                   if anyone has any tips on where to buy the director's cut version please email me at"
      ]
     },
     "metadata": {},
     "output_type": "display_data"
    }
   ],
   "source": [
    "frases3 = sent_tokenize(texto3)\n",
    "df_frases3 = pd.DataFrame(frases3)\n",
    "df_frases3.columns = [\"Frase\"]\n",
    "\n",
    "for punc in puncList:\n",
    "    df_frases3[\"Frase\"] = [word.replace(punc,'') for word in df_frases3[\"Frase\"]]\n",
    "\n",
    "display(df_frases3)"
   ]
  },
  {
   "cell_type": "markdown",
   "metadata": {},
   "source": [
    "#### 5. Eliminación de apostrofos\n",
    "\n",
    "El uso de apóstrofos es poco común en español; según la [Wikipedia](https://es.wikipedia.org/wiki/Apóstrofo):\n",
    "\n",
    ">En las lenguas que utilizan el alfabeto latino, el apóstrofo indica por lo general la elisión de una letra. También se utiliza para indicar uno o más fonemas suprimidos por razones métricas (en poesía, especialmente) o simulando una pronunciación dialectal: <br><br>\n",
    "Ya ciego con la vista’e la prenda, siguió nuestro hombre pa’l río y en llegando la vido que nadaba cerquita’e la orilla <br>(Güiraldes, Ricardo. Don Segundo Sombra, 1926)<br><br>\n",
    "Tales empleos son siempre arcaicos, pseudofonéticos o especializados, y el signo es raro en la escritura formal de uso corriente.\n",
    "\n",
    "Sin embargo, en otros [idiomas](https://en.wikipedia.org/wiki/Apostrophe), el apostrofo puede ser de uso común. En el caso del inglés su uso suele ser criticado y visto como poco formal, sin embargo, es un elemento muy común en el contexto no formal, como el provisto por las redes sociales.\n",
    "\n",
    "Lo mismo en inglés que en español, el apostrofo suele representar una redundancia en el idioma. El token \"*pa'l*\" ofrece la misma información que el par de tokens (\"para\", \"el\"). Lo mismo que en inglés, \"they're\" duplica la información ofrecida por (\"they\", \"are\"). De manera que es una buena práctica eliminar los términos con apostrofos, reemplazándolos por su equivalente extendido:"
   ]
  },
  {
   "cell_type": "code",
   "execution_count": 12,
   "metadata": {
    "collapsed": false
   },
   "outputs": [
    {
     "name": "stdout",
     "output_type": "stream",
     "text": [
      "i thought that ice age was an excellent movie as a woman of 30 with no children i really <3 these animated movies they are fantastic sid is the best character i have seen in some time better than bartok in anastasia & even more humorous than melman in madagascar my favourite scene is the part where sid says oh oh oh i love this game and sid and manny continue to figure out what the squirrel is trying to tell them about the tigers pack of wolves pack of bears pack of fleas pack of whiskers pack of noses pack a derm pack of lies pack of troubles pack a wallop pack of birds pack of flying fish or however that part goes rofl that is so funny lmao if anyone has any tips on where to buy the director's cut version please email me at\n"
     ]
    },
    {
     "data": {
      "text/html": [
       "<div>\n",
       "<table border=\"1\" class=\"dataframe\">\n",
       "  <thead>\n",
       "    <tr style=\"text-align: right;\">\n",
       "      <th></th>\n",
       "      <th>Frase</th>\n",
       "    </tr>\n",
       "  </thead>\n",
       "  <tbody>\n",
       "    <tr>\n",
       "      <th>0</th>\n",
       "      <td>i thought that ice age was an excellent movie</td>\n",
       "    </tr>\n",
       "    <tr>\n",
       "      <th>1</th>\n",
       "      <td>as a woman of 30 with no children i really &lt;3 these animated movies</td>\n",
       "    </tr>\n",
       "    <tr>\n",
       "      <th>2</th>\n",
       "      <td>they are fantastic</td>\n",
       "    </tr>\n",
       "    <tr>\n",
       "      <th>3</th>\n",
       "      <td>sid is the best character i have seen in some time better than bartok in anastasia &amp; even more humorous than melman in madagascar</td>\n",
       "    </tr>\n",
       "    <tr>\n",
       "      <th>4</th>\n",
       "      <td>my favourite scene is the part where sid says oh oh oh i love this game and sid and manny continue to figure out what the squirrel is trying to te...</td>\n",
       "    </tr>\n",
       "    <tr>\n",
       "      <th>5</th>\n",
       "      <td>rofl that is so funny lmao</td>\n",
       "    </tr>\n",
       "    <tr>\n",
       "      <th>6</th>\n",
       "      <td>if anyone has any tips on where to buy the director's cut version please email me at</td>\n",
       "    </tr>\n",
       "  </tbody>\n",
       "</table>\n",
       "</div>"
      ],
      "text/plain": [
       "                                                                                                                                                   Frase\n",
       "0                                                                                                          i thought that ice age was an excellent movie\n",
       "1                                                                                    as a woman of 30 with no children i really <3 these animated movies\n",
       "2                                                                                                                                     they are fantastic\n",
       "3                      sid is the best character i have seen in some time better than bartok in anastasia & even more humorous than melman in madagascar\n",
       "4  my favourite scene is the part where sid says oh oh oh i love this game and sid and manny continue to figure out what the squirrel is trying to te...\n",
       "5                                                                                                                             rofl that is so funny lmao\n",
       "6                                                                   if anyone has any tips on where to buy the director's cut version please email me at"
      ]
     },
     "metadata": {},
     "output_type": "display_data"
    }
   ],
   "source": [
    "APOSTROFOS = {\"that's\" : \"that is\", \"they're\" : \"they are\"} # Se requiere construir un diccionario extenso \n",
    "words = texto4.split()\n",
    "texto5 = [APOSTROFOS[word] if word in APOSTROFOS else word for word in words]\n",
    "texto5 = \" \".join(texto5)\n",
    "print(texto5)\n",
    "\n",
    "df_frases4 = df_frases3.copy()   \n",
    "for i in range(len(df_frases4.index)):\n",
    "    words_row = [APOSTROFOS[word] if word in APOSTROFOS else word for word in df_frases4[\"Frase\"].iloc[i].split()]\n",
    "    df_frases4['Frase'].iloc[i] = \" \".join(words_row)\n",
    "\n",
    "display(df_frases4)"
   ]
  },
  {
   "cell_type": "markdown",
   "metadata": {},
   "source": [
    "#### 6. Eliminar argot\n",
    "\n",
    "El argot es un lenguaje especializado utilizado para ocultar información (\"echarse un perico\" -¡no lo hagan!-), para definir identidad (\"¡ah'ñil!\" -> \"Por supuesto\"), para simplificar o abreviar una conversación (\"¡fierro!\" -> \"¡hagámoslo de inmediato!\"), como adopción de un término extranjero sin traducción natural (\"tokenizar\"), como aceptación de un término incorrecto (\"vocho\"), etc. \n",
    "\n",
    "Actualmente, con la proliferación de las redes sociales, con la posibilidad de publicar sin ninguna restricción, sin requisitos de respetar reglas ortográficas, sin correctores y con la prisa de contestar mensajes con la mayor simplicidad posible, el lenguaje escrito y disponible en la Web se ha plagado de términos que, no siendo correctos, podemos englobar dentro del rubro de lenguaje argot. Para simplificar el análisis del texto, eliminamos también éstos términos:"
   ]
  },
  {
   "cell_type": "code",
   "execution_count": 13,
   "metadata": {
    "collapsed": false
   },
   "outputs": [
    {
     "name": "stdout",
     "output_type": "stream",
     "text": [
      "i thought that ice age was an excellent movie as a woman of 30 with no children i really love these animated movies they are fantastic sid is the best character i have seen in some time better than bartok in anastasia and even more humorous than melman in madagascar my favourite scene is the part where sid says oh oh oh i love this game and sid and manny continue to figure out what the squirrel is trying to tell them about the tigers pack of wolves pack of bears pack of fleas pack of whiskers pack of noses pack a derm pack of lies pack of troubles pack a wallop pack of birds pack of flying fish or however that part goes i laugh hysterically that is so funny I get really happy if anyone has any tips on where to buy the director's cut version please email me at\n"
     ]
    },
    {
     "data": {
      "text/html": [
       "<div>\n",
       "<table border=\"1\" class=\"dataframe\">\n",
       "  <thead>\n",
       "    <tr style=\"text-align: right;\">\n",
       "      <th></th>\n",
       "      <th>Frase</th>\n",
       "    </tr>\n",
       "  </thead>\n",
       "  <tbody>\n",
       "    <tr>\n",
       "      <th>0</th>\n",
       "      <td>i thought that ice age was an excellent movie</td>\n",
       "    </tr>\n",
       "    <tr>\n",
       "      <th>1</th>\n",
       "      <td>as a woman of 30 with no children i really love these animated movies</td>\n",
       "    </tr>\n",
       "    <tr>\n",
       "      <th>2</th>\n",
       "      <td>they are fantastic</td>\n",
       "    </tr>\n",
       "    <tr>\n",
       "      <th>3</th>\n",
       "      <td>sid is the best character i have seen in some time better than bartok in anastasia and even more humorous than melman in madagascar</td>\n",
       "    </tr>\n",
       "    <tr>\n",
       "      <th>4</th>\n",
       "      <td>my favourite scene is the part where sid says oh oh oh i love this game and sid and manny continue to figure out what the squirrel is trying to te...</td>\n",
       "    </tr>\n",
       "    <tr>\n",
       "      <th>5</th>\n",
       "      <td>i laugh hysterically that is so funny I get really happy</td>\n",
       "    </tr>\n",
       "    <tr>\n",
       "      <th>6</th>\n",
       "      <td>if anyone has any tips on where to buy the director's cut version please email me at</td>\n",
       "    </tr>\n",
       "  </tbody>\n",
       "</table>\n",
       "</div>"
      ],
      "text/plain": [
       "                                                                                                                                                   Frase\n",
       "0                                                                                                          i thought that ice age was an excellent movie\n",
       "1                                                                                  as a woman of 30 with no children i really love these animated movies\n",
       "2                                                                                                                                     they are fantastic\n",
       "3                    sid is the best character i have seen in some time better than bartok in anastasia and even more humorous than melman in madagascar\n",
       "4  my favourite scene is the part where sid says oh oh oh i love this game and sid and manny continue to figure out what the squirrel is trying to te...\n",
       "5                                                                                               i laugh hysterically that is so funny I get really happy\n",
       "6                                                                   if anyone has any tips on where to buy the director's cut version please email me at"
      ]
     },
     "metadata": {},
     "output_type": "display_data"
    }
   ],
   "source": [
    "SLANG = {\"<3\" : \"love\", \"rofl\" : \"i laugh hysterically\", \"lmao\" : \"I get really happy\", \"&\" : \"and\"}\n",
    "words = texto5.split()\n",
    "texto6 = [SLANG[word] if word in SLANG else word for word in words]\n",
    "texto6 = \" \".join(texto6)\n",
    "print(texto6)\n",
    "\n",
    "df_frases5 = df_frases4.copy()   \n",
    "for i in range(len(df_frases5.index)):\n",
    "    words_row = [SLANG[word] if word in SLANG else word for word in df_frases5[\"Frase\"].iloc[i].split()]\n",
    "    df_frases5['Frase'].iloc[i] = \" \".join(words_row)\n",
    "display(df_frases5)"
   ]
  },
  {
   "cell_type": "markdown",
   "metadata": {},
   "source": [
    "#### 7. Eliminar otros caracteres no alfabéticos\n",
    "\n",
    "Una vez que se han recuperado todas las palabras \"codificadas\" (como <3, por ejemplo), se eliminan los caracteres no alfabéticos restantes. Esto es simple con una expresión regular:"
   ]
  },
  {
   "cell_type": "code",
   "execution_count": 14,
   "metadata": {
    "collapsed": false
   },
   "outputs": [
    {
     "name": "stdout",
     "output_type": "stream",
     "text": [
      "i thought that ice age was an excellent movie as a woman of with no children i really love these animated movies they are fantastic sid is the best character i have seen in some time better than bartok in anastasia and even more humorous than melman in madagascar my favourite scene is the part where sid says oh oh oh i love this game and sid and manny continue to figure out what the squirrel is trying to tell them about the tigers pack of wolves pack of bears pack of fleas pack of whiskers pack of noses pack a derm pack of lies pack of troubles pack a wallop pack of birds pack of flying fish or however that part goes i laugh hysterically that is so funny I get really happy if anyone has any tips on where to buy the director s cut version please email me at\n"
     ]
    },
    {
     "data": {
      "text/html": [
       "<div>\n",
       "<table border=\"1\" class=\"dataframe\">\n",
       "  <thead>\n",
       "    <tr style=\"text-align: right;\">\n",
       "      <th></th>\n",
       "      <th>Frase</th>\n",
       "    </tr>\n",
       "  </thead>\n",
       "  <tbody>\n",
       "    <tr>\n",
       "      <th>0</th>\n",
       "      <td>i thought that ice age was an excellent movie</td>\n",
       "    </tr>\n",
       "    <tr>\n",
       "      <th>1</th>\n",
       "      <td>as a woman of    with no children i really love these animated movies</td>\n",
       "    </tr>\n",
       "    <tr>\n",
       "      <th>2</th>\n",
       "      <td>they are fantastic</td>\n",
       "    </tr>\n",
       "    <tr>\n",
       "      <th>3</th>\n",
       "      <td>sid is the best character i have seen in some time better than bartok in anastasia and even more humorous than melman in madagascar</td>\n",
       "    </tr>\n",
       "    <tr>\n",
       "      <th>4</th>\n",
       "      <td>my favourite scene is the part where sid says oh oh oh i love this game and sid and manny continue to figure out what the squirrel is trying to te...</td>\n",
       "    </tr>\n",
       "    <tr>\n",
       "      <th>5</th>\n",
       "      <td>i laugh hysterically that is so funny I get really happy</td>\n",
       "    </tr>\n",
       "    <tr>\n",
       "      <th>6</th>\n",
       "      <td>if anyone has any tips on where to buy the director s cut version please email me at</td>\n",
       "    </tr>\n",
       "  </tbody>\n",
       "</table>\n",
       "</div>"
      ],
      "text/plain": [
       "                                                                                                                                                   Frase\n",
       "0                                                                                                          i thought that ice age was an excellent movie\n",
       "1                                                                                  as a woman of    with no children i really love these animated movies\n",
       "2                                                                                                                                     they are fantastic\n",
       "3                    sid is the best character i have seen in some time better than bartok in anastasia and even more humorous than melman in madagascar\n",
       "4  my favourite scene is the part where sid says oh oh oh i love this game and sid and manny continue to figure out what the squirrel is trying to te...\n",
       "5                                                                                               i laugh hysterically that is so funny I get really happy\n",
       "6                                                                   if anyone has any tips on where to buy the director s cut version please email me at"
      ]
     },
     "metadata": {},
     "output_type": "display_data"
    }
   ],
   "source": [
    "texto7 = re.sub(\"[^a-zA-Z]\", \" \", texto6).split()\n",
    "texto7 = \" \".join(texto7)\n",
    "print(texto7)\n",
    "\n",
    "df_frases6 = df_frases5.copy()   \n",
    "df_frases6['Frase'] = [re.sub(\"[^a-zA-Z]\", \" \", word) for word in df_frases6[\"Frase\"]]\n",
    "display(df_frases6)"
   ]
  },
  {
   "cell_type": "markdown",
   "metadata": {},
   "source": [
    "#### 8. Eliminación de palabras vacías\n",
    "\n",
    "Las palabras vacías (\"*[stop words](http://onlinelibrary.wiley.com/doi/10.1002/asi.5090110403/abstract;jsessionid=42107B5630F9A4EFA66CE2C72AB40934.f04t01)*\") son palabras que, debido a que tienen una alta frecuencia, distorsionan el análisis de un texto. \n",
    "\n",
    "Considérese, por ejemplo, el texto del cuento [Anaconda](http://www.cuentosinfin.com/anaconda/) de Horacio Quiroga. Las frecuencias de las palabras utilizadas en este texto son:"
   ]
  },
  {
   "cell_type": "code",
   "execution_count": 48,
   "metadata": {
    "collapsed": false
   },
   "outputs": [
    {
     "name": "stdout",
     "output_type": "stream",
     "text": [
      "Cantidad de palabras en el texto:  10067\n",
      "\n",
      "Palabras más populares:\n",
      " [('de', 507), ('la', 456), ('y', 265), ('a', 264), ('el', 261), ('que', 246), ('en', 212), ('se', 156), ('un', 134), ('las', 126), ('no', 113), ('con', 105), ('una', 96), ('por', 95), ('los', 95), ('su', 86), ('del', 73), ('pero', 69), ('es', 67), ('al', 60), ('para', 60), ('lo', 58), ('ñacaniná', 57), ('cruzada', 55), ('más', 50), ('víboras', 42), ('sus', 35), ('perro', 35), ('como', 33), ('qué', 33), ('anaconda', 32), ('hombre', 32), ('ya', 32), ('sobre', 31), ('había', 31), ('cabeza', 30), ('dos', 28), ('congreso', 28), ('todas', 28), ('cobra', 28), ('sí', 27), ('dijo', 27), ('si', 27), ('yarará', 26), ('hombres', 26), ('me', 25), ('lanceolada', 24), ('bien', 23), ('esta', 23), ('vez', 22)]\n"
     ]
    },
    {
     "data": {
      "image/png": "[encoded data removed]",
      "text/plain": [
       "<matplotlib.figure.Figure at 0x110c7ac50>"
      ]
     },
     "metadata": {},
     "output_type": "display_data"
    },
    {
     "data": {
      "image/png": "[encoded data removed]",
      "text/plain": [
       "<matplotlib.figure.Figure at 0x11534e828>"
      ]
     },
     "metadata": {},
     "output_type": "display_data"
    }
   ],
   "source": [
    "puncSpList = [\".\", \";\", \":\", \"!\", \"¡\", \"¿\", \"?\", \"/\", \"-\", \"\\\\\", \",\", \")\", \"(\", \"\\\"\"]\n",
    "file = open(\"public literature/Anaconda.txt\", encoding='utf-8')\n",
    "anaconda = file.read()\n",
    "file.close()\n",
    "\n",
    "anaconda = anaconda.lower().split()\n",
    "for punc in puncSpList:\n",
    "    anaconda = [word.replace(punc,'') for word in anaconda]\n",
    "most_common_words = nltk.FreqDist(anaconda)\n",
    "\n",
    "print(\"Cantidad de palabras en el texto: \", most_common_words.N())\n",
    "print(\"\\nPalabras más populares:\\n\", most_common_words.most_common(50))\n",
    "\n",
    "import matplotlib.pyplot as plt\n",
    "plt.rcParams.update({'font.size': 14})\n",
    "plt.figure(figsize=(15, 5))\n",
    "most_common_words.plot(50, cumulative=False)\n",
    "plt.figure(figsize=(15, 5))\n",
    "most_common_words.plot(50, cumulative=True)"
   ]
  },
  {
   "cell_type": "markdown",
   "metadata": {},
   "source": [
    "Puede observarse que las palabras con mayor frecuencia son palabras que no describen el tema del texto (\"de\", \"la\", \"a\"...). La primera palabra \"importante\" es \"*ñacaniná*\" (una serpiente) y tiene apena una frecuencia de 57 (comparada con 507 apariciones de la palabra \"de\". Las palabras previas acumulan más de 3700 palabras (de un total de 10067).\n",
    "\n",
    "Si ahora eliminamos las *palabras vacías*, obtenemos lo siguiente:"
   ]
  },
  {
   "cell_type": "code",
   "execution_count": 49,
   "metadata": {
    "collapsed": false
   },
   "outputs": [
    {
     "name": "stdout",
     "output_type": "stream",
     "text": [
      "Cantidad de palabras en el texto:  5328\n",
      "\n",
      "Palabras más populares:\n",
      " [('ñacaniná', 57), ('cruzada', 55), ('víboras', 42), ('perro', 35), ('anaconda', 32), ('hombre', 32), ('cabeza', 30), ('dos', 28), ('congreso', 28), ('todas', 28), ('cobra', 28), ('dijo', 27), ('si', 27), ('yarará', 26), ('hombres', 26), ('lanceolada', 24), ('bien', 23), ('vez', 22), ('real', 22), ('terrífica', 22), ('veneno', 21), ('hamadrías', 20), ('víbora', 19), ('murmuró', 18), ('gran', 17), ('ojos', 17), ('aquí', 17), ('repuso', 17), ('nuevo', 17), ('cuerpo', 17), ('tiempo', 16), ('aún', 16), ('mientras', 16), ('menos', 15), ('culebra', 15), ('caballos', 15), ('casa', 14), ('vida', 14), ('hacer', 14), ('muerte', 14), ('ver', 14), ('puede', 13), ('así', 13), ('instituto', 13), ('instante', 13), ('caverna', 12), ('punto', 12), ('cuello', 12), ('momento', 11), ('día', 11)]\n"
     ]
    },
    {
     "data": {
      "image/png": "[encoded data removed]",
      "text/plain": [
       "<matplotlib.figure.Figure at 0x114da7c88>"
      ]
     },
     "metadata": {},
     "output_type": "display_data"
    }
   ],
   "source": [
    "from nltk.corpus import stopwords # Importar la lista de palabras vacías\n",
    "sw = set(stopwords.words(\"spanish\"))\n",
    "\n",
    "anaconda = [w for w in anaconda if not w in sw]\n",
    "\n",
    "most_common_words = nltk.FreqDist(anaconda)\n",
    "\n",
    "print(\"Cantidad de palabras en el texto: \", most_common_words.N())\n",
    "print(\"\\nPalabras más populares:\\n\", most_common_words.most_common(50))\n",
    "\n",
    "import matplotlib.pyplot as plt\n",
    "plt.rcParams.update({'font.size': 14})\n",
    "plt.figure(figsize=(15, 5))\n",
    "most_common_words.plot(50, cumulative=False)"
   ]
  },
  {
   "cell_type": "markdown",
   "metadata": {},
   "source": [
    "Ahora, el conjunto de palabras sobresalientes es más descriptivo. A continuación se eliminan las palabras vacías del texto de opinión de películas."
   ]
  },
  {
   "cell_type": "code",
   "execution_count": 50,
   "metadata": {
    "collapsed": false
   },
   "outputs": [
    {
     "name": "stdout",
     "output_type": "stream",
     "text": [
      "thought ice age excellent movie woman children really love animated movies fantastic sid best character seen time better bartok anastasia even humorous melman madagascar favourite scene part sid says oh oh oh love game sid manny continue figure squirrel trying tell tigers pack wolves pack bears pack fleas pack whiskers pack noses pack derm pack lies pack troubles pack wallop pack birds pack flying fish however part goes laugh hysterically funny I get really happy anyone tips buy director cut version please email\n"
     ]
    },
    {
     "data": {
      "text/html": [
       "<div>\n",
       "<table border=\"1\" class=\"dataframe\">\n",
       "  <thead>\n",
       "    <tr style=\"text-align: right;\">\n",
       "      <th></th>\n",
       "      <th>Frase</th>\n",
       "    </tr>\n",
       "  </thead>\n",
       "  <tbody>\n",
       "    <tr>\n",
       "      <th>0</th>\n",
       "      <td>thought ice age excellent movie</td>\n",
       "    </tr>\n",
       "    <tr>\n",
       "      <th>1</th>\n",
       "      <td>woman children really love animated movies</td>\n",
       "    </tr>\n",
       "    <tr>\n",
       "      <th>2</th>\n",
       "      <td>fantastic</td>\n",
       "    </tr>\n",
       "    <tr>\n",
       "      <th>3</th>\n",
       "      <td>sid best character seen time better bartok anastasia even humorous melman madagascar</td>\n",
       "    </tr>\n",
       "    <tr>\n",
       "      <th>4</th>\n",
       "      <td>favourite scene part sid says oh oh oh love game sid manny continue figure squirrel trying tell tigers pack wolves pack bears pack fleas pack whis...</td>\n",
       "    </tr>\n",
       "    <tr>\n",
       "      <th>5</th>\n",
       "      <td>laugh hysterically funny I get really happy</td>\n",
       "    </tr>\n",
       "    <tr>\n",
       "      <th>6</th>\n",
       "      <td>anyone tips buy director cut version please email</td>\n",
       "    </tr>\n",
       "  </tbody>\n",
       "</table>\n",
       "</div>"
      ],
      "text/plain": [
       "                                                                                                                                                   Frase\n",
       "0                                                                                                                        thought ice age excellent movie\n",
       "1                                                                                                             woman children really love animated movies\n",
       "2                                                                                                                                              fantastic\n",
       "3                                                                   sid best character seen time better bartok anastasia even humorous melman madagascar\n",
       "4  favourite scene part sid says oh oh oh love game sid manny continue figure squirrel trying tell tigers pack wolves pack bears pack fleas pack whis...\n",
       "5                                                                                                            laugh hysterically funny I get really happy\n",
       "6                                                                                                      anyone tips buy director cut version please email"
      ]
     },
     "metadata": {},
     "output_type": "display_data"
    }
   ],
   "source": [
    "stops = set(stopwords.words(\"english\"))\n",
    "\n",
    "words = texto7.split()\n",
    "texto8 = [w for w in words if not w in stops]   \n",
    "texto8 = \" \".join(texto8)\n",
    "print(texto8)\n",
    "\n",
    "df_frases7 = df_frases6.copy()   \n",
    "for i in range(len(df_frases7.index)):\n",
    "    words_row = [word for word in df_frases7[\"Frase\"].iloc[i].split() if not word in stops]\n",
    "    df_frases7['Frase'].iloc[i] = \" \".join(words_row)\n",
    "display(df_frases7)"
   ]
  },
  {
   "cell_type": "markdown",
   "metadata": {},
   "source": [
    "## Otra vez, tokenización\n",
    "\n",
    "Con el texto limpio, volvemos a hacer la tokenización. Este es un conjunto de tokens adecuado para analizar."
   ]
  },
  {
   "cell_type": "code",
   "execution_count": 55,
   "metadata": {
    "collapsed": false
   },
   "outputs": [
    {
     "name": "stdout",
     "output_type": "stream",
     "text": [
      "['thought', 'ice', 'age', 'excellent', 'movie', 'woman', 'children', 'really', 'love', 'animated', 'movies', 'fantastic', 'sid', 'best', 'character', 'seen', 'time', 'better', 'bartok', 'anastasia', 'even', 'humorous', 'melman', 'madagascar', 'favourite', 'scene', 'part', 'sid', 'says', 'oh', 'oh', 'oh', 'love', 'game', 'sid', 'manny', 'continue', 'figure', 'squirrel', 'trying', 'tell', 'tigers', 'pack', 'wolves', 'pack', 'bears', 'pack', 'fleas', 'pack', 'whiskers', 'pack', 'noses', 'pack', 'derm', 'pack', 'lies', 'pack', 'troubles', 'pack', 'wallop', 'pack', 'birds', 'pack', 'flying', 'fish', 'however', 'part', 'goes', 'laugh', 'hysterically', 'funny', 'I', 'get', 'really', 'happy', 'anyone', 'tips', 'buy', 'director', 'cut', 'version', 'please', 'email']\n"
     ]
    }
   ],
   "source": [
    "print(texto8.split())"
   ]
  },
  {
   "cell_type": "markdown",
   "metadata": {},
   "source": [
    "## Conclusiones\n",
    "\n",
    "CADA PASO SE ESPECIALIZA DEPENDIENDO DEL CONTEXTO DE APLICACIÓN\n",
    "\n",
    "<hr style=\"border-width: 3px;\">\n",
    "\n",
    "### Tarea 1\n",
    "\n",
    "Describa un problema de reconocimiento de patrones de su interés y explique por qué un modelo tradicional sería inapropiado para resolverlo (utilice la celda siguiente, en esta libreta, para presentar su problema seleccionado).\n",
    "\n",
    "**Fecha de entrega**: Viernes 20 de enero."
   ]
  },
  {
   "cell_type": "code",
   "execution_count": null,
   "metadata": {
    "collapsed": true
   },
   "outputs": [],
   "source": []
  }
 ],
 "metadata": {
  "celltoolbar": "Raw Cell Format",
  "kernelspec": {
   "display_name": "Python 3",
   "language": "python",
   "name": "python3"
  },
  "language_info": {
   "codemirror_mode": {
    "name": "ipython",
    "version": 3
   },
   "file_extension": ".py",
   "mimetype": "text/x-python",
   "name": "python",
   "nbconvert_exporter": "python",
   "pygments_lexer": "ipython3",
   "version": "3.6.0"
  }
 },
 "nbformat": 4,
 "nbformat_minor": 0
}
