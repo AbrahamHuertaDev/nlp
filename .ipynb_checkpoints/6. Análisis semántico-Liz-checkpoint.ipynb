{
 "cells": [
  {
   "cell_type": "code",
   "execution_count": null,
   "metadata": {
    "collapsed": true
   },
   "outputs": [],
   "source": [
    "from IPython.display import display\n",
    "import pandas as pd\n",
    "import numpy as np \n",
    "pd.options.display.max_colwidth = 150 \n",
    "\n",
    "import nltk\n",
    "from nltk.corpus import stopwords\n",
    "import re\n",
    "import json\n",
    "\n",
    "from sklearn import decomposition\n",
    "from sklearn.feature_extraction.text import CountVectorizer"
   ]
  },
  {
   "cell_type": "code",
   "execution_count": null,
   "metadata": {
    "collapsed": false
   },
   "outputs": [
    {
     "data": {
      "text/plain": [
       "3870"
      ]
     },
     "metadata": {},
     "output_type": "display_data"
    }
   ],
   "source": [
    "file = 'Data Sets/Politica/politica_data.json'\n",
    "with open(file) as comics_file:\n",
    "    dict_comics = json.load(comics_file)\n",
    "working_Df = pd.DataFrame.from_dict(dict_comics)\n",
    "\n",
    "working_Df = working_Df.reindex_axis(\n",
    "    ['title',\"description\", \"new_description\", \"clean_description\", \"topics\"], axis=1)\n",
    "\n",
    "#utilizar en la limpieza\n",
    "indices = []\n",
    "for i, row in zip(range(len(working_Df)), working_Df.new_description):\n",
    "    if len(row.split()) < 25:\n",
    "        #print(len(row.split()), row, \"\\n\")\n",
    "        indices.append(i)\n",
    "\n",
    "working_Df.drop(indices, inplace=True)\n",
    "working_Df = working_Df.reset_index(drop=True)\n",
    "\n",
    "to_eliminate = list(set(['tolosa', 'eduardo', 'marín', 'vasquismo', 'distributismo', 'xii', 'vasco', 'irrintzi', \n",
    "                         'jaurgain', 'marván', 'batzokija', 'vidal', 'villar', 'garrido', 'alejandro', 'josefino',\n",
    "                         'franz_overbeck', 'ffb', 'rudy_giuliani', 'salomé', 'blogspot', 'gerardo', 'janés',   \n",
    "                         'eixo', 'firechat', 'giuliani', 'alarcó', 'cca', 'valencia','fred_thompson',\n",
    "                         'miguelismo', 'xavier', 'lapa', 'labourd', 'clinton_rudy', 'isabel', 'ortiz', 'pueblo_vasco',\n",
    "                         'escrache', 'vizcaya',  'navarra', 'pcpg', 'segovia', 'baja_navarra', 'ortega', 'sáenz', \n",
    "                         'gobierno_vasco', 'karabaj', 'toledo', 'udalbiltza', 'confirieron', 'joaquín', 'mccain_fox', \n",
    "                         'herri', 'manero', 'langile_abertzale', 'rodrigo', 'euskal_herriko', 'zaragoza', 'vega', \n",
    "                         'evo', 'kas', 'felipe', 'burgos', 'montes', 'alternatiba', 'angulo', 'carlos_alberto', \n",
    "                         'escrutinio_mayoritario', 'suárez', 'luis', 'bizcaya', 'fêtes', 'mario', 'guadalajara', \n",
    "                         'cherem', 'agramunt', 'ruy', 'herrera', 'vázquez', 'sherpa', 'pío', 'claimed', 'abertzale', \n",
    "                         'apf', 'pastor', 'uskal', 'mallorquina', 'criptofascismo', 'hardin', 'roccatti', 'ramírez', \n",
    "                         'guasú', 'chapulear', 'hernández', 'carthago', 'ezker', 'mip', 'herriko_tabernas', 'ávila', \n",
    "                         'batzordeak', 'muñoz', 'sortu', 'mccain', 'vasquista', 'arnaldismo', 'xabier', 'maketos', \n",
    "                         'postautismo', 'vicente', 'maría_rosario', 'epidramas', 'kadyrovtsy', 'guerrero', 'jaime', \n",
    "                         'trionferà_bandiera_rossa', 'prodigy', 'theologie', 'gonzalo', 'japonofilia', 'klitbo', \n",
    "                         'elecciones_cantonales', 'bizkaia', 'claudio', 'sánchez', 'duque', 'pedro', 'ramón',\n",
    "                         'audiencia_nacional', 'aps', 'panescandinavismo', 'lucas', 'duunvirato', 'otegi', 'chaho',\n",
    "                         'ignacio', 'huffington', 'ikurriña', 'rosa', 'pradas', 'maría_mar', 'maría', 'pablo', \n",
    "                         'tomás', 'gomera', 'méndez', 'fueristas', 'jesús', 'zutik', 'miguelangelrodriguezecheverria', \n",
    "                         'bocanegra', 'gómez', 'repetto', 'serrano', 'bebeto', 'antiespañolismo', 'ehrenberg', \n",
    "                         'vizcaínos', 'xii_legislatura', 'castro', 'zabaltzen', 'pino', 'ekin', 'alberto', 'egy', \n",
    "                         'nafarroa_bai', 'bat', 'valencia_vi', 'salvador', 'lab', 'rudy_giuliani_rasmussen', 'rouge', \n",
    "                         'rodríguez', 'bit', 'pnb', 'ff', 'torre', 'labort', 'langile', 'territorios', 'sébastien',\n",
    "                         'pirineos', 'mang', 'beltza', 'viii', 'jovellanismo', 'deia', 'diego', 'gogarten', 'zazpi', \n",
    "                         'vbp', 'gipuzkoa', 'olózaga', 'isabel', 'euskal_herritarrok', 'bai', 'bizantinismo', \n",
    "                         'eusko', 'médici', 'lapo', 'sabrán', 'galván', 'mmdp', 'lapurdi', 'eugenio', 'spetsjran', \n",
    "                         'rousseff', 'damián', 'conde', 'euskeldun', 'unai', 'lagi', 'sola', 'david', 'miguel', 'accc',\n",
    "                         'fora', 'cristina', 'plaja', 'gutiérrez', 'fini', 'francisca', 'micompumx', 'miguel_ángel', \n",
    "                         'fernández', 'lizard', 'maqueto', 'euzko', 'tregua', 'tuopinionjc', 'mccain_rasmussen', \n",
    "                         'álvaro', 'vila', 'vieiros', 'troeltsch', 'tradition', 'socials', 'almería', 'galanes', \n",
    "                         'mlnv', 'javier', 'squad', 'nerea', 'tenerife', 'miroljub', 'hirurak', 'dóriga', \n",
    "                         'gonzález', 'goiri', 'imaginadas', 'bultmann', 'abertzales', 'kiriarcado', 'maquetos', \n",
    "                         'andrés', 'egin', 'forales', 'rafael', 'enreda', 'josefa', 'torres', 'vasconia', 'peña', \n",
    "                         'zazpiak_bat', 'spoonamore', 'iraultzailea', 'escraches', 'vi_legislatura', 'mareaje', \n",
    "                         'abad', 'bizkaya', 'pdp', 'sevilla', 'zuberoa', 'juan', 'abbadie', 'córdoba', 'delgado', \n",
    "                         'euskal', 'counell', 'anglaise', 'rosa_maría', 'bansefi', 'palma', 'anv', 'fde', 'alonso', \n",
    "                         'veinteañista', 'enrique', 'euskara', 'álvarez', 'acedo', 'mallol', 'arenas', 'álava', 'tea',\n",
    "                         'font', 'jorge', 'glas', 'batzarre', 'cádiz', 'basque', 'platzeck', 'diario_vasco', 'carbs', \n",
    "                         'daniel', 'lópez', 'soule', 'censored', 'martyres', 'gil', 'statu', 'pérez', 'núñez', \n",
    "                         'valencià', 'ricardo', 'carlos', 'maría_dolores', 'neosovietismo', 'wnbc_marist_poll',\n",
    "                         'iñaki', 'bissau', 'mídia', 'ribadeneyra', 'pse', 'alternativa_kas', 'ginergía', 'jel', \n",
    "                         'laura', 'jiménez', 'izquierda_ezkerra', 'esquerdas', 'month', 'agustín', 'arayismo', \n",
    "                         'romero', 'giuliani_rasmussen', 'clinton_fred', 'thompson', 'alfonso', 'tumbagrillos', \n",
    "                         'ollanta', 'esther', 'holstein', 'alfredo', 'overbeck', 'cabrero', 'juan_carlos', 'lérida', \n",
    "                         'díaz', 'óscar', 'zhao', 'darkorange', 'rong', 'rocío', 'apellidos_lugar', 'andalucía',\n",
    "                         'federal_parlamentarismo_parlamentaria', 'marea_anova', 'republic', 'shen', 'existe_yang', \n",
    "                         'ibáñez', 'yelü', 'enlaces_externos_', 'pilar', 'aceaa', 'bolívar_gpp', 'gerona', 'yuwen', \n",
    "                         'albania', 'purple', 'bèi_érzhījīn', 'cao', 'nigeria', 'khan', 'bomba_lapa', 'ming', 'pnv', \n",
    "                         'mozambique', 'mateo', 'psoe_circunscripción_electoral', 'efefef_nombre', 'maduro', \n",
    "                         'namibia', 'aragua', 'efefef_nombre_personal', 'parra', 'istúriz', 'right', 'san_cristóbal',\n",
    "                         'república_española', 'congo',  'primera_república_española', 'tammany', 'eupv', 'yamato', \n",
    "                         'vera', 'fernando', 'julián', 'equo', 'nueva_zelanda', 'yagüe', 'sinaí', 'max', 'tepjf', \n",
    "                         'guipúzcoa_disparos', 'guipúzcoa', 'islas_baleares_islas', 'official', 'khalifa', 'española',\n",
    "                         'nan', 'jaume', 'restrepo', 'baleares', 'izquierda_abertzale', 'lesoto', 'min', 'zheng', \n",
    "                         'manchú', 'bücher', 'gdańsk', 'black', 'background', 'zōng', 'soler', 'idioma_ruso', \n",
    "                         'archivo_pri_party_', 'dao', 'ceu', 'eee_nowrap', 'shikai', 'rui', 'jpg', 'negrín', 'cheng', \n",
    "                         'nombre_póstumo', 'miquel', 'zhào', 'madonna', 'dinastía_qing', 'hui', 'puyi', 'lashkar', \n",
    "                         'muhammad', 'law', 'luu', 'zong', 'menorca', 'wheat', 'psoe', 'ecp', 'teruel', 'margarita', \n",
    "                         'euskal_herria', 'dos', 'cdc', 'external', 'herri_batasuna', 'españolasvg', 'fbceb_ciu', \n",
    "                         'república_semipresidencial_presidente', 'véase', 'bseq', 'leopoldo_calvo_sotelo', 'nihil', \n",
    "                         'v_', 'somalia', 'malta', 'román', 'londres', 'segismundo_moret', 'noruega', 'sagasta', \n",
    "                         'zhū', 'egipto', 'abdelaziz', 'tarrafal', 'toni', 'escaños__título', 'mohamed', 'cit_pág', \n",
    "                         'cumbia', 'rentería', 'alicante', 'jing', 'north_korean', 'rangel', 'nacionalismo_vasco', \n",
    "                         'slategrey', 'kan', 'nariño', 'carolina', 'aralar', 'tang', 'power', 'si', 'hao', 'marcos', \n",
    "                         'naciones_reina', 'feminist', 'nicaragüense', 'eslovenia', 'shang', 'argentino', 'gmx', \n",
    "                         'cropped', 'regionsvg', 'flag', 'lolita', 'lopez', 'bloc', 'mismo_año', 'categoría_', 'bei', \n",
    "                         'legislatura_elecciones_generales', 'marruecos', 'catalunya_erc', 'anzoátegui', 'robert', \n",
    "                         'bücherverbrennung', 'asia', 'wáng', 'coentor', 'irán', 'ultramar_territorio', 'bulgaria', \n",
    "                         'euskera', 'hamgyŏng', 'ying', 'año_editorial', 'díez', 'yong', 'angola', 'sun', 'kami', \n",
    "                         'año_ubicación', 'yang', 'mongolia', 'ertzaintza', 'población_est', 'sudán', 'palencia', \n",
    "                         'marco_enríquez_ominami', 'esquerra_republicana', 'aguilar', 'atentado_observaciones', \n",
    "                         'francés', 'copei', 'tai', 'nowrap', 'islands', 'xin', 'borjigin', 'preston', 'inicio_final', \n",
    "                         'nombretítulos', 'federico', 'irlanda', 'palmas', 'años_archivo_flag', 'porte_alto', 'atf', \n",
    "                         'tiroteo_masivo_tiroteo', 'arbustiva', 'studies', 'matorrales', 'merino', 'xing', 'británica',\n",
    "                         'style', 'rómulo', 'wang', 'guang', 'abigeato', 'marqués', 'adolfo', 'guipúzcoa_agente', \n",
    "                         'alvear', 'people', 'jia', 'málaga', 'huang', 'pinyin', 'víctor', 'portugal', 'ferrer', \n",
    "                         'gomel', 'text', '_categoría', 'archivo_pri_party_mexico', 'gibraltar', 'artur', 'margin', \n",
    "                         'ccz_barrios', 'wałęsa', 'pakistán', 'usa_today', 'esteban', 'furgoneta', 'press', 'dcefb', \n",
    "                         'manchúes', 'anexo_', 'vasca', 'iniciativa_per_catalunya', 'trujillo', 'pp', 'tong', \n",
    "                         'archivo_flag', 'eusko_alkartasuna', 'esquerra', 'shabbaab', 'kang', 'gabriel', 'psc', \n",
    "                         'web_url', 'des', 'unsortable', 'px', 'miriam', 'height', 'long', 'studentenschaft', \n",
    "                         'santurce', 'suecia', 'thomas', 'domínguez', 'cintora', 'australia', 'per', 'film', 'irene', \n",
    "                         'eln', 'chong', 'cuatro', 'ultramar_archivo', 'miranda', 'x_', 'massera', 'james', 'mil', \n",
    "                         'vasco_eaj_pnv', 'silva', 'escarré', 'salamanca', 'gao', 'charles', 'ernesto', 'carabobo',\n",
    "                         'monarquía_monarquías_híbridas_monarquía_semi_constitucional', 'urquiza', 'sacheri', 'borno', \n",
    "                         'compromís_podemos', 'sima', 'yaracuy', 'kangxi', 'castellano', 'mendoza', 'bgcolor', \n",
    "                         'letonia', 'españolas', 'international', 'till_shift', 'mauritania', 'súñer', 'mallorca',\n",
    "                         'referencias_enlaces', 'lasso', 'cánovas',  'batasuna', 'medina', 'ucd', 'liechtenstein', \n",
    "                         'ucrania', 'boyacá', 'vascos', 'ex', 'legión', 'arabia_saudita', 'upn_pp', 'korsbaek', \n",
    "                         'scope', 'pirate_party', 'mariano_rajoy', 'carmona', 'bucaram', 'aab', 'bagdad', 'miao', \n",
    "                         'ali', 'carreño', 'gui', 'ultramar', 'jianxing', 'rodolfo', 'png', 'caa', 'unitaria_mapu', \n",
    "                         'und', 'poll_', 'cantabria', 'cantón', 'ana', 'michael', 'gran_canaria', 'simón', 'row', \n",
    "                         'sergio', 'arana', 'velasco', 'kaulak', 'tou', 'utiliza_zhao', 'gibson', 'tammany_hall', \n",
    "                         'zamora', 'yodok', 'duan', 'carles', 'zhou', 'urdaneta', 'armenia', 'chipre', 'griega', \n",
    "                         'royalblue', 'gran_bretaña', 'eeuu', 'center', 'sequoia', 'nueva_jerusalén', 'zorrilla', \n",
    "                         'sabah', 'idioma_francés', 'datos_etiqueta_fallecidos', 'maura', 'state', 'facto_svg', \n",
    "                         'chu', 'bolívar', 'noboa', 'women', 'sebastián', 'josep', 'mandatoelecciones', 'pere', \n",
    "                         'zavala', 'ciudad_prohibida', 'henry', 'history', 'venezolana', 'world', 'shi', 'wimax', \n",
    "                         'queer', 'palacio_austrasia', 'canelones', 'arsenio', 'horthy', 'amadeo', 'quintero', \n",
    "                         'mariano', 'moya', 'praxedes', 'society', 'till', 'pascual', 'par', 'qaeda', 'patricia', \n",
    "                         'ee', 'montenegro', 'omar', 'galdácano', 'tovar', 'lie', 'obrero_español', 'puerto_rico', \n",
    "                         'croacia', 'compromís', 'llibertat', 'montalvo', 'asturias', 'caracas', 'joan', 'país_vasco',\n",
    "                         'mipt_terrorism_knowledge_base', 'rivas', 'poraz', 'chen', 'real_decreto', 'psuv', 'south', \n",
    "                         'huelva', 'sigurimi', 'ruso', 'madagascar', 'compromís_podemos_eupv', 'euro_eur', 'orange', \n",
    "                         'yao', 'falcón', 'tarragona', 'unidos_categoría', 'franco', 'rumania', 'giral', 'men', 'fco',\n",
    "                         'córdova', 'italia', 'líbano', 'bin', 'dinamarca', 'alemania', 'cleopatra', 'friganos', 'tic', \n",
    "                         'georgia', 'británico', 'tailandia', 'gauche', 'santorum', 'links', 'frías', 'india', 'xiang',\n",
    "                         'mediumseagreen', 'túnez', 'largo_caballero', 'teresa', 'anexo', 'parlamento_vasco', 'libia',\n",
    "                         'archivo_escudo', 'montero', 'ceuta', 'wikiproyecto',   'valladolid', 'superficie_km²',\n",
    "                         'manuel', 'url_', 'ahmad', 'aznar', 'geng', 'free', 'prim', 'upright', 'págs', 'afganistán', \n",
    "                         'lares', 'giovanni', 'catsí', 'lorenzo', 'efefef_nombre_póstumo_shi_hao', 'yuan', 'wányán',\n",
    "                         'primer',  'zhong', 'francesc', 'húngara', 'alanís', 'matorral', 'cáceres', 'etiopía', 'lara',\n",
    "                         'rock', 'sanjurjo', 'references', 'feng', 'correa', 'castilla', 'ind', 'nian_hao', 'tuoba', \n",
    "                         'hong', 'hūwangdi', 'venedey', 'budapest', 'guayas', 'matorral_espinoso_tamaulipeco', \n",
    "                         'premio_filmfare', 'yellow', 'ciudadanía_uruguaya', 'cataluña', 'zarauz', 'ruanda', 'shu', \n",
    "                         'turquía', 'erc', 'jaramillo', 'senegal', 'centro_comunal_zonal', 'garcía', 'chi', 'wen', \n",
    "                         'undeutschen', 'áfrica', 'wadern', 'john', 'armada_españolachávez', 'politics', 'zhen', \n",
    "                         'xuan', 'beiyang', 'podemos_compromís', 'qin', 'electo_circunscripción_electoral', 'tweed', \n",
    "                         'yemen', 'ciudad_real', 'país_valencià', 'theory', 'raúl', 'ppt', 'silvela', 'sur', 'psuc',\n",
    "                         'bandazhevski', 'soria', 'federación_república', 'sandra', 'romanones', 'sofía', 'pichincha',\n",
    "                         'aguirre', 'vélez', 'guayaquil', 'dagstuhl', 'shinui', 'francia', 'eee', 'estonia', 'green', \n",
    "                         'ecuatoriano', 'bashir', 'colspan', 'meiji', 'guernica', 'social_choice', 'eta', 'pce', \n",
    "                         'ciuró', 'kabul', 'pons', 'george', 'táchira', 'jordi', 'talibanes', 'figueras', 'azaña',\n",
    "                         'boko_haram', 'emperador_kangxi', 'cinco', 'der', 'prado', 'narváez', 'albacete', 'aragón',\n",
    "                         'bailleres', 'donnell', 'mejía', 'andorra', 'archivo_bandera','journal', 'mussolini', 'fsln',\n",
    "                         'wang_tuoba', 'federal_presidencialismo_presidencial', 'territorio_británico', 'mónaco', \n",
    "                         'sortable', 'smartmatic', 'legislatura_ministros', 'ccz', 'reagan', 'mud', 'zulia', 'sui', \n",
    "                         'melilla', 'shift', 'chiloé', 'título_franco', 'somoza', 'irún', 'fecha_nombre', 'catalana', \n",
    "                         'josé', 'san', 'musical', 'mosquera', 'lime', 'contreras', 'quito', 'thumb', 'macedonia', \n",
    "                         'gallego', 'jun', 'uriarte', 'azcárraga', 'ipcn', 'indonesia', 'francisco', 'marcelo', \n",
    "                         'esquerra_unida', 'kästner', 'moro', 'archivo_logo', 'els_verds', 'tres', 'jordania', \n",
    "                         'anterior_redacción', 'qian', 'war', 'yugonostalgia', 'sarandí', 'arias', 'acosta', 'vasco',\n",
    "                         'discusión_may_utc', 'lersundi', 'dst', 'kindelán', 'jin', 'file', 'londoño', 'yun', 'emir', \n",
    "                         'sudáfrica', 'lysenko', 'guecho', 'zhi', 'yan', 'zhu', 'bogotá', 'cauca', 'texana', 'comú', \n",
    "                         'william', 'hipercor_coche', 'euskadi', 'orense', 'bienio', 'soto', 'huesca', 'hugo', \n",
    "                         'enlaceautor', 'catalunya', 'isbn', 'geo', 'gregorio', 'nabai', 'cabrera', 'hassan', 'new',\n",
    "                         'series', 'pamplona_navarra', 'bélgica', 'liang', 'richard', 'ciu', 'ministros_archivo', \n",
    "                         'zhang', 'grecia', 'jaén', 'rowspan', 'bar', 'tian', 'finales_siglo', 'mola', 'qing', \n",
    "                         'caicedo', 'siete', 'guinea', 'link', 'arms', 'sáez', 'image', 'eva', 'ding', 'perón', \n",
    "                         'solid', 'svg', 'cixi', 'aae', 'nebot', 'maria', 'liu', 'leopoldo', 'acacia_amentacea', \n",
    "                         'estanislao', 'mogadiscio', 'umbrage', 'república_dominicana', 'schwarzenegger', 'vault', \n",
    "                         'lerroux', 'ahal', 'shun', 'crimson', 'ramon', 'municipio_san', 'saint', 'haile', 'canarias',\n",
    "                         'eloy_alfaro', 'reino_unido', 'borbón', 'pim_fortuyn', 'luxemburgo', 'dir', 'tolosa_guipúzcoa',\n",
    "                         'niños', 'slateblue', 'fox_news', 'national', 'inglaterra', 'paul', 'clias', 'navarra', \n",
    "                         'aragonés_parbilbao', 'sucre', 'moment', 'peter',  'temür',  'austria', 'félix', 'japón', \n",
    "                         'pamplona', 'lima', 'nsdstb', 'feminism', 'university', 'antonio', 'portuguesa', 'align', \n",
    "                         'pág', 'class', 'argelia', 'heng', 'efefef', 'naciones_monarquía_constitucional', 'angle', \n",
    "                         'lugo', 'arango', 'martí', 'yin', 'kuwait', 'emiratos_árabes', 'corea', 'chad', 'queipo', \n",
    "                         'fbceb', 'galicia', 'pp_psoe', 'eastwood', 'london', 'ministros_nowrap', 'shao', 'lightpink', \n",
    "                         'alcázar', 'causas_económicas_técnicas_organizativas', 'cundinamarca', 'lightblue', 'antón', \n",
    "                         'molina', 'oceanía', 'anastasio_somoza_debayle', 'lluís', 'talibán', 'lugar_tipo', 'yēlǜ', \n",
    "                         'referencias_categoría', 'marta', 'serbia', 'economic', 'pekín', 'antoni', 'usa', 'sabino', \n",
    "                         'michel', 'harry', 'castellón', 'varela', 'páez', 'coruña', 'yongzheng', 'samoa', 'íñigo', \n",
    "                         'belén', 'slategray', 'marktplatz', 'ppd', 'china', 'santa_lucía', 'durán', 'song', 'xian', \n",
    "                         'mosul', 'catalán', 'rioja', 'pontevedra', 'paris', 'elena', 'calderón', 'tucholsky', \n",
    "                         'cadetblue', 'tal', 'monagas', 'francesa', 'bda', 'yuan_china', 'polonia', 'sivatte', 'siria',\n",
    "                         'almeyda', 'barinas', 'clinton_john', 'susana', 'bao', 'rendón', 'sheng', 'archivo_coat', \n",
    "                         'fei', 'christian', 'ejército_español_ejército', 'oyarzun', 'xiao', 'white', 'navarro', \n",
    "                         'linares', 'castaño', 'gara', 'chino', 'gender', 'width', 'cano', 'website', 'benito', 'chang',\n",
    "                         'wikitable', 'marea_podemos', 'altorrijos', 'huan', 'ping', 'gong', 'islandssvg', 'cds', \n",
    "                         'malasia', 'máscaraautor', 'buenos_aires', 'comú_podem', 'casi', 'wei', 'º_', 'american', \n",
    "                         'murcia', 'ecuatoriana', 'imperio_británico', 'finlandia', 'israel', 'germán', 'carrillo', \n",
    "                         'urlappend', 'goebbels', 'hungría', 'bildu', 'electa_circunscripción_electoral', 'bernardo', \n",
    "                         'costa_rica', 'lapid', 'gran_polo_patriótico_simón', 'ieee', 'degregori', 'sionismo', 'jian', \n",
    "                         'hou', 'gaitán', 'enlaces_externos', 'cabo_verde', 'mexico_svg', 'pdc', 'porte_bajo', 'pardo', \n",
    "                         'acacia’, ‘usuario_discusión', 'col', 'fortuyn', 'ptolomeo', 'badajoz', 'dodgerblue', 'rusia',\n",
    "                         'montserrat', 'franquismo', 'alcalá', 'caylá', 'ramos', 'vallverdú', 'serra', 'herrero', \n",
    "                         'estella', 'valls', 'carlista', 'villores', 'galán_sarmiento', 'serna', 'lázaro', 'grau', \n",
    "                         'valentín', 'boe', 'dei', 'psm', 'robles', 'garzón', 'matos', 'madariaga', 'alba', 'amaiur', \n",
    "                         'revilla', 'olmo', 'blasco', 'vitoria', 'convergència', 'jarama', 'giménez', 'puig', \n",
    "                         'joventut', 'salgado', 'més', 'cristóbal', 'upyd', 'matilde', 'crespo', 'beatriz', 'carmelo', \n",
    "                         'amador', 'húngaro', 'nadal', 'llorens','ibiza', 'bosch', 'oliver', 'fuster', 'verds', \n",
    "                         'joseba', 'rita', 'carme', 'lozano', 'sara', 'requeté', 'húngaros', 'elvira', 'aitor', \n",
    "                         'enric', 'roldán', 'paniagua', 'bueno', 'andreu', 'lucía', 'joaquim', 'tena', 'henares', \n",
    "                         'chacón', 'arévalo', 'ramiro', 'ballesteros', 'jerónimo', 'amat', 'ugt', 'begoña', \n",
    "                         'teófilo', 'esteve', 'illes_balears', 'lanzarote', 'vanguardia_disponible_aquí', 'ayala', \n",
    "                         'miaja', 'calleja', 'yolanda', 'reverte', 'josu', 'losada', 'vigo', 'raquel', 'martorell', \n",
    "                         'cándido', 'polo', 'real', 'valero', 'relación', 'legislaturas', 'jon', 'azorín', 'bono', \n",
    "                         'inés', 'ribera', 'mikel', 'cipriano', 'otero', 'bermúdez', 'blas', 'bankia', 'icv', 'oliva',\n",
    "                         'marcelino', 'castells', 'dolors', 'portabella', 'encarnación', 'camps', 'logroño', 'ángela',\n",
    "                         'feliciano', 'llobregat', 'borja', 'tejedor', 'pot', 'acevedo', 'oriol', 'carrasco', 'pietro',\n",
    "                         'della', 'pau', 'benítez', 'posada', 'vallès', 'treviño', 'piqué', 'vallejo', 'heras', \n",
    "                         'marcial', 'alcaraz', 'martos', 'bajo', 'benet', 'bau', 'miralles', 'segura', 'camacho', \n",
    "                         'lucio', 'ros', 'saiz', 'nuca', 'lasa', 'jános', 'matas', 'rivero', 'fuerteventura', 'degli', \n",
    "                         'eivissa', 'sainz', 'fabra', 'ayuso', 'morán', 'águeda', 'royo', 'vicent', 'iñigo', 'gomis', \n",
    "                         'cospedal', 'llano', 'fátima', 'lasarte', 'pita', 'inspector', 'pelayo', 'pil', 'trinidad', \n",
    "                         'alcalde', 'bernal', 'paloma', 'ardoz', 'tortosa', 'jacinto', 'iberdrola', 'camarero', \n",
    "                         'zabala', 'ferran', 'isaura', 'villalba', 'patxi', 'cejas', 'mari', 'oñate', 'andalucista', \n",
    "                         'boyer', 'bello', 'márquez', 'frente_autonómico', 'grafología', 'maroto', 'consejo_insular', \n",
    "                         'valverde', 'pacte', 'cardona', 'celia', 'marí', 'rovira', 'pla', 'fidel', 'elorza', 'ten',  \n",
    "                         'requetés', 'bustelo', 'oria', 'basauri', 'provincia_tipo', 'cacho', 'villena', 'mato', \n",
    "                         'gonzaga', 'tejero', 'paolo', 'belda', 'montoro', 'balear', 'dels', 'anna', 'morera', \n",
    "                         'moncloa', 'rubén', 'saura', 'jsu', 'piñeiro', 'carlisme', 'campo', 'bel', 'maldonado', \n",
    "                         'hidalgo', 'andoni', 'girauta', 'blanc', 'alavés', 'navas', 'gordillo', 'haro', 'hoyos', \n",
    "                         'gasset', 'casares', 'trias', 'bonilla', 'elorriaga', 'piqueras', 'vallés', 'aragonés', \n",
    "                         'fraile', 'seoane', 'azpeitia', 'fidalgo', 'baeza', 'borrego', 'berenguer', 'ballester', \n",
    "                         'sonia', 'tamara', 'psp', 'baena', 'cebrián', 'león_vi', 'veiga', 'llorente', 'trillo', 'luca',\n",
    "                         'pozo', 'donato', 'psa', 'cafetería_rolando', 'garrigues', 'kádár', 'solà', 'hermida', 'luno', \n",
    "                         'ardanza', 'lafuente', 'salazar', 'gascón', 'berlanga', 'homs', 'cid', 'florencia', 'rogelio', \n",
    "                         'marbella', 'quesada', 'carlistas', 'quiroga', 'giner', 'bernat', 'viñas', 'calero', 'mateu', \n",
    "                         'cabanillas', 'juaristi',  'bugallal', 'baldomero', 'vich', 'aic', 'alberti', 'pinilla', \n",
    "                         'bermeo', 'roig', 'miren', 'llorca', 'crisol', 'lastra', 'eloy', 'álamo', 'figuerola', 'solé',\n",
    "                         'carlota', 'ordóñez', 'berzal', 'verds_icv', 'cisneros', 'victoriano', 'castañón', 'lerma', \n",
    "                         'olmo_marote', 'tomàs', 'carretero', 'cunill', 'comunismo_gulash', 'maragall', 'atienza', \n",
    "                         'ayllón', 'cañellas', 'jose', 'aplec', 'narcís', 'gisbert', 'farré', 'navascués', 'armijo', \n",
    "                         'diputado_autonómico', 'laureano', 'navarrete', 'alsasua', 'femp', 'nafarroa', 'amb', \n",
    "                         'valeriano', 'fanjul', 'ribó', 'caso_ere_imputado', 'marañón', 'mariscal', 'vaquero', \n",
    "                         'matías', 'saavedra', 'pello', 'coello', 'nca', 'lluch', 'ernest', 'marc', 'olano', 'lajos',\n",
    "                         'castell', 'teixeira', 'pacheco', 'corcuera', 'celia_villalobos', 'nolla', 'gabilondo', \n",
    "                         'alava', 'leire', 'ildefonso', 'palau',  'miró', 'nuria', 'espasa', 'dámaso', 'padrón', \n",
    "                         'valcárcel', 'cruzado', 'rosell', 'uberto', 'solís', 'arenys', 'espinar', 'mónica', 'vela', \n",
    "                         'clavero', 'olarte', 'marca', 'abengoa', 'bonifacio', 'puebla', 'reus', 'diéguez', 'bayo', \n",
    "                         'riera', 'cafetería_rolando_bomba', 'morell', 'ovidio', 'cavia', 'ferré', 'galíndez', \n",
    "                         'goicoechea', 'teófila', 'salvatierra', 'nova', 'valència', 'felip', 'úbeda', 'eusebio', \n",
    "                         'gallardo', 'pía', 'micaela', 'larrañaga', 'honorato', 'madrileñas', 'almagro', 'estaún', \n",
    "                         'acebes', 'tedax', 'rubial', 'alternativa_euia', 'morillo', 'porras', 'gerö', 'fanlo', \n",
    "                         'ciriaco', 'algaba', 'kossuth', 'picornell', 'tejada', 'tarrago', 'altés', 'progrés', \n",
    "                         'agustí', 'marcello', 'bermejo', 'fèlix', 'ranieri', 'soraya', 'ehne', 'terrassa', 'bidasoa', \n",
    "                         'ermua', 'atocha', 'march', 'caso_gürtel_imputado', 'yuste', 'rtve', 'carnero', 'lemóniz',  \n",
    "                         'melero', 'mònica', 'hipólito', 'avelino', 'albaladejo', 'mas', 'kortatu', 'aja', 'zoido', \n",
    "                         'nombre', 'caso', 'tudela', 'àngel', 'bru', 'ochoa', 'ràdio', 'rubiales', 'monserrat', \n",
    "                         'oskar', 'turrión', 'abel', 'bellido', 'laia', 'obreristas', 'beria', 'borroka', 'concha', \n",
    "                         'arribas', 'josefina', 'lavilla', 'jove', 'mayoral', 'carbonell', 'orihuela', 'molist', \n",
    "                         'encinas', 'ricard', 'rabok', 'nem', 'mondragón', 'roura', 'domènech', 'alberdi', 'guadalupe',\n",
    "                         'cdn', 'casals', 'ambrona', 'imanol', 'izaga', 'guanyem', 'askapena', 'matutes', 'cabezón', \n",
    "                         'calvo_sotelo', 'murillo', 'terol', 'etxeberria', 'garijo', 'aránzazu', 'correo_voto', \n",
    "                         'caso_emarsa_imputado', 'meritxell', 'ricci', 'solchaga', 'alcoy', 'fuenterrabía', 'viso', \n",
    "                         'calviño', 'repsol', 'gianni', 'palacín', 'carbó', 'munguía', 'rtvv', 'pidal', 'antero', \n",
    "                         'sedeño', 'vic', 'brigada_tuitera', 'becerril', 'muguruza', 'postius', 'pozas', 'navia', \n",
    "                         'trías', 'aldovea', 'urkullu', 'józsef', 'salmerón', 'goñi', 'orduña', 'gudari', 'arce', \n",
    "                         'salami', 'arca', 'iturrioz', 'ere', 'sándor', 'petőfi', 'ángel_acebes', 'alli', 'imbroda',\n",
    "                         'bustos', 'arriola', 'cañete', 'luciano', 'izagirre', 'garitano', 'calatrava', 'llamazares', \n",
    "                         'ahedo', 'pál', 'elizo', 'verda', 'uralde', 'fcc', 'blázquez', 'fons', 'tardà', 'madina', \n",
    "                         'lamata', 'iker', 'odón', 'eduard', 'múgica', 'puigdemont', 'adelardo', 'pellicer', 'kale',\n",
    "                         'turisme', 'badalona', 'montañés', 'errejón', 'estrada', 'tejerina', 'ledo', 'károly', \n",
    "                         'spínola', 'montaner', 'ibárruri', 'noguera', 'mínguez', 'arad', 'egea', 'angelo', 'aina', \n",
    "                         'euib']))\n",
    "\n",
    "\n",
    "for i, row in zip(range(len(working_Df)), working_Df.new_description):\n",
    "    for w in to_eliminate:\n",
    "        row = re.sub(\"\\w*\" + w + \"\\w*\", \"\", row)\n",
    "    working_Df.loc[i, \"new_description\"] = \" \".join(row.split())\n",
    "    \n",
    "display(working_Df.head())"
   ]
  },
  {
   "cell_type": "code",
   "execution_count": null,
   "metadata": {
    "collapsed": false
   },
   "outputs": [],
   "source": [
    "# Crear el contador\n",
    "vectorizer = CountVectorizer()\n",
    "# Construir la matriz documentos-términos\n",
    "X = vectorizer.fit_transform(working_Df.new_description)\n",
    "X_array = X.toarray()\n",
    "X_vocab = np.array(vectorizer.get_feature_names())\n",
    "\n",
    "print(\"\"\"Se generó una matriz de tamaño {}\\n\n",
    "Forma de los vectores (un fragmento): \\n{}\"\"\"\n",
    "      .format(X.shape, X_array[2, 0:100], X_vocab[0:100]))"
   ]
  },
  {
   "cell_type": "code",
   "execution_count": null,
   "metadata": {
    "collapsed": false
   },
   "outputs": [],
   "source": [
    "tokens = []\n",
    "for i, x in zip(range(len(X_vocab)), X_array[1]):\n",
    "    if x > 5 :\n",
    "        tokens.append([i, X_vocab[i], x])\n",
    "\n",
    "df = pd.DataFrame(tokens, columns = [\"Índice\", \"Token\", \"Frecuencia\"])\n",
    "print(\"Muestra del vocabulario utilizado\")\n",
    "display(df)"
   ]
  },
  {
   "cell_type": "markdown",
   "metadata": {},
   "source": [
    "# LDA"
   ]
  },
  {
   "cell_type": "code",
   "execution_count": null,
   "metadata": {
    "collapsed": false
   },
   "outputs": [],
   "source": [
    "num_topics = 12\n",
    "# Creación del operador. En la versión 0.19, el argumento n_topics cambia a n_components\n",
    "lda = decomposition.LatentDirichletAllocation(n_topics=num_topics,\n",
    "                                              learning_method='online')\n",
    "# Factorización de la matriz documentos-términos\n",
    "lda_topics = lda.fit_transform(X)\n",
    "\n",
    "print(\"Tamaño de la matriz documentos-términos:\", X.shape)\n",
    "print(\"Tamaño de la matriz de distribución documentos-tópicos:\", lda_topics.shape)\n",
    "print(\"Tamaño de la matriz de distribución tópicos-términos:\", lda.components_.shape)"
   ]
  },
  {
   "cell_type": "code",
   "execution_count": null,
   "metadata": {
    "collapsed": false
   },
   "outputs": [],
   "source": [
    "# Atributos originales a mostrar en cada vector de características, \n",
    "# ordenados por importancia       \n",
    "num_top_words = 150\n",
    "lda_topic_words = []\n",
    "for topic in lda.components_:\n",
    "#    word_idx = np.argsort(topic)[::-1][len(lda.components_)-num_top_words:]\n",
    "    word_idx = np.argsort(topic)[::-1][0:num_top_words]\n",
    "    lda_topic_words.append([X_vocab[i] for i in word_idx])\n",
    "\n",
    "for i, row in zip(range(len(lda_topic_words)), lda_topic_words):\n",
    "    print(i, row, \"\\n\")"
   ]
  },
  {
   "cell_type": "code",
   "execution_count": null,
   "metadata": {
    "collapsed": false
   },
   "outputs": [],
   "source": [
    "df = pd.DataFrame(lda.components_)\n",
    "\n",
    "to_eliminate_lda = []\n",
    "for i, col in zip(range(df.shape[1]), df):\n",
    "    m = np.mean(df[col])\n",
    "    if m < 4e-1:\n",
    "        w = X_vocab[i]\n",
    "        to_eliminate_lda.append(w)\n",
    "        print(m, w)\n",
    "\n",
    "print(\"Palabras limpias preseleccionadas para eliminación\", len(to_eliminate_lda), '\\n')"
   ]
  },
  {
   "cell_type": "markdown",
   "metadata": {},
   "source": [
    "# NMF"
   ]
  },
  {
   "cell_type": "code",
   "execution_count": null,
   "metadata": {
    "collapsed": false
   },
   "outputs": [],
   "source": [
    "num_topics = 12\n",
    "# Creación del operador\n",
    "nmf = decomposition.NMF(n_components=num_topics)\n",
    "# Factorización de la matriz documentos-términos\n",
    "nmf_topics = nmf.fit_transform(X)\n",
    "\n",
    "print(\"Tamaño de la matriz original (V):\", X.shape)\n",
    "print(\"Tamaño de la matriz de coeficientes (W):\", nmf_topics.shape)\n",
    "print(\"Tamaño de la matriz diccionario (H):\", nmf.components_.shape)"
   ]
  },
  {
   "cell_type": "code",
   "execution_count": null,
   "metadata": {
    "collapsed": false
   },
   "outputs": [],
   "source": [
    "# Atributos originales a mostrar en cada vector de características, \n",
    "# ordenados por importancia       \n",
    "num_top_words = 150\n",
    "nmf_topic_words = []\n",
    "for topic in nmf.components_:\n",
    "    word_idx = np.argsort(topic)[::-1][0:num_top_words]\n",
    "#    word_idx = np.argsort(topic)[::-1][len(nmf.components_)-num_top_words:]\n",
    "    nmf_topic_words.append([X_vocab[i] for i in word_idx])\n",
    "\n",
    "for i, row in zip(range(len(nmf_topic_words)), nmf_topic_words):\n",
    "    print(i, row, \"\\n\")"
   ]
  },
  {
   "cell_type": "code",
   "execution_count": null,
   "metadata": {
    "collapsed": false
   },
   "outputs": [],
   "source": [
    "df = pd.DataFrame(nmf.components_)\n",
    "\n",
    "to_eliminate_nmf = []\n",
    "for i, col in zip(range(df.shape[1]), df):\n",
    "    m = np.mean(df[col])\n",
    "    if m < 5e-4:\n",
    "        r = 0\n",
    "        w = X_vocab[i]\n",
    "        to_eliminate_nmf.append(w)\n",
    "        print(m, w)\n",
    "\n",
    "print(\"Palabras limpias preseleccionadas para eliminación\", len(to_eliminate_nmf), '\\n')"
   ]
  },
  {
   "cell_type": "code",
   "execution_count": null,
   "metadata": {
    "collapsed": false
   },
   "outputs": [],
   "source": [
    "matches = []\n",
    "rest = list(set(to_eliminate_lda + to_eliminate_nmf))\n",
    "for w in rest:\n",
    "    if '_' in w or w[0] > 'ú':\n",
    "        matches.append(w)\n",
    "matches = sorted(matches)\n",
    "\n",
    "print(\"\\nPalabras preseleccionadas para eliminación\", len(matches))"
   ]
  },
  {
   "cell_type": "code",
   "execution_count": null,
   "metadata": {
    "collapsed": false
   },
   "outputs": [],
   "source": [
    "working_Df[\"clean_description\"] = list(map(lambda row: \n",
    "                            \" \".join([w for w in row.split() if not w in matches]), \n",
    "                            working_Df.new_description))"
   ]
  },
  {
   "cell_type": "code",
   "execution_count": null,
   "metadata": {
    "collapsed": false
   },
   "outputs": [],
   "source": [
    "# Crear el contador\n",
    "vectorizer = CountVectorizer()\n",
    "# Construir la matriz documentos-términos\n",
    "X = vectorizer.fit_transform(working_Df.clean_description)\n",
    "X_array = X.toarray()\n",
    "X_vocab = np.array(vectorizer.get_feature_names())\n",
    "        \n",
    "print(\"Se generó una matriz de tamaño:\", X.shape)"
   ]
  },
  {
   "cell_type": "code",
   "execution_count": null,
   "metadata": {
    "collapsed": false
   },
   "outputs": [],
   "source": [
    "num_topics = 12\n",
    "\n",
    "# Creación del operador. En la versión 0.19, el argumento n_topics cambia a n_components\n",
    "lda = decomposition.LatentDirichletAllocation(n_topics=num_topics,\n",
    "                                              learning_method='online')\n",
    "lda_topics = lda.fit_transform(X)\n",
    "df = pd.DataFrame(lda.components_)\n",
    "to_eliminate_lda = []\n",
    "for i, col in zip(range(df.shape[1]), df):\n",
    "    w = X_vocab[i]\n",
    "    m = np.mean(df[col])\n",
    "    if m < 0.3: # Flexibilizamos la identificación de palabras no significativas\n",
    "        to_eliminate_lda.append(w)\n",
    "print(\"\\nPalabras preseleccionadas para eliminación LDA\", len(to_eliminate_lda), '\\n')\n",
    "\n",
    "nmf = decomposition.NMF(n_components=num_topics)\n",
    "# Factorización de la matriz documentos-términos\n",
    "nmf_topics = nmf.fit_transform(X)\n",
    "df = pd.DataFrame(nmf.components_)\n",
    "to_eliminate_nmf = []\n",
    "for i, col in zip(range(df.shape[1]), df):\n",
    "    w = X_vocab[i]\n",
    "    m = np.mean(df[col])\n",
    "    if m < 1e-4:\n",
    "        to_eliminate_nmf.append(w)\n",
    "\n",
    "print(\"\\nPalabras preseleccionadas para eliminación NMF\", len(to_eliminate_nmf), '\\n')\n",
    "\n",
    "matches = list(set(to_eliminate_lda) & set(to_eliminate_nmf))\n",
    "rest = list(set(to_eliminate_lda + to_eliminate_nmf) - set(matches))\n",
    "for w in rest:\n",
    "    if '_' in w:\n",
    "        matches.append(w)\n",
    "#matches = sorted(matches)\n",
    "\n",
    "print(\"\\nPalabras limpias preseleccionadas para eliminación\", len(matches))"
   ]
  },
  {
   "cell_type": "code",
   "execution_count": null,
   "metadata": {
    "collapsed": false
   },
   "outputs": [],
   "source": [
    "\n",
    "\n"
   ]
  },
  {
   "cell_type": "code",
   "execution_count": null,
   "metadata": {
    "collapsed": false
   },
   "outputs": [],
   "source": [
    "NO HACER\n",
    "\n",
    "matches_array = np.array(matches[200:300])\n",
    "matches_array = np.reshape(matches_array, (25, 4))\n",
    "matches_df = pd.DataFrame(matches_array)\n",
    "\n",
    "display(matches_df)\n",
    "print(\"\\nPalabras coincidentes\", len(matches))"
   ]
  },
  {
   "cell_type": "code",
   "execution_count": null,
   "metadata": {
    "collapsed": false
   },
   "outputs": [],
   "source": [
    "for i, row in zip(range(len(working_Df)), working_Df.clean_description):\n",
    "    for w in to_eliminate:\n",
    "        row = re.sub(\"\\w*\" + w + \"\\w*\", \"\", row)\n",
    "    working_Df.loc[i, \"clean_description\"] = \" \".join(row.split())"
   ]
  },
  {
   "cell_type": "code",
   "execution_count": null,
   "metadata": {
    "collapsed": false
   },
   "outputs": [],
   "source": [
    "# Crear el contador\n",
    "vectorizer = CountVectorizer()\n",
    "# Construir la matriz documentos-términos\n",
    "X = vectorizer.fit_transform(working_Df.clean_description)\n",
    "X_array = X.toarray()\n",
    "X_vocab = np.array(vectorizer.get_feature_names())\n",
    "        \n",
    "print(\"Se generó una matriz de tamaño:\", X.shape)"
   ]
  },
  {
   "cell_type": "code",
   "execution_count": null,
   "metadata": {
    "collapsed": false
   },
   "outputs": [],
   "source": [
    "num_topics = 12\n",
    "\n",
    "# Creación del operador. En la versión 0.19, el argumento n_topics cambia a n_components\n",
    "lda = decomposition.LatentDirichletAllocation(n_topics=num_topics,\n",
    "                                              learning_method='online')\n",
    "lda_topics = lda.fit_transform(X)\n",
    "\n",
    "nmf = decomposition.NMF(n_components=num_topics)\n",
    "nmf_topics = nmf.fit_transform(X)"
   ]
  },
  {
   "cell_type": "code",
   "execution_count": null,
   "metadata": {
    "collapsed": false
   },
   "outputs": [],
   "source": []
  },
  {
   "cell_type": "code",
   "execution_count": null,
   "metadata": {
    "collapsed": false
   },
   "outputs": [],
   "source": [
    "# Atributos originales a mostrar en cada vector de características, \n",
    "# ordenados por importancia       \n",
    "num_top_words = 750\n",
    "lda_topic_words = []\n",
    "for topic in lda.components_:\n",
    "    word_idx = np.argsort(topic)[::-1][:num_top_words]\n",
    "    lda_topic_words.append([X_vocab[i] for i in word_idx])\n",
    "\n",
    "for i, row in zip(range(len(lda_topic_words)), lda_topic_words):\n",
    "    print(i, row, \"\\n\")"
   ]
  },
  {
   "cell_type": "code",
   "execution_count": null,
   "metadata": {
    "collapsed": false
   },
   "outputs": [],
   "source": [
    "# Atributos originales a mostrar en cada vector de características, \n",
    "# ordenados por importancia       \n",
    "num_top_words = 150\n",
    "nmf_topic_words = []\n",
    "for topic in nmf.components_:\n",
    "    word_idx = np.argsort(topic)[::-1][0:num_top_words]\n",
    "#    word_idx = np.argsort(topic)[::-1][len(nmf.components_)-num_top_words:]\n",
    "    nmf_topic_words.append([X_vocab[i] for i in word_idx])\n",
    "\n",
    "for i, row in zip(range(len(nmf_topic_words)), nmf_topic_words):\n",
    "    print(i, row, \"\\n\")"
   ]
  },
  {
   "cell_type": "code",
   "execution_count": null,
   "metadata": {
    "collapsed": false
   },
   "outputs": [],
   "source": [
    "# Crear el contador\n",
    "vectorizer = CountVectorizer()\n",
    "# Construir la matriz documentos-términos\n",
    "X = vectorizer.fit_transform(working_Df.clean_description)\n",
    "X_array = X.toarray()\n",
    "X_vocab = np.array(vectorizer.get_feature_names())\n",
    "        \n",
    "print(\"Se generó una matriz de tamaño:\", X.shape)"
   ]
  },
  {
   "cell_type": "code",
   "execution_count": null,
   "metadata": {
    "collapsed": true
   },
   "outputs": [],
   "source": [
    "num_topics = 12\n",
    "\n",
    "# Creación del operador. En la versión 0.19, el argumento n_topics cambia a n_components\n",
    "lda = decomposition.LatentDirichletAllocation(n_topics=num_topics,\n",
    "                                              learning_method='online')\n",
    "lda_topics = lda.fit_transform(X)\n",
    "\n",
    "nmf = decomposition.NMF(n_components=num_topics)\n",
    "nmf_topics = nmf.fit_transform(X)"
   ]
  },
  {
   "cell_type": "code",
   "execution_count": null,
   "metadata": {
    "collapsed": false
   },
   "outputs": [],
   "source": [
    "# Atributos originales a mostrar en cada vector de características, \n",
    "# ordenados por importancia       \n",
    "num_top_words = 150\n",
    "lda_topic_words = []\n",
    "for topic in lda.components_:\n",
    "#    word_idx = np.argsort(topic)[::-1][len(lda.components_)-num_top_words:]\n",
    "    word_idx = np.argsort(topic)[::-1][0:num_top_words]\n",
    "    lda_topic_words.append([X_vocab[i] for i in word_idx])\n",
    "\n",
    "all_topic_words = []\n",
    "for i, row in zip(range(len(lda_topic_words)), lda_topic_words):\n",
    "    all_topic_words =  all_topic_words + row\n",
    "    print(i, row, \"\\n\")"
   ]
  },
  {
   "cell_type": "code",
   "execution_count": null,
   "metadata": {
    "collapsed": false
   },
   "outputs": [],
   "source": [
    "# Atributos originales a mostrar en cada vector de características, \n",
    "# ordenados por importancia       \n",
    "num_top_words = 150\n",
    "nmf_topic_words = []\n",
    "for topic in nmf.components_:\n",
    "    word_idx = np.argsort(topic)[::-1][0:num_top_words]\n",
    "#    word_idx = np.argsort(topic)[::-1][len(nmf.components_)-num_top_words:]\n",
    "    nmf_topic_words.append([X_vocab[i] for i in word_idx])\n",
    "\n",
    "for i, row in zip(range(len(nmf_topic_words)), nmf_topic_words):\n",
    "    all_topic_words =  all_topic_words + row\n",
    "    print(i, row, \"\\n\")"
   ]
  },
  {
   "cell_type": "code",
   "execution_count": null,
   "metadata": {
    "collapsed": false
   },
   "outputs": [],
   "source": [
    "print (list(set(all_topic_words)))\n",
    "print (len(list(set(all_topic_words))))"
   ]
  },
  {
   "cell_type": "code",
   "execution_count": null,
   "metadata": {
    "collapsed": true
   },
   "outputs": [],
   "source": []
  },
  {
   "cell_type": "code",
   "execution_count": null,
   "metadata": {
    "collapsed": true
   },
   "outputs": [],
   "source": []
  }
 ],
 "metadata": {
  "celltoolbar": "Raw Cell Format",
  "kernelspec": {
   "display_name": "Python 3",
   "language": "python",
   "name": "python3"
  },
  "language_info": {
   "codemirror_mode": {
    "name": "ipython",
    "version": 3
   },
   "file_extension": ".py",
   "mimetype": "text/x-python",
   "name": "python",
   "nbconvert_exporter": "python",
   "pygments_lexer": "ipython3",
   "version": "3.6.0"
  }
 },
 "nbformat": 4,
 "nbformat_minor": 0
}
