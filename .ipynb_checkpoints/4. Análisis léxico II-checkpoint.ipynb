{
 "cells": [
  {
   "cell_type": "markdown",
   "metadata": {},
   "source": [
    "![agents](images/header.jpg)\n",
    "# Análisis léxico: Colocaciones y $N$-Gramas\n",
    "### Ramón Soto C. [(rsotoc@moviquest.com)](mailto:rsotoc@moviquest.com/)\n",
    "[ver en nbviewer](http://nbviewer.ipython.org/github/rsotoc/nlp/blob/master/Introducción.ipynb)"
   ]
  },
  {
   "cell_type": "markdown",
   "metadata": {},
   "source": [
    "\n",
    "\n",
    "## Modelo de N-Gramas\n",
    "\n",
    "Una característica de los lenguajes naturales es que las frases que los componen no tienen una distribución uniforme. Por el contrario, existen construcciones que son más comunes que otras. De esta manera, aunque las frases $f_1 = \\textrm{\"el perro camina\"}$ y $f_2 = \\textrm{\"el perro vuela\"}$ son ambas correctas sintácticamente, es más probable encontrar la frase $f_1$ que la frase $f_2$ en un texto arbitrario. \n",
    "\n",
    "En la película \"*Take The Money And Run*\", Virgil Starkwell (Woody Allen) intenta asaltar un banco y entrega al cajero una nota con el mensaje \"*Please put fifty thousand dollars into this bag and act natural as I am pointing a gun at you*\" que es leída por los empleados del banco como \"*Please put fifty thousand dollars into this bag and ABT natural as I am pointing a GUB at you*\". \n",
    "\n",
    "[![](images/i_have_a_gub.jpg)](https://www.youtube.com/watch?v=pEm0zi8QrpA)\n",
    "\n",
    "Sin embargo, es obvio que la frase \"*I am pointing a GUN at you*\" es más probable que la frase \"*I am pointing a GUB at you*\", por lo que en la vida real no nos cuesta trabajo reconocer la frase correcta. Para modelar esta capacidad de predecir la ocurrencia de una palabra en una frase se utilizan **Modelos de lenguajes** que asignan probabilidades a las secuencias de palabras que pueden conformar un texto. \n",
    "\n",
    "El modelo más simple es el **Modelo de N-Gramas**\". Este modelo asume que la probabiliad de ocurrencia de una palabra está determinada por las palabras recientes; lo que se conoce como la **suposición de Markov**. De manera que para el cálculo de estas probabilidades basta contabilizar la ocurrencia de secuencias de palabras de longitud definida. Un **$N$-Grama** es una secuencia de $N$ palabras. Así, por ejemplo, un 2-grama (o bigrama) es una secuencia de 2 palabras, como \"*el hombre*\", \"*hombre camina*\", \"*camina en*\", \"*en el*\", \"*el parque*\". Un 3-grama (trigrama) es una secuencia de tres palabras, como \"*el hombre camina*\", \"*hombre camina en*\", \"*camina en el*\", \"*en el parque*\". "
   ]
  },
  {
   "cell_type": "code",
   "execution_count": 1,
   "metadata": {
    "collapsed": false
   },
   "outputs": [
    {
     "name": "stdout",
     "output_type": "stream",
     "text": [
      "Bigramas:\n",
      " Counter({('.', 'el'): 2, ('el', 'perro'): 2, ('en', 'el'): 2, ('el', 'parque'): 2, ('los', 'amigos'): 1, ('amigos', 'toman'): 1, ('toman', 'cafe'): 1, ('cafe', '.'): 1, ('perro', 'duerme'): 1, ('duerme', 'en'): 1, ('parque', '.'): 1, ('el', 'hombre'): 1, ('hombre', 'con'): 1, ('con', 'el'): 1, ('perro', 'camina'): 1, ('camina', 'en'): 1, ('parque', 'con'): 1, ('con', 'amigos'): 1, ('amigos', '.'): 1})\n",
      "\n",
      "Trigramas:\n",
      " Counter({('en', 'el', 'parque'): 2, ('los', 'amigos', 'toman'): 1, ('amigos', 'toman', 'cafe'): 1, ('toman', 'cafe', '.'): 1, ('cafe', '.', 'el'): 1, ('.', 'el', 'perro'): 1, ('el', 'perro', 'duerme'): 1, ('perro', 'duerme', 'en'): 1, ('duerme', 'en', 'el'): 1, ('el', 'parque', '.'): 1, ('parque', '.', 'el'): 1, ('.', 'el', 'hombre'): 1, ('el', 'hombre', 'con'): 1, ('hombre', 'con', 'el'): 1, ('con', 'el', 'perro'): 1, ('el', 'perro', 'camina'): 1, ('perro', 'camina', 'en'): 1, ('camina', 'en', 'el'): 1, ('el', 'parque', 'con'): 1, ('parque', 'con', 'amigos'): 1, ('con', 'amigos', '.'): 1})\n",
      "\n",
      "Tetragramas:\n",
      " Counter({('los', 'amigos', 'toman', 'cafe'): 1, ('amigos', 'toman', 'cafe', '.'): 1, ('toman', 'cafe', '.', 'el'): 1, ('cafe', '.', 'el', 'perro'): 1, ('.', 'el', 'perro', 'duerme'): 1, ('el', 'perro', 'duerme', 'en'): 1, ('perro', 'duerme', 'en', 'el'): 1, ('duerme', 'en', 'el', 'parque'): 1, ('en', 'el', 'parque', '.'): 1, ('el', 'parque', '.', 'el'): 1, ('parque', '.', 'el', 'hombre'): 1, ('.', 'el', 'hombre', 'con'): 1, ('el', 'hombre', 'con', 'el'): 1, ('hombre', 'con', 'el', 'perro'): 1, ('con', 'el', 'perro', 'camina'): 1, ('el', 'perro', 'camina', 'en'): 1, ('perro', 'camina', 'en', 'el'): 1, ('camina', 'en', 'el', 'parque'): 1, ('en', 'el', 'parque', 'con'): 1, ('el', 'parque', 'con', 'amigos'): 1, ('parque', 'con', 'amigos', '.'): 1})\n"
     ]
    }
   ],
   "source": [
    "import nltk\n",
    "from nltk import word_tokenize\n",
    "from nltk.util import ngrams\n",
    "from collections import Counter\n",
    "\n",
    "text = \"los amigos toman cafe. el perro duerme en el parque. el hombre con el perro \\\n",
    "camina en el parque con amigos.\"\n",
    "\n",
    "token = nltk.word_tokenize(text)\n",
    "bigrams = ngrams(token,2)\n",
    "trigrams = ngrams(token,3)\n",
    "tetragrams = ngrams(token,4)\n",
    "\n",
    "bigrams_list = list(bigrams)\n",
    "counter_bigrams = Counter(bigrams_list)\n",
    "print (\"Bigramas:\\n\", counter_bigrams)\n",
    "\n",
    "trigrams_list = list(trigrams)\n",
    "counter_trigrams = Counter(trigrams_list)\n",
    "print (\"\\nTrigramas:\\n\", counter_trigrams)\n",
    "\n",
    "tetragrams_list = list(tetragrams)\n",
    "counter_tetragrams = Counter(tetragrams_list)\n",
    "print (\"\\nTetragramas:\\n\", counter_tetragrams)"
   ]
  },
  {
   "cell_type": "markdown",
   "metadata": {},
   "source": [
    "### $N$-Gramas en la base de datos de personajes de comics"
   ]
  },
  {
   "cell_type": "code",
   "execution_count": 2,
   "metadata": {
    "collapsed": false
   },
   "outputs": [],
   "source": [
    "from IPython.display import display\n",
    "import pandas as pd\n",
    "pd.options.display.max_colwidth = 150 "
   ]
  },
  {
   "cell_type": "code",
   "execution_count": 3,
   "metadata": {
    "collapsed": false
   },
   "outputs": [
    {
     "data": {
      "text/html": [
       "<div>\n",
       "<table border=\"1\" class=\"dataframe\">\n",
       "  <thead>\n",
       "    <tr style=\"text-align: right;\">\n",
       "      <th></th>\n",
       "      <th>description</th>\n",
       "      <th>main_words</th>\n",
       "      <th>name</th>\n",
       "    </tr>\n",
       "  </thead>\n",
       "  <tbody>\n",
       "    <tr>\n",
       "      <th>0</th>\n",
       "      <td>mazing man is the title character of a comic book series created by bob rozakis and stephen destefano and published by dc comics the series ran fo...</td>\n",
       "      <td>[man, title, character, comic, book, series, created, bob, rozakis, stephen, published, dc, comics, series, ran, twelve, issues, additional, speci...</td>\n",
       "      <td>'Mazing Man</td>\n",
       "    </tr>\n",
       "  </tbody>\n",
       "</table>\n",
       "</div>"
      ],
      "text/plain": [
       "                                                                                                                                             description  \\\n",
       "0  mazing man is the title character of a comic book series created by bob rozakis and stephen destefano and published by dc comics the series ran fo...   \n",
       "\n",
       "                                                                                                                                              main_words  \\\n",
       "0  [man, title, character, comic, book, series, created, bob, rozakis, stephen, published, dc, comics, series, ran, twelve, issues, additional, speci...   \n",
       "\n",
       "          name  \n",
       "0  'Mazing Man  "
      ]
     },
     "metadata": {},
     "output_type": "display_data"
    }
   ],
   "source": [
    "import json\n",
    "\n",
    "file = 'Data Sets/Comics/clean_comics.json'\n",
    "with open(file) as comics_file:\n",
    "    dict_comics = json.load(comics_file)\n",
    "\n",
    "comicsDf = pd.DataFrame.from_dict(dict_comics)\n",
    "\n",
    "display(comicsDf.head(1))"
   ]
  },
  {
   "cell_type": "code",
   "execution_count": 4,
   "metadata": {
    "collapsed": false
   },
   "outputs": [
    {
     "data": {
      "text/html": [
       "<div>\n",
       "<table border=\"1\" class=\"dataframe\">\n",
       "  <thead>\n",
       "    <tr style=\"text-align: right;\">\n",
       "      <th></th>\n",
       "      <th>name</th>\n",
       "      <th>description</th>\n",
       "      <th>main_words</th>\n",
       "    </tr>\n",
       "  </thead>\n",
       "  <tbody>\n",
       "    <tr>\n",
       "      <th>0</th>\n",
       "      <td>'Mazing Man</td>\n",
       "      <td>mazing man is the title character of a comic book series created by bob rozakis and stephen destefano and published by dc comics the series ran fo...</td>\n",
       "      <td>[man, title, character, comic, book, series, created, bob, rozakis, stephen, published, dc, comics, series, ran, twelve, issues, additional, speci...</td>\n",
       "    </tr>\n",
       "  </tbody>\n",
       "</table>\n",
       "</div>"
      ],
      "text/plain": [
       "          name  \\\n",
       "0  'Mazing Man   \n",
       "\n",
       "                                                                                                                                             description  \\\n",
       "0  mazing man is the title character of a comic book series created by bob rozakis and stephen destefano and published by dc comics the series ran fo...   \n",
       "\n",
       "                                                                                                                                              main_words  \n",
       "0  [man, title, character, comic, book, series, created, bob, rozakis, stephen, published, dc, comics, series, ran, twelve, issues, additional, speci...  "
      ]
     },
     "metadata": {},
     "output_type": "display_data"
    }
   ],
   "source": [
    "#Sólo para reducir mi OCD\n",
    "comicsDf = comicsDf.reindex_axis(['name',\"description\", \"main_words\"], axis=1)\n",
    "display(comicsDf.head(1))"
   ]
  },
  {
   "cell_type": "code",
   "execution_count": 5,
   "metadata": {
    "collapsed": false
   },
   "outputs": [
    {
     "name": "stderr",
     "output_type": "stream",
     "text": [
      "/Users/rsotoc/anaconda3/lib/python3.6/site-packages/ipykernel/__main__.py:1: DeprecationWarning: generator 'ngrams' raised StopIteration\n",
      "  if __name__ == '__main__':\n"
     ]
    },
    {
     "data": {
      "text/html": [
       "<div>\n",
       "<table border=\"1\" class=\"dataframe\">\n",
       "  <thead>\n",
       "    <tr style=\"text-align: right;\">\n",
       "      <th></th>\n",
       "      <th>name</th>\n",
       "      <th>description</th>\n",
       "      <th>main_words</th>\n",
       "      <th>bigrams</th>\n",
       "    </tr>\n",
       "  </thead>\n",
       "  <tbody>\n",
       "    <tr>\n",
       "      <th>0</th>\n",
       "      <td>'Mazing Man</td>\n",
       "      <td>mazing man is the title character of a comic book series created by bob rozakis and stephen destefano and published by dc comics the series ran fo...</td>\n",
       "      <td>[man, title, character, comic, book, series, created, bob, rozakis, stephen, published, dc, comics, series, ran, twelve, issues, additional, speci...</td>\n",
       "      <td>[(mazing, man), (man, is), (is, the), (the, title), (title, character), (character, of), (of, a), (a, comic), (comic, book), (book, series), (seri...</td>\n",
       "    </tr>\n",
       "    <tr>\n",
       "      <th>1</th>\n",
       "      <td>711 (Quality Comics)</td>\n",
       "      <td>is a fictional superhero from the golden age of comics he was created by george brenner and published by quality comics first appeared in police c...</td>\n",
       "      <td>[fictional, superhero, golden, age, comics, created, george, published, quality, comics, first, appeared, police, comics, august, lasted, january,...</td>\n",
       "      <td>[(is, a), (a, fictional), (fictional, superhero), (superhero, from), (from, the), (the, golden), (golden, age), (age, of), (of, comics), (comics, ...</td>\n",
       "    </tr>\n",
       "    <tr>\n",
       "      <th>2</th>\n",
       "      <td>Abigail Brand</td>\n",
       "      <td>special agent special agent abigail brand is a fictional character appearing in american comic book s published by marvel comics publication histo...</td>\n",
       "      <td>[special, agent, special, agent, abigail, brand, fictional, character, appearing, american, comic, book, published, marvel, comics, publication, h...</td>\n",
       "      <td>[(special, agent), (agent, special), (special, agent), (agent, abigail), (abigail, brand), (brand, is), (is, a), (a, fictional), (fictional, chara...</td>\n",
       "    </tr>\n",
       "    <tr>\n",
       "      <th>3</th>\n",
       "      <td>Abin Sur</td>\n",
       "      <td>abin sur is a fictional character and a superhero from the dc comics dc universe he was a member of the green lantern corps and is best known as t...</td>\n",
       "      <td>[abin, sur, fictional, character, superhero, dc, comics, dc, universe, member, green, lantern, corps, best, known, predecessor, green, lantern, ha...</td>\n",
       "      <td>[(abin, sur), (sur, is), (is, a), (a, fictional), (fictional, character), (character, and), (and, a), (a, superhero), (superhero, from), (from, th...</td>\n",
       "    </tr>\n",
       "    <tr>\n",
       "      <th>4</th>\n",
       "      <td>Abner Jenkins</td>\n",
       "      <td>abner ronald jenkins formerly known as the beetle comics beetle mach iv mach v mach vii and currently known as mach x and is a fictional character...</td>\n",
       "      <td>[abner, ronald, jenkins, formerly, known, beetle, comics, beetle, mach, mach, mach, vii, currently, known, mach, x, fictional, character, appearin...</td>\n",
       "      <td>[(abner, ronald), (ronald, jenkins), (jenkins, formerly), (formerly, known), (known, as), (as, the), (the, beetle), (beetle, comics), (comics, bee...</td>\n",
       "    </tr>\n",
       "  </tbody>\n",
       "</table>\n",
       "</div>"
      ],
      "text/plain": [
       "                   name  \\\n",
       "0           'Mazing Man   \n",
       "1  711 (Quality Comics)   \n",
       "2         Abigail Brand   \n",
       "3              Abin Sur   \n",
       "4         Abner Jenkins   \n",
       "\n",
       "                                                                                                                                             description  \\\n",
       "0  mazing man is the title character of a comic book series created by bob rozakis and stephen destefano and published by dc comics the series ran fo...   \n",
       "1  is a fictional superhero from the golden age of comics he was created by george brenner and published by quality comics first appeared in police c...   \n",
       "2  special agent special agent abigail brand is a fictional character appearing in american comic book s published by marvel comics publication histo...   \n",
       "3  abin sur is a fictional character and a superhero from the dc comics dc universe he was a member of the green lantern corps and is best known as t...   \n",
       "4  abner ronald jenkins formerly known as the beetle comics beetle mach iv mach v mach vii and currently known as mach x and is a fictional character...   \n",
       "\n",
       "                                                                                                                                              main_words  \\\n",
       "0  [man, title, character, comic, book, series, created, bob, rozakis, stephen, published, dc, comics, series, ran, twelve, issues, additional, speci...   \n",
       "1  [fictional, superhero, golden, age, comics, created, george, published, quality, comics, first, appeared, police, comics, august, lasted, january,...   \n",
       "2  [special, agent, special, agent, abigail, brand, fictional, character, appearing, american, comic, book, published, marvel, comics, publication, h...   \n",
       "3  [abin, sur, fictional, character, superhero, dc, comics, dc, universe, member, green, lantern, corps, best, known, predecessor, green, lantern, ha...   \n",
       "4  [abner, ronald, jenkins, formerly, known, beetle, comics, beetle, mach, mach, mach, vii, currently, known, mach, x, fictional, character, appearin...   \n",
       "\n",
       "                                                                                                                                                 bigrams  \n",
       "0  [(mazing, man), (man, is), (is, the), (the, title), (title, character), (character, of), (of, a), (a, comic), (comic, book), (book, series), (seri...  \n",
       "1  [(is, a), (a, fictional), (fictional, superhero), (superhero, from), (from, the), (the, golden), (golden, age), (age, of), (of, comics), (comics, ...  \n",
       "2  [(special, agent), (agent, special), (special, agent), (agent, abigail), (abigail, brand), (brand, is), (is, a), (a, fictional), (fictional, chara...  \n",
       "3  [(abin, sur), (sur, is), (is, a), (a, fictional), (fictional, character), (character, and), (and, a), (a, superhero), (superhero, from), (from, th...  \n",
       "4  [(abner, ronald), (ronald, jenkins), (jenkins, formerly), (formerly, known), (known, as), (as, the), (the, beetle), (beetle, comics), (comics, bee...  "
      ]
     },
     "metadata": {},
     "output_type": "display_data"
    },
    {
     "name": "stdout",
     "output_type": "stream",
     "text": [
      "Cantidad de bigramas en el corpus:  3658794\n",
      "\n",
      "Bigramas más populares:\n",
      " [(('of', 'the'), 28477), (('in', 'the'), 23622), (('x', 'men'), 9076), (('to', 'the'), 8773), (('marvel', 'comics'), 8651), (('and', 'the'), 8417), (('as', 'a'), 7959), (('with', 'the'), 7353), (('dc', 'comics'), 6006), (('by', 'the'), 5953), (('he', 'is'), 5579), (('in', 'a'), 5472), (('to', 'be'), 5203), (('spider', 'man'), 5192), (('is', 'a'), 4973), (('from', 'the'), 4648), (('on', 'the'), 4431), (('as', 'the'), 4374), (('of', 'his'), 4259), (('created', 'by'), 4168), (('he', 'was'), 4066), (('at', 'the'), 3881), (('category', 'fictional'), 3822), (('the', 'new'), 3721), (('for', 'the'), 3635), (('one', 'of'), 3621), (('during', 'the'), 3605), (('that', 'he'), 3455), (('the', 'character'), 3450), (('comic', 'book'), 3373), (('justice', 'league'), 3340), (('of', 'a'), 3300), (('the', 'x'), 3262), (('she', 'is'), 3209), (('the', 'team'), 2970), (('comics', 'characters'), 2937), (('appears', 'in'), 2889), (('appeared', 'in'), 2876), (('member', 'of'), 2856), (('version', 'of'), 2625), (('with', 'a'), 2598), (('him', 'to'), 2577), (('that', 'the'), 2569), (('fictional', 'character'), 2562), (('it', 'is'), 2555), (('able', 'to'), 2495), (('green', 'lantern'), 2418), (('and', 'his'), 2404), (('the', 'first'), 2383), (('category', 'marvel'), 2335)]\n"
     ]
    }
   ],
   "source": [
    "comicsDf[\"bigrams\"] = list(map(lambda row: list(ngrams(word_tokenize(row),2)), \n",
    "                                   comicsDf.description))\n",
    "display(comicsDf.head())\n",
    "\n",
    "comics_bigrams = []\n",
    "for row in comicsDf.bigrams:\n",
    "    comics_bigrams.extend(row)\n",
    "most_common_comics_bigrams = nltk.FreqDist(comics_bigrams)\n",
    "\n",
    "print(\"Cantidad de bigramas en el corpus: \", most_common_comics_bigrams.N())\n",
    "print(\"\\nBigramas más populares:\\n\", most_common_comics_bigrams.most_common(50))"
   ]
  },
  {
   "cell_type": "markdown",
   "metadata": {},
   "source": [
    "## Colocaciones\n",
    "\n",
    "En lexicología, una colocación es un término que designa combinaciones de unidades léxicas  que se distinguen por un frecuencia que resulta inesperadamente alta. En los bigramas anteriores destacan los siguientes:\n",
    "\n",
    "<code>[... (('x', 'men'), 8457), ... (('marvel', 'comics'), 6206), ... (('spider', 'man'), 4942), ... (('dc', 'comics'), 3906), ... (('comic', 'book'), 3280), ... (('justice', 'league'), 2991), ... (('green', 'lantern'), 2288), ...]\n",
    "</code>\n",
    "\n",
    "Estos términos permiten hacer un análisis más inteligente del texto. Identificamos otras colocaciones importantes:"
   ]
  },
  {
   "cell_type": "code",
   "execution_count": 6,
   "metadata": {
    "collapsed": false
   },
   "outputs": [
    {
     "name": "stderr",
     "output_type": "stream",
     "text": [
      "/Users/rsotoc/anaconda3/lib/python3.6/site-packages/ipykernel/__main__.py:2: DeprecationWarning: generator 'ngrams' raised StopIteration\n",
      "  from ipykernel import kernelapp as app\n"
     ]
    },
    {
     "data": {
      "text/html": [
       "<div>\n",
       "<table border=\"1\" class=\"dataframe\">\n",
       "  <thead>\n",
       "    <tr style=\"text-align: right;\">\n",
       "      <th></th>\n",
       "      <th>name</th>\n",
       "      <th>description</th>\n",
       "      <th>main_words</th>\n",
       "      <th>bigrams</th>\n",
       "      <th>clean_bigrams</th>\n",
       "    </tr>\n",
       "  </thead>\n",
       "  <tbody>\n",
       "    <tr>\n",
       "      <th>0</th>\n",
       "      <td>'Mazing Man</td>\n",
       "      <td>mazing man is the title character of a comic book series created by bob rozakis and stephen destefano and published by dc comics the series ran fo...</td>\n",
       "      <td>[man, title, character, comic, book, series, created, bob, rozakis, stephen, published, dc, comics, series, ran, twelve, issues, additional, speci...</td>\n",
       "      <td>[(mazing, man), (man, is), (is, the), (the, title), (title, character), (character, of), (of, a), (a, comic), (comic, book), (book, series), (seri...</td>\n",
       "      <td>[(title, character), (comic, book), (book, series), (series, created), (bob, rozakis), (dc, comics), (series, ran), (twelve, issues), (additional,...</td>\n",
       "    </tr>\n",
       "    <tr>\n",
       "      <th>1</th>\n",
       "      <td>711 (Quality Comics)</td>\n",
       "      <td>is a fictional superhero from the golden age of comics he was created by george brenner and published by quality comics first appeared in police c...</td>\n",
       "      <td>[fictional, superhero, golden, age, comics, created, george, published, quality, comics, first, appeared, police, comics, august, lasted, january,...</td>\n",
       "      <td>[(is, a), (a, fictional), (fictional, superhero), (superhero, from), (from, the), (the, golden), (golden, age), (age, of), (of, comics), (comics, ...</td>\n",
       "      <td>[(fictional, superhero), (golden, age), (quality, comics), (comics, first), (first, appeared), (police, comics), (comics, august), (killed, fictio...</td>\n",
       "    </tr>\n",
       "    <tr>\n",
       "      <th>2</th>\n",
       "      <td>Abigail Brand</td>\n",
       "      <td>special agent special agent abigail brand is a fictional character appearing in american comic book s published by marvel comics publication histo...</td>\n",
       "      <td>[special, agent, special, agent, abigail, brand, fictional, character, appearing, american, comic, book, published, marvel, comics, publication, h...</td>\n",
       "      <td>[(special, agent), (agent, special), (special, agent), (agent, abigail), (abigail, brand), (brand, is), (is, a), (a, fictional), (fictional, chara...</td>\n",
       "      <td>[(special, agent), (agent, special), (special, agent), (agent, abigail), (abigail, brand), (fictional, character), (character, appearing), (americ...</td>\n",
       "    </tr>\n",
       "    <tr>\n",
       "      <th>3</th>\n",
       "      <td>Abin Sur</td>\n",
       "      <td>abin sur is a fictional character and a superhero from the dc comics dc universe he was a member of the green lantern corps and is best known as t...</td>\n",
       "      <td>[abin, sur, fictional, character, superhero, dc, comics, dc, universe, member, green, lantern, corps, best, known, predecessor, green, lantern, ha...</td>\n",
       "      <td>[(abin, sur), (sur, is), (is, a), (a, fictional), (fictional, character), (character, and), (and, a), (a, superhero), (superhero, from), (from, th...</td>\n",
       "      <td>[(abin, sur), (fictional, character), (dc, comics), (comics, dc), (dc, universe), (green, lantern), (lantern, corps), (best, known), (green, lante...</td>\n",
       "    </tr>\n",
       "    <tr>\n",
       "      <th>4</th>\n",
       "      <td>Abner Jenkins</td>\n",
       "      <td>abner ronald jenkins formerly known as the beetle comics beetle mach iv mach v mach vii and currently known as mach x and is a fictional character...</td>\n",
       "      <td>[abner, ronald, jenkins, formerly, known, beetle, comics, beetle, mach, mach, mach, vii, currently, known, mach, x, fictional, character, appearin...</td>\n",
       "      <td>[(abner, ronald), (ronald, jenkins), (jenkins, formerly), (formerly, known), (known, as), (as, the), (the, beetle), (beetle, comics), (comics, bee...</td>\n",
       "      <td>[(abner, ronald), (ronald, jenkins), (jenkins, formerly), (formerly, known), (beetle, comics), (comics, beetle), (beetle, mach), (mach, vii), (cur...</td>\n",
       "    </tr>\n",
       "  </tbody>\n",
       "</table>\n",
       "</div>"
      ],
      "text/plain": [
       "                   name  \\\n",
       "0           'Mazing Man   \n",
       "1  711 (Quality Comics)   \n",
       "2         Abigail Brand   \n",
       "3              Abin Sur   \n",
       "4         Abner Jenkins   \n",
       "\n",
       "                                                                                                                                             description  \\\n",
       "0  mazing man is the title character of a comic book series created by bob rozakis and stephen destefano and published by dc comics the series ran fo...   \n",
       "1  is a fictional superhero from the golden age of comics he was created by george brenner and published by quality comics first appeared in police c...   \n",
       "2  special agent special agent abigail brand is a fictional character appearing in american comic book s published by marvel comics publication histo...   \n",
       "3  abin sur is a fictional character and a superhero from the dc comics dc universe he was a member of the green lantern corps and is best known as t...   \n",
       "4  abner ronald jenkins formerly known as the beetle comics beetle mach iv mach v mach vii and currently known as mach x and is a fictional character...   \n",
       "\n",
       "                                                                                                                                              main_words  \\\n",
       "0  [man, title, character, comic, book, series, created, bob, rozakis, stephen, published, dc, comics, series, ran, twelve, issues, additional, speci...   \n",
       "1  [fictional, superhero, golden, age, comics, created, george, published, quality, comics, first, appeared, police, comics, august, lasted, january,...   \n",
       "2  [special, agent, special, agent, abigail, brand, fictional, character, appearing, american, comic, book, published, marvel, comics, publication, h...   \n",
       "3  [abin, sur, fictional, character, superhero, dc, comics, dc, universe, member, green, lantern, corps, best, known, predecessor, green, lantern, ha...   \n",
       "4  [abner, ronald, jenkins, formerly, known, beetle, comics, beetle, mach, mach, mach, vii, currently, known, mach, x, fictional, character, appearin...   \n",
       "\n",
       "                                                                                                                                                 bigrams  \\\n",
       "0  [(mazing, man), (man, is), (is, the), (the, title), (title, character), (character, of), (of, a), (a, comic), (comic, book), (book, series), (seri...   \n",
       "1  [(is, a), (a, fictional), (fictional, superhero), (superhero, from), (from, the), (the, golden), (golden, age), (age, of), (of, comics), (comics, ...   \n",
       "2  [(special, agent), (agent, special), (special, agent), (agent, abigail), (abigail, brand), (brand, is), (is, a), (a, fictional), (fictional, chara...   \n",
       "3  [(abin, sur), (sur, is), (is, a), (a, fictional), (fictional, character), (character, and), (and, a), (a, superhero), (superhero, from), (from, th...   \n",
       "4  [(abner, ronald), (ronald, jenkins), (jenkins, formerly), (formerly, known), (known, as), (as, the), (the, beetle), (beetle, comics), (comics, bee...   \n",
       "\n",
       "                                                                                                                                           clean_bigrams  \n",
       "0  [(title, character), (comic, book), (book, series), (series, created), (bob, rozakis), (dc, comics), (series, ran), (twelve, issues), (additional,...  \n",
       "1  [(fictional, superhero), (golden, age), (quality, comics), (comics, first), (first, appeared), (police, comics), (comics, august), (killed, fictio...  \n",
       "2  [(special, agent), (agent, special), (special, agent), (agent, abigail), (abigail, brand), (fictional, character), (character, appearing), (americ...  \n",
       "3  [(abin, sur), (fictional, character), (dc, comics), (comics, dc), (dc, universe), (green, lantern), (lantern, corps), (best, known), (green, lante...  \n",
       "4  [(abner, ronald), (ronald, jenkins), (jenkins, formerly), (formerly, known), (beetle, comics), (comics, beetle), (beetle, mach), (mach, vii), (cur...  "
      ]
     },
     "metadata": {},
     "output_type": "display_data"
    },
    {
     "name": "stdout",
     "output_type": "stream",
     "text": [
      "Cantidad de bigramas en el corpus:  1080272\n",
      "\n",
      "Bigramas más populares:\n",
      " [(('x', 'men'), 9076), (('marvel', 'comics'), 8656), (('dc', 'comics'), 6009), (('spider', 'man'), 5192), (('category', 'fictional'), 3822), (('comic', 'book'), 3374), (('justice', 'league'), 3340), (('comics', 'characters'), 2944), (('fictional', 'character'), 2562), (('green', 'lantern'), 2419), (('category', 'marvel'), 2335), (('category', 'comics'), 2223), (('characters', 'created'), 2146), (('category', 'characters'), 2137), (('captain', 'america'), 2064), (('category', 'dc'), 1810), (('characters', 'introduced'), 1793), (('superheroes', 'category'), 1749), (('comics', 'superheroes'), 1649), (('tv', 'series'), 1566), (('character', 'biography'), 1537), (('iron', 'man'), 1522), (('first', 'appeared'), 1474), (('fantastic', 'four'), 1425), (('teen', 'titans'), 1400), (('uncanny', 'x'), 1387), (('external', 'links'), 1377), (('wonder', 'woman'), 1300), (('super', 'heroes'), 1160), (('new', 'york'), 1097), (('publication', 'history'), 1045), (('captain', 'marvel'), 1016), (('marvel', 'universe'), 1004), (('civil', 'war'), 963), (('new', 'mutants'), 908), (('superhuman', 'strength'), 903), (('x', 'factor'), 889), (('x', 'force'), 869), (('fictional', 'characters'), 856), (('dc', 'universe'), 847), (('lantern', 'corps'), 839), (('golden', 'age'), 824), (('playable', 'character'), 792), (('american', 'comic'), 784), (('justice', 'society'), 781), (('ghost', 'rider'), 780), (('united', 'states'), 762), (('amazing', 'spider'), 758), (('world', 'war'), 712), (('green', 'arrow'), 712)]\n"
     ]
    }
   ],
   "source": [
    "comicsDf[\"clean_bigrams\"] = list(map(lambda words, bigrams: \n",
    "                                        [b for b in list(ngrams(words, 2))\n",
    "                                        if b in bigrams], \n",
    "                                        comicsDf.main_words, comicsDf.bigrams))\n",
    "display(comicsDf.head())\n",
    "\n",
    "clean_bigrams = []\n",
    "for row in comicsDf.clean_bigrams:\n",
    "    clean_bigrams.extend(row)\n",
    "common_clean_bigrams = nltk.FreqDist(clean_bigrams)\n",
    "\n",
    "print(\"Cantidad de bigramas en el corpus: \", common_clean_bigrams.N())\n",
    "print(\"\\nBigramas más populares:\\n\", common_clean_bigrams.most_common(50))"
   ]
  },
  {
   "cell_type": "markdown",
   "metadata": {},
   "source": [
    "En estos resultados observamos que todos los bigramas presentados tienen significado útil y algunos como <code>'x', 'men'</code>, <code>'spider', 'man'</code> y muchos otros, pierden sentido si se les separa. En estos casos, puede ser conveniente reemplazar el bigrama por un token: <code>'x_men'</code>, <code>'spider_man'</code>, etc. A continuación, generamos las colocaciones para todos los documentos (*all_collocations*) y analizamos sus estadísticas en el corpus."
   ]
  },
  {
   "cell_type": "code",
   "execution_count": 7,
   "metadata": {
    "collapsed": false
   },
   "outputs": [
    {
     "data": {
      "text/html": [
       "<div>\n",
       "<table border=\"1\" class=\"dataframe\">\n",
       "  <thead>\n",
       "    <tr style=\"text-align: right;\">\n",
       "      <th></th>\n",
       "      <th>name</th>\n",
       "      <th>description</th>\n",
       "      <th>main_words</th>\n",
       "      <th>bigrams</th>\n",
       "      <th>clean_bigrams</th>\n",
       "      <th>all_collocations</th>\n",
       "    </tr>\n",
       "  </thead>\n",
       "  <tbody>\n",
       "    <tr>\n",
       "      <th>0</th>\n",
       "      <td>'Mazing Man</td>\n",
       "      <td>mazing man is the title character of a comic book series created by bob rozakis and stephen destefano and published by dc comics the series ran fo...</td>\n",
       "      <td>[man, title, character, comic, book, series, created, bob, rozakis, stephen, published, dc, comics, series, ran, twelve, issues, additional, speci...</td>\n",
       "      <td>[(mazing, man), (man, is), (is, the), (the, title), (title, character), (character, of), (of, a), (a, comic), (comic, book), (book, series), (seri...</td>\n",
       "      <td>[(title, character), (comic, book), (book, series), (series, created), (bob, rozakis), (dc, comics), (series, ran), (twelve, issues), (additional,...</td>\n",
       "      <td>[title character, comic book, book series, series created, bob rozakis, dc comics, series ran, twelve issues, additional special, special issues, ...</td>\n",
       "    </tr>\n",
       "    <tr>\n",
       "      <th>1</th>\n",
       "      <td>711 (Quality Comics)</td>\n",
       "      <td>is a fictional superhero from the golden age of comics he was created by george brenner and published by quality comics first appeared in police c...</td>\n",
       "      <td>[fictional, superhero, golden, age, comics, created, george, published, quality, comics, first, appeared, police, comics, august, lasted, january,...</td>\n",
       "      <td>[(is, a), (a, fictional), (fictional, superhero), (superhero, from), (from, the), (the, golden), (golden, age), (age, of), (of, comics), (comics, ...</td>\n",
       "      <td>[(fictional, superhero), (golden, age), (quality, comics), (comics, first), (first, appeared), (police, comics), (comics, august), (killed, fictio...</td>\n",
       "      <td>[fictional superhero, golden age, quality comics, comics first, first appeared, police comics, comics august, killed fictional, fictional characte...</td>\n",
       "    </tr>\n",
       "    <tr>\n",
       "      <th>2</th>\n",
       "      <td>Abigail Brand</td>\n",
       "      <td>special agent special agent abigail brand is a fictional character appearing in american comic book s published by marvel comics publication histo...</td>\n",
       "      <td>[special, agent, special, agent, abigail, brand, fictional, character, appearing, american, comic, book, published, marvel, comics, publication, h...</td>\n",
       "      <td>[(special, agent), (agent, special), (special, agent), (agent, abigail), (abigail, brand), (brand, is), (is, a), (a, fictional), (fictional, chara...</td>\n",
       "      <td>[(special, agent), (agent, special), (special, agent), (agent, abigail), (abigail, brand), (fictional, character), (character, appearing), (americ...</td>\n",
       "      <td>[special agent, agent special, special agent, agent abigail, abigail brand, fictional character, character appearing, american comic, comic book, ...</td>\n",
       "    </tr>\n",
       "    <tr>\n",
       "      <th>3</th>\n",
       "      <td>Abin Sur</td>\n",
       "      <td>abin sur is a fictional character and a superhero from the dc comics dc universe he was a member of the green lantern corps and is best known as t...</td>\n",
       "      <td>[abin, sur, fictional, character, superhero, dc, comics, dc, universe, member, green, lantern, corps, best, known, predecessor, green, lantern, ha...</td>\n",
       "      <td>[(abin, sur), (sur, is), (is, a), (a, fictional), (fictional, character), (character, and), (and, a), (a, superhero), (superhero, from), (from, th...</td>\n",
       "      <td>[(abin, sur), (fictional, character), (dc, comics), (comics, dc), (dc, universe), (green, lantern), (lantern, corps), (best, known), (green, lante...</td>\n",
       "      <td>[abin sur, fictional character, dc comics, comics dc, dc universe, green lantern, lantern corps, best known, green lantern, lantern hal, hal jorda...</td>\n",
       "    </tr>\n",
       "    <tr>\n",
       "      <th>4</th>\n",
       "      <td>Abner Jenkins</td>\n",
       "      <td>abner ronald jenkins formerly known as the beetle comics beetle mach iv mach v mach vii and currently known as mach x and is a fictional character...</td>\n",
       "      <td>[abner, ronald, jenkins, formerly, known, beetle, comics, beetle, mach, mach, mach, vii, currently, known, mach, x, fictional, character, appearin...</td>\n",
       "      <td>[(abner, ronald), (ronald, jenkins), (jenkins, formerly), (formerly, known), (known, as), (as, the), (the, beetle), (beetle, comics), (comics, bee...</td>\n",
       "      <td>[(abner, ronald), (ronald, jenkins), (jenkins, formerly), (formerly, known), (beetle, comics), (comics, beetle), (beetle, mach), (mach, vii), (cur...</td>\n",
       "      <td>[abner ronald, ronald jenkins, jenkins formerly, formerly known, beetle comics, comics beetle, beetle mach, mach vii, currently known, mach x, fic...</td>\n",
       "    </tr>\n",
       "  </tbody>\n",
       "</table>\n",
       "</div>"
      ],
      "text/plain": [
       "                   name  \\\n",
       "0           'Mazing Man   \n",
       "1  711 (Quality Comics)   \n",
       "2         Abigail Brand   \n",
       "3              Abin Sur   \n",
       "4         Abner Jenkins   \n",
       "\n",
       "                                                                                                                                             description  \\\n",
       "0  mazing man is the title character of a comic book series created by bob rozakis and stephen destefano and published by dc comics the series ran fo...   \n",
       "1  is a fictional superhero from the golden age of comics he was created by george brenner and published by quality comics first appeared in police c...   \n",
       "2  special agent special agent abigail brand is a fictional character appearing in american comic book s published by marvel comics publication histo...   \n",
       "3  abin sur is a fictional character and a superhero from the dc comics dc universe he was a member of the green lantern corps and is best known as t...   \n",
       "4  abner ronald jenkins formerly known as the beetle comics beetle mach iv mach v mach vii and currently known as mach x and is a fictional character...   \n",
       "\n",
       "                                                                                                                                              main_words  \\\n",
       "0  [man, title, character, comic, book, series, created, bob, rozakis, stephen, published, dc, comics, series, ran, twelve, issues, additional, speci...   \n",
       "1  [fictional, superhero, golden, age, comics, created, george, published, quality, comics, first, appeared, police, comics, august, lasted, january,...   \n",
       "2  [special, agent, special, agent, abigail, brand, fictional, character, appearing, american, comic, book, published, marvel, comics, publication, h...   \n",
       "3  [abin, sur, fictional, character, superhero, dc, comics, dc, universe, member, green, lantern, corps, best, known, predecessor, green, lantern, ha...   \n",
       "4  [abner, ronald, jenkins, formerly, known, beetle, comics, beetle, mach, mach, mach, vii, currently, known, mach, x, fictional, character, appearin...   \n",
       "\n",
       "                                                                                                                                                 bigrams  \\\n",
       "0  [(mazing, man), (man, is), (is, the), (the, title), (title, character), (character, of), (of, a), (a, comic), (comic, book), (book, series), (seri...   \n",
       "1  [(is, a), (a, fictional), (fictional, superhero), (superhero, from), (from, the), (the, golden), (golden, age), (age, of), (of, comics), (comics, ...   \n",
       "2  [(special, agent), (agent, special), (special, agent), (agent, abigail), (abigail, brand), (brand, is), (is, a), (a, fictional), (fictional, chara...   \n",
       "3  [(abin, sur), (sur, is), (is, a), (a, fictional), (fictional, character), (character, and), (and, a), (a, superhero), (superhero, from), (from, th...   \n",
       "4  [(abner, ronald), (ronald, jenkins), (jenkins, formerly), (formerly, known), (known, as), (as, the), (the, beetle), (beetle, comics), (comics, bee...   \n",
       "\n",
       "                                                                                                                                           clean_bigrams  \\\n",
       "0  [(title, character), (comic, book), (book, series), (series, created), (bob, rozakis), (dc, comics), (series, ran), (twelve, issues), (additional,...   \n",
       "1  [(fictional, superhero), (golden, age), (quality, comics), (comics, first), (first, appeared), (police, comics), (comics, august), (killed, fictio...   \n",
       "2  [(special, agent), (agent, special), (special, agent), (agent, abigail), (abigail, brand), (fictional, character), (character, appearing), (americ...   \n",
       "3  [(abin, sur), (fictional, character), (dc, comics), (comics, dc), (dc, universe), (green, lantern), (lantern, corps), (best, known), (green, lante...   \n",
       "4  [(abner, ronald), (ronald, jenkins), (jenkins, formerly), (formerly, known), (beetle, comics), (comics, beetle), (beetle, mach), (mach, vii), (cur...   \n",
       "\n",
       "                                                                                                                                        all_collocations  \n",
       "0  [title character, comic book, book series, series created, bob rozakis, dc comics, series ran, twelve issues, additional special, special issues, ...  \n",
       "1  [fictional superhero, golden age, quality comics, comics first, first appeared, police comics, comics august, killed fictional, fictional characte...  \n",
       "2  [special agent, agent special, special agent, agent abigail, abigail brand, fictional character, character appearing, american comic, comic book, ...  \n",
       "3  [abin sur, fictional character, dc comics, comics dc, dc universe, green lantern, lantern corps, best known, green lantern, lantern hal, hal jorda...  \n",
       "4  [abner ronald, ronald jenkins, jenkins formerly, formerly known, beetle comics, comics beetle, beetle mach, mach vii, currently known, mach x, fic...  "
      ]
     },
     "metadata": {},
     "output_type": "display_data"
    },
    {
     "name": "stdout",
     "output_type": "stream",
     "text": [
      "Cantidad de bigramas en el corpus:  1080272\n",
      "\n",
      "Bigramas más populares:\n",
      " [('x men', 9076), ('marvel comics', 8656), ('dc comics', 6009), ('spider man', 5192), ('category fictional', 3822), ('comic book', 3374), ('justice league', 3340), ('comics characters', 2944), ('fictional character', 2562), ('green lantern', 2419), ('category marvel', 2335), ('category comics', 2223), ('characters created', 2146), ('category characters', 2137), ('captain america', 2064), ('category dc', 1810), ('characters introduced', 1793), ('superheroes category', 1749), ('comics superheroes', 1649), ('tv series', 1566), ('character biography', 1537), ('iron man', 1522), ('first appeared', 1474), ('fantastic four', 1425), ('teen titans', 1400), ('uncanny x', 1387), ('external links', 1377), ('wonder woman', 1300), ('super heroes', 1160), ('new york', 1097), ('publication history', 1045), ('captain marvel', 1016), ('marvel universe', 1004), ('civil war', 963), ('new mutants', 908), ('superhuman strength', 903), ('x factor', 889), ('x force', 869), ('fictional characters', 856), ('dc universe', 847), ('lantern corps', 839), ('golden age', 824), ('playable character', 792), ('american comic', 784), ('justice society', 781), ('ghost rider', 780), ('united states', 762), ('amazing spider', 758), ('world war', 712), ('green arrow', 712)]\n"
     ]
    }
   ],
   "source": [
    "comicsDf[\"all_collocations\"] = list(map(lambda doc, bigrams: \n",
    "                            [b[0]+\" \"+b[1] for b in bigrams if b[0]+\" \"+b[1] in doc], \n",
    "                            comicsDf.description, comicsDf.clean_bigrams))\n",
    "display(comicsDf.head())\n",
    "\n",
    "clean_collocations = []\n",
    "for row in comicsDf.all_collocations:\n",
    "    clean_collocations.extend(row)\n",
    "common_clean_collocations = nltk.FreqDist(clean_collocations)\n",
    "\n",
    "print(\"Cantidad de bigramas en el corpus: \", common_clean_collocations.N())\n",
    "print(\"\\nBigramas más populares:\\n\", common_clean_collocations.most_common(50))"
   ]
  },
  {
   "cell_type": "code",
   "execution_count": 8,
   "metadata": {
    "collapsed": false
   },
   "outputs": [
    {
     "name": "stdout",
     "output_type": "stream",
     "text": [
      "425664 colocaciones\n",
      " [('x men', 9076), ('marvel comics', 8656), ('dc comics', 6009), ('spider man', 5192), ('category fictional', 3822), ('comic book', 3374), ('justice league', 3340), ('comics characters', 2944), ('fictional character', 2562), ('green lantern', 2419), ('category marvel', 2335), ('category comics', 2223), ('characters created', 2146), ('category characters', 2137), ('captain america', 2064), ('category dc', 1810), ('characters introduced', 1793), ('superheroes category', 1749), ('comics superheroes', 1649), ('tv series', 1566)] \n",
      "...\n",
      " [('exiles marvel', 83), ('alternate versions', 83), ('comics hercules', 83), ('marvel cinematic', 83), ('smallville season', 83), ('tiger shark', 83), ('diana prince', 83), ('idea mechanics', 82), ('writer artist', 82), ('history created', 82), ('comics exiles', 82), ('comics fear', 82), ('paperback comics', 82), ('life force', 82), ('mind controlled', 82), ('fun comics', 82), ('comics iceman', 82), ('film justice', 81), ('beyond gotham', 81), ('shapeshifters category', 81)] \n",
      "...\n",
      " [('continent zor', 1), ('new volcano', 1), ('rising core', 1), ('core pressure', 1), ('brainiac jor', 1), ('convince general', 1), ('zod commissioner', 1), ('commissioner zod', 1), ('rao beam', 1), ('vocal opponents', 1), ('dictator knowing', 1), ('zod plans', 1), ('krypton though', 1), ('though anderson', 1), ('reveal whether', 1), ('whether zor', 1), ('successful external', 1), ('links zor', 1), ('supermanica smallville', 1), ('el profile', 1)]\n"
     ]
    }
   ],
   "source": [
    "#colocaciones únicas\n",
    "nc = len(common_clean_collocations.most_common())\n",
    "print(nc, \"colocaciones\\n\", \n",
    "      common_clean_collocations.most_common(20),\n",
    "      \"\\n...\\n\",\n",
    "      list(common_clean_collocations.most_common())[int(nc/500):int(nc/500)+20],\n",
    "      \"\\n...\\n\",\n",
    "      list(common_clean_collocations.most_common())[nc-20:])"
   ]
  },
  {
   "cell_type": "markdown",
   "metadata": {},
   "source": [
    "A partir de este listado, con las 20 colocaciones más frecuentes, las 20 colocaciones menos frecuentes y 20 colocaciones con frecuencia media, observamos que no todas pueden tomarse como tokens, e incluso, la mayoría no tienen sentido como unidades. Construimos entonces las colocaciones tomando en cuenta el diccionario preliminar, reflejado en la columna <code>main_words</code> y mantenemos el nombre del personaje. Construimos una nueva columna con la descripción reescrita utilizando las colocaciones."
   ]
  },
  {
   "cell_type": "code",
   "execution_count": null,
   "metadata": {
    "collapsed": false
   },
   "outputs": [],
   "source": [
    "import math\n",
    "\n",
    "comics_all_collocations = list(common_clean_collocations.keys())\n",
    "dict_all_collocations = dict(zip(comics_all_collocations, [0]*nc))\n",
    "for w in comics_all_collocations:\n",
    "    for d in comicsDf.description:\n",
    "        if(w in d):\n",
    "            dict_all_collocations[w] += 1\n",
    "\n",
    "top_collocations = []\n",
    "numDocs_comics = len(comicsDf)\n",
    "for d in comicsDf.description:\n",
    "    N = len(d.split()) - 1 #El número de bigramas es el número de palabras - 1\n",
    "    for w in reversed(comics_all_collocations): #En reversa para evitar problemas con los índices\n",
    "        if(w in d):\n",
    "            tfidf = d.count(w) / N * math.log(numDocs_comics/dict_all_collocations[w], 2)\n",
    "            if(tfidf > 0.01):\n",
    "                top_collocations.append(w)\n",
    "                comics_all_collocations.remove(w)"
   ]
  },
  {
   "cell_type": "code",
   "execution_count": null,
   "metadata": {
    "collapsed": true
   },
   "outputs": [],
   "source": [
    "import re\n",
    "\n",
    "collocations_tokens = [b for b in common_clean_collocations.most_common() \n",
    "                      if b[0] in top_collocations]\n",
    "comicsDf = comicsDf.reindex(columns = [\"name\", \"description\", \"main_words\", \"bigrams\", \n",
    "                                        \"clean_bigrams\", \"all_collocations\", \"new_description\"])\n",
    "\n",
    "for i, row in zip(range(len(comicsDf)), comicsDf.main_words):\n",
    "    n = \"_\".join(comicsDf.loc[i, \"name\"].split()) + \" \"\n",
    "    s = \" \".join(row)\n",
    "    for w in collocations_tokens:\n",
    "        s = re.sub(\" \" + w[0], \" \" + \"_\".join(w[0].split()), s)\n",
    "    comicsDf.loc[i, \"new_description\"] = n.lower() + s\n",
    "display(comicsDf.head())"
   ]
  },
  {
   "cell_type": "markdown",
   "metadata": {},
   "source": [
    "A continuación, analizamos nuevamente el universo de palabras usadas en el corpus:"
   ]
  },
  {
   "cell_type": "code",
   "execution_count": null,
   "metadata": {
    "collapsed": true
   },
   "outputs": [],
   "source": [
    "new_main_words = []\n",
    "for row in comicsDf.new_description:\n",
    "    new_main_words.extend(row.split())\n",
    "common_new_main_words = nltk.FreqDist(new_main_words)\n",
    "\n",
    "print(\"Cantidad de tokens en el corpus: \", len(common_new_main_words.most_common()))\n",
    "\n",
    "lexicon_comics = [w[0] for w in common_new_main_words.most_common(6000)]\n",
    "print(\"\\nTokens más populares:\\n{}\\n...\\n{}\"\n",
    "      .format(lexicon_comics[:50], lexicon_comics[5950:6000]))\n",
    "\n",
    "import matplotlib.pyplot as plt\n",
    "plt.rcParams.update({'font.size': 14})\n",
    "plt.figure(figsize=(15, 5))\n",
    "common_new_main_words.plot(50, cumulative=False)\n",
    "plt.figure(figsize=(15, 5))\n",
    "common_new_main_words.plot(50, cumulative=True)"
   ]
  },
  {
   "cell_type": "markdown",
   "metadata": {},
   "source": [
    "De aquí se observa una simplificación del lenguaje. A partir de este punto, podemos volver a realizar el análisis para reducir el tamaño del conjunto de tokens utilizados. \n",
    "\n",
    "A partir de un procedimiento como el señalado, es posible automatizar la creación de un lexicón, aunque los últimos pasos tienen que hacerse con la intervención de un experto. "
   ]
  },
  {
   "cell_type": "markdown",
   "metadata": {},
   "source": [
    "## Conclusiones\n",
    "\n",
    "El uso de $N$-Gramas y *colocaciones* permite anticipar el uso de palabras y aumentar la precisión del análisis léxico. Es de destacarse que esta aproximación agrega a la etapa del análisis léxico, elementos del análisis sintáctico e incluso del análisis semántico, al establecer un contexto a la ocurrencia de las palabras e incluso darle sentido a las palabras cuando vienen acompañadas por otras palabras (que definen el contexto).\n",
    "\n",
    "<hr style=\"border-width: 3px;\">\n",
    "\n",
    "### Tarea 4\n",
    "\n",
    "Realice las operaciones presentadas en esta lección para mejorar la construcción de su lexicón.\n",
    "\n",
    "**Fecha de entrega**: Viernes 20 de enero."
   ]
  },
  {
   "cell_type": "code",
   "execution_count": null,
   "metadata": {
    "collapsed": true
   },
   "outputs": [],
   "source": []
  }
 ],
 "metadata": {
  "celltoolbar": "Raw Cell Format",
  "kernelspec": {
   "display_name": "Python 3",
   "language": "python",
   "name": "python3"
  },
  "language_info": {
   "codemirror_mode": {
    "name": "ipython",
    "version": 3
   },
   "file_extension": ".py",
   "mimetype": "text/x-python",
   "name": "python",
   "nbconvert_exporter": "python",
   "pygments_lexer": "ipython3",
   "version": "3.6.0"
  }
 },
 "nbformat": 4,
 "nbformat_minor": 0
}
