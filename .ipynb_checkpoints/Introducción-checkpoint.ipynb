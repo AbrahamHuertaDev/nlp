{
 "cells": [
  {
   "cell_type": "markdown",
   "metadata": {},
   "source": [
    "![agents](images/header.jpg)\n",
    "# Introducción\n",
    "### Ramón Soto C. [(rsotoc@moviquest.com)](mailto:rsotoc@moviquest.com/)\n",
    "[ver en nbviewer](http://nbviewer.ipython.org/github/rsotoc/nlp/blob/master/Intro%201.%20Bases%20cognitivas.ipynb)"
   ]
  },
  {
   "cell_type": "markdown",
   "metadata": {},
   "source": [
    "![ ](images/blank.png)\n",
    "## Definición\n",
    "\n",
    "El **procesamiento de lenguaje natural** puede definirse, de una forma muy general, como el proceso automático o semiautomático de lengua humana. En este procesamiento se suele incluir lo mismo las acciones de generación automática de lenguaje (escrito o hablado) que las acciones de interpretación (tanto de habla como de lenguaje escrito). \n",
    "\n",
    "La posibilidad de poder comunicarse mediante lenguaje hablado con las máquinas ha sido une pretensión que ha alcanzado el nivel de *cliché* en películas de ciencia ficción, pero que aún se encuentra en niveles muy elementales en la vida real.\n",
    "\n",
    "![](images/nlp_cine.jpg)[Siri Meets Eliza](http://jordanmechner.com/blog/2011/10/siri/)\n",
    "![ ](images/blank.png)\n",
    "\n",
    "\n",
    "\n",
    "Los primeros trabajos en procesamiento de lenguaje natural se realizaron a finales de los años 40's, enfocados principalmente a la traducción entre lenguajes, singularmente la [traducción entre ruso e inglés](http://www.hutchinsweb.me.uk/GU-IBM-2005.pdf) &#91;Nota: a fin de preservar algunos documentos actualmente disponibles de manera pública, como es este caso, la carpeta [public literature](https://github.com/rsotoc/nlp/public literature) contiene copias de tales documentos]. Sin embargo, el desarrollo de esta área de investigación ha sufrido cambios frecuentes de dirección debido a las dificutades encontradas en el camino, que en muchos casos obliga a poner atención a la solución de sub-problemas y al surgimiento de nuevas áreas de interés. De esta maneraa, incluso dar una definición precisa del área es una tarea difícil. \n",
    "\n",
    "Existen tres términos principales que se han empleado como sinónimo, algunas veces, como subáreas en otras ocasiones o como áreas independientes con intereses que se traslapan: [**Procesamiento de lenguaje natural**](https://en.wikipedia.org/wiki/Natural_language_processing), [**Lingüística computacional**](https://en.wikipedia.org/wiki/Computational_linguistics) y [**Tecnología del lenguaje**](https://en.wikipedia.org/wiki/Language_technology). Otros términos describen áreas/subáreas más especializadas, pero que también suelen presentarse como áreas independientes, como es el caso del [**Reconocimiento del habla**](https://en.wikipedia.org/wiki/Speech_recognition) o la [**Síntesis de habla**](https://en.wikipedia.org/wiki/Speech_synthesis). \n",
    "\n",
    "Podemos definir, paranuestros intereses, **Procesamiento de lenguaje natural** como el área de investigación y desarrollo enfocada en el análisis de información representada mediante lenguajes humanos (naturales). De esta manera, el procesamiento de lenguaje natural queda enmarcado en un contexto disciplinar que puede representarse, *a grosso modo* mediante el siguiente diagrama:\n",
    "\n",
    "![](images/nlp01.png)"
   ]
  },
  {
   "cell_type": "markdown",
   "metadata": {},
   "source": []
  },
  {
   "cell_type": "markdown",
   "metadata": {},
   "source": [
    "<hr style=\"border-width: 3px;\">\n",
    "\n",
    "### Tarea 1\n",
    "\n",
    "Describa un problema de reconocimiento de patrones de su interés y explique por qué un modelo tradicional sería inapropiado para resolverlo (utilice la celda siguiente, en esta libreta, para presentar su problema seleccionado).\n",
    "\n",
    "**Fecha de entrega**: Viernes 20 de enero."
   ]
  }
 ],
 "metadata": {
  "celltoolbar": "Raw Cell Format",
  "kernelspec": {
   "display_name": "Python 3",
   "language": "python",
   "name": "python3"
  },
  "language_info": {
   "codemirror_mode": {
    "name": "ipython",
    "version": 3
   },
   "file_extension": ".py",
   "mimetype": "text/x-python",
   "name": "python",
   "nbconvert_exporter": "python",
   "pygments_lexer": "ipython3",
   "version": "3.6.0"
  }
 },
 "nbformat": 4,
 "nbformat_minor": 0
}
