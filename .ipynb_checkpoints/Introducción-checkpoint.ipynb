{
 "cells": [
  {
   "cell_type": "markdown",
   "metadata": {},
   "source": [
    "![agents](images/header.jpg)\n",
    "# Introducción\n",
    "### Ramón Soto C. [(rsotoc@moviquest.com)](mailto:rsotoc@moviquest.com/)\n",
    "[ver en nbviewer](http://nbviewer.ipython.org/github/rsotoc/nlp/blob/master/Introducción.ipynb)"
   ]
  },
  {
   "cell_type": "markdown",
   "metadata": {},
   "source": [
    "![ ](images/blank.png)\n",
    "## Definición\n",
    "\n",
    "El **procesamiento de lenguaje natural** puede definirse, de una forma muy general, como el proceso automático o semiautomático de lengua humana. En este procesamiento se suele incluir lo mismo las acciones de generación automática de lenguaje (escrito o hablado) que las acciones de interpretación (tanto de habla como de lenguaje escrito). \n",
    "\n",
    "La posibilidad de poder comunicarse mediante lenguaje hablado con las máquinas ha sido une pretensión que ha alcanzado el nivel de *cliché* en películas de ciencia ficción, pero que aún se encuentra en niveles muy elementales en la vida real.\n",
    "\n",
    "![](images/nlp_cine.jpg)[Siri Meets Eliza](http://jordanmechner.com/blog/2011/10/siri/)\n",
    "![ ](images/blank.png)\n",
    "\n",
    "Los primeros trabajos en procesamiento de lenguaje natural se realizaron a finales de los años 40's, enfocados principalmente a la traducción entre lenguajes, singularmente la [traducción entre ruso e inglés](http://www.hutchinsweb.me.uk/GU-IBM-2005.pdf) &#91;Nota: a fin de preservar algunos documentos actualmente disponibles de manera pública, como es este caso, la carpeta [public literature](https://github.com/rsotoc/nlp/public literature) contiene copias de tales documentos]. Sin embargo, el desarrollo de esta área de investigación ha sufrido cambios frecuentes de dirección debido a las dificutades encontradas en el camino, que en muchos casos obliga a poner atención a la solución de sub-problemas y al surgimiento de nuevas áreas de interés. De esta maneraa, incluso dar una definición precisa del área es una tarea difícil. \n",
    "\n",
    "Existen tres términos principales que se han empleado como sinónimo, algunas veces, como subáreas en otras ocasiones o como áreas independientes con intereses que se traslapan: [**Procesamiento de lenguaje natural**](https://en.wikipedia.org/wiki/Natural_language_processing), [**Lingüística computacional**](https://en.wikipedia.org/wiki/Computational_linguistics) y [**Tecnología del lenguaje**](https://en.wikipedia.org/wiki/Language_technology). Otros términos describen áreas/subáreas más especializadas, pero que también suelen presentarse como áreas independientes, como es el caso del [**Reconocimiento del habla**](https://en.wikipedia.org/wiki/Speech_recognition) o la [**Síntesis de habla**](https://en.wikipedia.org/wiki/Speech_synthesis). \n",
    "\n",
    "Podemos definir, para nuestros intereses, **Procesamiento de lenguaje natural** (*NLP* por las siglas en inglés) como el área de investigación y desarrollo enfocada en el análisis de información representada mediante lenguajes humanos (naturales). El contexto disciplinar en se enmarca el procesamiento de lenguaje natural puede representarse, *grosso modo*, mediante el siguiente diagrama:<br><br>\n",
    "\n",
    "![](images/nlp01.png)<br>\n",
    "\n",
    "De esta manera, el procesamiento de lenguaje natural forma parte del flujo de trabajo de un sistema de \"lengua artificial\" en el que previamente se han atacado otros problemas bien definidos cuyo objetivo es procesar una señal de audio y generar una transcripción en forma de texto. Este texto es la entrada del \"módulo\" de procesamiento de lenguaje natural. La salida de los métodos de NLP pueden, así mismo, utilizarse como entrada de un módulo de síntesis de habla. Sin embargo, los métodos de NLP suelen utilizar otras fuentes de entrada, siempre y cuando se encuentren en forma de texto digital. Actualmente se destacan los mensajes publicados en redes sociales, así como las publicaciones en diversas publicaciones (*blogs*, foros, diarios electrónicos, etc.). Así mismo, la salida suele ir a diversos destinos, principalmente a sistemas de información y de apoyo a la toma de decisiones.\n",
    "\n",
    "Por otra parte, el procesamiento de lenguaje natural utiliza modelos teóricos proporcionados por la lingüística computacional, así cómo técnicas de procesamiento provenientes de áreas como la Inteligencia Artificial, el Reconocimiento de Patrones, el Aprendizaje Automático, la Estadística, la Minería de Datos, etc.\n",
    "\n",
    "## Étapas del procesamiento de lenguaje natural\n",
    "\n",
    "Los lenguajes se suelen analizar como compuestos de cuatro elementos principales:\n",
    "\n",
    "* La [*fonología*](https://es.wikipedia.org/wiki/Fonología). Este componente describe el modo en que se emplean los sonidos en la lengua y cómo las variaciones de éstos se reflejan en el significado de una palabra. El análisis fonológico suele quedar fuera del ámbito del procesamiento de lenguaje natural, para recaer en la fase de reconocimiento del habla.\n",
    "\n",
    "* La [*semántica*](https://es.wikipedia.org/wiki/Semántica) suele colocarse como una segunda etapa en el análisis de las lenguas (a diferencia del procesamiento de lenguaje natural, donde esta etapa se encuentra en etapas superiores de análisis). Esta etapa se refiere al análisis del significado de los signos lingüístico. \n",
    "\n",
    "* La [*gramática*](https://es.wikipedia.org/wiki/Gramática). Este componente involucra dos partes: [*sintaxis*](https://es.wikipedia.org/wiki/Sintaxis) y [*morfología*](https://es.wikipedia.org/wiki/Morfología_lingüística). La sintáxis estudia las reglas y principios bajo los cuales se combinan los constituyentes sintácticos, mientras que la morfología explica la estructura interna de las palabras y el proceso de formación de palabras. Al  conjunto de palabras que conforman una determinada lengua natural se le denomina léxico, por lo que, en el contexto computacional, el análisis morfológico equivale al análisis léxico.\n",
    "\n",
    "* La [*pragmática*](https://es.wikipedia.org/wiki/Pragmática). Este componente estudia el modo en que se concreta el significado de un mensaje, en términos del contexto extralingüístico (estrato sociocultural, conocimiento compartido por los hablantes, relaciones interpersonales, etc.).\n",
    "\n",
    "El proceso de análisis de lenguaje natural suele descomponerse en una serie de etapas, siguiendo el esquema teórico de la lingüística descrito anteriormente, según como se meustra en el siguiente esquema. Así, se asume que el proceso de análisis de un mensaje inicia con la recepción de un texto *original*; este texto es \"*tokenizado*\" (\"tokenizar\" es un barbarismo utilizado para designar la segmentación de un texto en sus componentes individuales: palabras y diversos símbolos; no está aceptada por la [RAE](http://dle.rae.es) y tampoco ninguna de sus variantes -token, tokenizado, etc.- sin embargo, a falta de un término adecuado en español, es utilizado ampliamente en el ámbito computacional). A continuación se realizan los pasos de análisis léxico (identificación de palabras y símbolos), sintáctico (análisis de frases), semántico (significado de las frases) y pragmático (significado del texto). Esta última etapa se relaciona estrechamente con el área de minería de opiniones. <br><br>\n",
    "\n",
    "\n",
    "![](images/nlp02.png)<br>\n",
    "\n",
    "\n",
    "Esta segmentación del procesamiento de lenguaje natural suele no ser estricto en la práctica, puesto que la separación entre las etapas no es clara, así, por ejemplo, la tokenización puede requerir de un análsisi pragmático previo. Sin embargo, esta categorización si permite prestar atención a clases de tareas. "
   ]
  },
  {
   "cell_type": "markdown",
   "metadata": {},
   "source": [
    "## Áreas de aplicación\n",
    "\n",
    "El interés por el procesamiento de lenguaje natural ha experimentado un creciente interés en los últimos años, gracias especialmente al desarrollo de la Web 2.0. Entre las principales áreas de aplicación se encuentran las siguientes:\n",
    "\n",
    "* **Traducción automática**. Esta fue una de las primeras aplicaciones sugeridas para las computadoras digitales, después del éxito obtenido durante la segunda guerra mundial traduciendo mensajes escritos en alemán y cifrados mediante el código Enigma. Sin embargo, rápidamente se reconoció que traducir un mensaje \"abierto\" es considerablemente más difícil que traducir un mensaje sobre un tema específico (la guerra, por ejemplo), escrito por personas con un contexto uniforme (analistas de guerra/soldados, por ejemplo) y delimitado por un sistema de cifrado artificial (Enigma). Actualmente, aunque aún se obtienen resultados pobres con los principales traductores automáticos, el área ya está bastante madura.\n",
    "\n",
    "![](images/mach_trans.jpg)\n",
    "\n"
   ]
  },
  {
   "cell_type": "markdown",
   "metadata": {},
   "source": [
    "<hr style=\"border-width: 3px;\">\n",
    "\n",
    "### Tarea 1\n",
    "\n",
    "Describa un problema de reconocimiento de patrones de su interés y explique por qué un modelo tradicional sería inapropiado para resolverlo (utilice la celda siguiente, en esta libreta, para presentar su problema seleccionado).\n",
    "\n",
    "**Fecha de entrega**: Viernes 20 de enero."
   ]
  }
 ],
 "metadata": {
  "celltoolbar": "Raw Cell Format",
  "kernelspec": {
   "display_name": "Python 3",
   "language": "python",
   "name": "python3"
  },
  "language_info": {
   "codemirror_mode": {
    "name": "ipython",
    "version": 3
   },
   "file_extension": ".py",
   "mimetype": "text/x-python",
   "name": "python",
   "nbconvert_exporter": "python",
   "pygments_lexer": "ipython3",
   "version": "3.6.0"
  }
 },
 "nbformat": 4,
 "nbformat_minor": 0
}
