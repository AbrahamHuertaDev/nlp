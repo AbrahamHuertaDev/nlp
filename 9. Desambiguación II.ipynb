{
 "cells": [
  {
   "cell_type": "markdown",
   "metadata": {},
   "source": [
    "![agents](images/header.jpg)\n",
    "# Análisis de textos imprecisos\n",
    "### Ramón Soto C. [(rsotoc@moviquest.com)](mailto:rsotoc@moviquest.com/)\n",
    "[ver en nbviewer](http://nbviewer.ipython.org/github/rsotoc/nlp/blob/master/8.%20Desambiguación%20I.ipynb)"
   ]
  },
  {
   "cell_type": "markdown",
   "metadata": {},
   "source": [
    "## Lógica difusa\n",
    "\n",
    "Una forma particularmente frecuente de imprecisión en el lenguaje se presenta en aquellos enunciados en los que no está clara la extensión de aplicabilidad de un concepto. A esta situación le llamamos **vaguedad**. Formalmente, es posible establecer una distinción entre ambigüedad y vaguedad; utilizamos el término de ambigüedad, para aquellas situaciones en las que la interpretación de una palabra o una frase ofrece varias alternativas, mientras que la vaguedad se referiría a la falta de precisión del lenguaje. Sin embargo, el hecho de que podamos utilizar el término *viejo/a* para referirse a una película de hace 20 años y *nuevo* para referirse a libros escritos en los primeros años posteriores a la muerte de Jesús de Nazareth (el Nuevo Testamento) o *caliente* para referirse a una temperatura ambiente de 35<sup>o</sup>C y *tibio* para referirse a la temperatura de un café a menos de 70-60<sup>o</sup>C, hace evidente una estrecha relación entre *ambigüedad* y *vaguedad*.\n",
    "\n",
    "### Paradoja sorites\n",
    "La vaguedad en el lenguaje suele describirse mediante la llamada *paradoja del montón* (o paradoja sorites), que en su forma más común puede expresarse de la siguiente manera: Supongamos que tenemos un montón de arena... digamos con un millón de granos\n",
    "\n",
    "![](images/sorites.jpg)\n",
    "\n",
    "Si removemos un sólo grano de arena del montón ahora tenemos 999,999 granos, lo cual es aún un montón; si removemos otro grano de arena, seguimos teniendo un montón de arena, ahora con 999,998 granos. Si continuamos este proceso, retirando un grano de arena a la vez, eventualmente tendremos un sólo grano de arena que, evidentemente, no es un montón: Entonces, ¿en qué punto dejó de ser un montón?\n",
    "\n",
    "Otras variantes de esta paradoja hacen referencia a la oposición entre pequeños cambios y grandes consecuencias, por ejemplo, los puntos cercanos en una escala de colores son indistinguibles para el ojo humano, pero si observamos puntos suficientemente separados la diferencia es evidente, por ejemplo, los puntos en un extremo de la escala son rojos, mientras que en el extremo opuesto son azules:\n",
    "\n",
    "![](images/sorites2.png)\n",
    "\n",
    "El hecho de que una secuencia de puntos (localmente) indistinguibles contenga puntos completamente diferenciados, plantea la paradoja. Este tipo de paradojas se presentan comúnmente en el lenguaje cotidiano y es consecuencia de representar una escala continua mediante un conjunto de conceptos discretos, por ejemplo, {*pequeño*, *alto*}\n",
    "\n",
    "![](images/sorites3.jpg)\n",
    "\n",
    "o {*joven*, *viejo*}\n",
    "\n",
    "![](images/sorites4.jpg)\n",
    "\n",
    "Cada uno de estos conceptos representa un conjunto al que pertenecen los elementos que cumplen con ciertas condiciones, por ejemplo, todos los individuos de \"*corta*\" estatura pertenecen al conjunto *pequeño*, mientras que los de *gran* estatura pertenecen al conjunto *alto*. Al utilizar elementos diferenciados por un valor de escala, es necesario tomar una decisión de cómo dividir el universo de observaciones en los conjuntos disponibles:\n",
    "\n",
    "![](images/sorites3b.jpg)\n",
    "\n",
    "Una manera común de (intentar) resolver estas paradojas es utilizar modificadores como \"*poco*\" y \"*mucho*\", a la manera de una [escala de Likert](https://en.wikipedia.org/wiki/Likert_scale), por ejemplo, el caso de estaturas puede replantearse mediante la escala de valores lingüísticos:\n",
    "\n",
    "<code>{\"Muy pequeño\", \"Pequeño\", \"Mediano\", \"Alto\", \"Muy alto\"}</code>\n",
    "\n",
    "Sin embargo, esta estrategia, aunque común, suele agregar más imprecisión al lenguaje, al no quedar claro cuando usar el modificador y cuando prescindir de él.\n"
   ]
  },
  {
   "cell_type": "markdown",
   "metadata": {},
   "source": [
    "### Conjuntos difusos\n",
    "\n",
    "Los conjuntos difusos pueden considerarse como una extensión de los conjuntos clásicos (estrictos/*crisp*). En los conjuntos clásicos, un elemento pertenece (por completo) al conjunto o no pertenece (en absoluto) al conjunto. Para un conjunto (clásico) $A$, se define su complemento como el conjunto formado por todos los elementos en el universo, $U$, que no pertenecen a $A$, $A^c = \\{x\\in U\\ |\\ x\\not\\in A\\}$, es decir, un elemento pertenece al un conjunto estricto $A$ o pertenece a su complemento, pero no a ambos ($A\\cap A^c = \\phi$), lo cual equivale en lógica a la ley del tercero excluido: Si una frase es cierta, entonces su negación es falsa y viceversa. \n",
    "\n",
    "Los conjuntos difusos, por otra parte, se definen a través de funciones continuas de pertenencia en el rango $[0, 1]$, es decir, los elementos de un conjunto difuso pueden no pertenecer (en absoluto) al conjunto (pertenencia igual a acero), o pueden pertenecer por completo al conjunto (pertenencia igual a 1) o pueden tener valores parciales de pertenencia. En consecuencia, un elemento dado puede pertenecer lo mismo al conjunto difuso que a su complemento. Por ejemplo, para el caso de la edad, podemos describir el problema mediante los conjuntos difusos \"*Joven*\" y \"*Viejo*\", como se muestra a continuación:\n",
    "\n",
    "![](images/fuzzy02.png)\n",
    "\n",
    "Aquí, el concepto *Joven* es modelado por un conjunto difuso trapezoidal. \n",
    "\n",
    "![](images/fuzzy04.png)\n",
    "\n",
    "De acuerdo con este conjunto, una persona de hasta 25 años es \"*definitivamente*\" joven, lo cual corresponde a un valor de pertenencia de 1.0. Por otra parte, la pertenencia de una persona al conjunto \"*Joven*\" empieza a declinar gradualmente desde los 25 años hasta llegar a los 75 años, a partir de cuándo \"*definitivamente*\" no es joven, es decir, su pertenencia en el conjunto difuso \"*Joven*\" es cero. El conjunto difuso \"*Viejo*\", por su parte, también es modelado con un conjunto difuso trapezoidal, en dirección contraria. De acuerdo con este modelo, una persona con edad inferior a 25 años, \"*definitivamente*\" no es viejo, lo que corresponde a una pertenencia de cero en el conjunto difuso \"*Viejo*\". A partir de los 25 años, empieza a pertenecer cada vez más al conjunto difuso \"*Viejo*\", hasta que, a partir de los 75 años es \"*definitivamente*\" viejo. Otro aspecto  resaltar, en este modelo, es que, una persona con edad entre 25 y 75 años pertenece, simultáneamente, tanto al conjunto difuso \"*Joven*\" como al conjunto difuso \"*Viejo*\". De esta manera, se \"*elimina*\" la paradoja sorites, aunque sigue habiendo dos momentos en que deben tomarse decisiones estrictas: A los 25 años (cumplidos) se inicia el \"*envejecimiento*\" y este proceso concluye a los 75 años. Una alternativa para evitar esta decisión arbitraria es utilizar conjuntos triangulares: \n",
    "\n",
    "![](images/fuzzy05.png)\n",
    "\n",
    "En este caso, el modelo establece que el paso del conjunto difuso \"*Joven*\" al conjunto difuso \"*Viejo*\" es gradual y a lo largo de todo el rango de valores (aquí considerado, arbitrariamente, ente cero y cien años)\n",
    "\n",
    "> “*Lo que llamáis morir es acabar de morir y lo que llamáis nacer es empezar a morir y lo que llamáis vivir es morir viviendo*”. Los sueños, Franciso de Quevedo\n",
    "\n",
    "Una forma más natural para describir un concepto mediante conjuntos difusos, es mediante funciones logísticas:\n",
    "\n",
    "![](images/fuzzy06.png)\n",
    "\n",
    "En este caso, aunque el paso del conjunto difuso \"*Joven*\" al conjunto difuso \"*Viejo*\" es también gradual, no es lineal: la persona empieza a envejecer al nacer, pero el paso no es \"*notorio*\" hasta pasados los 20 años y conforme se cumplen más años el proceso se acelera, particularmente al rebasar los 50 años :-|. \n",
    "\n",
    "Aunque los conjuntos difusos ofrecen una representación más natural de los conceptos lógicos y de las etiquetas lingüísticas, su costo computacional es muy superior al de los conjuntos basados en líneas rectas, por lo que es muy usual preferir el uso de conjuntos triangulares y trapezoidales.\n",
    "\n",
    "De la misma manera, representamos ahora el concepto de estatura, en esta ocasión utilizando tres conjuntos difusos trapezoidales:\n",
    "\n",
    "![](images/fuzzy03.png)"
   ]
  },
  {
   "cell_type": "markdown",
   "metadata": {},
   "source": [
    "Aunque no existe una nomenclatura universal para definir las características de los conjuntos difusos, se suelen utilizar los siguientes conceptos:\n",
    "\n",
    "![](images/fuzzy07.png)"
   ]
  },
  {
   "cell_type": "markdown",
   "metadata": {},
   "source": [
    "* El **universo de discurso** es el conjunto de todos los valores sobre los que se define el conjunto difuso.\n",
    "\n",
    "* El **borde inferior** es el límite izquierdo de valores que pertenecen al conjunto.\n",
    "\n",
    "* El **borde superior** es el límite derecho de valores que pertenecen al conjunto.\n",
    "\n",
    "* El **soporte** es el conjunto de todos los puntos que pertenecen al conjunto difuso, desde el borde inferior hasta el borde superior, incluídos éstos.\n",
    "\n",
    "* El **valor modal** es el punto donde la función de pertenencia tiene valor 1.0 (o el valor máximo, lo que correspondería, como analogía, al valor más frecuente en el caso estadístico). Es de especial utilidad para describir conjuntos definidos alrededor de un valor, como es el caso de los conjuntos triangulares. Si el conjunto es simétrico, el valor modal coincide con el centro del conjunto.\n",
    "\n",
    "* El **núcleo** se utiliza para describir conjuntos que poseen una \"*meceta*\" (puntos consecutivas con pertenencia 1, como es el caso de los conjuntos trapezoidales; el núcleo es el ancho de esa meceta.\n",
    "\n",
    "* El **punto de cruce** es cualquiera de los puntos donde la función de pertenencia toma el valor 0.5\n",
    "\n",
    "* El **ancho de banda** es el conjunto de valores entre los dos puntos de cruce, en conjuntos difusos que tienen dos y sólo dos puntos de cruce."
   ]
  },
  {
   "cell_type": "code",
   "execution_count": null,
   "metadata": {
    "collapsed": true
   },
   "outputs": [],
   "source": [
    "import numpy as np\n",
    "import matplotlib.pyplot as plt\n",
    "import matplotlib.ticker as ticker"
   ]
  },
  {
   "cell_type": "code",
   "execution_count": 1,
   "metadata": {
    "collapsed": true
   },
   "outputs": [],
   "source": [
    "class TriangFS:\n",
    "    def __init__(self, mod, sup):\n",
    "        self.modal = mod\n",
    "        self.a = mod - sup/2\n",
    "        self.b = mod + sup/2\n",
    "        self.m = 2 / sup\n",
    "        \n",
    "    def mu(self, x):\n",
    "        if x < self.a:\n",
    "            return 0\n",
    "        elif x < self.modal:\n",
    "            return self.m * (x - self.a)\n",
    "        elif x < self.b:\n",
    "            return self.m * (self.b - x)\n",
    "        else:\n",
    "            return 0\n",
    "\n",
    "        \n",
    "xvals = np.arange(0, 10.0, 0.01)\n",
    "yvals = 3 * [0]\n",
    "\n",
    "set_A = TriangFS(2.5, 4.0)\n",
    "yvals[0] = [set_A.mu(x) for x in xvals]\n",
    "\n",
    "set_B = TriangFS(4.5, 4.0)\n",
    "yvals[1] = [set_B.mu(x) for x in xvals]\n",
    "\n",
    "set_C = TriangFS(6.5, 4.0)\n",
    "yvals[2] = [set_C.mu(x) for x in xvals]\n",
    "\n",
    "plt.plot(xvals, yvals[0])\n",
    "plt.plot(xvals, yvals[1]) \n",
    "plt.plot(xvals, yvals[2])\n",
    "ax = plt.axes()\n",
    "ax.xaxis.set_major_locator(ticker.MultipleLocator(1))\n",
    "ax.yaxis.set_major_locator(ticker.MultipleLocator(.1))\n",
    "\n",
    "plt.xlabel('x')\n",
    "plt.ylabel('Pertenencia')\n",
    "plt.title('Conjuntos difusos triangulares')\n",
    "plt.grid(True)\n",
    "plt.show()"
   ]
  },
  {
   "cell_type": "code",
   "execution_count": 8,
   "metadata": {
    "collapsed": false
   },
   "outputs": [
    {
     "data": {
      "image/png": "[encoded data removed]",
      "text/plain": [
       "<matplotlib.figure.Figure at 0x10da8ddd8>"
      ]
     },
     "metadata": {},
     "output_type": "display_data"
    }
   ],
   "source": [
    "class TrapezFS:\n",
    "    def __init__(self, inf, a, b, sup):\n",
    "        self.a = a\n",
    "        self.b = b\n",
    "        self.inf = inf\n",
    "        self.sup = sup\n",
    "        self.ma = a / (inf-a)\n",
    "        self.mb = b / (sup-b)\n",
    "\n",
    "    def mu(self, x):\n",
    "        if x < self.a:\n",
    "            return 0\n",
    "        elif x < self.a:\n",
    "            return self.ma * (x - self.a)\n",
    "        elif x < self.b:\n",
    "            return 1.0\n",
    "        elif x < self.sup:\n",
    "            return self.mb * (self.b - x)\n",
    "        else:\n",
    "            return 0\n",
    "\n",
    "        \n",
    "set_A = TrapezFS(0, 2.5, 5, 7)\n",
    "xvals = np.arange(0, 10.0, 0.01)\n",
    "yvals = [set_A.mu(x) for x in xvals]\n",
    "\n",
    "plt.plot(xvals, yvals)\n",
    "\n",
    "plt.xlabel('x')\n",
    "plt.ylabel('Pertenencia')\n",
    "plt.title('Conjunto difuso trapezoidal')\n",
    "plt.grid(True)\n",
    "plt.show()"
   ]
  },
  {
   "cell_type": "code",
   "execution_count": 6,
   "metadata": {
    "collapsed": false
   },
   "outputs": [
    {
     "name": "stdout",
     "output_type": "stream",
     "text": [
      "Similaridad entre dos cadenas: 97%\n",
      "Similaridad parcial entre dos cadenas: 100%\n"
     ]
    }
   ],
   "source": [
    "# pip install fuzzywuzzy[speedup]\n",
    "\n",
    "from fuzzywuzzy import fuzz\n",
    "from fuzzywuzzy import process\n",
    "\n",
    "print(\"Similaridad entre dos cadenas: {}%\".format( \n",
    "      fuzz.ratio(\"Esta es una prueba\", \"Esta es una prueba!\")))\n",
    "\n",
    "print(\"Similaridad parcial entre dos cadenas: {}%\".format( \n",
    "      fuzz.partial_ratio(\"Esta es una prueba\", \"Esta es una prueba!\")))\n",
    "\n"
   ]
  },
  {
   "cell_type": "markdown",
   "metadata": {},
   "source": [
    "Discutir Likert-Fuzzy"
   ]
  },
  {
   "cell_type": "markdown",
   "metadata": {
    "collapsed": true
   },
   "source": [
    "https://www.tutorialspoint.com/fuzzy_logic/fuzzy_logic_introduction.htm\n",
    "    \n",
    "https://marcobonzanini.com/2015/02/25/fuzzy-string-matching-in-python/"
   ]
  },
  {
   "cell_type": "code",
   "execution_count": null,
   "metadata": {
    "collapsed": true
   },
   "outputs": [],
   "source": []
  }
 ],
 "metadata": {
  "celltoolbar": "Raw Cell Format",
  "kernelspec": {
   "display_name": "Python 3",
   "language": "python",
   "name": "python3"
  },
  "language_info": {
   "codemirror_mode": {
    "name": "ipython",
    "version": 3
   },
   "file_extension": ".py",
   "mimetype": "text/x-python",
   "name": "python",
   "nbconvert_exporter": "python",
   "pygments_lexer": "ipython3",
   "version": "3.6.0"
  }
 },
 "nbformat": 4,
 "nbformat_minor": 0
}
